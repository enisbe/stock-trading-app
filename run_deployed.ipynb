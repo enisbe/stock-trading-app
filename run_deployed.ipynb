{
  "nbformat": 4,
  "nbformat_minor": 0,
  "metadata": {
    "colab": {
      "name": "run_deployed.ipynb",
      "provenance": [],
      "toc_visible": true,
      "include_colab_link": true
    },
    "kernelspec": {
      "name": "python3",
      "display_name": "Python 3"
    },
    "language_info": {
      "name": "python"
    }
  },
  "cells": [
    {
      "cell_type": "markdown",
      "metadata": {
        "id": "view-in-github",
        "colab_type": "text"
      },
      "source": [
        "<a href=\"https://colab.research.google.com/github/enisbe/stock-trading-app/blob/main/run_deployed.ipynb\" target=\"_parent\"><img src=\"https://colab.research.google.com/assets/colab-badge.svg\" alt=\"Open In Colab\"/></a>"
      ]
    },
    {
      "cell_type": "code",
      "execution_count": 2,
      "metadata": {
        "id": "dTdS4ITvzk1G"
      },
      "outputs": [],
      "source": [
        "import os\n",
        "import pandas as pd\n",
        "import numpy as np\n",
        "\n",
        "import io\n",
        "import sys\n",
        "import datetime\n",
        "from datetime import date, timedelta\n",
        "from pandas.tseries.offsets import Day, MonthBegin, MonthEnd\n",
        "from google.colab import drive\n",
        "from google.colab import files\n",
        "\n",
        "import random\n",
        "\n",
        "import tensorflow as tf\n",
        "from tensorflow import keras\n",
        "import tensorflow_datasets as tfds\n",
        "from tensorflow.keras import models, layers\n",
        "from tensorflow.keras.layers import Conv1D,BatchNormalization, Dropout, Flatten, Input, Dense\n",
        "from tensorflow.keras.callbacks import ModelCheckpoint, EarlyStopping\n",
        "from tensorflow.keras.models import Sequential\n",
        "\n",
        "\n",
        "from sklearn.metrics import mean_squared_error, mean_absolute_percentage_error\n",
        "\n"
      ]
    },
    {
      "cell_type": "code",
      "source": [
        "import matplotlib.pyplot as plt\n",
        "import seaborn as sns\n",
        "import matplotlib.ticker as ticker\n",
        "import matplotlib.mlab as mlab\n",
        "import matplotlib as mpl"
      ],
      "metadata": {
        "id": "95N7fo9lMT93"
      },
      "execution_count": 3,
      "outputs": []
    },
    {
      "cell_type": "markdown",
      "source": [
        "### Call saved Model"
      ],
      "metadata": {
        "id": "GDaIv7vx0aG8"
      }
    },
    {
      "cell_type": "code",
      "source": [
        "drive.mount('/content/gdrive')"
      ],
      "metadata": {
        "colab": {
          "base_uri": "https://localhost:8080/"
        },
        "id": "qPrj5mT_AAYi",
        "outputId": "2c36aafa-b4bb-4d48-d9bb-a12085c7ac59"
      },
      "execution_count": 4,
      "outputs": [
        {
          "output_type": "stream",
          "name": "stdout",
          "text": [
            "Mounted at /content/gdrive\n"
          ]
        }
      ]
    },
    {
      "cell_type": "code",
      "source": [
        "!ls /content/gdrive/MyDrive/models"
      ],
      "metadata": {
        "colab": {
          "base_uri": "https://localhost:8080/"
        },
        "id": "ogVzTSUSXKlM",
        "outputId": "d867bdb3-0bca-4892-dc5f-01945656980b"
      },
      "execution_count": 7,
      "outputs": [
        {
          "output_type": "stream",
          "name": "stdout",
          "text": [
            "assets\tkeras_metadata.pb  saved_model.pb  variables\n"
          ]
        }
      ]
    },
    {
      "cell_type": "code",
      "source": [
        "#recon_model = keras.models.load_model('/content/gdrive/MyDrive/models02')\n",
        "recon_model = keras.models.load_model('/content/gdrive/MyDrive/models')"
      ],
      "metadata": {
        "id": "Lk9WGttuACrs"
      },
      "execution_count": 8,
      "outputs": []
    },
    {
      "cell_type": "markdown",
      "source": [
        "### load Stock data"
      ],
      "metadata": {
        "id": "Rl9c3BOcAxhL"
      }
    },
    {
      "cell_type": "code",
      "source": [
        "!pip install yfinance"
      ],
      "metadata": {
        "colab": {
          "base_uri": "https://localhost:8080/",
          "height": 642
        },
        "id": "jWD0aN8jG6BJ",
        "outputId": "34ab1385-9d61-4719-e805-0db93fb359ea",
        "collapsed": true
      },
      "execution_count": 9,
      "outputs": [
        {
          "output_type": "stream",
          "name": "stdout",
          "text": [
            "Collecting yfinance\n",
            "  Downloading yfinance-0.1.70-py2.py3-none-any.whl (26 kB)\n",
            "Requirement already satisfied: numpy>=1.15 in /usr/local/lib/python3.7/dist-packages (from yfinance) (1.21.6)\n",
            "Requirement already satisfied: multitasking>=0.0.7 in /usr/local/lib/python3.7/dist-packages (from yfinance) (0.0.10)\n",
            "Collecting lxml>=4.5.1\n",
            "  Downloading lxml-4.8.0-cp37-cp37m-manylinux_2_17_x86_64.manylinux2014_x86_64.manylinux_2_24_x86_64.whl (6.4 MB)\n",
            "\u001b[K     |████████████████████████████████| 6.4 MB 7.1 MB/s \n",
            "\u001b[?25hCollecting requests>=2.26\n",
            "  Downloading requests-2.27.1-py2.py3-none-any.whl (63 kB)\n",
            "\u001b[K     |████████████████████████████████| 63 kB 1.5 MB/s \n",
            "\u001b[?25hRequirement already satisfied: pandas>=0.24.0 in /usr/local/lib/python3.7/dist-packages (from yfinance) (1.3.5)\n",
            "Requirement already satisfied: python-dateutil>=2.7.3 in /usr/local/lib/python3.7/dist-packages (from pandas>=0.24.0->yfinance) (2.8.2)\n",
            "Requirement already satisfied: pytz>=2017.3 in /usr/local/lib/python3.7/dist-packages (from pandas>=0.24.0->yfinance) (2022.1)\n",
            "Requirement already satisfied: six>=1.5 in /usr/local/lib/python3.7/dist-packages (from python-dateutil>=2.7.3->pandas>=0.24.0->yfinance) (1.15.0)\n",
            "Requirement already satisfied: certifi>=2017.4.17 in /usr/local/lib/python3.7/dist-packages (from requests>=2.26->yfinance) (2021.10.8)\n",
            "Requirement already satisfied: charset-normalizer~=2.0.0 in /usr/local/lib/python3.7/dist-packages (from requests>=2.26->yfinance) (2.0.12)\n",
            "Requirement already satisfied: idna<4,>=2.5 in /usr/local/lib/python3.7/dist-packages (from requests>=2.26->yfinance) (2.10)\n",
            "Requirement already satisfied: urllib3<1.27,>=1.21.1 in /usr/local/lib/python3.7/dist-packages (from requests>=2.26->yfinance) (1.24.3)\n",
            "Installing collected packages: requests, lxml, yfinance\n",
            "  Attempting uninstall: requests\n",
            "    Found existing installation: requests 2.23.0\n",
            "    Uninstalling requests-2.23.0:\n",
            "      Successfully uninstalled requests-2.23.0\n",
            "  Attempting uninstall: lxml\n",
            "    Found existing installation: lxml 4.2.6\n",
            "    Uninstalling lxml-4.2.6:\n",
            "      Successfully uninstalled lxml-4.2.6\n",
            "\u001b[31mERROR: pip's dependency resolver does not currently take into account all the packages that are installed. This behaviour is the source of the following dependency conflicts.\n",
            "google-colab 1.0.0 requires requests~=2.23.0, but you have requests 2.27.1 which is incompatible.\n",
            "datascience 0.10.6 requires folium==0.2.1, but you have folium 0.8.3 which is incompatible.\u001b[0m\n",
            "Successfully installed lxml-4.8.0 requests-2.27.1 yfinance-0.1.70\n"
          ]
        },
        {
          "output_type": "display_data",
          "data": {
            "application/vnd.colab-display-data+json": {
              "pip_warning": {
                "packages": [
                  "requests"
                ]
              }
            }
          },
          "metadata": {}
        }
      ]
    },
    {
      "cell_type": "code",
      "source": [
        "# Libraries for stock data\n",
        "import yfinance as yf\n",
        "import requests"
      ],
      "metadata": {
        "id": "D0pUEPpEFjvk"
      },
      "execution_count": 10,
      "outputs": []
    },
    {
      "cell_type": "markdown",
      "source": [
        "**Read in Data**<br>"
      ],
      "metadata": {
        "id": "DWaOeywfHKLl"
      }
    },
    {
      "cell_type": "markdown",
      "source": [
        ""
      ],
      "metadata": {
        "id": "Am5YkAVNK1dG"
      }
    },
    {
      "cell_type": "code",
      "source": [
        "payload=pd.read_html('https://en.wikipedia.org/wiki/List_of_S%26P_500_companies')\n",
        "first_table = payload[0]\n",
        "# grab all tickers and put them into a list\n",
        "Symbols = first_table['Symbol'].tolist()\n",
        "# pass all symbols to basket\n",
        "basket = Symbols"
      ],
      "metadata": {
        "id": "-P44O2ERKOHz"
      },
      "execution_count": 11,
      "outputs": []
    },
    {
      "cell_type": "markdown",
      "source": [
        "#### Functions"
      ],
      "metadata": {
        "id": "T3g26nBrCfC0"
      }
    },
    {
      "cell_type": "code",
      "source": [
        "def stock_data_pull(start,end):\n",
        "  \"\"\"\n",
        "  Download Stock data\n",
        "  \"\"\"\n",
        "  stock_final = pd.DataFrame()\n",
        "  # iterate over each symbol\n",
        "  for i in basket:  \n",
        "      \n",
        "      # print the symbol which is being downloaded\n",
        "      print( str(basket.index(i)) + str(' : ') + i, sep=',', end=',', flush=True)  \n",
        "      \n",
        "      try:\n",
        "          # download the stock price \n",
        "          stock = []\n",
        "          stock = yf.download(i,start=start, end=end, progress=False)\n",
        "          \n",
        "          # append the individual stock prices \n",
        "          if len(stock) == 0:\n",
        "              None\n",
        "          else:\n",
        "              stock['Name']=i\n",
        "              stock_final = stock_final.append(stock,sort=False)\n",
        "      except Exception:\n",
        "          None\n",
        "  return stock_final\n",
        "\n",
        "\n",
        "\n",
        "def fill_blanks(df,srl_num,range,value_variable,date_variable):\n",
        "  \"\"\"\n",
        "  fills missing observations\n",
        "  some stocks may not have the same number of observations\n",
        "  \"\"\"\n",
        "  stage_df = df.copy()\n",
        "  for comb in stage_df[srl_num].unique(): \n",
        "    temp = stage_df[stage_df[srl_num] == comb].copy()\n",
        "    stage_df = stage_df[stage_df[srl_num] != comb] # remove existing series detail\n",
        "    temp2 = range.merge(temp,how='left',on=date_variable)\n",
        "    # since we are filling missing data, other fields will be missing to\n",
        "    # value info will be filled by zero, for other fields, we simply forward fill\n",
        "    # Then back fill for full missing value coverage    \n",
        "    #temp2[value_variable].fillna(0,inplace=True)\n",
        "    temp2.fillna(method='ffill',inplace=True)\n",
        "    temp2.fillna(method='bfill',inplace=True)\n",
        "    # replace with new, full data subset\n",
        "    stage_df = stage_df.append(temp2,ignore_index=True)\n",
        "  return stage_df"
      ],
      "metadata": {
        "id": "Qh_ZjJynLu3R"
      },
      "execution_count": 19,
      "outputs": []
    },
    {
      "cell_type": "code",
      "source": [
        "start = datetime.datetime(2019,1,1)\n",
        "end = date.today()"
      ],
      "metadata": {
        "id": "Cw4L4EI3M2it"
      },
      "execution_count": 20,
      "outputs": []
    },
    {
      "cell_type": "markdown",
      "source": [
        "# New Section"
      ],
      "metadata": {
        "id": "En5E0Jqei0D_"
      }
    },
    {
      "cell_type": "code",
      "source": [
        "stock_total = stock_data_pull(start,end)\n",
        "stock_total.reset_index(inplace=True)\n",
        "stock_total_slim = stock_total[['Date','Close','Name']]\n",
        "\n",
        "# homogenous the samples in each stock\n",
        "date_range = stock_total_slim.Date.drop_duplicates()\n",
        "date_range = pd.DataFrame(date_range)\n",
        "\n",
        "stock_ready = fill_blanks(stock_total_slim,'Name',date_range,'Close','Date')"
      ],
      "metadata": {
        "colab": {
          "base_uri": "https://localhost:8080/"
        },
        "id": "L9m_ZJGMNRNB",
        "outputId": "9fc114ca-df89-4775-804e-78b928ea1c01"
      },
      "execution_count": 21,
      "outputs": [
        {
          "output_type": "stream",
          "name": "stdout",
          "text": [
            "0 : MMM,1 : AOS,2 : ABT,3 : ABBV,4 : ABMD,5 : ACN,6 : ATVI,7 : ADM,8 : ADBE,9 : ADP,10 : AAP,11 : AES,12 : AFL,13 : A,14 : AIG,15 : APD,16 : AKAM,17 : ALK,18 : ALB,19 : ARE,20 : ALGN,21 : ALLE,22 : LNT,23 : ALL,24 : GOOGL,25 : GOOG,26 : MO,27 : AMZN,28 : AMCR,29 : AMD,30 : AEE,31 : AAL,32 : AEP,33 : AXP,34 : AMT,35 : AWK,36 : AMP,37 : ABC,38 : AME,39 : AMGN,40 : APH,41 : ADI,42 : ANSS,43 : ANTM,44 : AON,45 : APA,46 : AAPL,47 : AMAT,48 : APTV,49 : ANET,50 : AIZ,51 : T,52 : ATO,53 : ADSK,54 : AZO,55 : AVB,56 : AVY,57 : BKR,58 : BLL,59 : BAC,60 : BBWI,61 : BAX,62 : BDX,63 : WRB,64 : BRK.B,\n",
            "1 Failed download:\n",
            "- BRK.B: No data found, symbol may be delisted\n",
            "65 : BBY,66 : BIO,67 : TECH,68 : BIIB,69 : BLK,70 : BK,71 : BA,72 : BKNG,73 : BWA,74 : BXP,75 : BSX,76 : BMY,77 : AVGO,78 : BR,79 : BRO,80 : BF.B,\n",
            "1 Failed download:\n",
            "- BF.B: No data found for this date range, symbol may be delisted\n",
            "81 : CHRW,82 : CDNS,83 : CZR,84 : CPT,85 : CPB,86 : COF,87 : CAH,88 : KMX,89 : CCL,90 : CARR,91 : CTLT,92 : CAT,93 : CBOE,94 : CBRE,95 : CDW,96 : CE,97 : CNC,98 : CNP,99 : CDAY,100 : CERN,101 : CF,102 : CRL,103 : SCHW,104 : CHTR,105 : CVX,106 : CMG,107 : CB,108 : CHD,109 : CI,110 : CINF,111 : CTAS,112 : CSCO,113 : C,114 : CFG,115 : CTXS,116 : CLX,117 : CME,118 : CMS,119 : KO,120 : CTSH,121 : CL,122 : CMCSA,123 : CMA,124 : CAG,125 : COP,126 : ED,127 : STZ,128 : CEG,129 : COO,130 : CPRT,131 : GLW,132 : CTVA,133 : COST,134 : CTRA,135 : CCI,136 : CSX,137 : CMI,138 : CVS,139 : DHI,140 : DHR,141 : DRI,142 : DVA,143 : DE,144 : DAL,145 : XRAY,146 : DVN,147 : DXCM,148 : FANG,149 : DLR,150 : DFS,151 : DISH,152 : DIS,153 : DG,154 : DLTR,155 : D,156 : DPZ,157 : DOV,158 : DOW,159 : DTE,160 : DUK,161 : DRE,162 : DD,163 : DXC,164 : EMN,165 : ETN,166 : EBAY,167 : ECL,168 : EIX,169 : EW,170 : EA,171 : EMR,172 : ENPH,173 : ETR,174 : EOG,175 : EPAM,176 : EFX,177 : EQIX,178 : EQR,179 : ESS,180 : EL,181 : ETSY,182 : RE,183 : EVRG,184 : ES,185 : EXC,186 : EXPE,187 : EXPD,188 : EXR,189 : XOM,190 : FFIV,191 : FDS,192 : FAST,193 : FRT,194 : FDX,195 : FITB,196 : FRC,197 : FE,198 : FIS,199 : FISV,200 : FLT,201 : FMC,202 : F,203 : FTNT,204 : FTV,205 : FBHS,206 : FOXA,207 : FOX,208 : BEN,209 : FCX,210 : AJG,211 : GRMN,212 : IT,213 : GE,214 : GNRC,215 : GD,216 : GIS,217 : GPC,218 : GILD,219 : GL,220 : GPN,221 : GM,222 : GS,223 : GWW,224 : HAL,225 : HIG,226 : HAS,227 : HCA,228 : PEAK,229 : HSIC,230 : HSY,231 : HES,232 : HPE,233 : HLT,234 : HOLX,235 : HD,236 : HON,237 : HRL,238 : HST,239 : HWM,240 : HPQ,241 : HUM,242 : HII,243 : HBAN,244 : IEX,245 : IDXX,246 : ITW,247 : ILMN,248 : INCY,249 : IR,250 : INTC,251 : ICE,252 : IBM,253 : IP,254 : IPG,255 : IFF,256 : INTU,257 : ISRG,258 : IVZ,259 : IPGP,260 : IQV,261 : IRM,262 : JBHT,263 : JKHY,264 : J,265 : JNJ,266 : JCI,267 : JPM,268 : JNPR,269 : K,270 : KEY,271 : KEYS,272 : KMB,273 : KIM,274 : KMI,275 : KLAC,276 : KHC,277 : KR,278 : LHX,279 : LH,280 : LRCX,281 : LW,282 : LVS,283 : LDOS,284 : LEN,285 : LLY,286 : LNC,287 : LIN,288 : LYV,289 : LKQ,290 : LMT,291 : L,292 : LOW,293 : LUMN,294 : LYB,295 : MTB,296 : MRO,297 : MPC,298 : MKTX,299 : MAR,300 : MMC,301 : MLM,302 : MAS,303 : MA,304 : MTCH,305 : MKC,306 : MCD,307 : MCK,308 : MDT,309 : MRK,310 : FB,311 : MET,312 : MTD,313 : MGM,314 : MCHP,315 : MU,316 : MSFT,317 : MAA,318 : MRNA,319 : MHK,320 : MOH,321 : TAP,322 : MDLZ,323 : MPWR,324 : MNST,325 : MCO,326 : MS,327 : MOS,328 : MSI,329 : MSCI,330 : NDAQ,331 : NTAP,332 : NFLX,333 : NWL,334 : NEM,335 : NWSA,336 : NWS,337 : NEE,338 : NLSN,339 : NKE,340 : NI,341 : NDSN,342 : NSC,343 : NTRS,344 : NOC,345 : NLOK,346 : NCLH,347 : NRG,348 : NUE,349 : NVDA,350 : NVR,351 : NXPI,352 : ORLY,353 : OXY,354 : ODFL,355 : OMC,356 : OKE,357 : ORCL,358 : OGN,359 : OTIS,360 : PCAR,361 : PKG,362 : PARA,363 : PH,364 : PAYX,365 : PAYC,366 : PYPL,367 : PENN,368 : PNR,369 : PEP,370 : PKI,371 : PFE,372 : PM,373 : PSX,374 : PNW,375 : PXD,376 : PNC,377 : POOL,378 : PPG,379 : PPL,380 : PFG,381 : PG,382 : PGR,383 : PLD,384 : PRU,385 : PEG,386 : PTC,387 : PSA,388 : PHM,389 : PVH,390 : QRVO,391 : PWR,392 : QCOM,393 : DGX,394 : RL,395 : RJF,396 : RTX,397 : O,398 : REG,399 : REGN,400 : RF,401 : RSG,402 : RMD,403 : RHI,404 : ROK,405 : ROL,406 : ROP,407 : ROST,408 : RCL,409 : SPGI,410 : CRM,411 : SBAC,412 : SLB,413 : STX,414 : SEE,415 : SRE,416 : NOW,417 : SHW,418 : SBNY,419 : SPG,420 : SWKS,421 : SJM,422 : SNA,423 : SEDG,424 : SO,425 : LUV,426 : SWK,427 : SBUX,428 : STT,429 : STE,430 : SYK,431 : SIVB,432 : SYF,433 : SNPS,434 : SYY,435 : TMUS,436 : TROW,437 : TTWO,438 : TPR,439 : TGT,440 : TEL,441 : TDY,442 : TFX,443 : TER,444 : TSLA,445 : TXN,446 : TXT,447 : TMO,448 : TJX,449 : TSCO,450 : TT,451 : TDG,452 : TRV,453 : TRMB,454 : TFC,455 : TWTR,456 : TYL,457 : TSN,458 : USB,459 : UDR,460 : ULTA,461 : UAA,462 : UA,463 : UNP,464 : UAL,465 : UNH,466 : UPS,467 : URI,468 : UHS,469 : VLO,470 : VTR,471 : VRSN,472 : VRSK,473 : VZ,474 : VRTX,475 : VFC,476 : VTRS,477 : V,478 : VNO,479 : VMC,480 : WAB,481 : WMT,482 : WBA,483 : WBD,484 : WM,485 : WAT,486 : WEC,487 : WFC,488 : WELL,489 : WST,490 : WDC,491 : WRK,492 : WY,493 : WHR,494 : WMB,495 : WTW,496 : WYNN,497 : XEL,498 : XYL,499 : YUM,500 : ZBRA,501 : ZBH,502 : ZION,503 : ZTS,"
          ]
        }
      ]
    },
    {
      "cell_type": "code",
      "source": [
        "# checks to ensure if all tckrs have same size\n",
        "sizes = stock_ready.groupby('Name').size().unique()\n",
        "size_count = sizes.shape[0]\n",
        "\n",
        "if size_count == 1:\n",
        "  print (f'all good, all data contain {sizes[0]} observations')\n",
        "else:\n",
        "  print(f'error, your stock contain tckrs with varying number of observations:{sizes}')\n"
      ],
      "metadata": {
        "colab": {
          "base_uri": "https://localhost:8080/"
        },
        "id": "6mop8Lvao54B",
        "outputId": "5f97c20c-ef97-4efd-9639-8a597c73cf7c"
      },
      "execution_count": 22,
      "outputs": [
        {
          "output_type": "stream",
          "name": "stdout",
          "text": [
            "all good, all data contain 844 observations\n"
          ]
        }
      ]
    },
    {
      "cell_type": "code",
      "source": [
        "stock_ready.sort_values(by=['Name','Date'],inplace=True)\n",
        "stock_ready.head()"
      ],
      "metadata": {
        "colab": {
          "base_uri": "https://localhost:8080/",
          "height": 206
        },
        "id": "lK8Y9hIvqXb-",
        "outputId": "072bf126-544c-42b0-80cd-c6128e4ea870"
      },
      "execution_count": 23,
      "outputs": [
        {
          "output_type": "execute_result",
          "data": {
            "text/plain": [
              "            Date       Close Name\n",
              "11815 2018-12-31  122.150002    A\n",
              "10972 2019-01-02   65.690002    A\n",
              "10973 2019-01-03   63.270000    A\n",
              "10974 2019-01-04   65.459999    A\n",
              "10975 2019-01-07   66.849998    A"
            ],
            "text/html": [
              "\n",
              "  <div id=\"df-2a078d2f-74ca-4df8-8684-467900e49a30\">\n",
              "    <div class=\"colab-df-container\">\n",
              "      <div>\n",
              "<style scoped>\n",
              "    .dataframe tbody tr th:only-of-type {\n",
              "        vertical-align: middle;\n",
              "    }\n",
              "\n",
              "    .dataframe tbody tr th {\n",
              "        vertical-align: top;\n",
              "    }\n",
              "\n",
              "    .dataframe thead th {\n",
              "        text-align: right;\n",
              "    }\n",
              "</style>\n",
              "<table border=\"1\" class=\"dataframe\">\n",
              "  <thead>\n",
              "    <tr style=\"text-align: right;\">\n",
              "      <th></th>\n",
              "      <th>Date</th>\n",
              "      <th>Close</th>\n",
              "      <th>Name</th>\n",
              "    </tr>\n",
              "  </thead>\n",
              "  <tbody>\n",
              "    <tr>\n",
              "      <th>11815</th>\n",
              "      <td>2018-12-31</td>\n",
              "      <td>122.150002</td>\n",
              "      <td>A</td>\n",
              "    </tr>\n",
              "    <tr>\n",
              "      <th>10972</th>\n",
              "      <td>2019-01-02</td>\n",
              "      <td>65.690002</td>\n",
              "      <td>A</td>\n",
              "    </tr>\n",
              "    <tr>\n",
              "      <th>10973</th>\n",
              "      <td>2019-01-03</td>\n",
              "      <td>63.270000</td>\n",
              "      <td>A</td>\n",
              "    </tr>\n",
              "    <tr>\n",
              "      <th>10974</th>\n",
              "      <td>2019-01-04</td>\n",
              "      <td>65.459999</td>\n",
              "      <td>A</td>\n",
              "    </tr>\n",
              "    <tr>\n",
              "      <th>10975</th>\n",
              "      <td>2019-01-07</td>\n",
              "      <td>66.849998</td>\n",
              "      <td>A</td>\n",
              "    </tr>\n",
              "  </tbody>\n",
              "</table>\n",
              "</div>\n",
              "      <button class=\"colab-df-convert\" onclick=\"convertToInteractive('df-2a078d2f-74ca-4df8-8684-467900e49a30')\"\n",
              "              title=\"Convert this dataframe to an interactive table.\"\n",
              "              style=\"display:none;\">\n",
              "        \n",
              "  <svg xmlns=\"http://www.w3.org/2000/svg\" height=\"24px\"viewBox=\"0 0 24 24\"\n",
              "       width=\"24px\">\n",
              "    <path d=\"M0 0h24v24H0V0z\" fill=\"none\"/>\n",
              "    <path d=\"M18.56 5.44l.94 2.06.94-2.06 2.06-.94-2.06-.94-.94-2.06-.94 2.06-2.06.94zm-11 1L8.5 8.5l.94-2.06 2.06-.94-2.06-.94L8.5 2.5l-.94 2.06-2.06.94zm10 10l.94 2.06.94-2.06 2.06-.94-2.06-.94-.94-2.06-.94 2.06-2.06.94z\"/><path d=\"M17.41 7.96l-1.37-1.37c-.4-.4-.92-.59-1.43-.59-.52 0-1.04.2-1.43.59L10.3 9.45l-7.72 7.72c-.78.78-.78 2.05 0 2.83L4 21.41c.39.39.9.59 1.41.59.51 0 1.02-.2 1.41-.59l7.78-7.78 2.81-2.81c.8-.78.8-2.07 0-2.86zM5.41 20L4 18.59l7.72-7.72 1.47 1.35L5.41 20z\"/>\n",
              "  </svg>\n",
              "      </button>\n",
              "      \n",
              "  <style>\n",
              "    .colab-df-container {\n",
              "      display:flex;\n",
              "      flex-wrap:wrap;\n",
              "      gap: 12px;\n",
              "    }\n",
              "\n",
              "    .colab-df-convert {\n",
              "      background-color: #E8F0FE;\n",
              "      border: none;\n",
              "      border-radius: 50%;\n",
              "      cursor: pointer;\n",
              "      display: none;\n",
              "      fill: #1967D2;\n",
              "      height: 32px;\n",
              "      padding: 0 0 0 0;\n",
              "      width: 32px;\n",
              "    }\n",
              "\n",
              "    .colab-df-convert:hover {\n",
              "      background-color: #E2EBFA;\n",
              "      box-shadow: 0px 1px 2px rgba(60, 64, 67, 0.3), 0px 1px 3px 1px rgba(60, 64, 67, 0.15);\n",
              "      fill: #174EA6;\n",
              "    }\n",
              "\n",
              "    [theme=dark] .colab-df-convert {\n",
              "      background-color: #3B4455;\n",
              "      fill: #D2E3FC;\n",
              "    }\n",
              "\n",
              "    [theme=dark] .colab-df-convert:hover {\n",
              "      background-color: #434B5C;\n",
              "      box-shadow: 0px 1px 3px 1px rgba(0, 0, 0, 0.15);\n",
              "      filter: drop-shadow(0px 1px 2px rgba(0, 0, 0, 0.3));\n",
              "      fill: #FFFFFF;\n",
              "    }\n",
              "  </style>\n",
              "\n",
              "      <script>\n",
              "        const buttonEl =\n",
              "          document.querySelector('#df-2a078d2f-74ca-4df8-8684-467900e49a30 button.colab-df-convert');\n",
              "        buttonEl.style.display =\n",
              "          google.colab.kernel.accessAllowed ? 'block' : 'none';\n",
              "\n",
              "        async function convertToInteractive(key) {\n",
              "          const element = document.querySelector('#df-2a078d2f-74ca-4df8-8684-467900e49a30');\n",
              "          const dataTable =\n",
              "            await google.colab.kernel.invokeFunction('convertToInteractive',\n",
              "                                                     [key], {});\n",
              "          if (!dataTable) return;\n",
              "\n",
              "          const docLinkHtml = 'Like what you see? Visit the ' +\n",
              "            '<a target=\"_blank\" href=https://colab.research.google.com/notebooks/data_table.ipynb>data table notebook</a>'\n",
              "            + ' to learn more about interactive tables.';\n",
              "          element.innerHTML = '';\n",
              "          dataTable['output_type'] = 'display_data';\n",
              "          await google.colab.output.renderOutput(dataTable, element);\n",
              "          const docLink = document.createElement('div');\n",
              "          docLink.innerHTML = docLinkHtml;\n",
              "          element.appendChild(docLink);\n",
              "        }\n",
              "      </script>\n",
              "    </div>\n",
              "  </div>\n",
              "  "
            ]
          },
          "metadata": {},
          "execution_count": 23
        }
      ]
    },
    {
      "cell_type": "markdown",
      "source": [
        "### Create backtest and predict datasets"
      ],
      "metadata": {
        "id": "DgsAIdGlXdOm"
      }
    },
    {
      "cell_type": "code",
      "source": [
        "# input window and forecast horizon\n",
        "window = 70\n",
        "horizon = 10\n",
        "theta = window+horizon"
      ],
      "metadata": {
        "id": "pld4IYjyEGRu"
      },
      "execution_count": 24,
      "outputs": []
    },
    {
      "cell_type": "code",
      "source": [
        "#stock_train = pd.DataFrame()\n",
        "stock_test = pd.DataFrame()\n",
        "stock_pred = pd.DataFrame()\n",
        "for i, tckr in enumerate(stock_ready.Name.unique()):\n",
        "  temp = stock_ready[stock_ready.Name == tckr].copy()\n",
        "  if i == 0:\n",
        "#    stock_train = temp.iloc[:-theta,:]\n",
        "    stock_test = temp.iloc[-theta:,:]\n",
        "    stock_pred = temp.iloc[-window:,:]\n",
        "  else:\n",
        "#    stock_train = pd.concat([stock_train, temp.iloc[:-theta,:] ])\n",
        "    stock_test = pd.concat([stock_test, temp.iloc[-theta:,:] ])\n",
        "    stock_pred = pd.concat([stock_pred, temp.iloc[-window:,:] ])"
      ],
      "metadata": {
        "id": "mR4pidXFprMI"
      },
      "execution_count": 25,
      "outputs": []
    },
    {
      "cell_type": "markdown",
      "source": [
        "### Data Pipeline\n",
        "\n",
        "- for each ticker in the test or prep dataset, get last 70 observations, then generate predictions\n",
        "- build back out into a forecast dataset along with dates\n",
        "- need to build future dates"
      ],
      "metadata": {
        "id": "37PdSIV7EO6r"
      }
    },
    {
      "cell_type": "markdown",
      "source": [
        "#### Backtest"
      ],
      "metadata": {
        "id": "3P4lzEJdFMJ9"
      }
    },
    {
      "cell_type": "code",
      "source": [
        "date_temp = stock_test.Date\n",
        "date_temp = date_temp[-horizon:]\n",
        "date_list = date_temp.tolist()"
      ],
      "metadata": {
        "id": "Bx8Q639vEQ3Y"
      },
      "execution_count": 26,
      "outputs": []
    },
    {
      "cell_type": "code",
      "source": [
        "# prediction code - makes predictions per ticker\n",
        "# adds actuals \n",
        "pred_list = []\n",
        "for i, tckr in enumerate(stock_test.Name.unique()):\n",
        "  #print(f'predicting for {tckr}')\n",
        "  temp = stock_test[stock_test.Name == tckr].iloc[:window,:].copy()\n",
        "  x_test_temp = temp.Close.values\n",
        "  test = x_test_temp.reshape(1,x_test_temp.shape[0],1)\n",
        "  #x_test_temp, y_test_temp = single_data_build(temp)\n",
        "\n",
        "  # true values\n",
        "  temp_true = stock_test[stock_test.Name == tckr].iloc[window:,:].copy()\n",
        "  y_true = temp_true.Close.values\n",
        "\n",
        "  pred = recon_model.predict(test)\n",
        "\n",
        "  pred = pred[:,:horizon][0]\n",
        "  #stock = tckr\n",
        "  for i in range(horizon):\n",
        "    pred_list.append({'stock':tckr,'Date':date_list[i],'Forecasted_Close':pred[i],'Actual_Close':y_true[i]})"
      ],
      "metadata": {
        "id": "WW-RTSsTFkSH"
      },
      "execution_count": 41,
      "outputs": []
    },
    {
      "cell_type": "code",
      "source": [
        "pred_bt_df = pd.DataFrame(pred_list)"
      ],
      "metadata": {
        "id": "S4uBqwZNFz9H"
      },
      "execution_count": 42,
      "outputs": []
    },
    {
      "cell_type": "code",
      "source": [
        "pred_bt_df.head()"
      ],
      "metadata": {
        "colab": {
          "base_uri": "https://localhost:8080/",
          "height": 206
        },
        "id": "AigZgPSRG-8H",
        "outputId": "b9de3f23-1a7a-444b-f82f-a3689829d9c7"
      },
      "execution_count": 43,
      "outputs": [
        {
          "output_type": "execute_result",
          "data": {
            "text/plain": [
              "  stock       Date  Forecasted_Close  Actual_Close\n",
              "0     A 2022-04-22        125.388451    121.320000\n",
              "1     A 2022-04-25        125.103859    121.449997\n",
              "2     A 2022-04-26        124.664154    117.940002\n",
              "3     A 2022-04-27        124.767235    117.680000\n",
              "4     A 2022-04-28        125.181641    121.059998"
            ],
            "text/html": [
              "\n",
              "  <div id=\"df-f1d97679-e523-4420-83b0-1acc49f1dc6f\">\n",
              "    <div class=\"colab-df-container\">\n",
              "      <div>\n",
              "<style scoped>\n",
              "    .dataframe tbody tr th:only-of-type {\n",
              "        vertical-align: middle;\n",
              "    }\n",
              "\n",
              "    .dataframe tbody tr th {\n",
              "        vertical-align: top;\n",
              "    }\n",
              "\n",
              "    .dataframe thead th {\n",
              "        text-align: right;\n",
              "    }\n",
              "</style>\n",
              "<table border=\"1\" class=\"dataframe\">\n",
              "  <thead>\n",
              "    <tr style=\"text-align: right;\">\n",
              "      <th></th>\n",
              "      <th>stock</th>\n",
              "      <th>Date</th>\n",
              "      <th>Forecasted_Close</th>\n",
              "      <th>Actual_Close</th>\n",
              "    </tr>\n",
              "  </thead>\n",
              "  <tbody>\n",
              "    <tr>\n",
              "      <th>0</th>\n",
              "      <td>A</td>\n",
              "      <td>2022-04-22</td>\n",
              "      <td>125.388451</td>\n",
              "      <td>121.320000</td>\n",
              "    </tr>\n",
              "    <tr>\n",
              "      <th>1</th>\n",
              "      <td>A</td>\n",
              "      <td>2022-04-25</td>\n",
              "      <td>125.103859</td>\n",
              "      <td>121.449997</td>\n",
              "    </tr>\n",
              "    <tr>\n",
              "      <th>2</th>\n",
              "      <td>A</td>\n",
              "      <td>2022-04-26</td>\n",
              "      <td>124.664154</td>\n",
              "      <td>117.940002</td>\n",
              "    </tr>\n",
              "    <tr>\n",
              "      <th>3</th>\n",
              "      <td>A</td>\n",
              "      <td>2022-04-27</td>\n",
              "      <td>124.767235</td>\n",
              "      <td>117.680000</td>\n",
              "    </tr>\n",
              "    <tr>\n",
              "      <th>4</th>\n",
              "      <td>A</td>\n",
              "      <td>2022-04-28</td>\n",
              "      <td>125.181641</td>\n",
              "      <td>121.059998</td>\n",
              "    </tr>\n",
              "  </tbody>\n",
              "</table>\n",
              "</div>\n",
              "      <button class=\"colab-df-convert\" onclick=\"convertToInteractive('df-f1d97679-e523-4420-83b0-1acc49f1dc6f')\"\n",
              "              title=\"Convert this dataframe to an interactive table.\"\n",
              "              style=\"display:none;\">\n",
              "        \n",
              "  <svg xmlns=\"http://www.w3.org/2000/svg\" height=\"24px\"viewBox=\"0 0 24 24\"\n",
              "       width=\"24px\">\n",
              "    <path d=\"M0 0h24v24H0V0z\" fill=\"none\"/>\n",
              "    <path d=\"M18.56 5.44l.94 2.06.94-2.06 2.06-.94-2.06-.94-.94-2.06-.94 2.06-2.06.94zm-11 1L8.5 8.5l.94-2.06 2.06-.94-2.06-.94L8.5 2.5l-.94 2.06-2.06.94zm10 10l.94 2.06.94-2.06 2.06-.94-2.06-.94-.94-2.06-.94 2.06-2.06.94z\"/><path d=\"M17.41 7.96l-1.37-1.37c-.4-.4-.92-.59-1.43-.59-.52 0-1.04.2-1.43.59L10.3 9.45l-7.72 7.72c-.78.78-.78 2.05 0 2.83L4 21.41c.39.39.9.59 1.41.59.51 0 1.02-.2 1.41-.59l7.78-7.78 2.81-2.81c.8-.78.8-2.07 0-2.86zM5.41 20L4 18.59l7.72-7.72 1.47 1.35L5.41 20z\"/>\n",
              "  </svg>\n",
              "      </button>\n",
              "      \n",
              "  <style>\n",
              "    .colab-df-container {\n",
              "      display:flex;\n",
              "      flex-wrap:wrap;\n",
              "      gap: 12px;\n",
              "    }\n",
              "\n",
              "    .colab-df-convert {\n",
              "      background-color: #E8F0FE;\n",
              "      border: none;\n",
              "      border-radius: 50%;\n",
              "      cursor: pointer;\n",
              "      display: none;\n",
              "      fill: #1967D2;\n",
              "      height: 32px;\n",
              "      padding: 0 0 0 0;\n",
              "      width: 32px;\n",
              "    }\n",
              "\n",
              "    .colab-df-convert:hover {\n",
              "      background-color: #E2EBFA;\n",
              "      box-shadow: 0px 1px 2px rgba(60, 64, 67, 0.3), 0px 1px 3px 1px rgba(60, 64, 67, 0.15);\n",
              "      fill: #174EA6;\n",
              "    }\n",
              "\n",
              "    [theme=dark] .colab-df-convert {\n",
              "      background-color: #3B4455;\n",
              "      fill: #D2E3FC;\n",
              "    }\n",
              "\n",
              "    [theme=dark] .colab-df-convert:hover {\n",
              "      background-color: #434B5C;\n",
              "      box-shadow: 0px 1px 3px 1px rgba(0, 0, 0, 0.15);\n",
              "      filter: drop-shadow(0px 1px 2px rgba(0, 0, 0, 0.3));\n",
              "      fill: #FFFFFF;\n",
              "    }\n",
              "  </style>\n",
              "\n",
              "      <script>\n",
              "        const buttonEl =\n",
              "          document.querySelector('#df-f1d97679-e523-4420-83b0-1acc49f1dc6f button.colab-df-convert');\n",
              "        buttonEl.style.display =\n",
              "          google.colab.kernel.accessAllowed ? 'block' : 'none';\n",
              "\n",
              "        async function convertToInteractive(key) {\n",
              "          const element = document.querySelector('#df-f1d97679-e523-4420-83b0-1acc49f1dc6f');\n",
              "          const dataTable =\n",
              "            await google.colab.kernel.invokeFunction('convertToInteractive',\n",
              "                                                     [key], {});\n",
              "          if (!dataTable) return;\n",
              "\n",
              "          const docLinkHtml = 'Like what you see? Visit the ' +\n",
              "            '<a target=\"_blank\" href=https://colab.research.google.com/notebooks/data_table.ipynb>data table notebook</a>'\n",
              "            + ' to learn more about interactive tables.';\n",
              "          element.innerHTML = '';\n",
              "          dataTable['output_type'] = 'display_data';\n",
              "          await google.colab.output.renderOutput(dataTable, element);\n",
              "          const docLink = document.createElement('div');\n",
              "          docLink.innerHTML = docLinkHtml;\n",
              "          element.appendChild(docLink);\n",
              "        }\n",
              "      </script>\n",
              "    </div>\n",
              "  </div>\n",
              "  "
            ]
          },
          "metadata": {},
          "execution_count": 43
        }
      ]
    },
    {
      "cell_type": "code",
      "source": [
        "basket[:8]"
      ],
      "metadata": {
        "colab": {
          "base_uri": "https://localhost:8080/"
        },
        "id": "_sursLc9atQ0",
        "outputId": "34450d82-f567-4f6d-ecfb-39fe2f3ba880"
      },
      "execution_count": 44,
      "outputs": [
        {
          "output_type": "execute_result",
          "data": {
            "text/plain": [
              "['MMM', 'AOS', 'ABT', 'ABBV', 'ABMD', 'ACN', 'ATVI', 'ADM']"
            ]
          },
          "metadata": {},
          "execution_count": 44
        }
      ]
    },
    {
      "cell_type": "code",
      "source": [
        "def perform(tckr, df, metric='mae'):\n",
        "  temp = df[df.stock == tckr].copy()\n",
        "  if metric == 'mae':\n",
        "    score = mean_squared_error(temp.Actual_Close, temp.Forecasted_Close)\n",
        "  else:\n",
        "    score = mean_absolute_percentage_error(temp.Actual_Close, temp.Forecasted_Close)\n",
        "  return (f'your {metric} score is: {score}')\n"
      ],
      "metadata": {
        "id": "ZAMNPXutG0UY"
      },
      "execution_count": 31,
      "outputs": []
    },
    {
      "cell_type": "code",
      "source": [
        "perform('AMZN',pred_bt_df,'mape')"
      ],
      "metadata": {
        "colab": {
          "base_uri": "https://localhost:8080/",
          "height": 35
        },
        "id": "guatfFT5LELN",
        "outputId": "4ee667df-47f3-4148-94c5-324fba7561ec"
      },
      "execution_count": 45,
      "outputs": [
        {
          "output_type": "execute_result",
          "data": {
            "text/plain": [
              "'your mape score is: 0.13979408255076547'"
            ],
            "application/vnd.google.colaboratory.intrinsic+json": {
              "type": "string"
            }
          },
          "metadata": {},
          "execution_count": 45
        }
      ]
    },
    {
      "cell_type": "code",
      "source": [
        "def plot_bt_stock(tckr, df):\n",
        "  fig, ax = plt.subplots(figsize=(14,6))\n",
        "  temp = df[df.stock == tckr].copy()\n",
        "  historical = stock_test[stock_test.Name == tckr].copy()\n",
        "#  ax.plot(temp['Date'], temp['Actual_Close'],'-g',label=\"Actual Stock Price\")   #Actuals This should come from original DS (all actuals)\n",
        "  ax.plot(historical['Date'], historical['Close'],'-g',label=\"Actual Stock Price\")   #Actuals This should come from original DS (all actuals)\n",
        "  ax.plot(temp['Date'], temp['Forecasted_Close'], '-r',alpha=0.75,label=\"Forecast\")  ## Pred\n",
        "  plt.title('Back Test')\n",
        "  plt.xlabel('Date')\n",
        "  plt.ylabel('Stock Price')\n",
        "\n",
        "  plt.legend()\n",
        "  plt.show()"
      ],
      "metadata": {
        "id": "00luB0oELMQl"
      },
      "execution_count": 46,
      "outputs": []
    },
    {
      "cell_type": "code",
      "source": [
        "plot_bt_stock('AMZN',pred_bt_df)"
      ],
      "metadata": {
        "colab": {
          "base_uri": "https://localhost:8080/",
          "height": 404
        },
        "id": "qOSdg6P8M5sz",
        "outputId": "14bba950-1190-48fd-c31f-2d0eb7188e14"
      },
      "execution_count": 37,
      "outputs": [
        {
          "output_type": "display_data",
          "data": {
            "text/plain": [
              "<Figure size 1008x432 with 1 Axes>"
            ],
            "image/png": "[encoded data removed]"
          },
          "metadata": {
            "needs_background": "light"
          }
        }
      ]
    },
    {
      "cell_type": "code",
      "source": [
        "plot_bt_stock('ABMD',pred_bt_df)"
      ],
      "metadata": {
        "colab": {
          "base_uri": "https://localhost:8080/",
          "height": 404
        },
        "id": "FMI0ZBVZNtpc",
        "outputId": "af952e40-0c01-49d5-ddb8-17732b687e3d"
      },
      "execution_count": 48,
      "outputs": [
        {
          "output_type": "display_data",
          "data": {
            "text/plain": [
              "<Figure size 1008x432 with 1 Axes>"
            ],
            "image/png": "[encoded data removed]"
          },
          "metadata": {
            "needs_background": "light"
          }
        }
      ]
    },
    {
      "cell_type": "markdown",
      "source": [
        "#### Predict"
      ],
      "metadata": {
        "id": "y_k9uwRpbOSE"
      }
    },
    {
      "cell_type": "code",
      "source": [
        "# create future dates\n",
        "from datetime import datetime"
      ],
      "metadata": {
        "id": "NoTNrHX5djU2"
      },
      "execution_count": 76,
      "outputs": []
    },
    {
      "cell_type": "code",
      "source": [
        "!pip install pandas_market_calendars"
      ],
      "metadata": {
        "colab": {
          "base_uri": "https://localhost:8080/"
        },
        "id": "8Q-o7IQ9hgG_",
        "outputId": "40a1aca0-5190-42c3-b674-244661ff1fcf"
      },
      "execution_count": 57,
      "outputs": [
        {
          "output_type": "stream",
          "name": "stdout",
          "text": [
            "Collecting pandas_market_calendars\n",
            "  Downloading pandas_market_calendars-3.4-py3-none-any.whl (89 kB)\n",
            "\u001b[?25l\r\u001b[K     |███▋                            | 10 kB 12.1 MB/s eta 0:00:01\r\u001b[K     |███████▎                        | 20 kB 13.9 MB/s eta 0:00:01\r\u001b[K     |███████████                     | 30 kB 12.9 MB/s eta 0:00:01\r\u001b[K     |██████████████▋                 | 40 kB 8.4 MB/s eta 0:00:01\r\u001b[K     |██████████████████▎             | 51 kB 4.8 MB/s eta 0:00:01\r\u001b[K     |██████████████████████          | 61 kB 5.5 MB/s eta 0:00:01\r\u001b[K     |█████████████████████████▋      | 71 kB 5.6 MB/s eta 0:00:01\r\u001b[K     |█████████████████████████████▎  | 81 kB 6.1 MB/s eta 0:00:01\r\u001b[K     |████████████████████████████████| 89 kB 3.4 MB/s \n",
            "\u001b[?25hRequirement already satisfied: pandas>=1.1 in /usr/local/lib/python3.7/dist-packages (from pandas_market_calendars) (1.3.5)\n",
            "Collecting exchange-calendars>=3.3\n",
            "  Downloading exchange_calendars-3.6.1.tar.gz (150 kB)\n",
            "\u001b[K     |████████████████████████████████| 150 kB 31.7 MB/s \n",
            "\u001b[?25hRequirement already satisfied: pytz in /usr/local/lib/python3.7/dist-packages (from pandas_market_calendars) (2022.1)\n",
            "Requirement already satisfied: python-dateutil in /usr/local/lib/python3.7/dist-packages (from pandas_market_calendars) (2.8.2)\n",
            "Requirement already satisfied: numpy in /usr/local/lib/python3.7/dist-packages (from exchange-calendars>=3.3->pandas_market_calendars) (1.21.6)\n",
            "Collecting pyluach\n",
            "  Downloading pyluach-1.4.1-py3-none-any.whl (18 kB)\n",
            "Requirement already satisfied: toolz in /usr/local/lib/python3.7/dist-packages (from exchange-calendars>=3.3->pandas_market_calendars) (0.11.2)\n",
            "Requirement already satisfied: korean_lunar_calendar in /usr/local/lib/python3.7/dist-packages (from exchange-calendars>=3.3->pandas_market_calendars) (0.2.1)\n",
            "Requirement already satisfied: six>=1.5 in /usr/local/lib/python3.7/dist-packages (from python-dateutil->pandas_market_calendars) (1.15.0)\n",
            "Building wheels for collected packages: exchange-calendars\n",
            "  Building wheel for exchange-calendars (setup.py) ... \u001b[?25l\u001b[?25hdone\n",
            "  Created wheel for exchange-calendars: filename=exchange_calendars-3.6.1-py3-none-any.whl size=180505 sha256=7a72a9c0bb2940e807863a79275e9fbd07bb700964a9b77afd9946295a092dc8\n",
            "  Stored in directory: /root/.cache/pip/wheels/db/70/a2/5e1d8d0873feb8cb9808f3b55e8f270698b742db54a4b8ad2e\n",
            "Successfully built exchange-calendars\n",
            "Installing collected packages: pyluach, exchange-calendars, pandas-market-calendars\n",
            "Successfully installed exchange-calendars-3.6.1 pandas-market-calendars-3.4 pyluach-1.4.1\n"
          ]
        }
      ]
    },
    {
      "cell_type": "code",
      "source": [
        "import pandas_market_calendars as mcal\n",
        "\n",
        "# Create a calendar\n",
        "nyse = mcal.get_calendar('NYSE')\n",
        "\n",
        "# Show available calendars\n",
        "print(mcal.get_calendar_names())"
      ],
      "metadata": {
        "colab": {
          "base_uri": "https://localhost:8080/"
        },
        "id": "I0-ebIHyemUq",
        "outputId": "50e7f9f1-bc37-4bbf-8332-4f5d498b8ec0"
      },
      "execution_count": 58,
      "outputs": [
        {
          "output_type": "stream",
          "name": "stdout",
          "text": [
            "['ASX', 'BMF', 'CFE', 'CBOE_Futures', 'CBOE_Equity_Options', 'CBOE_Index_Options', 'CME_Equity', 'CBOT_Equity', 'CME_Agriculture', 'CBOT_Agriculture', 'COMEX_Agriculture', 'NYMEX_Agriculture', 'CME_Rate', 'CBOT_Rate', 'CME_InterestRate', 'CBOT_InterestRate', 'CME_Bond', 'CBOT_Bond', 'EUREX', 'HKEX', 'ICE', 'ICEUS', 'NYFE', 'NYSE', 'stock', 'NASDAQ', 'BATS', 'DJIA', 'DOW', 'IEX', 'Investors_Exchange', 'JPX', 'LSE', 'OSE', 'SIFMAUS', 'SIFMA_US', 'Capital_Markets_US', 'Financial_Markets_US', 'Bond_Markets_US', 'SIFMAUK', 'SIFMA_UK', 'Capital_Markets_UK', 'Financial_Markets_UK', 'Bond_Markets_UK', 'SIFMAJP', 'SIFMA_JP', 'Capital_Markets_JP', 'Financial_Markets_JP', 'Bond_Markets_JP', 'SIX', 'SSE', 'TSX', 'TSXV', 'BSE', 'NSE', 'TASE', 'AIXK', 'ASEX', 'BVMF', 'CMES', 'IEPA', 'XAMS', 'XASX', 'XBKK', 'XBOG', 'XBOM', 'XBRU', 'XBSE', 'XBUD', 'XBUE', 'XCBF', 'XCSE', 'XDUB', 'XFRA', 'XETR', 'XHEL', 'XHKG', 'XICE', 'XIDX', 'XIST', 'XJSE', 'XKAR', 'XKLS', 'XKRX', 'XLIM', 'XLIS', 'XLON', 'XMAD', 'XMEX', 'XMIL', 'XMOS', 'XNYS', 'XNZE', 'XOSL', 'XPAR', 'XPHS', 'XPRA', 'XSES', 'XSGO', 'XSHG', 'XSTO', 'XSWX', 'XTAE', 'XTAI', 'XTKS', 'XTSE', 'XWAR', 'XWBO', 'us_futures', '24/7', '24/5']\n"
          ]
        }
      ]
    },
    {
      "cell_type": "code",
      "source": [
        "# stock_pred.Date.max()\n",
        "date.today()"
      ],
      "metadata": {
        "colab": {
          "base_uri": "https://localhost:8080/"
        },
        "id": "v24u0ST5jRvu",
        "outputId": "190a67ea-2267-443e-fc23-49426a26d461"
      },
      "execution_count": 80,
      "outputs": [
        {
          "output_type": "execute_result",
          "data": {
            "text/plain": [
              "datetime.date(2022, 5, 6)"
            ]
          },
          "metadata": {},
          "execution_count": 80
        }
      ]
    },
    {
      "cell_type": "code",
      "source": [
        "last_date = pd.to_datetime(stock_pred['Date']).dt.date.max()\n",
        "start_pred = last_date +  timedelta(days=1)\n",
        "end_pred = date.today()+ timedelta(days=15)"
      ],
      "metadata": {
        "id": "mhl5dG3mlpE1"
      },
      "execution_count": 81,
      "outputs": []
    },
    {
      "cell_type": "code",
      "source": [
        "#early = nyse.schedule(start_date='2012-07-01', end_date='2012-07-10')\n",
        "early = nyse.schedule(start_date=start_pred, end_date=end_pred)"
      ],
      "metadata": {
        "id": "wxl3pkHkjBB5"
      },
      "execution_count": 90,
      "outputs": []
    },
    {
      "cell_type": "code",
      "source": [
        "date_list = mcal.date_range(early, frequency='1D')[:horizon]"
      ],
      "metadata": {
        "id": "G-Hx2CrPhj4S"
      },
      "execution_count": 100,
      "outputs": []
    },
    {
      "cell_type": "code",
      "source": [
        "date_list[0]"
      ],
      "metadata": {
        "colab": {
          "base_uri": "https://localhost:8080/"
        },
        "id": "4VQu_SzPniWJ",
        "outputId": "03b39dea-e044-4485-9d78-01cdaf481397"
      },
      "execution_count": 101,
      "outputs": [
        {
          "output_type": "execute_result",
          "data": {
            "text/plain": [
              "Timestamp('2022-05-06 20:00:00+0000', tz='UTC')"
            ]
          },
          "metadata": {},
          "execution_count": 101
        }
      ]
    },
    {
      "cell_type": "code",
      "source": [
        "# prediction code - makes predictions per ticker\n",
        "# adds actuals \n",
        "pred_list = []\n",
        "for i, tckr in enumerate(stock_pred.Name.unique()):\n",
        "  #print(f'predicting for {tckr}')\n",
        "  temp = stock_pred[stock_pred.Name == tckr].copy()\n",
        "  #print(temp.shape)\n",
        "  \n",
        "  x_test_temp = temp.Close.values\n",
        "  test = x_test_temp.reshape(1,x_test_temp.shape[0],1)\n",
        "\n",
        "  pred = recon_model.predict(test)\n",
        "  #print(f'pred shape is {pred.shape}')\n",
        "\n",
        "  #pred = pred[:,:horizon][0]\n",
        "  #stock = tckr\n",
        "  for i in range(horizon):\n",
        "    pred_list.append({'stock':tckr,'Date':date_list[i],'Forecasted_Close':pred[0][i]})"
      ],
      "metadata": {
        "id": "6so67bjzbfpf"
      },
      "execution_count": 103,
      "outputs": []
    },
    {
      "cell_type": "code",
      "source": [
        "pred_df = pd.DataFrame(pred_list)"
      ],
      "metadata": {
        "id": "UxwPC5TfeNGi"
      },
      "execution_count": 104,
      "outputs": []
    },
    {
      "cell_type": "code",
      "source": [
        "pred_df['Date'] = pd.to_datetime(pred_df['Date']).dt.date"
      ],
      "metadata": {
        "id": "ypIcElH7odnB"
      },
      "execution_count": 106,
      "outputs": []
    },
    {
      "cell_type": "code",
      "source": [
        "pred_df.head()"
      ],
      "metadata": {
        "colab": {
          "base_uri": "https://localhost:8080/",
          "height": 206
        },
        "id": "3HJUOn5Xeesg",
        "outputId": "31b3ca45-8a78-46f0-abca-fc18a2ed9995"
      },
      "execution_count": 107,
      "outputs": [
        {
          "output_type": "execute_result",
          "data": {
            "text/plain": [
              "  stock        Date  Forecasted_Close\n",
              "0     A  2022-05-06        121.865715\n",
              "1     A  2022-05-09        122.305496\n",
              "2     A  2022-05-10        122.324951\n",
              "3     A  2022-05-11        122.240036\n",
              "4     A  2022-05-12        122.676445"
            ],
            "text/html": [
              "\n",
              "  <div id=\"df-9cc77248-5c00-436a-b9c7-969d220f8454\">\n",
              "    <div class=\"colab-df-container\">\n",
              "      <div>\n",
              "<style scoped>\n",
              "    .dataframe tbody tr th:only-of-type {\n",
              "        vertical-align: middle;\n",
              "    }\n",
              "\n",
              "    .dataframe tbody tr th {\n",
              "        vertical-align: top;\n",
              "    }\n",
              "\n",
              "    .dataframe thead th {\n",
              "        text-align: right;\n",
              "    }\n",
              "</style>\n",
              "<table border=\"1\" class=\"dataframe\">\n",
              "  <thead>\n",
              "    <tr style=\"text-align: right;\">\n",
              "      <th></th>\n",
              "      <th>stock</th>\n",
              "      <th>Date</th>\n",
              "      <th>Forecasted_Close</th>\n",
              "    </tr>\n",
              "  </thead>\n",
              "  <tbody>\n",
              "    <tr>\n",
              "      <th>0</th>\n",
              "      <td>A</td>\n",
              "      <td>2022-05-06</td>\n",
              "      <td>121.865715</td>\n",
              "    </tr>\n",
              "    <tr>\n",
              "      <th>1</th>\n",
              "      <td>A</td>\n",
              "      <td>2022-05-09</td>\n",
              "      <td>122.305496</td>\n",
              "    </tr>\n",
              "    <tr>\n",
              "      <th>2</th>\n",
              "      <td>A</td>\n",
              "      <td>2022-05-10</td>\n",
              "      <td>122.324951</td>\n",
              "    </tr>\n",
              "    <tr>\n",
              "      <th>3</th>\n",
              "      <td>A</td>\n",
              "      <td>2022-05-11</td>\n",
              "      <td>122.240036</td>\n",
              "    </tr>\n",
              "    <tr>\n",
              "      <th>4</th>\n",
              "      <td>A</td>\n",
              "      <td>2022-05-12</td>\n",
              "      <td>122.676445</td>\n",
              "    </tr>\n",
              "  </tbody>\n",
              "</table>\n",
              "</div>\n",
              "      <button class=\"colab-df-convert\" onclick=\"convertToInteractive('df-9cc77248-5c00-436a-b9c7-969d220f8454')\"\n",
              "              title=\"Convert this dataframe to an interactive table.\"\n",
              "              style=\"display:none;\">\n",
              "        \n",
              "  <svg xmlns=\"http://www.w3.org/2000/svg\" height=\"24px\"viewBox=\"0 0 24 24\"\n",
              "       width=\"24px\">\n",
              "    <path d=\"M0 0h24v24H0V0z\" fill=\"none\"/>\n",
              "    <path d=\"M18.56 5.44l.94 2.06.94-2.06 2.06-.94-2.06-.94-.94-2.06-.94 2.06-2.06.94zm-11 1L8.5 8.5l.94-2.06 2.06-.94-2.06-.94L8.5 2.5l-.94 2.06-2.06.94zm10 10l.94 2.06.94-2.06 2.06-.94-2.06-.94-.94-2.06-.94 2.06-2.06.94z\"/><path d=\"M17.41 7.96l-1.37-1.37c-.4-.4-.92-.59-1.43-.59-.52 0-1.04.2-1.43.59L10.3 9.45l-7.72 7.72c-.78.78-.78 2.05 0 2.83L4 21.41c.39.39.9.59 1.41.59.51 0 1.02-.2 1.41-.59l7.78-7.78 2.81-2.81c.8-.78.8-2.07 0-2.86zM5.41 20L4 18.59l7.72-7.72 1.47 1.35L5.41 20z\"/>\n",
              "  </svg>\n",
              "      </button>\n",
              "      \n",
              "  <style>\n",
              "    .colab-df-container {\n",
              "      display:flex;\n",
              "      flex-wrap:wrap;\n",
              "      gap: 12px;\n",
              "    }\n",
              "\n",
              "    .colab-df-convert {\n",
              "      background-color: #E8F0FE;\n",
              "      border: none;\n",
              "      border-radius: 50%;\n",
              "      cursor: pointer;\n",
              "      display: none;\n",
              "      fill: #1967D2;\n",
              "      height: 32px;\n",
              "      padding: 0 0 0 0;\n",
              "      width: 32px;\n",
              "    }\n",
              "\n",
              "    .colab-df-convert:hover {\n",
              "      background-color: #E2EBFA;\n",
              "      box-shadow: 0px 1px 2px rgba(60, 64, 67, 0.3), 0px 1px 3px 1px rgba(60, 64, 67, 0.15);\n",
              "      fill: #174EA6;\n",
              "    }\n",
              "\n",
              "    [theme=dark] .colab-df-convert {\n",
              "      background-color: #3B4455;\n",
              "      fill: #D2E3FC;\n",
              "    }\n",
              "\n",
              "    [theme=dark] .colab-df-convert:hover {\n",
              "      background-color: #434B5C;\n",
              "      box-shadow: 0px 1px 3px 1px rgba(0, 0, 0, 0.15);\n",
              "      filter: drop-shadow(0px 1px 2px rgba(0, 0, 0, 0.3));\n",
              "      fill: #FFFFFF;\n",
              "    }\n",
              "  </style>\n",
              "\n",
              "      <script>\n",
              "        const buttonEl =\n",
              "          document.querySelector('#df-9cc77248-5c00-436a-b9c7-969d220f8454 button.colab-df-convert');\n",
              "        buttonEl.style.display =\n",
              "          google.colab.kernel.accessAllowed ? 'block' : 'none';\n",
              "\n",
              "        async function convertToInteractive(key) {\n",
              "          const element = document.querySelector('#df-9cc77248-5c00-436a-b9c7-969d220f8454');\n",
              "          const dataTable =\n",
              "            await google.colab.kernel.invokeFunction('convertToInteractive',\n",
              "                                                     [key], {});\n",
              "          if (!dataTable) return;\n",
              "\n",
              "          const docLinkHtml = 'Like what you see? Visit the ' +\n",
              "            '<a target=\"_blank\" href=https://colab.research.google.com/notebooks/data_table.ipynb>data table notebook</a>'\n",
              "            + ' to learn more about interactive tables.';\n",
              "          element.innerHTML = '';\n",
              "          dataTable['output_type'] = 'display_data';\n",
              "          await google.colab.output.renderOutput(dataTable, element);\n",
              "          const docLink = document.createElement('div');\n",
              "          docLink.innerHTML = docLinkHtml;\n",
              "          element.appendChild(docLink);\n",
              "        }\n",
              "      </script>\n",
              "    </div>\n",
              "  </div>\n",
              "  "
            ]
          },
          "metadata": {},
          "execution_count": 107
        }
      ]
    },
    {
      "cell_type": "code",
      "source": [
        "pred_df.to_csv('predictions_5-6.csv')"
      ],
      "metadata": {
        "id": "Y0nq3Zd_jgRb"
      },
      "execution_count": 108,
      "outputs": []
    },
    {
      "cell_type": "code",
      "source": [
        "files.download('predictions_5-6.csv')"
      ],
      "metadata": {
        "colab": {
          "base_uri": "https://localhost:8080/",
          "height": 17
        },
        "id": "ne_InWJznMYR",
        "outputId": "4037cf72-647a-4020-9762-10a42d34dcb8"
      },
      "execution_count": 109,
      "outputs": [
        {
          "output_type": "display_data",
          "data": {
            "text/plain": [
              "<IPython.core.display.Javascript object>"
            ],
            "application/javascript": [
              "\n",
              "    async function download(id, filename, size) {\n",
              "      if (!google.colab.kernel.accessAllowed) {\n",
              "        return;\n",
              "      }\n",
              "      const div = document.createElement('div');\n",
              "      const label = document.createElement('label');\n",
              "      label.textContent = `Downloading \"${filename}\": `;\n",
              "      div.appendChild(label);\n",
              "      const progress = document.createElement('progress');\n",
              "      progress.max = size;\n",
              "      div.appendChild(progress);\n",
              "      document.body.appendChild(div);\n",
              "\n",
              "      const buffers = [];\n",
              "      let downloaded = 0;\n",
              "\n",
              "      const channel = await google.colab.kernel.comms.open(id);\n",
              "      // Send a message to notify the kernel that we're ready.\n",
              "      channel.send({})\n",
              "\n",
              "      for await (const message of channel.messages) {\n",
              "        // Send a message to notify the kernel that we're ready.\n",
              "        channel.send({})\n",
              "        if (message.buffers) {\n",
              "          for (const buffer of message.buffers) {\n",
              "            buffers.push(buffer);\n",
              "            downloaded += buffer.byteLength;\n",
              "            progress.value = downloaded;\n",
              "          }\n",
              "        }\n",
              "      }\n",
              "      const blob = new Blob(buffers, {type: 'application/binary'});\n",
              "      const a = document.createElement('a');\n",
              "      a.href = window.URL.createObjectURL(blob);\n",
              "      a.download = filename;\n",
              "      div.appendChild(a);\n",
              "      a.click();\n",
              "      div.remove();\n",
              "    }\n",
              "  "
            ]
          },
          "metadata": {}
        },
        {
          "output_type": "display_data",
          "data": {
            "text/plain": [
              "<IPython.core.display.Javascript object>"
            ],
            "application/javascript": [
              "download(\"download_c4708943-1176-46d4-a4ee-56eb0b2cf0f7\", \"predictions_5-6.csv\", 148581)"
            ]
          },
          "metadata": {}
        }
      ]
    }
  ]
}