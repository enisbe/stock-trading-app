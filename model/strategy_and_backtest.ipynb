{
  "nbformat": 4,
  "nbformat_minor": 0,
  "metadata": {
    "colab": {
      "name": "strategy_and_backtest.ipynb",
      "provenance": [],
      "collapsed_sections": [],
      "include_colab_link": true
    },
    "kernelspec": {
      "name": "python3",
      "display_name": "Python 3"
    },
    "language_info": {
      "name": "python"
    }
  },
  "cells": [
    {
      "cell_type": "markdown",
      "metadata": {
        "id": "view-in-github",
        "colab_type": "text"
      },
      "source": [
        "<a href=\"https://colab.research.google.com/github/enisbe/stock-trading-app/blob/main/model/strategy_and_backtest.ipynb\" target=\"_parent\"><img src=\"https://colab.research.google.com/assets/colab-badge.svg\" alt=\"Open In Colab\"/></a>"
      ]
    },
    {
      "cell_type": "markdown",
      "source": [
        "# Portfolio Strategy"
      ],
      "metadata": {
        "id": "1F9Vn5EADFRB"
      }
    },
    {
      "cell_type": "markdown",
      "source": [
        "Portfolio Strategy using predicted prices of S&P 500 as basis. Only top 20 stocks with the highest expected return are selected in the portfolio and portfolio optimization is conducted on the selected 20 stocks. "
      ],
      "metadata": {
        "id": "suOCk9lwDKIL"
      }
    },
    {
      "cell_type": "markdown",
      "metadata": {
        "id": "7jWbjYVc8XK7"
      },
      "source": [
        "#Accessing Market Data  <a class=\"anchor\" id=\"second-bullet\"></a>"
      ]
    },
    {
      "cell_type": "code",
      "metadata": {
        "id": "Im3EbToYhh75"
      },
      "source": [
        "%%capture\n",
        "!pip install alpaca_trade_api\n",
        "!pip install backtrader\n",
        "!pip install matplotlib==3.2.2\n",
        "!pip install plotly"
      ],
      "execution_count": null,
      "outputs": []
    },
    {
      "cell_type": "code",
      "source": [
        "# Load the required modules and packages\n",
        "import numpy as np\n",
        "import pandas as pd\n",
        "import pandas_datareader as web\n",
        "#import plotly.express as px\n",
        "import pandas_datareader\n",
        "import datetime\n",
        "import pandas_datareader.data as web\n",
        "import plotly.graph_objects as go"
      ],
      "metadata": {
        "id": "kei7yZQvnF2Y"
      },
      "execution_count": null,
      "outputs": []
    },
    {
      "cell_type": "code",
      "source": [
        "!pip install pandas numpy matplotlib yfinance PyPortfolioOpt yahooquery"
      ],
      "metadata": {
        "id": "-pLWCMdlEeq5"
      },
      "execution_count": null,
      "outputs": []
    },
    {
      "cell_type": "code",
      "source": [
        "import pandas as pd\n",
        "\n",
        "# There are 2 tables on the Wikipedia page\n",
        "# we want the first table\n",
        "\n",
        "payload=pd.read_html('https://en.wikipedia.org/wiki/List_of_S%26P_500_companies')\n",
        "first_table = payload[0]\n",
        "second_table = payload[1]\n",
        "\n",
        "df_sp500 = first_table.convert_dtypes()\n",
        "df_sp500.convert_dtypes()\n",
        "df_sp500.to_csv('sp500' + '.csv', index=False)\n",
        "df_sp500.info()\n",
        "df_sp500.head(1)"
      ],
      "metadata": {
        "id": "m_lofeGuYP-b",
        "outputId": "51204ec3-aa15-45e4-e3a5-a1a626b54fd6",
        "colab": {
          "base_uri": "https://localhost:8080/",
          "height": 462
        }
      },
      "execution_count": null,
      "outputs": [
        {
          "output_type": "stream",
          "name": "stdout",
          "text": [
            "<class 'pandas.core.frame.DataFrame'>\n",
            "RangeIndex: 504 entries, 0 to 503\n",
            "Data columns (total 9 columns):\n",
            " #   Column                 Non-Null Count  Dtype \n",
            "---  ------                 --------------  ----- \n",
            " 0   Symbol                 504 non-null    string\n",
            " 1   Security               504 non-null    string\n",
            " 2   SEC filings            504 non-null    string\n",
            " 3   GICS Sector            504 non-null    string\n",
            " 4   GICS Sub-Industry      504 non-null    string\n",
            " 5   Headquarters Location  504 non-null    string\n",
            " 6   Date first added       459 non-null    string\n",
            " 7   CIK                    504 non-null    Int64 \n",
            " 8   Founded                504 non-null    string\n",
            "dtypes: Int64(1), string(8)\n",
            "memory usage: 36.1 KB\n"
          ]
        },
        {
          "output_type": "execute_result",
          "data": {
            "text/plain": [
              "  Symbol Security SEC filings  GICS Sector         GICS Sub-Industry  \\\n",
              "0    MMM       3M     reports  Industrials  Industrial Conglomerates   \n",
              "\n",
              "   Headquarters Location Date first added    CIK Founded  \n",
              "0  Saint Paul, Minnesota       1976-08-09  66740    1902  "
            ],
            "text/html": [
              "\n",
              "  <div id=\"df-acb86d13-c7ba-434b-9b0e-b8683c845189\">\n",
              "    <div class=\"colab-df-container\">\n",
              "      <div>\n",
              "<style scoped>\n",
              "    .dataframe tbody tr th:only-of-type {\n",
              "        vertical-align: middle;\n",
              "    }\n",
              "\n",
              "    .dataframe tbody tr th {\n",
              "        vertical-align: top;\n",
              "    }\n",
              "\n",
              "    .dataframe thead th {\n",
              "        text-align: right;\n",
              "    }\n",
              "</style>\n",
              "<table border=\"1\" class=\"dataframe\">\n",
              "  <thead>\n",
              "    <tr style=\"text-align: right;\">\n",
              "      <th></th>\n",
              "      <th>Symbol</th>\n",
              "      <th>Security</th>\n",
              "      <th>SEC filings</th>\n",
              "      <th>GICS Sector</th>\n",
              "      <th>GICS Sub-Industry</th>\n",
              "      <th>Headquarters Location</th>\n",
              "      <th>Date first added</th>\n",
              "      <th>CIK</th>\n",
              "      <th>Founded</th>\n",
              "    </tr>\n",
              "  </thead>\n",
              "  <tbody>\n",
              "    <tr>\n",
              "      <th>0</th>\n",
              "      <td>MMM</td>\n",
              "      <td>3M</td>\n",
              "      <td>reports</td>\n",
              "      <td>Industrials</td>\n",
              "      <td>Industrial Conglomerates</td>\n",
              "      <td>Saint Paul, Minnesota</td>\n",
              "      <td>1976-08-09</td>\n",
              "      <td>66740</td>\n",
              "      <td>1902</td>\n",
              "    </tr>\n",
              "  </tbody>\n",
              "</table>\n",
              "</div>\n",
              "      <button class=\"colab-df-convert\" onclick=\"convertToInteractive('df-acb86d13-c7ba-434b-9b0e-b8683c845189')\"\n",
              "              title=\"Convert this dataframe to an interactive table.\"\n",
              "              style=\"display:none;\">\n",
              "        \n",
              "  <svg xmlns=\"http://www.w3.org/2000/svg\" height=\"24px\"viewBox=\"0 0 24 24\"\n",
              "       width=\"24px\">\n",
              "    <path d=\"M0 0h24v24H0V0z\" fill=\"none\"/>\n",
              "    <path d=\"M18.56 5.44l.94 2.06.94-2.06 2.06-.94-2.06-.94-.94-2.06-.94 2.06-2.06.94zm-11 1L8.5 8.5l.94-2.06 2.06-.94-2.06-.94L8.5 2.5l-.94 2.06-2.06.94zm10 10l.94 2.06.94-2.06 2.06-.94-2.06-.94-.94-2.06-.94 2.06-2.06.94z\"/><path d=\"M17.41 7.96l-1.37-1.37c-.4-.4-.92-.59-1.43-.59-.52 0-1.04.2-1.43.59L10.3 9.45l-7.72 7.72c-.78.78-.78 2.05 0 2.83L4 21.41c.39.39.9.59 1.41.59.51 0 1.02-.2 1.41-.59l7.78-7.78 2.81-2.81c.8-.78.8-2.07 0-2.86zM5.41 20L4 18.59l7.72-7.72 1.47 1.35L5.41 20z\"/>\n",
              "  </svg>\n",
              "      </button>\n",
              "      \n",
              "  <style>\n",
              "    .colab-df-container {\n",
              "      display:flex;\n",
              "      flex-wrap:wrap;\n",
              "      gap: 12px;\n",
              "    }\n",
              "\n",
              "    .colab-df-convert {\n",
              "      background-color: #E8F0FE;\n",
              "      border: none;\n",
              "      border-radius: 50%;\n",
              "      cursor: pointer;\n",
              "      display: none;\n",
              "      fill: #1967D2;\n",
              "      height: 32px;\n",
              "      padding: 0 0 0 0;\n",
              "      width: 32px;\n",
              "    }\n",
              "\n",
              "    .colab-df-convert:hover {\n",
              "      background-color: #E2EBFA;\n",
              "      box-shadow: 0px 1px 2px rgba(60, 64, 67, 0.3), 0px 1px 3px 1px rgba(60, 64, 67, 0.15);\n",
              "      fill: #174EA6;\n",
              "    }\n",
              "\n",
              "    [theme=dark] .colab-df-convert {\n",
              "      background-color: #3B4455;\n",
              "      fill: #D2E3FC;\n",
              "    }\n",
              "\n",
              "    [theme=dark] .colab-df-convert:hover {\n",
              "      background-color: #434B5C;\n",
              "      box-shadow: 0px 1px 3px 1px rgba(0, 0, 0, 0.15);\n",
              "      filter: drop-shadow(0px 1px 2px rgba(0, 0, 0, 0.3));\n",
              "      fill: #FFFFFF;\n",
              "    }\n",
              "  </style>\n",
              "\n",
              "      <script>\n",
              "        const buttonEl =\n",
              "          document.querySelector('#df-acb86d13-c7ba-434b-9b0e-b8683c845189 button.colab-df-convert');\n",
              "        buttonEl.style.display =\n",
              "          google.colab.kernel.accessAllowed ? 'block' : 'none';\n",
              "\n",
              "        async function convertToInteractive(key) {\n",
              "          const element = document.querySelector('#df-acb86d13-c7ba-434b-9b0e-b8683c845189');\n",
              "          const dataTable =\n",
              "            await google.colab.kernel.invokeFunction('convertToInteractive',\n",
              "                                                     [key], {});\n",
              "          if (!dataTable) return;\n",
              "\n",
              "          const docLinkHtml = 'Like what you see? Visit the ' +\n",
              "            '<a target=\"_blank\" href=https://colab.research.google.com/notebooks/data_table.ipynb>data table notebook</a>'\n",
              "            + ' to learn more about interactive tables.';\n",
              "          element.innerHTML = '';\n",
              "          dataTable['output_type'] = 'display_data';\n",
              "          await google.colab.output.renderOutput(dataTable, element);\n",
              "          const docLink = document.createElement('div');\n",
              "          docLink.innerHTML = docLinkHtml;\n",
              "          element.appendChild(docLink);\n",
              "        }\n",
              "      </script>\n",
              "    </div>\n",
              "  </div>\n",
              "  "
            ]
          },
          "metadata": {},
          "execution_count": 1
        }
      ]
    },
    {
      "cell_type": "code",
      "source": [
        "import yfinance as yf"
      ],
      "metadata": {
        "colab": {
          "base_uri": "https://localhost:8080/",
          "height": 80
        },
        "id": "Co_XuvIPTxzQ",
        "outputId": "b80d2f01-f90c-4d5b-e7bf-110c9024c4b2"
      },
      "execution_count": null,
      "outputs": [
        {
          "output_type": "execute_result",
          "data": {
            "text/plain": [
              "  Symbol Security SEC filings  GICS Sector         GICS Sub-Industry  \\\n",
              "0    MMM       3M     reports  Industrials  Industrial Conglomerates   \n",
              "\n",
              "   Headquarters Location Date first added    CIK Founded  \n",
              "0  Saint Paul, Minnesota       1976-08-09  66740    1902  "
            ],
            "text/html": [
              "\n",
              "  <div id=\"df-165bdc90-2557-4d97-9ef6-e5128ac783e4\">\n",
              "    <div class=\"colab-df-container\">\n",
              "      <div>\n",
              "<style scoped>\n",
              "    .dataframe tbody tr th:only-of-type {\n",
              "        vertical-align: middle;\n",
              "    }\n",
              "\n",
              "    .dataframe tbody tr th {\n",
              "        vertical-align: top;\n",
              "    }\n",
              "\n",
              "    .dataframe thead th {\n",
              "        text-align: right;\n",
              "    }\n",
              "</style>\n",
              "<table border=\"1\" class=\"dataframe\">\n",
              "  <thead>\n",
              "    <tr style=\"text-align: right;\">\n",
              "      <th></th>\n",
              "      <th>Symbol</th>\n",
              "      <th>Security</th>\n",
              "      <th>SEC filings</th>\n",
              "      <th>GICS Sector</th>\n",
              "      <th>GICS Sub-Industry</th>\n",
              "      <th>Headquarters Location</th>\n",
              "      <th>Date first added</th>\n",
              "      <th>CIK</th>\n",
              "      <th>Founded</th>\n",
              "    </tr>\n",
              "  </thead>\n",
              "  <tbody>\n",
              "    <tr>\n",
              "      <th>0</th>\n",
              "      <td>MMM</td>\n",
              "      <td>3M</td>\n",
              "      <td>reports</td>\n",
              "      <td>Industrials</td>\n",
              "      <td>Industrial Conglomerates</td>\n",
              "      <td>Saint Paul, Minnesota</td>\n",
              "      <td>1976-08-09</td>\n",
              "      <td>66740</td>\n",
              "      <td>1902</td>\n",
              "    </tr>\n",
              "  </tbody>\n",
              "</table>\n",
              "</div>\n",
              "      <button class=\"colab-df-convert\" onclick=\"convertToInteractive('df-165bdc90-2557-4d97-9ef6-e5128ac783e4')\"\n",
              "              title=\"Convert this dataframe to an interactive table.\"\n",
              "              style=\"display:none;\">\n",
              "        \n",
              "  <svg xmlns=\"http://www.w3.org/2000/svg\" height=\"24px\"viewBox=\"0 0 24 24\"\n",
              "       width=\"24px\">\n",
              "    <path d=\"M0 0h24v24H0V0z\" fill=\"none\"/>\n",
              "    <path d=\"M18.56 5.44l.94 2.06.94-2.06 2.06-.94-2.06-.94-.94-2.06-.94 2.06-2.06.94zm-11 1L8.5 8.5l.94-2.06 2.06-.94-2.06-.94L8.5 2.5l-.94 2.06-2.06.94zm10 10l.94 2.06.94-2.06 2.06-.94-2.06-.94-.94-2.06-.94 2.06-2.06.94z\"/><path d=\"M17.41 7.96l-1.37-1.37c-.4-.4-.92-.59-1.43-.59-.52 0-1.04.2-1.43.59L10.3 9.45l-7.72 7.72c-.78.78-.78 2.05 0 2.83L4 21.41c.39.39.9.59 1.41.59.51 0 1.02-.2 1.41-.59l7.78-7.78 2.81-2.81c.8-.78.8-2.07 0-2.86zM5.41 20L4 18.59l7.72-7.72 1.47 1.35L5.41 20z\"/>\n",
              "  </svg>\n",
              "      </button>\n",
              "      \n",
              "  <style>\n",
              "    .colab-df-container {\n",
              "      display:flex;\n",
              "      flex-wrap:wrap;\n",
              "      gap: 12px;\n",
              "    }\n",
              "\n",
              "    .colab-df-convert {\n",
              "      background-color: #E8F0FE;\n",
              "      border: none;\n",
              "      border-radius: 50%;\n",
              "      cursor: pointer;\n",
              "      display: none;\n",
              "      fill: #1967D2;\n",
              "      height: 32px;\n",
              "      padding: 0 0 0 0;\n",
              "      width: 32px;\n",
              "    }\n",
              "\n",
              "    .colab-df-convert:hover {\n",
              "      background-color: #E2EBFA;\n",
              "      box-shadow: 0px 1px 2px rgba(60, 64, 67, 0.3), 0px 1px 3px 1px rgba(60, 64, 67, 0.15);\n",
              "      fill: #174EA6;\n",
              "    }\n",
              "\n",
              "    [theme=dark] .colab-df-convert {\n",
              "      background-color: #3B4455;\n",
              "      fill: #D2E3FC;\n",
              "    }\n",
              "\n",
              "    [theme=dark] .colab-df-convert:hover {\n",
              "      background-color: #434B5C;\n",
              "      box-shadow: 0px 1px 3px 1px rgba(0, 0, 0, 0.15);\n",
              "      filter: drop-shadow(0px 1px 2px rgba(0, 0, 0, 0.3));\n",
              "      fill: #FFFFFF;\n",
              "    }\n",
              "  </style>\n",
              "\n",
              "      <script>\n",
              "        const buttonEl =\n",
              "          document.querySelector('#df-165bdc90-2557-4d97-9ef6-e5128ac783e4 button.colab-df-convert');\n",
              "        buttonEl.style.display =\n",
              "          google.colab.kernel.accessAllowed ? 'block' : 'none';\n",
              "\n",
              "        async function convertToInteractive(key) {\n",
              "          const element = document.querySelector('#df-165bdc90-2557-4d97-9ef6-e5128ac783e4');\n",
              "          const dataTable =\n",
              "            await google.colab.kernel.invokeFunction('convertToInteractive',\n",
              "                                                     [key], {});\n",
              "          if (!dataTable) return;\n",
              "\n",
              "          const docLinkHtml = 'Like what you see? Visit the ' +\n",
              "            '<a target=\"_blank\" href=https://colab.research.google.com/notebooks/data_table.ipynb>data table notebook</a>'\n",
              "            + ' to learn more about interactive tables.';\n",
              "          element.innerHTML = '';\n",
              "          dataTable['output_type'] = 'display_data';\n",
              "          await google.colab.output.renderOutput(dataTable, element);\n",
              "          const docLink = document.createElement('div');\n",
              "          docLink.innerHTML = docLinkHtml;\n",
              "          element.appendChild(docLink);\n",
              "        }\n",
              "      </script>\n",
              "    </div>\n",
              "  </div>\n",
              "  "
            ]
          },
          "metadata": {},
          "execution_count": 135
        }
      ]
    },
    {
      "cell_type": "code",
      "source": [
        "from yahooquery import Ticker\n",
        "\n",
        "#mf_symbols = pd.read_excel('tickers_mutual_funds.xlsx')\n",
        "symbols = sp500.Symbol.tolist()\n",
        "\n",
        "tickers = Ticker(symbols, asynchronous=True)\n",
        "\n",
        "data = tickers.history(period =\"1d\", interval=\"5m\")"
      ],
      "metadata": {
        "id": "WITiSXuJw5Tk"
      },
      "execution_count": null,
      "outputs": []
    },
    {
      "cell_type": "code",
      "source": [
        "for key in data:\n",
        "    if isinstance(data[key], pd.DataFrame):\n",
        "        data[key]['symbol'] = key\n",
        "\n",
        "# Concat all dataframes\n",
        "df = pd.concat([data[k] for k in data if isinstance(data[k], pd.DataFrame)])"
      ],
      "metadata": {
        "id": "dZ2Au0k9wFqa"
      },
      "execution_count": null,
      "outputs": []
    },
    {
      "cell_type": "code",
      "source": [
        "df.head()"
      ],
      "metadata": {
        "id": "xFNzuvinVGPB"
      },
      "execution_count": null,
      "outputs": []
    },
    {
      "cell_type": "code",
      "source": [
        "SPY=Ticker('SPY',asynchronous=True)\n",
        "data1=SPY.history(period =\"1d\", interval=\"5m\")"
      ],
      "metadata": {
        "id": "8Vg9p-Z4UDKf"
      },
      "execution_count": null,
      "outputs": []
    },
    {
      "cell_type": "code",
      "source": [
        "for key in data1:\n",
        "    if isinstance(data1[key], pd.DataFrame):\n",
        "        data1[key]['symbol'] = key"
      ],
      "metadata": {
        "id": "AJCr_8HJUiwJ"
      },
      "execution_count": null,
      "outputs": []
    },
    {
      "cell_type": "code",
      "source": [
        "df.to_csv('all_price.csv')"
      ],
      "metadata": {
        "id": "QOvhnjICx_QM"
      },
      "execution_count": null,
      "outputs": []
    },
    {
      "cell_type": "code",
      "source": [
        "data1.to_csv('SPY_price.csv')"
      ],
      "metadata": {
        "id": "hZOsbFQcb8J-"
      },
      "execution_count": null,
      "outputs": []
    },
    {
      "cell_type": "code",
      "source": [
        "df.reset_index(inplace=True)"
      ],
      "metadata": {
        "id": "BPa0SGo3gPxg"
      },
      "execution_count": null,
      "outputs": []
    },
    {
      "cell_type": "code",
      "source": [
        "df_cleaned=df[['index','close','symbol']]"
      ],
      "metadata": {
        "id": "VqJG_KnpjUFR"
      },
      "execution_count": null,
      "outputs": []
    },
    {
      "cell_type": "code",
      "source": [
        "df_cleaned['date']=df_cleaned['index']"
      ],
      "metadata": {
        "colab": {
          "base_uri": "https://localhost:8080/"
        },
        "id": "6EabRCUEgpOJ",
        "outputId": "ab98c068-1e6f-42c0-aaa2-170c94a9e20b"
      },
      "execution_count": null,
      "outputs": [
        {
          "output_type": "stream",
          "name": "stderr",
          "text": [
            "/usr/local/lib/python3.7/dist-packages/ipykernel_launcher.py:1: SettingWithCopyWarning:\n",
            "\n",
            "\n",
            "A value is trying to be set on a copy of a slice from a DataFrame.\n",
            "Try using .loc[row_indexer,col_indexer] = value instead\n",
            "\n",
            "See the caveats in the documentation: https://pandas.pydata.org/pandas-docs/stable/user_guide/indexing.html#returning-a-view-versus-a-copy\n",
            "\n"
          ]
        }
      ]
    },
    {
      "cell_type": "code",
      "source": [
        "pivoted = df_cleaned.pivot(index='date', columns=\"symbol\", values=\"close\")"
      ],
      "metadata": {
        "id": "FoXkiveWhWo6"
      },
      "execution_count": null,
      "outputs": []
    },
    {
      "cell_type": "code",
      "source": [
        "pivoted2=pivoted.copy()"
      ],
      "metadata": {
        "id": "E7Q8XTso8ejq"
      },
      "execution_count": null,
      "outputs": []
    },
    {
      "cell_type": "code",
      "source": [
        "data1.reset_index(inplace=True)"
      ],
      "metadata": {
        "id": "O7T1fi828jEC"
      },
      "execution_count": null,
      "outputs": []
    },
    {
      "cell_type": "code",
      "source": [
        "df1_cleaned=data1[['date','close','symbol']]"
      ],
      "metadata": {
        "id": "KbuLYB5cdK2V"
      },
      "execution_count": null,
      "outputs": []
    },
    {
      "cell_type": "code",
      "source": [
        "pivoted1 = df1_cleaned.pivot(index='date', columns=\"symbol\", values=\"close\")"
      ],
      "metadata": {
        "id": "QaF527q3jyPq"
      },
      "execution_count": null,
      "outputs": []
    },
    {
      "cell_type": "code",
      "source": [
        "from google.colab import drive\n",
        "drive.mount('/content/drive')"
      ],
      "metadata": {
        "colab": {
          "base_uri": "https://localhost:8080/"
        },
        "id": "rBFLW5egDTe2",
        "outputId": "56479ad3-fab3-4596-a560-0e33fc3b157c"
      },
      "execution_count": null,
      "outputs": [
        {
          "output_type": "stream",
          "name": "stdout",
          "text": [
            "Mounted at /content/drive\n"
          ]
        }
      ]
    },
    {
      "cell_type": "code",
      "source": [
        "%cd /content/drive/My Drive/Colab Notebooks/"
      ],
      "metadata": {
        "colab": {
          "base_uri": "https://localhost:8080/"
        },
        "id": "jm8crxDmD8da",
        "outputId": "d4d9de1e-cb18-4132-9dbc-3a5d30f323c6"
      },
      "execution_count": null,
      "outputs": [
        {
          "output_type": "stream",
          "name": "stdout",
          "text": [
            "/content/drive/My Drive/Colab Notebooks\n"
          ]
        }
      ]
    },
    {
      "cell_type": "code",
      "source": [
        "import pypfopt\n",
        "from pypfopt import plotting"
      ],
      "metadata": {
        "id": "OduN09QqDS4e"
      },
      "execution_count": null,
      "outputs": []
    },
    {
      "cell_type": "code",
      "source": [
        "from matplotlib import pyplot as plt"
      ],
      "metadata": {
        "id": "mYLmzV-LEkDI"
      },
      "execution_count": null,
      "outputs": []
    },
    {
      "cell_type": "code",
      "source": [
        "%matplotlib inline\n",
        "plt.close('all')\n"
      ],
      "metadata": {
        "id": "VSMJ0syFxkmn"
      },
      "execution_count": null,
      "outputs": []
    },
    {
      "cell_type": "markdown",
      "source": [
        "# Portfolio Strategy"
      ],
      "metadata": {
        "id": "-i-CqsueNk1B"
      }
    },
    {
      "cell_type": "markdown",
      "source": [
        "## Strategy 1"
      ],
      "metadata": {
        "id": "8z8-8G4-sNMK"
      }
    },
    {
      "cell_type": "markdown",
      "source": [
        "### Portfolio Optimization based on max sharpe ratio"
      ],
      "metadata": {
        "id": "fRjX51ctEQPD"
      }
    },
    {
      "cell_type": "code",
      "source": [
        "import pandas as pd\n",
        "from pypfopt import EfficientFrontier, objective_functions\n",
        "from pypfopt import risk_models\n",
        "from pypfopt import expected_returns  \n",
        "import cvxpy as cp\n",
        "# Read in price data\n",
        "#df=pd.read_csv('all_price_close.csv',index_col=\"Date\")\n",
        "# Calculate expected returns and covariance\n",
        "all=pivoted.copy()\n",
        "mu = expected_returns.mean_historical_return(pivoted, frequency=len(pivoted.index))\n",
        "mu1 = mu.sort_values(ascending=False).head(20)\n",
        "df_S=pivoted[[x for x in mu1.index]]\n",
        "S = risk_models.sample_cov(df_S,frequency=len(pivoted.index))\n",
        "\n",
        "# Optimize for maximal Sharpe ratio\n",
        "ef = EfficientFrontier(mu1, S)\n",
        "#ef = EfficientFrontier(mu,S1)\n",
        "#ef.add_objective(objective_functions.L2_reg, gamma=1)\n",
        "ef.add_constraint(lambda w: w[0]+w[1]+w[2]+w[3]+w[4]+w[5]+w[6]+w[7]\n",
        "                  +w[8]+w[9]+w[10]+w[11]+w[12]+w[13]\n",
        "                  +w[14]+w[15]+w[16]+w[17]+w[18]+w[19]\n",
        "                  == int(1))\n",
        "ef.add_constraint((lambda w: cp.sum(w) == 1))\n",
        "raw_weights = ef.max_sharpe()\n",
        "cleaned_weights = ef.clean_weights(rounding=3)\n",
        "ef.save_weights_to_file(\"weights.csv\")  # saves to file\n",
        "print(cleaned_weights)\n",
        "ef.portfolio_performance(verbose=True)"
      ],
      "metadata": {
        "id": "ETWJUvgvVy4s",
        "colab": {
          "base_uri": "https://localhost:8080/"
        },
        "outputId": "9baf88c2-de25-4de2-d9d3-3234321dfdd7"
      },
      "execution_count": null,
      "outputs": [
        {
          "output_type": "stream",
          "name": "stdout",
          "text": [
            "OrderedDict([('BMY', 1.0), ('BAX', 0.0), ('MOH', 0.0), ('ABBV', 0.0), ('HOLX', 0.0), ('CERN', 0.0), ('NLSN', 0.0), ('PTC', 0.0), ('DXCM', 0.0), ('CL', 0.0), ('HSY', 0.0), ('ABMD', 0.0), ('MRK', 0.0), ('CNC', 0.0), ('JNJ', 0.0), ('LH', 0.0), ('MTD', 0.0), ('CTLT', 0.0), ('PKG', 0.0), ('CTXS', 0.0)])\n",
            "Expected annual return: 2.2%\n",
            "Annual volatility: 2.2%\n",
            "Sharpe Ratio: 0.11\n"
          ]
        },
        {
          "output_type": "execute_result",
          "data": {
            "text/plain": [
              "(0.02235134130169246, 0.02208974537248421, 0.10644492555452338)"
            ]
          },
          "metadata": {},
          "execution_count": 543
        }
      ]
    },
    {
      "cell_type": "code",
      "source": [
        "plotting.plot_covariance(S, plot_correlation=True)"
      ],
      "metadata": {
        "colab": {
          "base_uri": "https://localhost:8080/",
          "height": 315
        },
        "id": "zCRrzgk1xx8Y",
        "outputId": "eb597a89-c1b8-46ad-d3e9-a80abc8ff9b8"
      },
      "execution_count": null,
      "outputs": [
        {
          "output_type": "execute_result",
          "data": {
            "text/plain": [
              "<matplotlib.axes._subplots.AxesSubplot at 0x7f3a58d7fa90>"
            ]
          },
          "metadata": {},
          "execution_count": 473
        },
        {
          "output_type": "display_data",
          "data": {
            "text/plain": [
              "<Figure size 432x288 with 2 Axes>"
            ],
            "image/png": "[encoded data removed]"
          },
          "metadata": {
            "needs_background": "light"
          }
        }
      ]
    },
    {
      "cell_type": "code",
      "source": [
        "pd.Series(cleaned_weights).plot.pie(figsize=(10, 10))"
      ],
      "metadata": {
        "id": "as3Wr-mWwgH4"
      },
      "execution_count": null,
      "outputs": []
    },
    {
      "cell_type": "markdown",
      "source": [
        "## Strategy 2"
      ],
      "metadata": {
        "id": "HoqRGcZusUyx"
      }
    },
    {
      "cell_type": "markdown",
      "source": [
        "### Portfolio Optimization based on min volatility\n"
      ],
      "metadata": {
        "id": "YJjXeyAXEpMi"
      }
    },
    {
      "cell_type": "code",
      "source": [
        "import pandas as pd\n",
        "from pypfopt import EfficientFrontier, objective_functions\n",
        "from pypfopt import risk_models\n",
        "from pypfopt import expected_returns  \n",
        "\n",
        "# Read in price data\n",
        "#df=pd.read_csv('all_price_close.csv',index_col=\"Date\")\n",
        "# Calculate expected returns and covariance\n",
        "mu2 = expected_returns.ema_historical_return(pivoted, frequency=len(pivoted.index))\n",
        "mu3 = mu2.sort_values(ascending=False).head(20)\n",
        "df_S2=pivoted[[x for x in mu3.index]]\n",
        "S2 = risk_models.sample_cov(df_S2,frequency=len(pivoted.index))\n",
        "# Optimize for maximal Sharpe ratio\n",
        "ef2 = EfficientFrontier(mu3, S2)\n",
        "#ef.add_objective(objective_functions.L2_reg, gamma=1)\n",
        "ef2.add_constraint(lambda w: w[0]+w[1]+w[2]+w[3]+w[4]+w[5]+w[6]+w[7]\n",
        "                  +w[8]+w[9]+w[10]+w[11]+w[12]+w[13]\n",
        "                  +w[14]+w[15]+w[16]+w[17]+w[18]+w[19]\n",
        "                  == 1)\n",
        "raw_weights2 = ef2.min_volatility()\n",
        "cleaned_weights2 = ef2.clean_weights()\n",
        "ef2.save_weights_to_file(\"weights2.csv\")  # saves to file\n",
        "print(cleaned_weights2)\n",
        "ef2.portfolio_performance(verbose=True)"
      ],
      "metadata": {
        "id": "Acy92-zvsUyy",
        "colab": {
          "base_uri": "https://localhost:8080/"
        },
        "outputId": "d060b7bd-f4a4-4b6b-9048-f3ea60dbc13b"
      },
      "execution_count": null,
      "outputs": [
        {
          "output_type": "stream",
          "name": "stdout",
          "text": [
            "OrderedDict([('BMY', 0.0), ('ABBV', 0.0), ('BAX', 0.0), ('MOH', 0.0), ('NLSN', 0.00534), ('CERN', 0.95843), ('HOLX', 0.0), ('CL', 0.0), ('PTC', 0.00437), ('MRK', 0.0), ('HSY', 0.02078), ('ABMD', 0.0), ('JNJ', 0.0), ('CNC', 0.0), ('CTXS', 0.01108), ('LH', 0.0), ('LLY', 0.0), ('PKG', 0.0), ('LDOS', 0.0), ('URI', 0.0)])\n",
            "Expected annual return: -0.1%\n",
            "Annual volatility: 0.2%\n",
            "Sharpe Ratio: -13.04\n"
          ]
        },
        {
          "output_type": "execute_result",
          "data": {
            "text/plain": [
              "(-0.0013094841219438139, 0.00163452076288288, -13.037144957620049)"
            ]
          },
          "metadata": {},
          "execution_count": 544
        }
      ]
    },
    {
      "cell_type": "code",
      "source": [
        "plotting.plot_covariance(S2, plot_correlation=True)"
      ],
      "metadata": {
        "colab": {
          "base_uri": "https://localhost:8080/",
          "height": 315
        },
        "outputId": "c5af5951-27b6-4350-8ea7-0644f2a99d40",
        "id": "ZFxQuxt0sUy7"
      },
      "execution_count": null,
      "outputs": [
        {
          "output_type": "execute_result",
          "data": {
            "text/plain": [
              "<matplotlib.axes._subplots.AxesSubplot at 0x7f3a58fb3590>"
            ]
          },
          "metadata": {},
          "execution_count": 264
        },
        {
          "output_type": "display_data",
          "data": {
            "text/plain": [
              "<Figure size 432x288 with 2 Axes>"
            ],
            "image/png": "[encoded data removed]"
          },
          "metadata": {
            "needs_background": "light"
          }
        }
      ]
    },
    {
      "cell_type": "code",
      "source": [
        "pd.Series(cleaned_weights2).plot.pie(figsize=(10, 10))"
      ],
      "metadata": {
        "colab": {
          "base_uri": "https://localhost:8080/",
          "height": 593
        },
        "outputId": "d6fec1a1-aa28-4c9f-9779-dc4d330236e4",
        "id": "hh-FgJZIsUy8"
      },
      "execution_count": null,
      "outputs": [
        {
          "output_type": "execute_result",
          "data": {
            "text/plain": [
              "<matplotlib.axes._subplots.AxesSubplot at 0x7f3a58fb3150>"
            ]
          },
          "metadata": {},
          "execution_count": 265
        },
        {
          "output_type": "display_data",
          "data": {
            "text/plain": [
              "<Figure size 720x720 with 1 Axes>"
            ],
            "image/png": "[encoded data removed]"
          },
          "metadata": {}
        }
      ]
    },
    {
      "cell_type": "markdown",
      "source": [
        "## Discrete Allocation"
      ],
      "metadata": {
        "id": "uE8lvir1tQ_H"
      }
    },
    {
      "cell_type": "markdown",
      "source": [
        "Discrete Allocation of Portfolio Strategies.Convert optimized weight into actual allocation of stock shares available for purchase by entering the latest price and investment size."
      ],
      "metadata": {
        "id": "LwImoBjzEvHi"
      }
    },
    {
      "cell_type": "code",
      "source": [
        "from pypfopt.discrete_allocation import DiscreteAllocation, get_latest_prices\n",
        "latest_prices = get_latest_prices(df_S)\n",
        "weights = cleaned_weights \n",
        "da = DiscreteAllocation(weights, latest_prices, total_portfolio_value=20000)\n",
        "allocation, leftover = da.lp_portfolio()\n",
        "print(\"Discrete allocation:\", allocation)\n",
        "print(\"Funds remaining: ${:.2f}\".format(leftover))"
      ],
      "metadata": {
        "id": "Nu90woP0RIgI"
      },
      "execution_count": null,
      "outputs": []
    },
    {
      "cell_type": "code",
      "source": [
        "from pypfopt.discrete_allocation import DiscreteAllocation, get_latest_prices\n",
        "latest_prices = get_latest_prices(df_S2)\n",
        "weights2 = cleaned_weights2\n",
        "da = DiscreteAllocation(weights2, latest_prices, total_portfolio_value=20000)\n",
        "allocation, leftover = da.lp_portfolio()\n",
        "print(\"Discrete allocation:\", allocation)\n",
        "print(\"Funds remaining: ${:.2f}\".format(leftover))"
      ],
      "metadata": {
        "colab": {
          "base_uri": "https://localhost:8080/"
        },
        "id": "acBBWibgOHYE",
        "outputId": "7d1d13a9-f8bb-4697-d12f-475218e0b678"
      },
      "execution_count": null,
      "outputs": [
        {
          "output_type": "stream",
          "name": "stdout",
          "text": [
            "Discrete allocation: {'NLSN': 3, 'CERN': 153, 'PTC': 1, 'HSY': 1, 'CTXS': 2}\n",
            "Funds remaining: $52.47\n"
          ]
        }
      ]
    },
    {
      "cell_type": "markdown",
      "metadata": {
        "id": "JPAf9Uqv8wFz"
      },
      "source": [
        "# Backtesting using portfolio-backtest"
      ]
    },
    {
      "cell_type": "markdown",
      "metadata": {
        "id": "_bTKZmLAnZ1m"
      },
      "source": [
        "Compare performances of our own strategies with below list of available portfolios using historical data:\n",
        "Hierarchical Risk Parity Portfolio\n",
        "\n",
        "*   Tangency Portfolio\n",
        "*   Minimum Variance Portfolio\n",
        "*   Minimum CVaR Portfolio/\n",
        "*   Semi Variance Portfolio\n",
        "*   Return Maximize CVaR Portfolio\n",
        "\n",
        "\n"
      ]
    },
    {
      "cell_type": "code",
      "source": [
        "pip install portfolio-backtest"
      ],
      "metadata": {
        "id": "hlYB7NVfIfOp"
      },
      "execution_count": null,
      "outputs": []
    },
    {
      "cell_type": "code",
      "source": [
        "strategy1=dict(cleaned_weights)\n",
        "strategy2=dict(cleaned_weights2)"
      ],
      "metadata": {
        "id": "VH3fOl7_IuFc"
      },
      "execution_count": null,
      "outputs": []
    },
    {
      "cell_type": "code",
      "source": [
        "weight1=pd.DataFrame(strategy1.items(), columns=['ticker','weight'])\n",
        "weight2=pd.DataFrame(strategy2.items(), columns=['ticker','weight'])"
      ],
      "metadata": {
        "id": "GqtHu1h_LVs1"
      },
      "execution_count": null,
      "outputs": []
    },
    {
      "cell_type": "code",
      "source": [
        "s1=sum(weight1.weight)"
      ],
      "metadata": {
        "id": "WnIA0nPCYzlF"
      },
      "execution_count": null,
      "outputs": []
    },
    {
      "cell_type": "code",
      "source": [
        "weight1.weight=weight1.weight/s1"
      ],
      "metadata": {
        "id": "DVO9jSkOQqba"
      },
      "execution_count": null,
      "outputs": []
    },
    {
      "cell_type": "code",
      "source": [
        "s2=sum(weight2.weight)"
      ],
      "metadata": {
        "id": "MEmvPMh0uPpG"
      },
      "execution_count": null,
      "outputs": []
    },
    {
      "cell_type": "code",
      "source": [
        "weight2.weight=weight2.weight/s2"
      ],
      "metadata": {
        "id": "xY-XeWcEl0yE"
      },
      "execution_count": null,
      "outputs": []
    },
    {
      "cell_type": "code",
      "source": [
        "weight1.set_index('ticker')"
      ],
      "metadata": {
        "id": "cKfci_a2fvPN"
      },
      "execution_count": null,
      "outputs": []
    },
    {
      "cell_type": "code",
      "source": [
        "weight2.set_index('ticker')"
      ],
      "metadata": {
        "id": "yn_eX6ImC5Ee"
      },
      "execution_count": null,
      "outputs": []
    },
    {
      "cell_type": "code",
      "source": [
        "strategy_nor1=dict(zip(weight1.ticker, weight1.weight))"
      ],
      "metadata": {
        "id": "QCAqWrXZid7A"
      },
      "execution_count": null,
      "outputs": []
    },
    {
      "cell_type": "code",
      "source": [
        "strategy_nor2=dict(zip(weight2.ticker, weight2.weight))"
      ],
      "metadata": {
        "id": "R_2g0khtlxWT"
      },
      "execution_count": null,
      "outputs": []
    },
    {
      "cell_type": "code",
      "source": [
        "from portfolio_backtest import Backtest\n",
        "import pprint\n",
        "\n",
        "bt = Backtest(\n",
        "    tickers=strategy_nor1,\n",
        "    target_return=0.1,\n",
        "    target_cvar=0.025,\n",
        "    data_dir=\"data\",\n",
        "    start=\"2021-04-10\",\n",
        "    end=\"2022-04-10\",\n",
        ")\n",
        "stats1=bt.run(plot=False)\n",
        "#pprint.pprint(bt.run(plot=False))"
      ],
      "metadata": {
        "id": "Jzlvw67TIiFU",
        "colab": {
          "base_uri": "https://localhost:8080/"
        },
        "outputId": "771288b9-34a4-4e2d-cdc2-a0d508fef668"
      },
      "execution_count": null,
      "outputs": [
        {
          "output_type": "stream",
          "name": "stdout",
          "text": [
            "[*********************100%***********************]  20 of 20 completed\n"
          ]
        }
      ]
    },
    {
      "cell_type": "code",
      "source": [
        "bt1=pd.DataFrame(stats1).style.set_properties(subset=['tickers'], **{'width': '1000px'})"
      ],
      "metadata": {
        "id": "augEUwMTMK7V"
      },
      "execution_count": null,
      "outputs": []
    },
    {
      "cell_type": "code",
      "source": [
        "bt1"
      ],
      "metadata": {
        "colab": {
          "base_uri": "https://localhost:8080/",
          "height": 651
        },
        "id": "slNYRsbANtBe",
        "outputId": "1b1bd36a-3c38-414c-c9da-8fd658cd1c8a"
      },
      "execution_count": null,
      "outputs": [
        {
          "output_type": "execute_result",
          "data": {
            "text/plain": [
              "<pandas.io.formats.style.Styler at 0x7f3a5d9ba6d0>"
            ],
            "text/html": [
              "<style type=\"text/css\">\n",
              "#T_c8115_row0_col1, #T_c8115_row1_col1, #T_c8115_row2_col1, #T_c8115_row3_col1, #T_c8115_row4_col1, #T_c8115_row5_col1, #T_c8115_row6_col1 {\n",
              "  width: 1000px;\n",
              "}\n",
              "</style>\n",
              "<table id=\"T_c8115_\" class=\"dataframe\">\n",
              "  <thead>\n",
              "    <tr>\n",
              "      <th class=\"blank level0\" >&nbsp;</th>\n",
              "      <th class=\"col_heading level0 col0\" >portfolio</th>\n",
              "      <th class=\"col_heading level0 col1\" >tickers</th>\n",
              "      <th class=\"col_heading level0 col2\" >Expected annual return</th>\n",
              "      <th class=\"col_heading level0 col3\" >Annual volatility</th>\n",
              "      <th class=\"col_heading level0 col4\" >Sharpe Ratio</th>\n",
              "      <th class=\"col_heading level0 col5\" >Conditional Value at Risk</th>\n",
              "      <th class=\"col_heading level0 col6\" >Cumulative Return</th>\n",
              "    </tr>\n",
              "  </thead>\n",
              "  <tbody>\n",
              "    <tr>\n",
              "      <th id=\"T_c8115_level0_row0\" class=\"row_heading level0 row0\" >0</th>\n",
              "      <td id=\"T_c8115_row0_col0\" class=\"data row0 col0\" >Your Portfolio</td>\n",
              "      <td id=\"T_c8115_row0_col1\" class=\"data row0 col1\" >{'ABBV': 0.0, 'ABMD': 0.0, 'BAX': 0.0, 'BMY': 1.0, 'CERN': 0.0, 'CL': 0.0, 'CNC': 0.0, 'CTLT': 0.0, 'CTXS': 0.0, 'DXCM': 0.0, 'HOLX': 0.0, 'HSY': 0.0, 'JNJ': 0.0, 'LH': 0.0, 'MOH': 0.0, 'MRK': 0.0, 'MTD': 0.0, 'NLSN': 0.0, 'PKG': 0.0, 'PTC': 0.0}</td>\n",
              "      <td id=\"T_c8115_row0_col2\" class=\"data row0 col2\" >28.0%</td>\n",
              "      <td id=\"T_c8115_row0_col3\" class=\"data row0 col3\" >19.3%</td>\n",
              "      <td id=\"T_c8115_row0_col4\" class=\"data row0 col4\" >1.35</td>\n",
              "      <td id=\"T_c8115_row0_col5\" class=\"data row0 col5\" ></td>\n",
              "      <td id=\"T_c8115_row0_col6\" class=\"data row0 col6\" >28.0%</td>\n",
              "    </tr>\n",
              "    <tr>\n",
              "      <th id=\"T_c8115_level0_row1\" class=\"row_heading level0 row1\" >1</th>\n",
              "      <td id=\"T_c8115_row1_col0\" class=\"data row1 col0\" >Tangency Portfolio</td>\n",
              "      <td id=\"T_c8115_row1_col1\" class=\"data row1 col1\" >{'ABBV': 0.53799, 'ABMD': 0.0, 'BAX': 0.0, 'BMY': 0.0, 'CERN': 0.09056, 'CL': 0.0, 'CNC': 0.0166, 'CTLT': 0.0, 'CTXS': 0.0, 'DXCM': 0.05213, 'HOLX': 0.0, 'HSY': 0.30272, 'JNJ': 0.0, 'LH': 0.0, 'MOH': 0.0, 'MRK': 0.0, 'MTD': 0.0, 'NLSN': 0.0, 'PKG': 0.0, 'PTC': 0.0}</td>\n",
              "      <td id=\"T_c8115_row1_col2\" class=\"data row1 col2\" >55.1%</td>\n",
              "      <td id=\"T_c8115_row1_col3\" class=\"data row1 col3\" >13.7%</td>\n",
              "      <td id=\"T_c8115_row1_col4\" class=\"data row1 col4\" >3.87</td>\n",
              "      <td id=\"T_c8115_row1_col5\" class=\"data row1 col5\" ></td>\n",
              "      <td id=\"T_c8115_row1_col6\" class=\"data row1 col6\" >55.9%</td>\n",
              "    </tr>\n",
              "    <tr>\n",
              "      <th id=\"T_c8115_level0_row2\" class=\"row_heading level0 row2\" >2</th>\n",
              "      <td id=\"T_c8115_row2_col0\" class=\"data row2 col0\" >Minimum Variance Portfolio</td>\n",
              "      <td id=\"T_c8115_row2_col1\" class=\"data row2 col1\" >{'ABBV': 0.05547, 'ABMD': 0.01841, 'BAX': 0.0271, 'BMY': 0.04154, 'CERN': 0.14613, 'CL': 0.09836, 'CNC': 0.0, 'CTLT': 0.00817, 'CTXS': 0.04809, 'DXCM': 0.00567, 'HOLX': 0.06931, 'HSY': 0.14981, 'JNJ': 0.13341, 'LH': 0.01321, 'MOH': 0.0, 'MRK': 0.05549, 'MTD': 0.01972, 'NLSN': 0.00392, 'PKG': 0.08883, 'PTC': 0.01737}</td>\n",
              "      <td id=\"T_c8115_row2_col2\" class=\"data row2 col2\" >19.5%</td>\n",
              "      <td id=\"T_c8115_row2_col3\" class=\"data row2 col3\" >10.2%</td>\n",
              "      <td id=\"T_c8115_row2_col4\" class=\"data row2 col4\" >1.72</td>\n",
              "      <td id=\"T_c8115_row2_col5\" class=\"data row2 col5\" ></td>\n",
              "      <td id=\"T_c8115_row2_col6\" class=\"data row2 col6\" >19.5%</td>\n",
              "    </tr>\n",
              "    <tr>\n",
              "      <th id=\"T_c8115_level0_row3\" class=\"row_heading level0 row3\" >3</th>\n",
              "      <td id=\"T_c8115_row3_col0\" class=\"data row3 col0\" >Hierarchical Risk Parity Portfolio</td>\n",
              "      <td id=\"T_c8115_row3_col1\" class=\"data row3 col1\" >{'ABBV': 0.07703, 'ABMD': 0.00818, 'BAX': 0.06859, 'BMY': 0.07817, 'CERN': 0.10304, 'CL': 0.05562, 'CNC': 0.03814, 'CTLT': 0.02345, 'CTXS': 0.03883, 'DXCM': 0.00699, 'HOLX': 0.04839, 'HSY': 0.06102, 'JNJ': 0.10691, 'LH': 0.05801, 'MOH': 0.03853, 'MRK': 0.04954, 'MTD': 0.02955, 'NLSN': 0.01866, 'PKG': 0.07098, 'PTC': 0.02035}</td>\n",
              "      <td id=\"T_c8115_row3_col2\" class=\"data row3 col2\" >18.9%</td>\n",
              "      <td id=\"T_c8115_row3_col3\" class=\"data row3 col3\" >11.1%</td>\n",
              "      <td id=\"T_c8115_row3_col4\" class=\"data row3 col4\" >1.52</td>\n",
              "      <td id=\"T_c8115_row3_col5\" class=\"data row3 col5\" ></td>\n",
              "      <td id=\"T_c8115_row3_col6\" class=\"data row3 col6\" >20.1%</td>\n",
              "    </tr>\n",
              "    <tr>\n",
              "      <th id=\"T_c8115_level0_row4\" class=\"row_heading level0 row4\" >4</th>\n",
              "      <td id=\"T_c8115_row4_col0\" class=\"data row4 col0\" >Minimum CVaR Portfolio</td>\n",
              "      <td id=\"T_c8115_row4_col1\" class=\"data row4 col1\" >{'ABBV': 0.01566, 'ABMD': 0.0, 'BAX': 0.0, 'BMY': 0.0598, 'CERN': 0.1934, 'CL': 0.16649, 'CNC': 0.0, 'CTLT': 0.0, 'CTXS': 0.0, 'DXCM': 0.01601, 'HOLX': 0.09716, 'HSY': 0.07197, 'JNJ': 0.06744, 'LH': 0.0, 'MOH': 0.0, 'MRK': 0.09856, 'MTD': 0.02823, 'NLSN': 0.00928, 'PKG': 0.13134, 'PTC': 0.04466}</td>\n",
              "      <td id=\"T_c8115_row4_col2\" class=\"data row4 col2\" >17.4%</td>\n",
              "      <td id=\"T_c8115_row4_col3\" class=\"data row4 col3\" ></td>\n",
              "      <td id=\"T_c8115_row4_col4\" class=\"data row4 col4\" ></td>\n",
              "      <td id=\"T_c8115_row4_col5\" class=\"data row4 col5\" >1.2%</td>\n",
              "      <td id=\"T_c8115_row4_col6\" class=\"data row4 col6\" >18.2%</td>\n",
              "    </tr>\n",
              "    <tr>\n",
              "      <th id=\"T_c8115_level0_row5\" class=\"row_heading level0 row5\" >5</th>\n",
              "      <td id=\"T_c8115_row5_col0\" class=\"data row5 col0\" >Semi Variance Portfolio (target return 10.0%)</td>\n",
              "      <td id=\"T_c8115_row5_col1\" class=\"data row5 col1\" >{'ABBV': 0.11494, 'ABMD': 0.00985, 'BAX': 0.0, 'BMY': 0.04436, 'CERN': 0.1809, 'CL': 0.00843, 'CNC': 0.0, 'CTLT': 0.0, 'CTXS': 0.01108, 'DXCM': 0.01596, 'HOLX': 0.07262, 'HSY': 0.16331, 'JNJ': 0.16995, 'LH': 0.0, 'MOH': 0.0, 'MRK': 0.07466, 'MTD': 0.01691, 'NLSN': 0.0, 'PKG': 0.11259, 'PTC': 0.00444}</td>\n",
              "      <td id=\"T_c8115_row5_col2\" class=\"data row5 col2\" >28.1%</td>\n",
              "      <td id=\"T_c8115_row5_col3\" class=\"data row5 col3\" >6.5%</td>\n",
              "      <td id=\"T_c8115_row5_col4\" class=\"data row5 col4\" >4.05</td>\n",
              "      <td id=\"T_c8115_row5_col5\" class=\"data row5 col5\" ></td>\n",
              "      <td id=\"T_c8115_row5_col6\" class=\"data row5 col6\" >28.6%</td>\n",
              "    </tr>\n",
              "    <tr>\n",
              "      <th id=\"T_c8115_level0_row6\" class=\"row_heading level0 row6\" >6</th>\n",
              "      <td id=\"T_c8115_row6_col0\" class=\"data row6 col0\" >Return Maximize CVaR Portfolio (target CVaR 2.5%)</td>\n",
              "      <td id=\"T_c8115_row6_col1\" class=\"data row6 col1\" >{'ABBV': 1.0, 'ABMD': 0.0, 'BAX': 0.0, 'BMY': 0.0, 'CERN': 0.0, 'CL': 0.0, 'CNC': 0.0, 'CTLT': 0.0, 'CTXS': 0.0, 'DXCM': 0.0, 'HOLX': 0.0, 'HSY': 0.0, 'JNJ': 0.0, 'LH': 0.0, 'MOH': 0.0, 'MRK': 0.0, 'MTD': 0.0, 'NLSN': 0.0, 'PKG': 0.0, 'PTC': 0.0}</td>\n",
              "      <td id=\"T_c8115_row6_col2\" class=\"data row6 col2\" >69.2%</td>\n",
              "      <td id=\"T_c8115_row6_col3\" class=\"data row6 col3\" ></td>\n",
              "      <td id=\"T_c8115_row6_col4\" class=\"data row6 col4\" ></td>\n",
              "      <td id=\"T_c8115_row6_col5\" class=\"data row6 col5\" >2.5%</td>\n",
              "      <td id=\"T_c8115_row6_col6\" class=\"data row6 col6\" >69.2%</td>\n",
              "    </tr>\n",
              "  </tbody>\n",
              "</table>\n"
            ]
          },
          "metadata": {},
          "execution_count": 489
        }
      ]
    },
    {
      "cell_type": "code",
      "source": [
        "from portfolio_backtest import Backtest\n",
        "import pprint\n",
        "\n",
        "bt = Backtest(\n",
        "    tickers=strategy_nor2,\n",
        "    target_return=0.1,\n",
        "    target_cvar=0.025,\n",
        "    data_dir=\"data\",\n",
        "    start=\"2021-04-10\",\n",
        "    end=\"2022-04-10\",\n",
        ")\n",
        "stats2=bt.run(plot=False)\n",
        "#pprint.pprint(bt.run(plot=False))"
      ],
      "metadata": {
        "id": "gPXQefkTItdl",
        "colab": {
          "base_uri": "https://localhost:8080/"
        },
        "outputId": "6daebe8b-2c27-4088-a0b6-38f4947e7df8"
      },
      "execution_count": null,
      "outputs": [
        {
          "output_type": "stream",
          "name": "stdout",
          "text": [
            "[*********************100%***********************]  20 of 20 completed\n"
          ]
        }
      ]
    },
    {
      "cell_type": "code",
      "source": [
        "bt2=pd.DataFrame(stats2).style.set_properties(subset=['tickers'], **{'width': '1000px'})"
      ],
      "metadata": {
        "id": "9oE3V0_RL8M5"
      },
      "execution_count": null,
      "outputs": []
    },
    {
      "cell_type": "code",
      "source": [
        "bt2"
      ],
      "metadata": {
        "colab": {
          "base_uri": "https://localhost:8080/",
          "height": 668
        },
        "id": "9wPJRQpXORam",
        "outputId": "c9638b88-9f1f-4229-f31b-f5be4788a02a"
      },
      "execution_count": null,
      "outputs": [
        {
          "output_type": "execute_result",
          "data": {
            "text/plain": [
              "<pandas.io.formats.style.Styler at 0x7f3a59570d50>"
            ],
            "text/html": [
              "<style type=\"text/css\">\n",
              "#T_7e3e0_row0_col1, #T_7e3e0_row1_col1, #T_7e3e0_row2_col1, #T_7e3e0_row3_col1, #T_7e3e0_row4_col1, #T_7e3e0_row5_col1, #T_7e3e0_row6_col1 {\n",
              "  width: 1000px;\n",
              "}\n",
              "</style>\n",
              "<table id=\"T_7e3e0_\" class=\"dataframe\">\n",
              "  <thead>\n",
              "    <tr>\n",
              "      <th class=\"blank level0\" >&nbsp;</th>\n",
              "      <th class=\"col_heading level0 col0\" >portfolio</th>\n",
              "      <th class=\"col_heading level0 col1\" >tickers</th>\n",
              "      <th class=\"col_heading level0 col2\" >Expected annual return</th>\n",
              "      <th class=\"col_heading level0 col3\" >Annual volatility</th>\n",
              "      <th class=\"col_heading level0 col4\" >Sharpe Ratio</th>\n",
              "      <th class=\"col_heading level0 col5\" >Conditional Value at Risk</th>\n",
              "      <th class=\"col_heading level0 col6\" >Cumulative Return</th>\n",
              "    </tr>\n",
              "  </thead>\n",
              "  <tbody>\n",
              "    <tr>\n",
              "      <th id=\"T_7e3e0_level0_row0\" class=\"row_heading level0 row0\" >0</th>\n",
              "      <td id=\"T_7e3e0_row0_col0\" class=\"data row0 col0\" >Your Portfolio</td>\n",
              "      <td id=\"T_7e3e0_row0_col1\" class=\"data row0 col1\" >{'ABBV': 0.0, 'ABMD': 0.0, 'BAX': 0.0, 'BMY': 0.0, 'CERN': 0.95843, 'CL': 0.0, 'CNC': 0.0, 'CTLT': 0.0, 'CTXS': 0.01108, 'HOLX': 0.0, 'HSY': 0.02078, 'JNJ': 0.0, 'LDOS': 0.0, 'LH': 0.0, 'LLY': 0.0, 'MOH': 0.0, 'MRK': 0.0, 'NLSN': 0.00534, 'PKG': 0.0, 'PTC': 0.00437}</td>\n",
              "      <td id=\"T_7e3e0_row0_col2\" class=\"data row0 col2\" >27.8%</td>\n",
              "      <td id=\"T_7e3e0_row0_col3\" class=\"data row0 col3\" >20.5%</td>\n",
              "      <td id=\"T_7e3e0_row0_col4\" class=\"data row0 col4\" >1.26</td>\n",
              "      <td id=\"T_7e3e0_row0_col5\" class=\"data row0 col5\" ></td>\n",
              "      <td id=\"T_7e3e0_row0_col6\" class=\"data row0 col6\" >27.7%</td>\n",
              "    </tr>\n",
              "    <tr>\n",
              "      <th id=\"T_7e3e0_level0_row1\" class=\"row_heading level0 row1\" >1</th>\n",
              "      <td id=\"T_7e3e0_row1_col0\" class=\"data row1 col0\" >Tangency Portfolio</td>\n",
              "      <td id=\"T_7e3e0_row1_col1\" class=\"data row1 col1\" >{'ABBV': 0.4276, 'ABMD': 0.0, 'BAX': 0.0, 'BMY': 0.0, 'CERN': 0.11569, 'CL': 0.0, 'CNC': 0.01396, 'CTLT': 0.0, 'CTXS': 0.0, 'HOLX': 0.0, 'HSY': 0.25342, 'JNJ': 0.0, 'LDOS': 0.0, 'LH': 0.0, 'LLY': 0.18933, 'MOH': 0.0, 'MRK': 0.0, 'NLSN': 0.0, 'PKG': 0.0, 'PTC': 0.0}</td>\n",
              "      <td id=\"T_7e3e0_row1_col2\" class=\"data row1 col2\" >58.3%</td>\n",
              "      <td id=\"T_7e3e0_row1_col3\" class=\"data row1 col3\" >13.9%</td>\n",
              "      <td id=\"T_7e3e0_row1_col4\" class=\"data row1 col4\" >4.06</td>\n",
              "      <td id=\"T_7e3e0_row1_col5\" class=\"data row1 col5\" ></td>\n",
              "      <td id=\"T_7e3e0_row1_col6\" class=\"data row1 col6\" >59.2%</td>\n",
              "    </tr>\n",
              "    <tr>\n",
              "      <th id=\"T_7e3e0_level0_row2\" class=\"row_heading level0 row2\" >2</th>\n",
              "      <td id=\"T_7e3e0_row2_col0\" class=\"data row2 col0\" >Minimum Variance Portfolio</td>\n",
              "      <td id=\"T_7e3e0_row2_col1\" class=\"data row2 col1\" >{'ABBV': 0.05596, 'ABMD': 0.01694, 'BAX': 0.02484, 'BMY': 0.04621, 'CERN': 0.13626, 'CL': 0.08924, 'CNC': 0.0, 'CTLT': 0.01098, 'CTXS': 0.03903, 'HOLX': 0.07296, 'HSY': 0.12612, 'JNJ': 0.1166, 'LDOS': 0.08535, 'LH': 0.0187, 'LLY': 0.00096, 'MOH': 0.0, 'MRK': 0.05335, 'NLSN': 0.00263, 'PKG': 0.07971, 'PTC': 0.02417}</td>\n",
              "      <td id=\"T_7e3e0_row2_col2\" class=\"data row2 col2\" >18.4%</td>\n",
              "      <td id=\"T_7e3e0_row2_col3\" class=\"data row2 col3\" >9.8%</td>\n",
              "      <td id=\"T_7e3e0_row2_col4\" class=\"data row2 col4\" >1.68</td>\n",
              "      <td id=\"T_7e3e0_row2_col5\" class=\"data row2 col5\" ></td>\n",
              "      <td id=\"T_7e3e0_row2_col6\" class=\"data row2 col6\" >18.6%</td>\n",
              "    </tr>\n",
              "    <tr>\n",
              "      <th id=\"T_7e3e0_level0_row3\" class=\"row_heading level0 row3\" >3</th>\n",
              "      <td id=\"T_7e3e0_row3_col0\" class=\"data row3 col0\" >Hierarchical Risk Parity Portfolio</td>\n",
              "      <td id=\"T_7e3e0_row3_col1\" class=\"data row3 col1\" >{'ABBV': 0.06839, 'ABMD': 0.01884, 'BAX': 0.08614, 'BMY': 0.0694, 'CERN': 0.09773, 'CL': 0.04938, 'CNC': 0.0271, 'CTLT': 0.019, 'CTXS': 0.03657, 'HOLX': 0.04615, 'HSY': 0.05418, 'JNJ': 0.09491, 'LDOS': 0.05991, 'LH': 0.03884, 'LLY': 0.03418, 'MOH': 0.02996, 'MRK': 0.04862, 'NLSN': 0.01737, 'PKG': 0.07748, 'PTC': 0.02585}</td>\n",
              "      <td id=\"T_7e3e0_row3_col2\" class=\"data row3 col2\" >18.6%</td>\n",
              "      <td id=\"T_7e3e0_row3_col3\" class=\"data row3 col3\" >10.9%</td>\n",
              "      <td id=\"T_7e3e0_row3_col4\" class=\"data row3 col4\" >1.52</td>\n",
              "      <td id=\"T_7e3e0_row3_col5\" class=\"data row3 col5\" ></td>\n",
              "      <td id=\"T_7e3e0_row3_col6\" class=\"data row3 col6\" >19.7%</td>\n",
              "    </tr>\n",
              "    <tr>\n",
              "      <th id=\"T_7e3e0_level0_row4\" class=\"row_heading level0 row4\" >4</th>\n",
              "      <td id=\"T_7e3e0_row4_col0\" class=\"data row4 col0\" >Minimum CVaR Portfolio</td>\n",
              "      <td id=\"T_7e3e0_row4_col1\" class=\"data row4 col1\" >{'ABBV': 0.11815, 'ABMD': 0.01567, 'BAX': 0.0, 'BMY': 0.0, 'CERN': 0.25006, 'CL': 0.17721, 'CNC': 0.0, 'CTLT': 0.0, 'CTXS': 0.02927, 'HOLX': 0.07681, 'HSY': 0.0, 'JNJ': 0.05708, 'LDOS': 0.0, 'LH': 0.0, 'LLY': 0.06767, 'MOH': 0.0, 'MRK': 0.05035, 'NLSN': 0.0, 'PKG': 0.13543, 'PTC': 0.02231}</td>\n",
              "      <td id=\"T_7e3e0_row4_col2\" class=\"data row4 col2\" >23.7%</td>\n",
              "      <td id=\"T_7e3e0_row4_col3\" class=\"data row4 col3\" ></td>\n",
              "      <td id=\"T_7e3e0_row4_col4\" class=\"data row4 col4\" ></td>\n",
              "      <td id=\"T_7e3e0_row4_col5\" class=\"data row4 col5\" >1.2%</td>\n",
              "      <td id=\"T_7e3e0_row4_col6\" class=\"data row4 col6\" >23.0%</td>\n",
              "    </tr>\n",
              "    <tr>\n",
              "      <th id=\"T_7e3e0_level0_row5\" class=\"row_heading level0 row5\" >5</th>\n",
              "      <td id=\"T_7e3e0_row5_col0\" class=\"data row5 col0\" >Semi Variance Portfolio (target return 10.0%)</td>\n",
              "      <td id=\"T_7e3e0_row5_col1\" class=\"data row5 col1\" >{'ABBV': 0.1044, 'ABMD': 0.01012, 'BAX': 0.0, 'BMY': 0.03806, 'CERN': 0.17488, 'CL': 0.0, 'CNC': 0.0, 'CTLT': 0.0, 'CTXS': 0.00624, 'HOLX': 0.08459, 'HSY': 0.15563, 'JNJ': 0.14028, 'LDOS': 0.05956, 'LH': 0.0, 'LLY': 0.04649, 'MOH': 0.0, 'MRK': 0.06397, 'NLSN': 0.0, 'PKG': 0.10329, 'PTC': 0.0125}</td>\n",
              "      <td id=\"T_7e3e0_row5_col2\" class=\"data row5 col2\" >29.1%</td>\n",
              "      <td id=\"T_7e3e0_row5_col3\" class=\"data row5 col3\" >6.4%</td>\n",
              "      <td id=\"T_7e3e0_row5_col4\" class=\"data row5 col4\" >4.26</td>\n",
              "      <td id=\"T_7e3e0_row5_col5\" class=\"data row5 col5\" ></td>\n",
              "      <td id=\"T_7e3e0_row5_col6\" class=\"data row5 col6\" >29.3%</td>\n",
              "    </tr>\n",
              "    <tr>\n",
              "      <th id=\"T_7e3e0_level0_row6\" class=\"row_heading level0 row6\" >6</th>\n",
              "      <td id=\"T_7e3e0_row6_col0\" class=\"data row6 col0\" >Return Maximize CVaR Portfolio (target CVaR 2.5%)</td>\n",
              "      <td id=\"T_7e3e0_row6_col1\" class=\"data row6 col1\" >{'ABBV': 0.18332, 'ABMD': 0.0, 'BAX': 0.0, 'BMY': 0.0, 'CERN': 0.0, 'CL': 0.0, 'CNC': 0.0, 'CTLT': 0.0, 'CTXS': 0.0, 'HOLX': 0.0, 'HSY': 0.0, 'JNJ': 0.0, 'LDOS': 0.0, 'LH': 0.0, 'LLY': 0.81668, 'MOH': 0.0, 'MRK': 0.0, 'NLSN': 0.0, 'PKG': 0.0, 'PTC': 0.0}</td>\n",
              "      <td id=\"T_7e3e0_row6_col2\" class=\"data row6 col2\" >73.1%</td>\n",
              "      <td id=\"T_7e3e0_row6_col3\" class=\"data row6 col3\" ></td>\n",
              "      <td id=\"T_7e3e0_row6_col4\" class=\"data row6 col4\" ></td>\n",
              "      <td id=\"T_7e3e0_row6_col5\" class=\"data row6 col5\" >2.5%</td>\n",
              "      <td id=\"T_7e3e0_row6_col6\" class=\"data row6 col6\" >74.0%</td>\n",
              "    </tr>\n",
              "  </tbody>\n",
              "</table>\n"
            ]
          },
          "metadata": {},
          "execution_count": 493
        }
      ]
    },
    {
      "cell_type": "markdown",
      "source": [
        "# Backtesting using Self-Designed Function"
      ],
      "metadata": {
        "id": "zmzm48wSRgev"
      }
    },
    {
      "cell_type": "markdown",
      "source": [
        "## Strategy 1"
      ],
      "metadata": {
        "id": "cC1JuM1y7JeP"
      }
    },
    {
      "cell_type": "code",
      "source": [
        "#Portfolio Asset Allocation. \n",
        "labels = weight1.ticker.to_list()\n",
        "allocation_pct = weight1.weight.to_list()\n",
        "\n",
        "fig = go.Figure(data=[go.Pie(labels=labels, values=allocation_pct)])\n",
        "fig.update_layout(title=\"Portfolio Asset Allocation\")\n",
        "fig.show()"
      ],
      "metadata": {
        "colab": {
          "base_uri": "https://localhost:8080/",
          "height": 542
        },
        "id": "Yvy7NYt9Cwx-",
        "outputId": "26b5b6ab-fd01-4ea5-9da5-01ff878034f0"
      },
      "execution_count": null,
      "outputs": [
        {
          "output_type": "display_data",
          "data": {
            "text/html": [
              "<html>\n",
              "<head><meta charset=\"utf-8\" /></head>\n",
              "<body>\n",
              "    <div>            <script src=\"https://cdnjs.cloudflare.com/ajax/libs/mathjax/2.7.5/MathJax.js?config=TeX-AMS-MML_SVG\"></script><script type=\"text/javascript\">if (window.MathJax) {MathJax.Hub.Config({SVG: {font: \"STIX-Web\"}});}</script>                <script type=\"text/javascript\">window.PlotlyConfig = {MathJaxConfig: 'local'};</script>\n",
              "        <script src=\"https://cdn.plot.ly/plotly-2.8.3.min.js\"></script>                <div id=\"5e318514-b159-4db6-8200-ce3b48b0bcb4\" class=\"plotly-graph-div\" style=\"height:525px; width:100%;\"></div>            <script type=\"text/javascript\">                                    window.PLOTLYENV=window.PLOTLYENV || {};                                    if (document.getElementById(\"5e318514-b159-4db6-8200-ce3b48b0bcb4\")) {                    Plotly.newPlot(                        \"5e318514-b159-4db6-8200-ce3b48b0bcb4\",                        [{\"labels\":[\"BMY\",\"BAX\",\"MOH\",\"ABBV\",\"HOLX\",\"CERN\",\"NLSN\",\"PTC\",\"DXCM\",\"CL\",\"HSY\",\"ABMD\",\"MRK\",\"CNC\",\"JNJ\",\"LH\",\"MTD\",\"CTLT\",\"PKG\",\"CTXS\"],\"values\":[1.0,0.0,0.0,0.0,0.0,0.0,0.0,0.0,0.0,0.0,0.0,0.0,0.0,0.0,0.0,0.0,0.0,0.0,0.0,0.0],\"type\":\"pie\"}],                        {\"template\":{\"data\":{\"bar\":[{\"error_x\":{\"color\":\"#2a3f5f\"},\"error_y\":{\"color\":\"#2a3f5f\"},\"marker\":{\"line\":{\"color\":\"#E5ECF6\",\"width\":0.5},\"pattern\":{\"fillmode\":\"overlay\",\"size\":10,\"solidity\":0.2}},\"type\":\"bar\"}],\"barpolar\":[{\"marker\":{\"line\":{\"color\":\"#E5ECF6\",\"width\":0.5},\"pattern\":{\"fillmode\":\"overlay\",\"size\":10,\"solidity\":0.2}},\"type\":\"barpolar\"}],\"carpet\":[{\"aaxis\":{\"endlinecolor\":\"#2a3f5f\",\"gridcolor\":\"white\",\"linecolor\":\"white\",\"minorgridcolor\":\"white\",\"startlinecolor\":\"#2a3f5f\"},\"baxis\":{\"endlinecolor\":\"#2a3f5f\",\"gridcolor\":\"white\",\"linecolor\":\"white\",\"minorgridcolor\":\"white\",\"startlinecolor\":\"#2a3f5f\"},\"type\":\"carpet\"}],\"choropleth\":[{\"colorbar\":{\"outlinewidth\":0,\"ticks\":\"\"},\"type\":\"choropleth\"}],\"contour\":[{\"colorbar\":{\"outlinewidth\":0,\"ticks\":\"\"},\"colorscale\":[[0.0,\"#0d0887\"],[0.1111111111111111,\"#46039f\"],[0.2222222222222222,\"#7201a8\"],[0.3333333333333333,\"#9c179e\"],[0.4444444444444444,\"#bd3786\"],[0.5555555555555556,\"#d8576b\"],[0.6666666666666666,\"#ed7953\"],[0.7777777777777778,\"#fb9f3a\"],[0.8888888888888888,\"#fdca26\"],[1.0,\"#f0f921\"]],\"type\":\"contour\"}],\"contourcarpet\":[{\"colorbar\":{\"outlinewidth\":0,\"ticks\":\"\"},\"type\":\"contourcarpet\"}],\"heatmap\":[{\"colorbar\":{\"outlinewidth\":0,\"ticks\":\"\"},\"colorscale\":[[0.0,\"#0d0887\"],[0.1111111111111111,\"#46039f\"],[0.2222222222222222,\"#7201a8\"],[0.3333333333333333,\"#9c179e\"],[0.4444444444444444,\"#bd3786\"],[0.5555555555555556,\"#d8576b\"],[0.6666666666666666,\"#ed7953\"],[0.7777777777777778,\"#fb9f3a\"],[0.8888888888888888,\"#fdca26\"],[1.0,\"#f0f921\"]],\"type\":\"heatmap\"}],\"heatmapgl\":[{\"colorbar\":{\"outlinewidth\":0,\"ticks\":\"\"},\"colorscale\":[[0.0,\"#0d0887\"],[0.1111111111111111,\"#46039f\"],[0.2222222222222222,\"#7201a8\"],[0.3333333333333333,\"#9c179e\"],[0.4444444444444444,\"#bd3786\"],[0.5555555555555556,\"#d8576b\"],[0.6666666666666666,\"#ed7953\"],[0.7777777777777778,\"#fb9f3a\"],[0.8888888888888888,\"#fdca26\"],[1.0,\"#f0f921\"]],\"type\":\"heatmapgl\"}],\"histogram\":[{\"marker\":{\"pattern\":{\"fillmode\":\"overlay\",\"size\":10,\"solidity\":0.2}},\"type\":\"histogram\"}],\"histogram2d\":[{\"colorbar\":{\"outlinewidth\":0,\"ticks\":\"\"},\"colorscale\":[[0.0,\"#0d0887\"],[0.1111111111111111,\"#46039f\"],[0.2222222222222222,\"#7201a8\"],[0.3333333333333333,\"#9c179e\"],[0.4444444444444444,\"#bd3786\"],[0.5555555555555556,\"#d8576b\"],[0.6666666666666666,\"#ed7953\"],[0.7777777777777778,\"#fb9f3a\"],[0.8888888888888888,\"#fdca26\"],[1.0,\"#f0f921\"]],\"type\":\"histogram2d\"}],\"histogram2dcontour\":[{\"colorbar\":{\"outlinewidth\":0,\"ticks\":\"\"},\"colorscale\":[[0.0,\"#0d0887\"],[0.1111111111111111,\"#46039f\"],[0.2222222222222222,\"#7201a8\"],[0.3333333333333333,\"#9c179e\"],[0.4444444444444444,\"#bd3786\"],[0.5555555555555556,\"#d8576b\"],[0.6666666666666666,\"#ed7953\"],[0.7777777777777778,\"#fb9f3a\"],[0.8888888888888888,\"#fdca26\"],[1.0,\"#f0f921\"]],\"type\":\"histogram2dcontour\"}],\"mesh3d\":[{\"colorbar\":{\"outlinewidth\":0,\"ticks\":\"\"},\"type\":\"mesh3d\"}],\"parcoords\":[{\"line\":{\"colorbar\":{\"outlinewidth\":0,\"ticks\":\"\"}},\"type\":\"parcoords\"}],\"pie\":[{\"automargin\":true,\"type\":\"pie\"}],\"scatter\":[{\"marker\":{\"colorbar\":{\"outlinewidth\":0,\"ticks\":\"\"}},\"type\":\"scatter\"}],\"scatter3d\":[{\"line\":{\"colorbar\":{\"outlinewidth\":0,\"ticks\":\"\"}},\"marker\":{\"colorbar\":{\"outlinewidth\":0,\"ticks\":\"\"}},\"type\":\"scatter3d\"}],\"scattercarpet\":[{\"marker\":{\"colorbar\":{\"outlinewidth\":0,\"ticks\":\"\"}},\"type\":\"scattercarpet\"}],\"scattergeo\":[{\"marker\":{\"colorbar\":{\"outlinewidth\":0,\"ticks\":\"\"}},\"type\":\"scattergeo\"}],\"scattergl\":[{\"marker\":{\"colorbar\":{\"outlinewidth\":0,\"ticks\":\"\"}},\"type\":\"scattergl\"}],\"scattermapbox\":[{\"marker\":{\"colorbar\":{\"outlinewidth\":0,\"ticks\":\"\"}},\"type\":\"scattermapbox\"}],\"scatterpolar\":[{\"marker\":{\"colorbar\":{\"outlinewidth\":0,\"ticks\":\"\"}},\"type\":\"scatterpolar\"}],\"scatterpolargl\":[{\"marker\":{\"colorbar\":{\"outlinewidth\":0,\"ticks\":\"\"}},\"type\":\"scatterpolargl\"}],\"scatterternary\":[{\"marker\":{\"colorbar\":{\"outlinewidth\":0,\"ticks\":\"\"}},\"type\":\"scatterternary\"}],\"surface\":[{\"colorbar\":{\"outlinewidth\":0,\"ticks\":\"\"},\"colorscale\":[[0.0,\"#0d0887\"],[0.1111111111111111,\"#46039f\"],[0.2222222222222222,\"#7201a8\"],[0.3333333333333333,\"#9c179e\"],[0.4444444444444444,\"#bd3786\"],[0.5555555555555556,\"#d8576b\"],[0.6666666666666666,\"#ed7953\"],[0.7777777777777778,\"#fb9f3a\"],[0.8888888888888888,\"#fdca26\"],[1.0,\"#f0f921\"]],\"type\":\"surface\"}],\"table\":[{\"cells\":{\"fill\":{\"color\":\"#EBF0F8\"},\"line\":{\"color\":\"white\"}},\"header\":{\"fill\":{\"color\":\"#C8D4E3\"},\"line\":{\"color\":\"white\"}},\"type\":\"table\"}]},\"layout\":{\"annotationdefaults\":{\"arrowcolor\":\"#2a3f5f\",\"arrowhead\":0,\"arrowwidth\":1},\"autotypenumbers\":\"strict\",\"coloraxis\":{\"colorbar\":{\"outlinewidth\":0,\"ticks\":\"\"}},\"colorscale\":{\"diverging\":[[0,\"#8e0152\"],[0.1,\"#c51b7d\"],[0.2,\"#de77ae\"],[0.3,\"#f1b6da\"],[0.4,\"#fde0ef\"],[0.5,\"#f7f7f7\"],[0.6,\"#e6f5d0\"],[0.7,\"#b8e186\"],[0.8,\"#7fbc41\"],[0.9,\"#4d9221\"],[1,\"#276419\"]],\"sequential\":[[0.0,\"#0d0887\"],[0.1111111111111111,\"#46039f\"],[0.2222222222222222,\"#7201a8\"],[0.3333333333333333,\"#9c179e\"],[0.4444444444444444,\"#bd3786\"],[0.5555555555555556,\"#d8576b\"],[0.6666666666666666,\"#ed7953\"],[0.7777777777777778,\"#fb9f3a\"],[0.8888888888888888,\"#fdca26\"],[1.0,\"#f0f921\"]],\"sequentialminus\":[[0.0,\"#0d0887\"],[0.1111111111111111,\"#46039f\"],[0.2222222222222222,\"#7201a8\"],[0.3333333333333333,\"#9c179e\"],[0.4444444444444444,\"#bd3786\"],[0.5555555555555556,\"#d8576b\"],[0.6666666666666666,\"#ed7953\"],[0.7777777777777778,\"#fb9f3a\"],[0.8888888888888888,\"#fdca26\"],[1.0,\"#f0f921\"]]},\"colorway\":[\"#636efa\",\"#EF553B\",\"#00cc96\",\"#ab63fa\",\"#FFA15A\",\"#19d3f3\",\"#FF6692\",\"#B6E880\",\"#FF97FF\",\"#FECB52\"],\"font\":{\"color\":\"#2a3f5f\"},\"geo\":{\"bgcolor\":\"white\",\"lakecolor\":\"white\",\"landcolor\":\"#E5ECF6\",\"showlakes\":true,\"showland\":true,\"subunitcolor\":\"white\"},\"hoverlabel\":{\"align\":\"left\"},\"hovermode\":\"closest\",\"mapbox\":{\"style\":\"light\"},\"paper_bgcolor\":\"white\",\"plot_bgcolor\":\"#E5ECF6\",\"polar\":{\"angularaxis\":{\"gridcolor\":\"white\",\"linecolor\":\"white\",\"ticks\":\"\"},\"bgcolor\":\"#E5ECF6\",\"radialaxis\":{\"gridcolor\":\"white\",\"linecolor\":\"white\",\"ticks\":\"\"}},\"scene\":{\"xaxis\":{\"backgroundcolor\":\"#E5ECF6\",\"gridcolor\":\"white\",\"gridwidth\":2,\"linecolor\":\"white\",\"showbackground\":true,\"ticks\":\"\",\"zerolinecolor\":\"white\"},\"yaxis\":{\"backgroundcolor\":\"#E5ECF6\",\"gridcolor\":\"white\",\"gridwidth\":2,\"linecolor\":\"white\",\"showbackground\":true,\"ticks\":\"\",\"zerolinecolor\":\"white\"},\"zaxis\":{\"backgroundcolor\":\"#E5ECF6\",\"gridcolor\":\"white\",\"gridwidth\":2,\"linecolor\":\"white\",\"showbackground\":true,\"ticks\":\"\",\"zerolinecolor\":\"white\"}},\"shapedefaults\":{\"line\":{\"color\":\"#2a3f5f\"}},\"ternary\":{\"aaxis\":{\"gridcolor\":\"white\",\"linecolor\":\"white\",\"ticks\":\"\"},\"baxis\":{\"gridcolor\":\"white\",\"linecolor\":\"white\",\"ticks\":\"\"},\"bgcolor\":\"#E5ECF6\",\"caxis\":{\"gridcolor\":\"white\",\"linecolor\":\"white\",\"ticks\":\"\"}},\"title\":{\"x\":0.05},\"xaxis\":{\"automargin\":true,\"gridcolor\":\"white\",\"linecolor\":\"white\",\"ticks\":\"\",\"title\":{\"standoff\":15},\"zerolinecolor\":\"white\",\"zerolinewidth\":2},\"yaxis\":{\"automargin\":true,\"gridcolor\":\"white\",\"linecolor\":\"white\",\"ticks\":\"\",\"title\":{\"standoff\":15},\"zerolinecolor\":\"white\",\"zerolinewidth\":2}}},\"title\":{\"text\":\"Portfolio Asset Allocation\"}},                        {\"responsive\": true}                    ).then(function(){\n",
              "                            \n",
              "var gd = document.getElementById('5e318514-b159-4db6-8200-ce3b48b0bcb4');\n",
              "var x = new MutationObserver(function (mutations, observer) {{\n",
              "        var display = window.getComputedStyle(gd).display;\n",
              "        if (!display || display === 'none') {{\n",
              "            console.log([gd, 'removed!']);\n",
              "            Plotly.purge(gd);\n",
              "            observer.disconnect();\n",
              "        }}\n",
              "}});\n",
              "\n",
              "// Listen for the removal of the full notebook cells\n",
              "var notebookContainer = gd.closest('#notebook-container');\n",
              "if (notebookContainer) {{\n",
              "    x.observe(notebookContainer, {childList: true});\n",
              "}}\n",
              "\n",
              "// Listen for the clearing of the current output cell\n",
              "var outputEl = gd.closest('.output');\n",
              "if (outputEl) {{\n",
              "    x.observe(outputEl, {childList: true});\n",
              "}}\n",
              "\n",
              "                        })                };                            </script>        </div>\n",
              "</body>\n",
              "</html>"
            ]
          },
          "metadata": {}
        }
      ]
    },
    {
      "cell_type": "code",
      "source": [
        "import yfinance as yf"
      ],
      "metadata": {
        "id": "Q1P9hPKQqqwy"
      },
      "execution_count": null,
      "outputs": []
    },
    {
      "cell_type": "code",
      "source": [
        "SPY=data1.copy()"
      ],
      "metadata": {
        "id": "814OW3H9tp9u"
      },
      "execution_count": null,
      "outputs": []
    },
    {
      "cell_type": "code",
      "source": [
        "# Calculate the cumulative return\n",
        "for t in labels: \n",
        "  pivoted[t+'Cum Return'] = pivoted[t]/pivoted.iloc[0][t]"
      ],
      "metadata": {
        "id": "yi-c3NzmCybm"
      },
      "execution_count": null,
      "outputs": []
    },
    {
      "cell_type": "code",
      "source": [
        "# Calculate value of initial investment of 10K in the Portfolio\n",
        "\n",
        "init_investment = 20000\n",
        "for t, alloc in zip(labels,allocation_pct):\n",
        "  pivoted[t+'Value'] = alloc*init_investment*pivoted[t+'Cum Return']\n"
      ],
      "metadata": {
        "id": "0p0cWJd2C00Y"
      },
      "execution_count": null,
      "outputs": []
    },
    {
      "cell_type": "code",
      "source": [
        "SPY['Cum Return']= SPY['close']/SPY.iloc[0]['close']"
      ],
      "metadata": {
        "id": "jLX_1Yeuuopu"
      },
      "execution_count": null,
      "outputs": []
    },
    {
      "cell_type": "code",
      "source": [
        "# Calculate value of initial investment of 10K in the SPY\n",
        "SPY['SPY Total'] = init_investment*SPY['Cum Return']\n",
        "SPY['SPY Total'] = round(SPY['SPY Total'])"
      ],
      "metadata": {
        "id": "0YsLqFtQC3KP"
      },
      "execution_count": null,
      "outputs": []
    },
    {
      "cell_type": "code",
      "source": [
        "pivoted.head()"
      ],
      "metadata": {
        "colab": {
          "base_uri": "https://localhost:8080/",
          "height": 504
        },
        "id": "A8Xdf1LIwFH9",
        "outputId": "2f29c6c9-0e46-43c5-939a-6d320c9368c0"
      },
      "execution_count": null,
      "outputs": [
        {
          "output_type": "execute_result",
          "data": {
            "text/plain": [
              "symbol                        A        AAL         AAP        AAPL  \\\n",
              "date                                                                 \n",
              "2022-04-29 09:30:00  122.000000  19.445000  208.899994  163.667999   \n",
              "2022-04-29 09:35:00  122.190002  19.459999  208.850006  163.437103   \n",
              "2022-04-29 09:40:00  121.989998  19.301100  208.350006  162.630005   \n",
              "2022-04-29 09:45:00  122.504997  19.350000  208.167206  163.740005   \n",
              "2022-04-29 09:50:00  122.889999  19.360001  208.304993  164.244003   \n",
              "\n",
              "symbol                     ABBV         ABC        ABMD         ABT  \\\n",
              "date                                                                  \n",
              "2022-04-29 09:30:00  146.380005  156.664993  287.612488  117.470001   \n",
              "2022-04-29 09:35:00  144.904999  155.970001  285.154999  117.099899   \n",
              "2022-04-29 09:40:00  144.837601  155.770004  285.200012  116.720001   \n",
              "2022-04-29 09:45:00  140.889999  156.050003  288.820007  116.730003   \n",
              "2022-04-29 09:50:00  141.419998  155.789993  289.369995  117.190002   \n",
              "\n",
              "symbol                      ACN        ADBE  ...  HSYValue  ABMDValue  \\\n",
              "date                                         ...                        \n",
              "2022-04-29 09:30:00  310.894989  408.260010  ...       0.0        0.0   \n",
              "2022-04-29 09:35:00  311.390015  409.001892  ...       0.0        0.0   \n",
              "2022-04-29 09:40:00  310.355011  408.170013  ...       0.0        0.0   \n",
              "2022-04-29 09:45:00  309.880005  409.540009  ...       0.0        0.0   \n",
              "2022-04-29 09:50:00  309.265015  410.570007  ...       0.0        0.0   \n",
              "\n",
              "symbol               MRKValue  CNCValue  JNJValue  LHValue  MTDValue  \\\n",
              "date                                                                   \n",
              "2022-04-29 09:30:00       0.0       0.0       0.0      0.0       0.0   \n",
              "2022-04-29 09:35:00       0.0       0.0       0.0      0.0       0.0   \n",
              "2022-04-29 09:40:00       0.0       0.0       0.0      0.0       NaN   \n",
              "2022-04-29 09:45:00       0.0       0.0       0.0      0.0       0.0   \n",
              "2022-04-29 09:50:00       0.0       0.0       0.0      0.0       NaN   \n",
              "\n",
              "symbol               CTLTValue  PKGValue  CTXSValue  \n",
              "date                                                 \n",
              "2022-04-29 09:30:00        0.0       0.0        0.0  \n",
              "2022-04-29 09:35:00        0.0       0.0        0.0  \n",
              "2022-04-29 09:40:00        0.0       0.0        0.0  \n",
              "2022-04-29 09:45:00        0.0       0.0        0.0  \n",
              "2022-04-29 09:50:00        0.0       0.0        0.0  \n",
              "\n",
              "[5 rows x 542 columns]"
            ],
            "text/html": [
              "\n",
              "  <div id=\"df-d3d231ea-87cd-47ba-b607-3eb7ae3de05b\">\n",
              "    <div class=\"colab-df-container\">\n",
              "      <div>\n",
              "<style scoped>\n",
              "    .dataframe tbody tr th:only-of-type {\n",
              "        vertical-align: middle;\n",
              "    }\n",
              "\n",
              "    .dataframe tbody tr th {\n",
              "        vertical-align: top;\n",
              "    }\n",
              "\n",
              "    .dataframe thead th {\n",
              "        text-align: right;\n",
              "    }\n",
              "</style>\n",
              "<table border=\"1\" class=\"dataframe\">\n",
              "  <thead>\n",
              "    <tr style=\"text-align: right;\">\n",
              "      <th>symbol</th>\n",
              "      <th>A</th>\n",
              "      <th>AAL</th>\n",
              "      <th>AAP</th>\n",
              "      <th>AAPL</th>\n",
              "      <th>ABBV</th>\n",
              "      <th>ABC</th>\n",
              "      <th>ABMD</th>\n",
              "      <th>ABT</th>\n",
              "      <th>ACN</th>\n",
              "      <th>ADBE</th>\n",
              "      <th>...</th>\n",
              "      <th>HSYValue</th>\n",
              "      <th>ABMDValue</th>\n",
              "      <th>MRKValue</th>\n",
              "      <th>CNCValue</th>\n",
              "      <th>JNJValue</th>\n",
              "      <th>LHValue</th>\n",
              "      <th>MTDValue</th>\n",
              "      <th>CTLTValue</th>\n",
              "      <th>PKGValue</th>\n",
              "      <th>CTXSValue</th>\n",
              "    </tr>\n",
              "    <tr>\n",
              "      <th>date</th>\n",
              "      <th></th>\n",
              "      <th></th>\n",
              "      <th></th>\n",
              "      <th></th>\n",
              "      <th></th>\n",
              "      <th></th>\n",
              "      <th></th>\n",
              "      <th></th>\n",
              "      <th></th>\n",
              "      <th></th>\n",
              "      <th></th>\n",
              "      <th></th>\n",
              "      <th></th>\n",
              "      <th></th>\n",
              "      <th></th>\n",
              "      <th></th>\n",
              "      <th></th>\n",
              "      <th></th>\n",
              "      <th></th>\n",
              "      <th></th>\n",
              "      <th></th>\n",
              "    </tr>\n",
              "  </thead>\n",
              "  <tbody>\n",
              "    <tr>\n",
              "      <th>2022-04-29 09:30:00</th>\n",
              "      <td>122.000000</td>\n",
              "      <td>19.445000</td>\n",
              "      <td>208.899994</td>\n",
              "      <td>163.667999</td>\n",
              "      <td>146.380005</td>\n",
              "      <td>156.664993</td>\n",
              "      <td>287.612488</td>\n",
              "      <td>117.470001</td>\n",
              "      <td>310.894989</td>\n",
              "      <td>408.260010</td>\n",
              "      <td>...</td>\n",
              "      <td>0.0</td>\n",
              "      <td>0.0</td>\n",
              "      <td>0.0</td>\n",
              "      <td>0.0</td>\n",
              "      <td>0.0</td>\n",
              "      <td>0.0</td>\n",
              "      <td>0.0</td>\n",
              "      <td>0.0</td>\n",
              "      <td>0.0</td>\n",
              "      <td>0.0</td>\n",
              "    </tr>\n",
              "    <tr>\n",
              "      <th>2022-04-29 09:35:00</th>\n",
              "      <td>122.190002</td>\n",
              "      <td>19.459999</td>\n",
              "      <td>208.850006</td>\n",
              "      <td>163.437103</td>\n",
              "      <td>144.904999</td>\n",
              "      <td>155.970001</td>\n",
              "      <td>285.154999</td>\n",
              "      <td>117.099899</td>\n",
              "      <td>311.390015</td>\n",
              "      <td>409.001892</td>\n",
              "      <td>...</td>\n",
              "      <td>0.0</td>\n",
              "      <td>0.0</td>\n",
              "      <td>0.0</td>\n",
              "      <td>0.0</td>\n",
              "      <td>0.0</td>\n",
              "      <td>0.0</td>\n",
              "      <td>0.0</td>\n",
              "      <td>0.0</td>\n",
              "      <td>0.0</td>\n",
              "      <td>0.0</td>\n",
              "    </tr>\n",
              "    <tr>\n",
              "      <th>2022-04-29 09:40:00</th>\n",
              "      <td>121.989998</td>\n",
              "      <td>19.301100</td>\n",
              "      <td>208.350006</td>\n",
              "      <td>162.630005</td>\n",
              "      <td>144.837601</td>\n",
              "      <td>155.770004</td>\n",
              "      <td>285.200012</td>\n",
              "      <td>116.720001</td>\n",
              "      <td>310.355011</td>\n",
              "      <td>408.170013</td>\n",
              "      <td>...</td>\n",
              "      <td>0.0</td>\n",
              "      <td>0.0</td>\n",
              "      <td>0.0</td>\n",
              "      <td>0.0</td>\n",
              "      <td>0.0</td>\n",
              "      <td>0.0</td>\n",
              "      <td>NaN</td>\n",
              "      <td>0.0</td>\n",
              "      <td>0.0</td>\n",
              "      <td>0.0</td>\n",
              "    </tr>\n",
              "    <tr>\n",
              "      <th>2022-04-29 09:45:00</th>\n",
              "      <td>122.504997</td>\n",
              "      <td>19.350000</td>\n",
              "      <td>208.167206</td>\n",
              "      <td>163.740005</td>\n",
              "      <td>140.889999</td>\n",
              "      <td>156.050003</td>\n",
              "      <td>288.820007</td>\n",
              "      <td>116.730003</td>\n",
              "      <td>309.880005</td>\n",
              "      <td>409.540009</td>\n",
              "      <td>...</td>\n",
              "      <td>0.0</td>\n",
              "      <td>0.0</td>\n",
              "      <td>0.0</td>\n",
              "      <td>0.0</td>\n",
              "      <td>0.0</td>\n",
              "      <td>0.0</td>\n",
              "      <td>0.0</td>\n",
              "      <td>0.0</td>\n",
              "      <td>0.0</td>\n",
              "      <td>0.0</td>\n",
              "    </tr>\n",
              "    <tr>\n",
              "      <th>2022-04-29 09:50:00</th>\n",
              "      <td>122.889999</td>\n",
              "      <td>19.360001</td>\n",
              "      <td>208.304993</td>\n",
              "      <td>164.244003</td>\n",
              "      <td>141.419998</td>\n",
              "      <td>155.789993</td>\n",
              "      <td>289.369995</td>\n",
              "      <td>117.190002</td>\n",
              "      <td>309.265015</td>\n",
              "      <td>410.570007</td>\n",
              "      <td>...</td>\n",
              "      <td>0.0</td>\n",
              "      <td>0.0</td>\n",
              "      <td>0.0</td>\n",
              "      <td>0.0</td>\n",
              "      <td>0.0</td>\n",
              "      <td>0.0</td>\n",
              "      <td>NaN</td>\n",
              "      <td>0.0</td>\n",
              "      <td>0.0</td>\n",
              "      <td>0.0</td>\n",
              "    </tr>\n",
              "  </tbody>\n",
              "</table>\n",
              "<p>5 rows × 542 columns</p>\n",
              "</div>\n",
              "      <button class=\"colab-df-convert\" onclick=\"convertToInteractive('df-d3d231ea-87cd-47ba-b607-3eb7ae3de05b')\"\n",
              "              title=\"Convert this dataframe to an interactive table.\"\n",
              "              style=\"display:none;\">\n",
              "        \n",
              "  <svg xmlns=\"http://www.w3.org/2000/svg\" height=\"24px\"viewBox=\"0 0 24 24\"\n",
              "       width=\"24px\">\n",
              "    <path d=\"M0 0h24v24H0V0z\" fill=\"none\"/>\n",
              "    <path d=\"M18.56 5.44l.94 2.06.94-2.06 2.06-.94-2.06-.94-.94-2.06-.94 2.06-2.06.94zm-11 1L8.5 8.5l.94-2.06 2.06-.94-2.06-.94L8.5 2.5l-.94 2.06-2.06.94zm10 10l.94 2.06.94-2.06 2.06-.94-2.06-.94-.94-2.06-.94 2.06-2.06.94z\"/><path d=\"M17.41 7.96l-1.37-1.37c-.4-.4-.92-.59-1.43-.59-.52 0-1.04.2-1.43.59L10.3 9.45l-7.72 7.72c-.78.78-.78 2.05 0 2.83L4 21.41c.39.39.9.59 1.41.59.51 0 1.02-.2 1.41-.59l7.78-7.78 2.81-2.81c.8-.78.8-2.07 0-2.86zM5.41 20L4 18.59l7.72-7.72 1.47 1.35L5.41 20z\"/>\n",
              "  </svg>\n",
              "      </button>\n",
              "      \n",
              "  <style>\n",
              "    .colab-df-container {\n",
              "      display:flex;\n",
              "      flex-wrap:wrap;\n",
              "      gap: 12px;\n",
              "    }\n",
              "\n",
              "    .colab-df-convert {\n",
              "      background-color: #E8F0FE;\n",
              "      border: none;\n",
              "      border-radius: 50%;\n",
              "      cursor: pointer;\n",
              "      display: none;\n",
              "      fill: #1967D2;\n",
              "      height: 32px;\n",
              "      padding: 0 0 0 0;\n",
              "      width: 32px;\n",
              "    }\n",
              "\n",
              "    .colab-df-convert:hover {\n",
              "      background-color: #E2EBFA;\n",
              "      box-shadow: 0px 1px 2px rgba(60, 64, 67, 0.3), 0px 1px 3px 1px rgba(60, 64, 67, 0.15);\n",
              "      fill: #174EA6;\n",
              "    }\n",
              "\n",
              "    [theme=dark] .colab-df-convert {\n",
              "      background-color: #3B4455;\n",
              "      fill: #D2E3FC;\n",
              "    }\n",
              "\n",
              "    [theme=dark] .colab-df-convert:hover {\n",
              "      background-color: #434B5C;\n",
              "      box-shadow: 0px 1px 3px 1px rgba(0, 0, 0, 0.15);\n",
              "      filter: drop-shadow(0px 1px 2px rgba(0, 0, 0, 0.3));\n",
              "      fill: #FFFFFF;\n",
              "    }\n",
              "  </style>\n",
              "\n",
              "      <script>\n",
              "        const buttonEl =\n",
              "          document.querySelector('#df-d3d231ea-87cd-47ba-b607-3eb7ae3de05b button.colab-df-convert');\n",
              "        buttonEl.style.display =\n",
              "          google.colab.kernel.accessAllowed ? 'block' : 'none';\n",
              "\n",
              "        async function convertToInteractive(key) {\n",
              "          const element = document.querySelector('#df-d3d231ea-87cd-47ba-b607-3eb7ae3de05b');\n",
              "          const dataTable =\n",
              "            await google.colab.kernel.invokeFunction('convertToInteractive',\n",
              "                                                     [key], {});\n",
              "          if (!dataTable) return;\n",
              "\n",
              "          const docLinkHtml = 'Like what you see? Visit the ' +\n",
              "            '<a target=\"_blank\" href=https://colab.research.google.com/notebooks/data_table.ipynb>data table notebook</a>'\n",
              "            + ' to learn more about interactive tables.';\n",
              "          element.innerHTML = '';\n",
              "          dataTable['output_type'] = 'display_data';\n",
              "          await google.colab.output.renderOutput(dataTable, element);\n",
              "          const docLink = document.createElement('div');\n",
              "          docLink.innerHTML = docLinkHtml;\n",
              "          element.appendChild(docLink);\n",
              "        }\n",
              "      </script>\n",
              "    </div>\n",
              "  </div>\n",
              "  "
            ]
          },
          "metadata": {},
          "execution_count": 554
        }
      ]
    },
    {
      "cell_type": "code",
      "source": [
        "# Combine All values\n",
        "all_vals =[pivoted[t+'Value'] for t in labels]\n",
        "portfolio_val = pd.concat(all_vals, axis=1)\n",
        "portfolio_val.columns = labels"
      ],
      "metadata": {
        "id": "_Av6YbuNvhLF"
      },
      "execution_count": null,
      "outputs": []
    },
    {
      "cell_type": "code",
      "source": [
        "# Calculate Cumulative Return and Cumulative Return %\n",
        "portfolio_val['Portfolio Total'] = round(portfolio_val.sum(axis=1))\n",
        "portfolio_val['Cum Return'] = portfolio_val['Portfolio Total']/portfolio_val.iloc[0]['Portfolio Total']"
      ],
      "metadata": {
        "id": "aoiZU8QYSPl8"
      },
      "execution_count": null,
      "outputs": []
    },
    {
      "cell_type": "code",
      "source": [
        "portfolio_val['Cum Return %'] = (portfolio_val['Cum Return'] - 1) * 100\n",
        "SPY['Cum Return %'] = (SPY['Cum Return'] - 1) * 100\n",
        "SPY.tail()"
      ],
      "metadata": {
        "colab": {
          "base_uri": "https://localhost:8080/",
          "height": 206
        },
        "id": "VuXVn7NQSPjM",
        "outputId": "b3e6b314-6e52-402a-c155-dd8719815416"
      },
      "execution_count": null,
      "outputs": [
        {
          "output_type": "execute_result",
          "data": {
            "text/plain": [
              "   symbol                date       close    volume        open        high  \\\n",
              "74    SPY 2022-04-29 15:40:00  414.079987   2830363  414.614990  415.149994   \n",
              "75    SPY 2022-04-29 15:45:00  412.839996   5219374  414.059998  414.269989   \n",
              "76    SPY 2022-04-29 15:50:00  411.869995   8360271  412.839996  412.839996   \n",
              "77    SPY 2022-04-29 15:55:00  412.019989  13940810  411.859985  412.450012   \n",
              "78    SPY 2022-04-29 16:00:00  412.000000         0  412.000000  412.000000   \n",
              "\n",
              "           low  Cum Return  SPY Total  Cum Return %  \n",
              "74  414.010010    0.975584    19512.0     -2.441554  \n",
              "75  412.760010    0.972663    19453.0     -2.733700  \n",
              "76  411.510010    0.970378    19408.0     -2.962235  \n",
              "77  411.209991    0.970731    19415.0     -2.926896  \n",
              "78  412.000000    0.970684    19414.0     -2.931605  "
            ],
            "text/html": [
              "\n",
              "  <div id=\"df-b3ff0e05-dde3-4f7f-aaaf-b3e1d30bf4e4\">\n",
              "    <div class=\"colab-df-container\">\n",
              "      <div>\n",
              "<style scoped>\n",
              "    .dataframe tbody tr th:only-of-type {\n",
              "        vertical-align: middle;\n",
              "    }\n",
              "\n",
              "    .dataframe tbody tr th {\n",
              "        vertical-align: top;\n",
              "    }\n",
              "\n",
              "    .dataframe thead th {\n",
              "        text-align: right;\n",
              "    }\n",
              "</style>\n",
              "<table border=\"1\" class=\"dataframe\">\n",
              "  <thead>\n",
              "    <tr style=\"text-align: right;\">\n",
              "      <th></th>\n",
              "      <th>symbol</th>\n",
              "      <th>date</th>\n",
              "      <th>close</th>\n",
              "      <th>volume</th>\n",
              "      <th>open</th>\n",
              "      <th>high</th>\n",
              "      <th>low</th>\n",
              "      <th>Cum Return</th>\n",
              "      <th>SPY Total</th>\n",
              "      <th>Cum Return %</th>\n",
              "    </tr>\n",
              "  </thead>\n",
              "  <tbody>\n",
              "    <tr>\n",
              "      <th>74</th>\n",
              "      <td>SPY</td>\n",
              "      <td>2022-04-29 15:40:00</td>\n",
              "      <td>414.079987</td>\n",
              "      <td>2830363</td>\n",
              "      <td>414.614990</td>\n",
              "      <td>415.149994</td>\n",
              "      <td>414.010010</td>\n",
              "      <td>0.975584</td>\n",
              "      <td>19512.0</td>\n",
              "      <td>-2.441554</td>\n",
              "    </tr>\n",
              "    <tr>\n",
              "      <th>75</th>\n",
              "      <td>SPY</td>\n",
              "      <td>2022-04-29 15:45:00</td>\n",
              "      <td>412.839996</td>\n",
              "      <td>5219374</td>\n",
              "      <td>414.059998</td>\n",
              "      <td>414.269989</td>\n",
              "      <td>412.760010</td>\n",
              "      <td>0.972663</td>\n",
              "      <td>19453.0</td>\n",
              "      <td>-2.733700</td>\n",
              "    </tr>\n",
              "    <tr>\n",
              "      <th>76</th>\n",
              "      <td>SPY</td>\n",
              "      <td>2022-04-29 15:50:00</td>\n",
              "      <td>411.869995</td>\n",
              "      <td>8360271</td>\n",
              "      <td>412.839996</td>\n",
              "      <td>412.839996</td>\n",
              "      <td>411.510010</td>\n",
              "      <td>0.970378</td>\n",
              "      <td>19408.0</td>\n",
              "      <td>-2.962235</td>\n",
              "    </tr>\n",
              "    <tr>\n",
              "      <th>77</th>\n",
              "      <td>SPY</td>\n",
              "      <td>2022-04-29 15:55:00</td>\n",
              "      <td>412.019989</td>\n",
              "      <td>13940810</td>\n",
              "      <td>411.859985</td>\n",
              "      <td>412.450012</td>\n",
              "      <td>411.209991</td>\n",
              "      <td>0.970731</td>\n",
              "      <td>19415.0</td>\n",
              "      <td>-2.926896</td>\n",
              "    </tr>\n",
              "    <tr>\n",
              "      <th>78</th>\n",
              "      <td>SPY</td>\n",
              "      <td>2022-04-29 16:00:00</td>\n",
              "      <td>412.000000</td>\n",
              "      <td>0</td>\n",
              "      <td>412.000000</td>\n",
              "      <td>412.000000</td>\n",
              "      <td>412.000000</td>\n",
              "      <td>0.970684</td>\n",
              "      <td>19414.0</td>\n",
              "      <td>-2.931605</td>\n",
              "    </tr>\n",
              "  </tbody>\n",
              "</table>\n",
              "</div>\n",
              "      <button class=\"colab-df-convert\" onclick=\"convertToInteractive('df-b3ff0e05-dde3-4f7f-aaaf-b3e1d30bf4e4')\"\n",
              "              title=\"Convert this dataframe to an interactive table.\"\n",
              "              style=\"display:none;\">\n",
              "        \n",
              "  <svg xmlns=\"http://www.w3.org/2000/svg\" height=\"24px\"viewBox=\"0 0 24 24\"\n",
              "       width=\"24px\">\n",
              "    <path d=\"M0 0h24v24H0V0z\" fill=\"none\"/>\n",
              "    <path d=\"M18.56 5.44l.94 2.06.94-2.06 2.06-.94-2.06-.94-.94-2.06-.94 2.06-2.06.94zm-11 1L8.5 8.5l.94-2.06 2.06-.94-2.06-.94L8.5 2.5l-.94 2.06-2.06.94zm10 10l.94 2.06.94-2.06 2.06-.94-2.06-.94-.94-2.06-.94 2.06-2.06.94z\"/><path d=\"M17.41 7.96l-1.37-1.37c-.4-.4-.92-.59-1.43-.59-.52 0-1.04.2-1.43.59L10.3 9.45l-7.72 7.72c-.78.78-.78 2.05 0 2.83L4 21.41c.39.39.9.59 1.41.59.51 0 1.02-.2 1.41-.59l7.78-7.78 2.81-2.81c.8-.78.8-2.07 0-2.86zM5.41 20L4 18.59l7.72-7.72 1.47 1.35L5.41 20z\"/>\n",
              "  </svg>\n",
              "      </button>\n",
              "      \n",
              "  <style>\n",
              "    .colab-df-container {\n",
              "      display:flex;\n",
              "      flex-wrap:wrap;\n",
              "      gap: 12px;\n",
              "    }\n",
              "\n",
              "    .colab-df-convert {\n",
              "      background-color: #E8F0FE;\n",
              "      border: none;\n",
              "      border-radius: 50%;\n",
              "      cursor: pointer;\n",
              "      display: none;\n",
              "      fill: #1967D2;\n",
              "      height: 32px;\n",
              "      padding: 0 0 0 0;\n",
              "      width: 32px;\n",
              "    }\n",
              "\n",
              "    .colab-df-convert:hover {\n",
              "      background-color: #E2EBFA;\n",
              "      box-shadow: 0px 1px 2px rgba(60, 64, 67, 0.3), 0px 1px 3px 1px rgba(60, 64, 67, 0.15);\n",
              "      fill: #174EA6;\n",
              "    }\n",
              "\n",
              "    [theme=dark] .colab-df-convert {\n",
              "      background-color: #3B4455;\n",
              "      fill: #D2E3FC;\n",
              "    }\n",
              "\n",
              "    [theme=dark] .colab-df-convert:hover {\n",
              "      background-color: #434B5C;\n",
              "      box-shadow: 0px 1px 3px 1px rgba(0, 0, 0, 0.15);\n",
              "      filter: drop-shadow(0px 1px 2px rgba(0, 0, 0, 0.3));\n",
              "      fill: #FFFFFF;\n",
              "    }\n",
              "  </style>\n",
              "\n",
              "      <script>\n",
              "        const buttonEl =\n",
              "          document.querySelector('#df-b3ff0e05-dde3-4f7f-aaaf-b3e1d30bf4e4 button.colab-df-convert');\n",
              "        buttonEl.style.display =\n",
              "          google.colab.kernel.accessAllowed ? 'block' : 'none';\n",
              "\n",
              "        async function convertToInteractive(key) {\n",
              "          const element = document.querySelector('#df-b3ff0e05-dde3-4f7f-aaaf-b3e1d30bf4e4');\n",
              "          const dataTable =\n",
              "            await google.colab.kernel.invokeFunction('convertToInteractive',\n",
              "                                                     [key], {});\n",
              "          if (!dataTable) return;\n",
              "\n",
              "          const docLinkHtml = 'Like what you see? Visit the ' +\n",
              "            '<a target=\"_blank\" href=https://colab.research.google.com/notebooks/data_table.ipynb>data table notebook</a>'\n",
              "            + ' to learn more about interactive tables.';\n",
              "          element.innerHTML = '';\n",
              "          dataTable['output_type'] = 'display_data';\n",
              "          await google.colab.output.renderOutput(dataTable, element);\n",
              "          const docLink = document.createElement('div');\n",
              "          docLink.innerHTML = docLinkHtml;\n",
              "          element.appendChild(docLink);\n",
              "        }\n",
              "      </script>\n",
              "    </div>\n",
              "  </div>\n",
              "  "
            ]
          },
          "metadata": {},
          "execution_count": 557
        }
      ]
    },
    {
      "cell_type": "code",
      "source": [
        "SPY.reset_index()"
      ],
      "metadata": {
        "colab": {
          "base_uri": "https://localhost:8080/",
          "height": 423
        },
        "id": "YfETtm4yxODm",
        "outputId": "03e372d4-13e0-43da-bb1b-bf12f83f61b3"
      },
      "execution_count": null,
      "outputs": [
        {
          "output_type": "execute_result",
          "data": {
            "text/plain": [
              "    index symbol                date       close    volume        open  \\\n",
              "0       0    SPY 2022-04-29 09:30:00  424.442993   4306819  423.589996   \n",
              "1       1    SPY 2022-04-29 09:35:00  423.829987   1558077  424.450012   \n",
              "2       2    SPY 2022-04-29 09:40:00  422.859985   1220415  423.820007   \n",
              "3       3    SPY 2022-04-29 09:45:00  423.380005   1143666  422.869995   \n",
              "4       4    SPY 2022-04-29 09:50:00  423.555603   1054068  423.320007   \n",
              "..    ...    ...                 ...         ...       ...         ...   \n",
              "74     74    SPY 2022-04-29 15:40:00  414.079987   2830363  414.614990   \n",
              "75     75    SPY 2022-04-29 15:45:00  412.839996   5219374  414.059998   \n",
              "76     76    SPY 2022-04-29 15:50:00  411.869995   8360271  412.839996   \n",
              "77     77    SPY 2022-04-29 15:55:00  412.019989  13940810  411.859985   \n",
              "78     78    SPY 2022-04-29 16:00:00  412.000000         0  412.000000   \n",
              "\n",
              "          high         low  Cum Return  SPY Total  Cum Return %  \n",
              "0   424.670013  422.679993    1.000000    20000.0      0.000000  \n",
              "1   424.880005  423.309998    0.998556    19971.0     -0.144426  \n",
              "2   424.220001  422.690002    0.996270    19925.0     -0.372961  \n",
              "3   423.660004  422.575012    0.997496    19950.0     -0.250443  \n",
              "4   424.000000  422.929993    0.997909    19958.0     -0.209072  \n",
              "..         ...         ...         ...        ...           ...  \n",
              "74  415.149994  414.010010    0.975584    19512.0     -2.441554  \n",
              "75  414.269989  412.760010    0.972663    19453.0     -2.733700  \n",
              "76  412.839996  411.510010    0.970378    19408.0     -2.962235  \n",
              "77  412.450012  411.209991    0.970731    19415.0     -2.926896  \n",
              "78  412.000000  412.000000    0.970684    19414.0     -2.931605  \n",
              "\n",
              "[79 rows x 11 columns]"
            ],
            "text/html": [
              "\n",
              "  <div id=\"df-944174b8-cbb9-4a40-9e9a-0ed239f2102c\">\n",
              "    <div class=\"colab-df-container\">\n",
              "      <div>\n",
              "<style scoped>\n",
              "    .dataframe tbody tr th:only-of-type {\n",
              "        vertical-align: middle;\n",
              "    }\n",
              "\n",
              "    .dataframe tbody tr th {\n",
              "        vertical-align: top;\n",
              "    }\n",
              "\n",
              "    .dataframe thead th {\n",
              "        text-align: right;\n",
              "    }\n",
              "</style>\n",
              "<table border=\"1\" class=\"dataframe\">\n",
              "  <thead>\n",
              "    <tr style=\"text-align: right;\">\n",
              "      <th></th>\n",
              "      <th>index</th>\n",
              "      <th>symbol</th>\n",
              "      <th>date</th>\n",
              "      <th>close</th>\n",
              "      <th>volume</th>\n",
              "      <th>open</th>\n",
              "      <th>high</th>\n",
              "      <th>low</th>\n",
              "      <th>Cum Return</th>\n",
              "      <th>SPY Total</th>\n",
              "      <th>Cum Return %</th>\n",
              "    </tr>\n",
              "  </thead>\n",
              "  <tbody>\n",
              "    <tr>\n",
              "      <th>0</th>\n",
              "      <td>0</td>\n",
              "      <td>SPY</td>\n",
              "      <td>2022-04-29 09:30:00</td>\n",
              "      <td>424.442993</td>\n",
              "      <td>4306819</td>\n",
              "      <td>423.589996</td>\n",
              "      <td>424.670013</td>\n",
              "      <td>422.679993</td>\n",
              "      <td>1.000000</td>\n",
              "      <td>20000.0</td>\n",
              "      <td>0.000000</td>\n",
              "    </tr>\n",
              "    <tr>\n",
              "      <th>1</th>\n",
              "      <td>1</td>\n",
              "      <td>SPY</td>\n",
              "      <td>2022-04-29 09:35:00</td>\n",
              "      <td>423.829987</td>\n",
              "      <td>1558077</td>\n",
              "      <td>424.450012</td>\n",
              "      <td>424.880005</td>\n",
              "      <td>423.309998</td>\n",
              "      <td>0.998556</td>\n",
              "      <td>19971.0</td>\n",
              "      <td>-0.144426</td>\n",
              "    </tr>\n",
              "    <tr>\n",
              "      <th>2</th>\n",
              "      <td>2</td>\n",
              "      <td>SPY</td>\n",
              "      <td>2022-04-29 09:40:00</td>\n",
              "      <td>422.859985</td>\n",
              "      <td>1220415</td>\n",
              "      <td>423.820007</td>\n",
              "      <td>424.220001</td>\n",
              "      <td>422.690002</td>\n",
              "      <td>0.996270</td>\n",
              "      <td>19925.0</td>\n",
              "      <td>-0.372961</td>\n",
              "    </tr>\n",
              "    <tr>\n",
              "      <th>3</th>\n",
              "      <td>3</td>\n",
              "      <td>SPY</td>\n",
              "      <td>2022-04-29 09:45:00</td>\n",
              "      <td>423.380005</td>\n",
              "      <td>1143666</td>\n",
              "      <td>422.869995</td>\n",
              "      <td>423.660004</td>\n",
              "      <td>422.575012</td>\n",
              "      <td>0.997496</td>\n",
              "      <td>19950.0</td>\n",
              "      <td>-0.250443</td>\n",
              "    </tr>\n",
              "    <tr>\n",
              "      <th>4</th>\n",
              "      <td>4</td>\n",
              "      <td>SPY</td>\n",
              "      <td>2022-04-29 09:50:00</td>\n",
              "      <td>423.555603</td>\n",
              "      <td>1054068</td>\n",
              "      <td>423.320007</td>\n",
              "      <td>424.000000</td>\n",
              "      <td>422.929993</td>\n",
              "      <td>0.997909</td>\n",
              "      <td>19958.0</td>\n",
              "      <td>-0.209072</td>\n",
              "    </tr>\n",
              "    <tr>\n",
              "      <th>...</th>\n",
              "      <td>...</td>\n",
              "      <td>...</td>\n",
              "      <td>...</td>\n",
              "      <td>...</td>\n",
              "      <td>...</td>\n",
              "      <td>...</td>\n",
              "      <td>...</td>\n",
              "      <td>...</td>\n",
              "      <td>...</td>\n",
              "      <td>...</td>\n",
              "      <td>...</td>\n",
              "    </tr>\n",
              "    <tr>\n",
              "      <th>74</th>\n",
              "      <td>74</td>\n",
              "      <td>SPY</td>\n",
              "      <td>2022-04-29 15:40:00</td>\n",
              "      <td>414.079987</td>\n",
              "      <td>2830363</td>\n",
              "      <td>414.614990</td>\n",
              "      <td>415.149994</td>\n",
              "      <td>414.010010</td>\n",
              "      <td>0.975584</td>\n",
              "      <td>19512.0</td>\n",
              "      <td>-2.441554</td>\n",
              "    </tr>\n",
              "    <tr>\n",
              "      <th>75</th>\n",
              "      <td>75</td>\n",
              "      <td>SPY</td>\n",
              "      <td>2022-04-29 15:45:00</td>\n",
              "      <td>412.839996</td>\n",
              "      <td>5219374</td>\n",
              "      <td>414.059998</td>\n",
              "      <td>414.269989</td>\n",
              "      <td>412.760010</td>\n",
              "      <td>0.972663</td>\n",
              "      <td>19453.0</td>\n",
              "      <td>-2.733700</td>\n",
              "    </tr>\n",
              "    <tr>\n",
              "      <th>76</th>\n",
              "      <td>76</td>\n",
              "      <td>SPY</td>\n",
              "      <td>2022-04-29 15:50:00</td>\n",
              "      <td>411.869995</td>\n",
              "      <td>8360271</td>\n",
              "      <td>412.839996</td>\n",
              "      <td>412.839996</td>\n",
              "      <td>411.510010</td>\n",
              "      <td>0.970378</td>\n",
              "      <td>19408.0</td>\n",
              "      <td>-2.962235</td>\n",
              "    </tr>\n",
              "    <tr>\n",
              "      <th>77</th>\n",
              "      <td>77</td>\n",
              "      <td>SPY</td>\n",
              "      <td>2022-04-29 15:55:00</td>\n",
              "      <td>412.019989</td>\n",
              "      <td>13940810</td>\n",
              "      <td>411.859985</td>\n",
              "      <td>412.450012</td>\n",
              "      <td>411.209991</td>\n",
              "      <td>0.970731</td>\n",
              "      <td>19415.0</td>\n",
              "      <td>-2.926896</td>\n",
              "    </tr>\n",
              "    <tr>\n",
              "      <th>78</th>\n",
              "      <td>78</td>\n",
              "      <td>SPY</td>\n",
              "      <td>2022-04-29 16:00:00</td>\n",
              "      <td>412.000000</td>\n",
              "      <td>0</td>\n",
              "      <td>412.000000</td>\n",
              "      <td>412.000000</td>\n",
              "      <td>412.000000</td>\n",
              "      <td>0.970684</td>\n",
              "      <td>19414.0</td>\n",
              "      <td>-2.931605</td>\n",
              "    </tr>\n",
              "  </tbody>\n",
              "</table>\n",
              "<p>79 rows × 11 columns</p>\n",
              "</div>\n",
              "      <button class=\"colab-df-convert\" onclick=\"convertToInteractive('df-944174b8-cbb9-4a40-9e9a-0ed239f2102c')\"\n",
              "              title=\"Convert this dataframe to an interactive table.\"\n",
              "              style=\"display:none;\">\n",
              "        \n",
              "  <svg xmlns=\"http://www.w3.org/2000/svg\" height=\"24px\"viewBox=\"0 0 24 24\"\n",
              "       width=\"24px\">\n",
              "    <path d=\"M0 0h24v24H0V0z\" fill=\"none\"/>\n",
              "    <path d=\"M18.56 5.44l.94 2.06.94-2.06 2.06-.94-2.06-.94-.94-2.06-.94 2.06-2.06.94zm-11 1L8.5 8.5l.94-2.06 2.06-.94-2.06-.94L8.5 2.5l-.94 2.06-2.06.94zm10 10l.94 2.06.94-2.06 2.06-.94-2.06-.94-.94-2.06-.94 2.06-2.06.94z\"/><path d=\"M17.41 7.96l-1.37-1.37c-.4-.4-.92-.59-1.43-.59-.52 0-1.04.2-1.43.59L10.3 9.45l-7.72 7.72c-.78.78-.78 2.05 0 2.83L4 21.41c.39.39.9.59 1.41.59.51 0 1.02-.2 1.41-.59l7.78-7.78 2.81-2.81c.8-.78.8-2.07 0-2.86zM5.41 20L4 18.59l7.72-7.72 1.47 1.35L5.41 20z\"/>\n",
              "  </svg>\n",
              "      </button>\n",
              "      \n",
              "  <style>\n",
              "    .colab-df-container {\n",
              "      display:flex;\n",
              "      flex-wrap:wrap;\n",
              "      gap: 12px;\n",
              "    }\n",
              "\n",
              "    .colab-df-convert {\n",
              "      background-color: #E8F0FE;\n",
              "      border: none;\n",
              "      border-radius: 50%;\n",
              "      cursor: pointer;\n",
              "      display: none;\n",
              "      fill: #1967D2;\n",
              "      height: 32px;\n",
              "      padding: 0 0 0 0;\n",
              "      width: 32px;\n",
              "    }\n",
              "\n",
              "    .colab-df-convert:hover {\n",
              "      background-color: #E2EBFA;\n",
              "      box-shadow: 0px 1px 2px rgba(60, 64, 67, 0.3), 0px 1px 3px 1px rgba(60, 64, 67, 0.15);\n",
              "      fill: #174EA6;\n",
              "    }\n",
              "\n",
              "    [theme=dark] .colab-df-convert {\n",
              "      background-color: #3B4455;\n",
              "      fill: #D2E3FC;\n",
              "    }\n",
              "\n",
              "    [theme=dark] .colab-df-convert:hover {\n",
              "      background-color: #434B5C;\n",
              "      box-shadow: 0px 1px 3px 1px rgba(0, 0, 0, 0.15);\n",
              "      filter: drop-shadow(0px 1px 2px rgba(0, 0, 0, 0.3));\n",
              "      fill: #FFFFFF;\n",
              "    }\n",
              "  </style>\n",
              "\n",
              "      <script>\n",
              "        const buttonEl =\n",
              "          document.querySelector('#df-944174b8-cbb9-4a40-9e9a-0ed239f2102c button.colab-df-convert');\n",
              "        buttonEl.style.display =\n",
              "          google.colab.kernel.accessAllowed ? 'block' : 'none';\n",
              "\n",
              "        async function convertToInteractive(key) {\n",
              "          const element = document.querySelector('#df-944174b8-cbb9-4a40-9e9a-0ed239f2102c');\n",
              "          const dataTable =\n",
              "            await google.colab.kernel.invokeFunction('convertToInteractive',\n",
              "                                                     [key], {});\n",
              "          if (!dataTable) return;\n",
              "\n",
              "          const docLinkHtml = 'Like what you see? Visit the ' +\n",
              "            '<a target=\"_blank\" href=https://colab.research.google.com/notebooks/data_table.ipynb>data table notebook</a>'\n",
              "            + ' to learn more about interactive tables.';\n",
              "          element.innerHTML = '';\n",
              "          dataTable['output_type'] = 'display_data';\n",
              "          await google.colab.output.renderOutput(dataTable, element);\n",
              "          const docLink = document.createElement('div');\n",
              "          docLink.innerHTML = docLinkHtml;\n",
              "          element.appendChild(docLink);\n",
              "        }\n",
              "      </script>\n",
              "    </div>\n",
              "  </div>\n",
              "  "
            ]
          },
          "metadata": {},
          "execution_count": 558
        }
      ]
    },
    {
      "cell_type": "code",
      "source": [
        "# Visualize Portfolio Value and Compare it to SPY benchmark\n",
        "import plotly.graph_objects as go\n",
        "fig = go.Figure()\n",
        "fig.add_trace(go.Scatter(x=portfolio_val.index, y=portfolio_val['Portfolio Total'], name='Portfolio Total'))\n",
        "fig.add_trace(go.Scatter(x=SPY.date, y=SPY['SPY Total'],name='SPY Total'))\n",
        "fig.update_layout(title=\"Portfolio Value\")"
      ],
      "metadata": {
        "colab": {
          "base_uri": "https://localhost:8080/",
          "height": 542
        },
        "id": "oUyF9bTSSPgc",
        "outputId": "f9d5a2e9-2d33-44ef-ec03-51446d911550"
      },
      "execution_count": null,
      "outputs": [
        {
          "output_type": "display_data",
          "data": {
            "text/html": [
              "<html>\n",
              "<head><meta charset=\"utf-8\" /></head>\n",
              "<body>\n",
              "    <div>            <script src=\"https://cdnjs.cloudflare.com/ajax/libs/mathjax/2.7.5/MathJax.js?config=TeX-AMS-MML_SVG\"></script><script type=\"text/javascript\">if (window.MathJax) {MathJax.Hub.Config({SVG: {font: \"STIX-Web\"}});}</script>                <script type=\"text/javascript\">window.PlotlyConfig = {MathJaxConfig: 'local'};</script>\n",
              "        <script src=\"https://cdn.plot.ly/plotly-2.8.3.min.js\"></script>                <div id=\"68f9e761-1f38-4533-bb6b-63bec13c84ed\" class=\"plotly-graph-div\" style=\"height:525px; width:100%;\"></div>            <script type=\"text/javascript\">                                    window.PLOTLYENV=window.PLOTLYENV || {};                                    if (document.getElementById(\"68f9e761-1f38-4533-bb6b-63bec13c84ed\")) {                    Plotly.newPlot(                        \"68f9e761-1f38-4533-bb6b-63bec13c84ed\",                        [{\"name\":\"Portfolio Total\",\"x\":[\"2022-04-29T09:30:00\",\"2022-04-29T09:35:00\",\"2022-04-29T09:40:00\",\"2022-04-29T09:45:00\",\"2022-04-29T09:50:00\",\"2022-04-29T09:55:00\",\"2022-04-29T10:00:00\",\"2022-04-29T10:05:00\",\"2022-04-29T10:10:00\",\"2022-04-29T10:15:00\",\"2022-04-29T10:20:00\",\"2022-04-29T10:25:00\",\"2022-04-29T10:30:00\",\"2022-04-29T10:35:00\",\"2022-04-29T10:40:00\",\"2022-04-29T10:45:00\",\"2022-04-29T10:50:00\",\"2022-04-29T10:55:00\",\"2022-04-29T11:00:00\",\"2022-04-29T11:05:00\",\"2022-04-29T11:10:00\",\"2022-04-29T11:15:00\",\"2022-04-29T11:20:00\",\"2022-04-29T11:25:00\",\"2022-04-29T11:30:00\",\"2022-04-29T11:35:00\",\"2022-04-29T11:40:00\",\"2022-04-29T11:45:00\",\"2022-04-29T11:50:00\",\"2022-04-29T11:55:00\",\"2022-04-29T12:00:00\",\"2022-04-29T12:05:00\",\"2022-04-29T12:10:00\",\"2022-04-29T12:15:00\",\"2022-04-29T12:20:00\",\"2022-04-29T12:25:00\",\"2022-04-29T12:30:00\",\"2022-04-29T12:35:00\",\"2022-04-29T12:40:00\",\"2022-04-29T12:45:00\",\"2022-04-29T12:50:00\",\"2022-04-29T12:55:00\",\"2022-04-29T13:00:00\",\"2022-04-29T13:05:00\",\"2022-04-29T13:10:00\",\"2022-04-29T13:15:00\",\"2022-04-29T13:20:00\",\"2022-04-29T13:25:00\",\"2022-04-29T13:30:00\",\"2022-04-29T13:35:00\",\"2022-04-29T13:40:00\",\"2022-04-29T13:45:00\",\"2022-04-29T13:50:00\",\"2022-04-29T13:55:00\",\"2022-04-29T14:00:00\",\"2022-04-29T14:05:00\",\"2022-04-29T14:10:00\",\"2022-04-29T14:15:00\",\"2022-04-29T14:20:00\",\"2022-04-29T14:25:00\",\"2022-04-29T14:30:00\",\"2022-04-29T14:35:00\",\"2022-04-29T14:40:00\",\"2022-04-29T14:45:00\",\"2022-04-29T14:50:00\",\"2022-04-29T14:55:00\",\"2022-04-29T15:00:00\",\"2022-04-29T15:05:00\",\"2022-04-29T15:10:00\",\"2022-04-29T15:15:00\",\"2022-04-29T15:20:00\",\"2022-04-29T15:25:00\",\"2022-04-29T15:30:00\",\"2022-04-29T15:35:00\",\"2022-04-29T15:40:00\",\"2022-04-29T15:45:00\",\"2022-04-29T15:50:00\",\"2022-04-29T15:55:00\",\"2022-04-29T16:00:00\"],\"y\":[20000.0,20151.0,20267.0,20284.0,20392.0,20506.0,20545.0,20515.0,20591.0,20454.0,20257.0,20295.0,20259.0,20275.0,20289.0,20266.0,20306.0,20284.0,20258.0,20278.0,20308.0,20333.0,20344.0,20379.0,20388.0,20349.0,20322.0,20322.0,20384.0,20395.0,20344.0,20319.0,20348.0,20295.0,20318.0,20322.0,20295.0,20299.0,20308.0,20292.0,20322.0,20379.0,20392.0,20363.0,20357.0,20411.0,20413.0,20379.0,20387.0,20471.0,20409.0,20395.0,20368.0,20382.0,20380.0,20371.0,20360.0,20365.0,20368.0,20346.0,20335.0,20330.0,20401.0,20382.0,20355.0,20363.0,20333.0,20330.0,20320.0,20360.0,20358.0,20363.0,20441.0,20509.0,20517.0,20447.0,20420.0,20441.0,20441.0],\"type\":\"scatter\"},{\"name\":\"SPY Total\",\"x\":[\"2022-04-29T09:30:00\",\"2022-04-29T09:35:00\",\"2022-04-29T09:40:00\",\"2022-04-29T09:45:00\",\"2022-04-29T09:50:00\",\"2022-04-29T09:55:00\",\"2022-04-29T10:00:00\",\"2022-04-29T10:05:00\",\"2022-04-29T10:10:00\",\"2022-04-29T10:15:00\",\"2022-04-29T10:20:00\",\"2022-04-29T10:25:00\",\"2022-04-29T10:30:00\",\"2022-04-29T10:35:00\",\"2022-04-29T10:40:00\",\"2022-04-29T10:45:00\",\"2022-04-29T10:50:00\",\"2022-04-29T10:55:00\",\"2022-04-29T11:00:00\",\"2022-04-29T11:05:00\",\"2022-04-29T11:10:00\",\"2022-04-29T11:15:00\",\"2022-04-29T11:20:00\",\"2022-04-29T11:25:00\",\"2022-04-29T11:30:00\",\"2022-04-29T11:35:00\",\"2022-04-29T11:40:00\",\"2022-04-29T11:45:00\",\"2022-04-29T11:50:00\",\"2022-04-29T11:55:00\",\"2022-04-29T12:00:00\",\"2022-04-29T12:05:00\",\"2022-04-29T12:10:00\",\"2022-04-29T12:15:00\",\"2022-04-29T12:20:00\",\"2022-04-29T12:25:00\",\"2022-04-29T12:30:00\",\"2022-04-29T12:35:00\",\"2022-04-29T12:40:00\",\"2022-04-29T12:45:00\",\"2022-04-29T12:50:00\",\"2022-04-29T12:55:00\",\"2022-04-29T13:00:00\",\"2022-04-29T13:05:00\",\"2022-04-29T13:10:00\",\"2022-04-29T13:15:00\",\"2022-04-29T13:20:00\",\"2022-04-29T13:25:00\",\"2022-04-29T13:30:00\",\"2022-04-29T13:35:00\",\"2022-04-29T13:40:00\",\"2022-04-29T13:45:00\",\"2022-04-29T13:50:00\",\"2022-04-29T13:55:00\",\"2022-04-29T14:00:00\",\"2022-04-29T14:05:00\",\"2022-04-29T14:10:00\",\"2022-04-29T14:15:00\",\"2022-04-29T14:20:00\",\"2022-04-29T14:25:00\",\"2022-04-29T14:30:00\",\"2022-04-29T14:35:00\",\"2022-04-29T14:40:00\",\"2022-04-29T14:45:00\",\"2022-04-29T14:50:00\",\"2022-04-29T14:55:00\",\"2022-04-29T15:00:00\",\"2022-04-29T15:05:00\",\"2022-04-29T15:10:00\",\"2022-04-29T15:15:00\",\"2022-04-29T15:20:00\",\"2022-04-29T15:25:00\",\"2022-04-29T15:30:00\",\"2022-04-29T15:35:00\",\"2022-04-29T15:40:00\",\"2022-04-29T15:45:00\",\"2022-04-29T15:50:00\",\"2022-04-29T15:55:00\",\"2022-04-29T16:00:00\"],\"y\":[20000.0,19971.0,19925.0,19950.0,19958.0,20060.0,20022.0,20004.0,19992.0,19903.0,19882.0,19846.0,19839.0,19840.0,19829.0,19804.0,19812.0,19826.0,19814.0,19806.0,19805.0,19816.0,19828.0,19835.0,19854.0,19836.0,19864.0,19857.0,19858.0,19812.0,19753.0,19743.0,19755.0,19740.0,19759.0,19736.0,19728.0,19730.0,19701.0,19701.0,19662.0,19681.0,19716.0,19680.0,19699.0,19711.0,19739.0,19727.0,19743.0,19748.0,19709.0,19689.0,19685.0,19680.0,19660.0,19650.0,19658.0,19664.0,19634.0,19637.0,19629.0,19599.0,19614.0,19571.0,19557.0,19586.0,19578.0,19535.0,19513.0,19560.0,19550.0,19511.0,19535.0,19538.0,19512.0,19453.0,19408.0,19415.0,19414.0],\"type\":\"scatter\"}],                        {\"template\":{\"data\":{\"bar\":[{\"error_x\":{\"color\":\"#2a3f5f\"},\"error_y\":{\"color\":\"#2a3f5f\"},\"marker\":{\"line\":{\"color\":\"#E5ECF6\",\"width\":0.5},\"pattern\":{\"fillmode\":\"overlay\",\"size\":10,\"solidity\":0.2}},\"type\":\"bar\"}],\"barpolar\":[{\"marker\":{\"line\":{\"color\":\"#E5ECF6\",\"width\":0.5},\"pattern\":{\"fillmode\":\"overlay\",\"size\":10,\"solidity\":0.2}},\"type\":\"barpolar\"}],\"carpet\":[{\"aaxis\":{\"endlinecolor\":\"#2a3f5f\",\"gridcolor\":\"white\",\"linecolor\":\"white\",\"minorgridcolor\":\"white\",\"startlinecolor\":\"#2a3f5f\"},\"baxis\":{\"endlinecolor\":\"#2a3f5f\",\"gridcolor\":\"white\",\"linecolor\":\"white\",\"minorgridcolor\":\"white\",\"startlinecolor\":\"#2a3f5f\"},\"type\":\"carpet\"}],\"choropleth\":[{\"colorbar\":{\"outlinewidth\":0,\"ticks\":\"\"},\"type\":\"choropleth\"}],\"contour\":[{\"colorbar\":{\"outlinewidth\":0,\"ticks\":\"\"},\"colorscale\":[[0.0,\"#0d0887\"],[0.1111111111111111,\"#46039f\"],[0.2222222222222222,\"#7201a8\"],[0.3333333333333333,\"#9c179e\"],[0.4444444444444444,\"#bd3786\"],[0.5555555555555556,\"#d8576b\"],[0.6666666666666666,\"#ed7953\"],[0.7777777777777778,\"#fb9f3a\"],[0.8888888888888888,\"#fdca26\"],[1.0,\"#f0f921\"]],\"type\":\"contour\"}],\"contourcarpet\":[{\"colorbar\":{\"outlinewidth\":0,\"ticks\":\"\"},\"type\":\"contourcarpet\"}],\"heatmap\":[{\"colorbar\":{\"outlinewidth\":0,\"ticks\":\"\"},\"colorscale\":[[0.0,\"#0d0887\"],[0.1111111111111111,\"#46039f\"],[0.2222222222222222,\"#7201a8\"],[0.3333333333333333,\"#9c179e\"],[0.4444444444444444,\"#bd3786\"],[0.5555555555555556,\"#d8576b\"],[0.6666666666666666,\"#ed7953\"],[0.7777777777777778,\"#fb9f3a\"],[0.8888888888888888,\"#fdca26\"],[1.0,\"#f0f921\"]],\"type\":\"heatmap\"}],\"heatmapgl\":[{\"colorbar\":{\"outlinewidth\":0,\"ticks\":\"\"},\"colorscale\":[[0.0,\"#0d0887\"],[0.1111111111111111,\"#46039f\"],[0.2222222222222222,\"#7201a8\"],[0.3333333333333333,\"#9c179e\"],[0.4444444444444444,\"#bd3786\"],[0.5555555555555556,\"#d8576b\"],[0.6666666666666666,\"#ed7953\"],[0.7777777777777778,\"#fb9f3a\"],[0.8888888888888888,\"#fdca26\"],[1.0,\"#f0f921\"]],\"type\":\"heatmapgl\"}],\"histogram\":[{\"marker\":{\"pattern\":{\"fillmode\":\"overlay\",\"size\":10,\"solidity\":0.2}},\"type\":\"histogram\"}],\"histogram2d\":[{\"colorbar\":{\"outlinewidth\":0,\"ticks\":\"\"},\"colorscale\":[[0.0,\"#0d0887\"],[0.1111111111111111,\"#46039f\"],[0.2222222222222222,\"#7201a8\"],[0.3333333333333333,\"#9c179e\"],[0.4444444444444444,\"#bd3786\"],[0.5555555555555556,\"#d8576b\"],[0.6666666666666666,\"#ed7953\"],[0.7777777777777778,\"#fb9f3a\"],[0.8888888888888888,\"#fdca26\"],[1.0,\"#f0f921\"]],\"type\":\"histogram2d\"}],\"histogram2dcontour\":[{\"colorbar\":{\"outlinewidth\":0,\"ticks\":\"\"},\"colorscale\":[[0.0,\"#0d0887\"],[0.1111111111111111,\"#46039f\"],[0.2222222222222222,\"#7201a8\"],[0.3333333333333333,\"#9c179e\"],[0.4444444444444444,\"#bd3786\"],[0.5555555555555556,\"#d8576b\"],[0.6666666666666666,\"#ed7953\"],[0.7777777777777778,\"#fb9f3a\"],[0.8888888888888888,\"#fdca26\"],[1.0,\"#f0f921\"]],\"type\":\"histogram2dcontour\"}],\"mesh3d\":[{\"colorbar\":{\"outlinewidth\":0,\"ticks\":\"\"},\"type\":\"mesh3d\"}],\"parcoords\":[{\"line\":{\"colorbar\":{\"outlinewidth\":0,\"ticks\":\"\"}},\"type\":\"parcoords\"}],\"pie\":[{\"automargin\":true,\"type\":\"pie\"}],\"scatter\":[{\"marker\":{\"colorbar\":{\"outlinewidth\":0,\"ticks\":\"\"}},\"type\":\"scatter\"}],\"scatter3d\":[{\"line\":{\"colorbar\":{\"outlinewidth\":0,\"ticks\":\"\"}},\"marker\":{\"colorbar\":{\"outlinewidth\":0,\"ticks\":\"\"}},\"type\":\"scatter3d\"}],\"scattercarpet\":[{\"marker\":{\"colorbar\":{\"outlinewidth\":0,\"ticks\":\"\"}},\"type\":\"scattercarpet\"}],\"scattergeo\":[{\"marker\":{\"colorbar\":{\"outlinewidth\":0,\"ticks\":\"\"}},\"type\":\"scattergeo\"}],\"scattergl\":[{\"marker\":{\"colorbar\":{\"outlinewidth\":0,\"ticks\":\"\"}},\"type\":\"scattergl\"}],\"scattermapbox\":[{\"marker\":{\"colorbar\":{\"outlinewidth\":0,\"ticks\":\"\"}},\"type\":\"scattermapbox\"}],\"scatterpolar\":[{\"marker\":{\"colorbar\":{\"outlinewidth\":0,\"ticks\":\"\"}},\"type\":\"scatterpolar\"}],\"scatterpolargl\":[{\"marker\":{\"colorbar\":{\"outlinewidth\":0,\"ticks\":\"\"}},\"type\":\"scatterpolargl\"}],\"scatterternary\":[{\"marker\":{\"colorbar\":{\"outlinewidth\":0,\"ticks\":\"\"}},\"type\":\"scatterternary\"}],\"surface\":[{\"colorbar\":{\"outlinewidth\":0,\"ticks\":\"\"},\"colorscale\":[[0.0,\"#0d0887\"],[0.1111111111111111,\"#46039f\"],[0.2222222222222222,\"#7201a8\"],[0.3333333333333333,\"#9c179e\"],[0.4444444444444444,\"#bd3786\"],[0.5555555555555556,\"#d8576b\"],[0.6666666666666666,\"#ed7953\"],[0.7777777777777778,\"#fb9f3a\"],[0.8888888888888888,\"#fdca26\"],[1.0,\"#f0f921\"]],\"type\":\"surface\"}],\"table\":[{\"cells\":{\"fill\":{\"color\":\"#EBF0F8\"},\"line\":{\"color\":\"white\"}},\"header\":{\"fill\":{\"color\":\"#C8D4E3\"},\"line\":{\"color\":\"white\"}},\"type\":\"table\"}]},\"layout\":{\"annotationdefaults\":{\"arrowcolor\":\"#2a3f5f\",\"arrowhead\":0,\"arrowwidth\":1},\"autotypenumbers\":\"strict\",\"coloraxis\":{\"colorbar\":{\"outlinewidth\":0,\"ticks\":\"\"}},\"colorscale\":{\"diverging\":[[0,\"#8e0152\"],[0.1,\"#c51b7d\"],[0.2,\"#de77ae\"],[0.3,\"#f1b6da\"],[0.4,\"#fde0ef\"],[0.5,\"#f7f7f7\"],[0.6,\"#e6f5d0\"],[0.7,\"#b8e186\"],[0.8,\"#7fbc41\"],[0.9,\"#4d9221\"],[1,\"#276419\"]],\"sequential\":[[0.0,\"#0d0887\"],[0.1111111111111111,\"#46039f\"],[0.2222222222222222,\"#7201a8\"],[0.3333333333333333,\"#9c179e\"],[0.4444444444444444,\"#bd3786\"],[0.5555555555555556,\"#d8576b\"],[0.6666666666666666,\"#ed7953\"],[0.7777777777777778,\"#fb9f3a\"],[0.8888888888888888,\"#fdca26\"],[1.0,\"#f0f921\"]],\"sequentialminus\":[[0.0,\"#0d0887\"],[0.1111111111111111,\"#46039f\"],[0.2222222222222222,\"#7201a8\"],[0.3333333333333333,\"#9c179e\"],[0.4444444444444444,\"#bd3786\"],[0.5555555555555556,\"#d8576b\"],[0.6666666666666666,\"#ed7953\"],[0.7777777777777778,\"#fb9f3a\"],[0.8888888888888888,\"#fdca26\"],[1.0,\"#f0f921\"]]},\"colorway\":[\"#636efa\",\"#EF553B\",\"#00cc96\",\"#ab63fa\",\"#FFA15A\",\"#19d3f3\",\"#FF6692\",\"#B6E880\",\"#FF97FF\",\"#FECB52\"],\"font\":{\"color\":\"#2a3f5f\"},\"geo\":{\"bgcolor\":\"white\",\"lakecolor\":\"white\",\"landcolor\":\"#E5ECF6\",\"showlakes\":true,\"showland\":true,\"subunitcolor\":\"white\"},\"hoverlabel\":{\"align\":\"left\"},\"hovermode\":\"closest\",\"mapbox\":{\"style\":\"light\"},\"paper_bgcolor\":\"white\",\"plot_bgcolor\":\"#E5ECF6\",\"polar\":{\"angularaxis\":{\"gridcolor\":\"white\",\"linecolor\":\"white\",\"ticks\":\"\"},\"bgcolor\":\"#E5ECF6\",\"radialaxis\":{\"gridcolor\":\"white\",\"linecolor\":\"white\",\"ticks\":\"\"}},\"scene\":{\"xaxis\":{\"backgroundcolor\":\"#E5ECF6\",\"gridcolor\":\"white\",\"gridwidth\":2,\"linecolor\":\"white\",\"showbackground\":true,\"ticks\":\"\",\"zerolinecolor\":\"white\"},\"yaxis\":{\"backgroundcolor\":\"#E5ECF6\",\"gridcolor\":\"white\",\"gridwidth\":2,\"linecolor\":\"white\",\"showbackground\":true,\"ticks\":\"\",\"zerolinecolor\":\"white\"},\"zaxis\":{\"backgroundcolor\":\"#E5ECF6\",\"gridcolor\":\"white\",\"gridwidth\":2,\"linecolor\":\"white\",\"showbackground\":true,\"ticks\":\"\",\"zerolinecolor\":\"white\"}},\"shapedefaults\":{\"line\":{\"color\":\"#2a3f5f\"}},\"ternary\":{\"aaxis\":{\"gridcolor\":\"white\",\"linecolor\":\"white\",\"ticks\":\"\"},\"baxis\":{\"gridcolor\":\"white\",\"linecolor\":\"white\",\"ticks\":\"\"},\"bgcolor\":\"#E5ECF6\",\"caxis\":{\"gridcolor\":\"white\",\"linecolor\":\"white\",\"ticks\":\"\"}},\"title\":{\"x\":0.05},\"xaxis\":{\"automargin\":true,\"gridcolor\":\"white\",\"linecolor\":\"white\",\"ticks\":\"\",\"title\":{\"standoff\":15},\"zerolinecolor\":\"white\",\"zerolinewidth\":2},\"yaxis\":{\"automargin\":true,\"gridcolor\":\"white\",\"linecolor\":\"white\",\"ticks\":\"\",\"title\":{\"standoff\":15},\"zerolinecolor\":\"white\",\"zerolinewidth\":2}}},\"title\":{\"text\":\"Portfolio Value\"}},                        {\"responsive\": true}                    ).then(function(){\n",
              "                            \n",
              "var gd = document.getElementById('68f9e761-1f38-4533-bb6b-63bec13c84ed');\n",
              "var x = new MutationObserver(function (mutations, observer) {{\n",
              "        var display = window.getComputedStyle(gd).display;\n",
              "        if (!display || display === 'none') {{\n",
              "            console.log([gd, 'removed!']);\n",
              "            Plotly.purge(gd);\n",
              "            observer.disconnect();\n",
              "        }}\n",
              "}});\n",
              "\n",
              "// Listen for the removal of the full notebook cells\n",
              "var notebookContainer = gd.closest('#notebook-container');\n",
              "if (notebookContainer) {{\n",
              "    x.observe(notebookContainer, {childList: true});\n",
              "}}\n",
              "\n",
              "// Listen for the clearing of the current output cell\n",
              "var outputEl = gd.closest('.output');\n",
              "if (outputEl) {{\n",
              "    x.observe(outputEl, {childList: true});\n",
              "}}\n",
              "\n",
              "                        })                };                            </script>        </div>\n",
              "</body>\n",
              "</html>"
            ]
          },
          "metadata": {}
        }
      ]
    },
    {
      "cell_type": "code",
      "source": [
        "# Visualize Return %\n",
        "fig = go.Figure()\n",
        "fig.add_trace(go.Scatter(x=portfolio_val.index, y= portfolio_val['Cum Return %'], name='Portfolio Cumulative Return %'))\n",
        "fig.add_trace(go.Scatter(x=SPY.date, y=SPY['Cum Return %'],name='SPY Cumulative Return %'))\n",
        "fig.update_layout(title=\"Cumulative Return % (Portfolio vs SPY)\")"
      ],
      "metadata": {
        "colab": {
          "base_uri": "https://localhost:8080/",
          "height": 542
        },
        "id": "oyaQv_GFSPdt",
        "outputId": "d570ef65-4070-423b-eb6e-ee1bf28e64e5"
      },
      "execution_count": null,
      "outputs": [
        {
          "output_type": "display_data",
          "data": {
            "text/html": [
              "<html>\n",
              "<head><meta charset=\"utf-8\" /></head>\n",
              "<body>\n",
              "    <div>            <script src=\"https://cdnjs.cloudflare.com/ajax/libs/mathjax/2.7.5/MathJax.js?config=TeX-AMS-MML_SVG\"></script><script type=\"text/javascript\">if (window.MathJax) {MathJax.Hub.Config({SVG: {font: \"STIX-Web\"}});}</script>                <script type=\"text/javascript\">window.PlotlyConfig = {MathJaxConfig: 'local'};</script>\n",
              "        <script src=\"https://cdn.plot.ly/plotly-2.8.3.min.js\"></script>                <div id=\"55dd58d8-42e9-4039-8bad-918fee1b8469\" class=\"plotly-graph-div\" style=\"height:525px; width:100%;\"></div>            <script type=\"text/javascript\">                                    window.PLOTLYENV=window.PLOTLYENV || {};                                    if (document.getElementById(\"55dd58d8-42e9-4039-8bad-918fee1b8469\")) {                    Plotly.newPlot(                        \"55dd58d8-42e9-4039-8bad-918fee1b8469\",                        [{\"name\":\"Portfolio Cumulative Return %\",\"x\":[\"2022-04-29T09:30:00\",\"2022-04-29T09:35:00\",\"2022-04-29T09:40:00\",\"2022-04-29T09:45:00\",\"2022-04-29T09:50:00\",\"2022-04-29T09:55:00\",\"2022-04-29T10:00:00\",\"2022-04-29T10:05:00\",\"2022-04-29T10:10:00\",\"2022-04-29T10:15:00\",\"2022-04-29T10:20:00\",\"2022-04-29T10:25:00\",\"2022-04-29T10:30:00\",\"2022-04-29T10:35:00\",\"2022-04-29T10:40:00\",\"2022-04-29T10:45:00\",\"2022-04-29T10:50:00\",\"2022-04-29T10:55:00\",\"2022-04-29T11:00:00\",\"2022-04-29T11:05:00\",\"2022-04-29T11:10:00\",\"2022-04-29T11:15:00\",\"2022-04-29T11:20:00\",\"2022-04-29T11:25:00\",\"2022-04-29T11:30:00\",\"2022-04-29T11:35:00\",\"2022-04-29T11:40:00\",\"2022-04-29T11:45:00\",\"2022-04-29T11:50:00\",\"2022-04-29T11:55:00\",\"2022-04-29T12:00:00\",\"2022-04-29T12:05:00\",\"2022-04-29T12:10:00\",\"2022-04-29T12:15:00\",\"2022-04-29T12:20:00\",\"2022-04-29T12:25:00\",\"2022-04-29T12:30:00\",\"2022-04-29T12:35:00\",\"2022-04-29T12:40:00\",\"2022-04-29T12:45:00\",\"2022-04-29T12:50:00\",\"2022-04-29T12:55:00\",\"2022-04-29T13:00:00\",\"2022-04-29T13:05:00\",\"2022-04-29T13:10:00\",\"2022-04-29T13:15:00\",\"2022-04-29T13:20:00\",\"2022-04-29T13:25:00\",\"2022-04-29T13:30:00\",\"2022-04-29T13:35:00\",\"2022-04-29T13:40:00\",\"2022-04-29T13:45:00\",\"2022-04-29T13:50:00\",\"2022-04-29T13:55:00\",\"2022-04-29T14:00:00\",\"2022-04-29T14:05:00\",\"2022-04-29T14:10:00\",\"2022-04-29T14:15:00\",\"2022-04-29T14:20:00\",\"2022-04-29T14:25:00\",\"2022-04-29T14:30:00\",\"2022-04-29T14:35:00\",\"2022-04-29T14:40:00\",\"2022-04-29T14:45:00\",\"2022-04-29T14:50:00\",\"2022-04-29T14:55:00\",\"2022-04-29T15:00:00\",\"2022-04-29T15:05:00\",\"2022-04-29T15:10:00\",\"2022-04-29T15:15:00\",\"2022-04-29T15:20:00\",\"2022-04-29T15:25:00\",\"2022-04-29T15:30:00\",\"2022-04-29T15:35:00\",\"2022-04-29T15:40:00\",\"2022-04-29T15:45:00\",\"2022-04-29T15:50:00\",\"2022-04-29T15:55:00\",\"2022-04-29T16:00:00\"],\"y\":[0.0,0.7549999999999946,1.3349999999999973,1.419999999999999,1.9600000000000062,2.53000000000001,2.7249999999999996,2.574999999999994,2.9549999999999965,2.2699999999999942,1.2850000000000028,1.475000000000004,1.2950000000000017,1.374999999999993,1.4450000000000074,1.330000000000009,1.5300000000000091,1.419999999999999,1.2899999999999912,1.3900000000000023,1.540000000000008,1.6650000000000054,1.7200000000000104,1.8950000000000022,1.9400000000000084,1.7449999999999966,1.6100000000000003,1.6100000000000003,1.9200000000000106,1.9749999999999934,1.7200000000000104,1.5949999999999909,1.7400000000000082,1.475000000000004,1.5900000000000025,1.6100000000000003,1.475000000000004,1.4950000000000019,1.540000000000008,1.4599999999999946,1.6100000000000003,1.8950000000000022,1.9600000000000062,1.815000000000011,1.7849999999999921,2.055000000000007,2.0650000000000057,1.8950000000000022,1.9349999999999978,2.354999999999996,2.045000000000008,1.9749999999999934,1.8399999999999972,1.9099999999999895,1.8999999999999906,1.8550000000000066,1.8000000000000016,1.82500000000001,1.8399999999999972,1.7300000000000093,1.6750000000000043,1.649999999999996,2.00499999999999,1.9099999999999895,1.7749999999999932,1.815000000000011,1.6650000000000054,1.649999999999996,1.6000000000000014,1.8000000000000016,1.7900000000000027,1.815000000000011,2.2049999999999903,2.5449999999999973,2.584999999999993,2.235000000000009,2.0999999999999908,2.2049999999999903,2.2049999999999903],\"type\":\"scatter\"},{\"name\":\"SPY Cumulative Return %\",\"x\":[\"2022-04-29T09:30:00\",\"2022-04-29T09:35:00\",\"2022-04-29T09:40:00\",\"2022-04-29T09:45:00\",\"2022-04-29T09:50:00\",\"2022-04-29T09:55:00\",\"2022-04-29T10:00:00\",\"2022-04-29T10:05:00\",\"2022-04-29T10:10:00\",\"2022-04-29T10:15:00\",\"2022-04-29T10:20:00\",\"2022-04-29T10:25:00\",\"2022-04-29T10:30:00\",\"2022-04-29T10:35:00\",\"2022-04-29T10:40:00\",\"2022-04-29T10:45:00\",\"2022-04-29T10:50:00\",\"2022-04-29T10:55:00\",\"2022-04-29T11:00:00\",\"2022-04-29T11:05:00\",\"2022-04-29T11:10:00\",\"2022-04-29T11:15:00\",\"2022-04-29T11:20:00\",\"2022-04-29T11:25:00\",\"2022-04-29T11:30:00\",\"2022-04-29T11:35:00\",\"2022-04-29T11:40:00\",\"2022-04-29T11:45:00\",\"2022-04-29T11:50:00\",\"2022-04-29T11:55:00\",\"2022-04-29T12:00:00\",\"2022-04-29T12:05:00\",\"2022-04-29T12:10:00\",\"2022-04-29T12:15:00\",\"2022-04-29T12:20:00\",\"2022-04-29T12:25:00\",\"2022-04-29T12:30:00\",\"2022-04-29T12:35:00\",\"2022-04-29T12:40:00\",\"2022-04-29T12:45:00\",\"2022-04-29T12:50:00\",\"2022-04-29T12:55:00\",\"2022-04-29T13:00:00\",\"2022-04-29T13:05:00\",\"2022-04-29T13:10:00\",\"2022-04-29T13:15:00\",\"2022-04-29T13:20:00\",\"2022-04-29T13:25:00\",\"2022-04-29T13:30:00\",\"2022-04-29T13:35:00\",\"2022-04-29T13:40:00\",\"2022-04-29T13:45:00\",\"2022-04-29T13:50:00\",\"2022-04-29T13:55:00\",\"2022-04-29T14:00:00\",\"2022-04-29T14:05:00\",\"2022-04-29T14:10:00\",\"2022-04-29T14:15:00\",\"2022-04-29T14:20:00\",\"2022-04-29T14:25:00\",\"2022-04-29T14:30:00\",\"2022-04-29T14:35:00\",\"2022-04-29T14:40:00\",\"2022-04-29T14:45:00\",\"2022-04-29T14:50:00\",\"2022-04-29T14:55:00\",\"2022-04-29T15:00:00\",\"2022-04-29T15:05:00\",\"2022-04-29T15:10:00\",\"2022-04-29T15:15:00\",\"2022-04-29T15:20:00\",\"2022-04-29T15:25:00\",\"2022-04-29T15:30:00\",\"2022-04-29T15:35:00\",\"2022-04-29T15:40:00\",\"2022-04-29T15:45:00\",\"2022-04-29T15:50:00\",\"2022-04-29T15:55:00\",\"2022-04-29T16:00:00\"],\"y\":[0.0,-0.1444261306393968,-0.3729612310711672,-0.25044312154285375,-0.209071689487339,0.2985084714370201,0.11120819249264002,0.018140445442482722,-0.04076027951385175,-0.48604602136819164,-0.5897118724937367,-0.7687723771705568,-0.8041113741383832,-0.8017530443305554,-0.8563685114653663,-0.9808135490073866,-0.9407578924239268,-0.8677215686804574,-0.9315690342093008,-0.9713874198060024,-0.9761040794216469,-0.9195544942432354,-0.860653769286901,-0.8253147723190746,-0.728716720587097,-0.8206053027333349,-0.6816004546399745,-0.7169394516077898,-0.7098716522142223,-0.9407578924239268,-1.2329103774276762,-1.2870944427683662,-1.223484248226292,-1.3024092064594095,-1.2069903196313403,-1.3224406297660862,-1.3601307665118356,-1.3507118273403451,-1.4944261450194563,-1.4956053099233646,-1.6876222484834114,-1.5936197975460087,-1.4213898212759868,-1.6009895781954553,-1.5038522742208404,-1.444951549264506,-1.307125866075054,-1.3660265910313885,-1.2847433029904431,-1.2588232451941073,-1.4555496533398937,-1.5556851997836074,-1.5745302681564821,-1.5980919961449902,-1.6993995174627186,-1.7512324430254855,-1.7088256466641027,-1.6817336139937522,-1.8313365661625114,-1.8136706626935561,-1.8548982941510306,-2.0068667661575113,-1.93031451779202,-2.14705077915478,-2.2173980317149344,-2.069297795795677,-2.109353452379137,-2.3237529540237833,-2.4333074396389764,-2.20123484449547,-2.2518886051543285,-2.4439055437143753,-2.3237529540237833,-2.3119684950145825,-2.4415544039364523,-2.733699698910308,-2.9622347993420783,-2.926895802374263,-2.9316052719600028],\"type\":\"scatter\"}],                        {\"template\":{\"data\":{\"bar\":[{\"error_x\":{\"color\":\"#2a3f5f\"},\"error_y\":{\"color\":\"#2a3f5f\"},\"marker\":{\"line\":{\"color\":\"#E5ECF6\",\"width\":0.5},\"pattern\":{\"fillmode\":\"overlay\",\"size\":10,\"solidity\":0.2}},\"type\":\"bar\"}],\"barpolar\":[{\"marker\":{\"line\":{\"color\":\"#E5ECF6\",\"width\":0.5},\"pattern\":{\"fillmode\":\"overlay\",\"size\":10,\"solidity\":0.2}},\"type\":\"barpolar\"}],\"carpet\":[{\"aaxis\":{\"endlinecolor\":\"#2a3f5f\",\"gridcolor\":\"white\",\"linecolor\":\"white\",\"minorgridcolor\":\"white\",\"startlinecolor\":\"#2a3f5f\"},\"baxis\":{\"endlinecolor\":\"#2a3f5f\",\"gridcolor\":\"white\",\"linecolor\":\"white\",\"minorgridcolor\":\"white\",\"startlinecolor\":\"#2a3f5f\"},\"type\":\"carpet\"}],\"choropleth\":[{\"colorbar\":{\"outlinewidth\":0,\"ticks\":\"\"},\"type\":\"choropleth\"}],\"contour\":[{\"colorbar\":{\"outlinewidth\":0,\"ticks\":\"\"},\"colorscale\":[[0.0,\"#0d0887\"],[0.1111111111111111,\"#46039f\"],[0.2222222222222222,\"#7201a8\"],[0.3333333333333333,\"#9c179e\"],[0.4444444444444444,\"#bd3786\"],[0.5555555555555556,\"#d8576b\"],[0.6666666666666666,\"#ed7953\"],[0.7777777777777778,\"#fb9f3a\"],[0.8888888888888888,\"#fdca26\"],[1.0,\"#f0f921\"]],\"type\":\"contour\"}],\"contourcarpet\":[{\"colorbar\":{\"outlinewidth\":0,\"ticks\":\"\"},\"type\":\"contourcarpet\"}],\"heatmap\":[{\"colorbar\":{\"outlinewidth\":0,\"ticks\":\"\"},\"colorscale\":[[0.0,\"#0d0887\"],[0.1111111111111111,\"#46039f\"],[0.2222222222222222,\"#7201a8\"],[0.3333333333333333,\"#9c179e\"],[0.4444444444444444,\"#bd3786\"],[0.5555555555555556,\"#d8576b\"],[0.6666666666666666,\"#ed7953\"],[0.7777777777777778,\"#fb9f3a\"],[0.8888888888888888,\"#fdca26\"],[1.0,\"#f0f921\"]],\"type\":\"heatmap\"}],\"heatmapgl\":[{\"colorbar\":{\"outlinewidth\":0,\"ticks\":\"\"},\"colorscale\":[[0.0,\"#0d0887\"],[0.1111111111111111,\"#46039f\"],[0.2222222222222222,\"#7201a8\"],[0.3333333333333333,\"#9c179e\"],[0.4444444444444444,\"#bd3786\"],[0.5555555555555556,\"#d8576b\"],[0.6666666666666666,\"#ed7953\"],[0.7777777777777778,\"#fb9f3a\"],[0.8888888888888888,\"#fdca26\"],[1.0,\"#f0f921\"]],\"type\":\"heatmapgl\"}],\"histogram\":[{\"marker\":{\"pattern\":{\"fillmode\":\"overlay\",\"size\":10,\"solidity\":0.2}},\"type\":\"histogram\"}],\"histogram2d\":[{\"colorbar\":{\"outlinewidth\":0,\"ticks\":\"\"},\"colorscale\":[[0.0,\"#0d0887\"],[0.1111111111111111,\"#46039f\"],[0.2222222222222222,\"#7201a8\"],[0.3333333333333333,\"#9c179e\"],[0.4444444444444444,\"#bd3786\"],[0.5555555555555556,\"#d8576b\"],[0.6666666666666666,\"#ed7953\"],[0.7777777777777778,\"#fb9f3a\"],[0.8888888888888888,\"#fdca26\"],[1.0,\"#f0f921\"]],\"type\":\"histogram2d\"}],\"histogram2dcontour\":[{\"colorbar\":{\"outlinewidth\":0,\"ticks\":\"\"},\"colorscale\":[[0.0,\"#0d0887\"],[0.1111111111111111,\"#46039f\"],[0.2222222222222222,\"#7201a8\"],[0.3333333333333333,\"#9c179e\"],[0.4444444444444444,\"#bd3786\"],[0.5555555555555556,\"#d8576b\"],[0.6666666666666666,\"#ed7953\"],[0.7777777777777778,\"#fb9f3a\"],[0.8888888888888888,\"#fdca26\"],[1.0,\"#f0f921\"]],\"type\":\"histogram2dcontour\"}],\"mesh3d\":[{\"colorbar\":{\"outlinewidth\":0,\"ticks\":\"\"},\"type\":\"mesh3d\"}],\"parcoords\":[{\"line\":{\"colorbar\":{\"outlinewidth\":0,\"ticks\":\"\"}},\"type\":\"parcoords\"}],\"pie\":[{\"automargin\":true,\"type\":\"pie\"}],\"scatter\":[{\"marker\":{\"colorbar\":{\"outlinewidth\":0,\"ticks\":\"\"}},\"type\":\"scatter\"}],\"scatter3d\":[{\"line\":{\"colorbar\":{\"outlinewidth\":0,\"ticks\":\"\"}},\"marker\":{\"colorbar\":{\"outlinewidth\":0,\"ticks\":\"\"}},\"type\":\"scatter3d\"}],\"scattercarpet\":[{\"marker\":{\"colorbar\":{\"outlinewidth\":0,\"ticks\":\"\"}},\"type\":\"scattercarpet\"}],\"scattergeo\":[{\"marker\":{\"colorbar\":{\"outlinewidth\":0,\"ticks\":\"\"}},\"type\":\"scattergeo\"}],\"scattergl\":[{\"marker\":{\"colorbar\":{\"outlinewidth\":0,\"ticks\":\"\"}},\"type\":\"scattergl\"}],\"scattermapbox\":[{\"marker\":{\"colorbar\":{\"outlinewidth\":0,\"ticks\":\"\"}},\"type\":\"scattermapbox\"}],\"scatterpolar\":[{\"marker\":{\"colorbar\":{\"outlinewidth\":0,\"ticks\":\"\"}},\"type\":\"scatterpolar\"}],\"scatterpolargl\":[{\"marker\":{\"colorbar\":{\"outlinewidth\":0,\"ticks\":\"\"}},\"type\":\"scatterpolargl\"}],\"scatterternary\":[{\"marker\":{\"colorbar\":{\"outlinewidth\":0,\"ticks\":\"\"}},\"type\":\"scatterternary\"}],\"surface\":[{\"colorbar\":{\"outlinewidth\":0,\"ticks\":\"\"},\"colorscale\":[[0.0,\"#0d0887\"],[0.1111111111111111,\"#46039f\"],[0.2222222222222222,\"#7201a8\"],[0.3333333333333333,\"#9c179e\"],[0.4444444444444444,\"#bd3786\"],[0.5555555555555556,\"#d8576b\"],[0.6666666666666666,\"#ed7953\"],[0.7777777777777778,\"#fb9f3a\"],[0.8888888888888888,\"#fdca26\"],[1.0,\"#f0f921\"]],\"type\":\"surface\"}],\"table\":[{\"cells\":{\"fill\":{\"color\":\"#EBF0F8\"},\"line\":{\"color\":\"white\"}},\"header\":{\"fill\":{\"color\":\"#C8D4E3\"},\"line\":{\"color\":\"white\"}},\"type\":\"table\"}]},\"layout\":{\"annotationdefaults\":{\"arrowcolor\":\"#2a3f5f\",\"arrowhead\":0,\"arrowwidth\":1},\"autotypenumbers\":\"strict\",\"coloraxis\":{\"colorbar\":{\"outlinewidth\":0,\"ticks\":\"\"}},\"colorscale\":{\"diverging\":[[0,\"#8e0152\"],[0.1,\"#c51b7d\"],[0.2,\"#de77ae\"],[0.3,\"#f1b6da\"],[0.4,\"#fde0ef\"],[0.5,\"#f7f7f7\"],[0.6,\"#e6f5d0\"],[0.7,\"#b8e186\"],[0.8,\"#7fbc41\"],[0.9,\"#4d9221\"],[1,\"#276419\"]],\"sequential\":[[0.0,\"#0d0887\"],[0.1111111111111111,\"#46039f\"],[0.2222222222222222,\"#7201a8\"],[0.3333333333333333,\"#9c179e\"],[0.4444444444444444,\"#bd3786\"],[0.5555555555555556,\"#d8576b\"],[0.6666666666666666,\"#ed7953\"],[0.7777777777777778,\"#fb9f3a\"],[0.8888888888888888,\"#fdca26\"],[1.0,\"#f0f921\"]],\"sequentialminus\":[[0.0,\"#0d0887\"],[0.1111111111111111,\"#46039f\"],[0.2222222222222222,\"#7201a8\"],[0.3333333333333333,\"#9c179e\"],[0.4444444444444444,\"#bd3786\"],[0.5555555555555556,\"#d8576b\"],[0.6666666666666666,\"#ed7953\"],[0.7777777777777778,\"#fb9f3a\"],[0.8888888888888888,\"#fdca26\"],[1.0,\"#f0f921\"]]},\"colorway\":[\"#636efa\",\"#EF553B\",\"#00cc96\",\"#ab63fa\",\"#FFA15A\",\"#19d3f3\",\"#FF6692\",\"#B6E880\",\"#FF97FF\",\"#FECB52\"],\"font\":{\"color\":\"#2a3f5f\"},\"geo\":{\"bgcolor\":\"white\",\"lakecolor\":\"white\",\"landcolor\":\"#E5ECF6\",\"showlakes\":true,\"showland\":true,\"subunitcolor\":\"white\"},\"hoverlabel\":{\"align\":\"left\"},\"hovermode\":\"closest\",\"mapbox\":{\"style\":\"light\"},\"paper_bgcolor\":\"white\",\"plot_bgcolor\":\"#E5ECF6\",\"polar\":{\"angularaxis\":{\"gridcolor\":\"white\",\"linecolor\":\"white\",\"ticks\":\"\"},\"bgcolor\":\"#E5ECF6\",\"radialaxis\":{\"gridcolor\":\"white\",\"linecolor\":\"white\",\"ticks\":\"\"}},\"scene\":{\"xaxis\":{\"backgroundcolor\":\"#E5ECF6\",\"gridcolor\":\"white\",\"gridwidth\":2,\"linecolor\":\"white\",\"showbackground\":true,\"ticks\":\"\",\"zerolinecolor\":\"white\"},\"yaxis\":{\"backgroundcolor\":\"#E5ECF6\",\"gridcolor\":\"white\",\"gridwidth\":2,\"linecolor\":\"white\",\"showbackground\":true,\"ticks\":\"\",\"zerolinecolor\":\"white\"},\"zaxis\":{\"backgroundcolor\":\"#E5ECF6\",\"gridcolor\":\"white\",\"gridwidth\":2,\"linecolor\":\"white\",\"showbackground\":true,\"ticks\":\"\",\"zerolinecolor\":\"white\"}},\"shapedefaults\":{\"line\":{\"color\":\"#2a3f5f\"}},\"ternary\":{\"aaxis\":{\"gridcolor\":\"white\",\"linecolor\":\"white\",\"ticks\":\"\"},\"baxis\":{\"gridcolor\":\"white\",\"linecolor\":\"white\",\"ticks\":\"\"},\"bgcolor\":\"#E5ECF6\",\"caxis\":{\"gridcolor\":\"white\",\"linecolor\":\"white\",\"ticks\":\"\"}},\"title\":{\"x\":0.05},\"xaxis\":{\"automargin\":true,\"gridcolor\":\"white\",\"linecolor\":\"white\",\"ticks\":\"\",\"title\":{\"standoff\":15},\"zerolinecolor\":\"white\",\"zerolinewidth\":2},\"yaxis\":{\"automargin\":true,\"gridcolor\":\"white\",\"linecolor\":\"white\",\"ticks\":\"\",\"title\":{\"standoff\":15},\"zerolinecolor\":\"white\",\"zerolinewidth\":2}}},\"title\":{\"text\":\"Cumulative Return % (Portfolio vs SPY)\"}},                        {\"responsive\": true}                    ).then(function(){\n",
              "                            \n",
              "var gd = document.getElementById('55dd58d8-42e9-4039-8bad-918fee1b8469');\n",
              "var x = new MutationObserver(function (mutations, observer) {{\n",
              "        var display = window.getComputedStyle(gd).display;\n",
              "        if (!display || display === 'none') {{\n",
              "            console.log([gd, 'removed!']);\n",
              "            Plotly.purge(gd);\n",
              "            observer.disconnect();\n",
              "        }}\n",
              "}});\n",
              "\n",
              "// Listen for the removal of the full notebook cells\n",
              "var notebookContainer = gd.closest('#notebook-container');\n",
              "if (notebookContainer) {{\n",
              "    x.observe(notebookContainer, {childList: true});\n",
              "}}\n",
              "\n",
              "// Listen for the clearing of the current output cell\n",
              "var outputEl = gd.closest('.output');\n",
              "if (outputEl) {{\n",
              "    x.observe(outputEl, {childList: true});\n",
              "}}\n",
              "\n",
              "                        })                };                            </script>        </div>\n",
              "</body>\n",
              "</html>"
            ]
          },
          "metadata": {}
        }
      ]
    },
    {
      "cell_type": "code",
      "source": [
        "d1=portfolio_val['Portfolio Total'].reset_index()"
      ],
      "metadata": {
        "id": "qFtNxvOqy8UC"
      },
      "execution_count": null,
      "outputs": []
    },
    {
      "cell_type": "code",
      "source": [
        "d2=SPY[['date','SPY Total']]"
      ],
      "metadata": {
        "id": "ZLRA7hcV5yT0"
      },
      "execution_count": null,
      "outputs": []
    },
    {
      "cell_type": "code",
      "source": [
        "d1['date'] = pd.to_datetime(d1['date'], errors='coerce')"
      ],
      "metadata": {
        "id": "CR0w3QSI2SGa"
      },
      "execution_count": null,
      "outputs": []
    },
    {
      "cell_type": "code",
      "source": [
        "d2['date'] = pd.to_datetime(d2['date'], errors='coerce')"
      ],
      "metadata": {
        "colab": {
          "base_uri": "https://localhost:8080/"
        },
        "id": "8O-OiRTG2S7R",
        "outputId": "98018481-0f7f-4ce2-a384-b478ed53c920"
      },
      "execution_count": null,
      "outputs": [
        {
          "output_type": "stream",
          "name": "stderr",
          "text": [
            "/usr/local/lib/python3.7/dist-packages/ipykernel_launcher.py:1: SettingWithCopyWarning:\n",
            "\n",
            "\n",
            "A value is trying to be set on a copy of a slice from a DataFrame.\n",
            "Try using .loc[row_indexer,col_indexer] = value instead\n",
            "\n",
            "See the caveats in the documentation: https://pandas.pydata.org/pandas-docs/stable/user_guide/indexing.html#returning-a-view-versus-a-copy\n",
            "\n"
          ]
        }
      ]
    },
    {
      "cell_type": "code",
      "source": [
        "print(\"Portfolio Correlation with SPY\")\n",
        "round(d1['Portfolio Total'].corr(d2['SPY Total']),2)"
      ],
      "metadata": {
        "colab": {
          "base_uri": "https://localhost:8080/"
        },
        "id": "TnlMO0gHSPa-",
        "outputId": "750c6586-1240-4437-f7de-67ea67d26bc2"
      },
      "execution_count": null,
      "outputs": [
        {
          "output_type": "stream",
          "name": "stdout",
          "text": [
            "Portfolio Correlation with SPY\n"
          ]
        },
        {
          "output_type": "execute_result",
          "data": {
            "text/plain": [
              "-0.21"
            ]
          },
          "metadata": {},
          "execution_count": 565
        }
      ]
    },
    {
      "cell_type": "code",
      "source": [
        "portfolio_val"
      ],
      "metadata": {
        "id": "_mHplLm46qFG"
      },
      "execution_count": null,
      "outputs": []
    },
    {
      "cell_type": "code",
      "source": [
        "# Visualize Value of Individual Stocks\n",
        "fig = go.Figure()\n",
        "fig.add_trace(go.Scatter(x=portfolio_val.index, y= portfolio_val['BMY'], name='BMY'))\n"
      ],
      "metadata": {
        "colab": {
          "base_uri": "https://localhost:8080/",
          "height": 542
        },
        "id": "icIIvgTISPYG",
        "outputId": "a2652072-f363-408e-c84c-5cb4cc72ceb8"
      },
      "execution_count": null,
      "outputs": [
        {
          "output_type": "display_data",
          "data": {
            "text/html": [
              "<html>\n",
              "<head><meta charset=\"utf-8\" /></head>\n",
              "<body>\n",
              "    <div>            <script src=\"https://cdnjs.cloudflare.com/ajax/libs/mathjax/2.7.5/MathJax.js?config=TeX-AMS-MML_SVG\"></script><script type=\"text/javascript\">if (window.MathJax) {MathJax.Hub.Config({SVG: {font: \"STIX-Web\"}});}</script>                <script type=\"text/javascript\">window.PlotlyConfig = {MathJaxConfig: 'local'};</script>\n",
              "        <script src=\"https://cdn.plot.ly/plotly-2.8.3.min.js\"></script>                <div id=\"4c927e68-8260-45ec-a66c-f9292b10b256\" class=\"plotly-graph-div\" style=\"height:525px; width:100%;\"></div>            <script type=\"text/javascript\">                                    window.PLOTLYENV=window.PLOTLYENV || {};                                    if (document.getElementById(\"4c927e68-8260-45ec-a66c-f9292b10b256\")) {                    Plotly.newPlot(                        \"4c927e68-8260-45ec-a66c-f9292b10b256\",                        [{\"name\":\"BMY\",\"x\":[\"2022-04-29T09:30:00\",\"2022-04-29T09:35:00\",\"2022-04-29T09:40:00\",\"2022-04-29T09:45:00\",\"2022-04-29T09:50:00\",\"2022-04-29T09:55:00\",\"2022-04-29T10:00:00\",\"2022-04-29T10:05:00\",\"2022-04-29T10:10:00\",\"2022-04-29T10:15:00\",\"2022-04-29T10:20:00\",\"2022-04-29T10:25:00\",\"2022-04-29T10:30:00\",\"2022-04-29T10:35:00\",\"2022-04-29T10:40:00\",\"2022-04-29T10:45:00\",\"2022-04-29T10:50:00\",\"2022-04-29T10:55:00\",\"2022-04-29T11:00:00\",\"2022-04-29T11:05:00\",\"2022-04-29T11:10:00\",\"2022-04-29T11:15:00\",\"2022-04-29T11:20:00\",\"2022-04-29T11:25:00\",\"2022-04-29T11:30:00\",\"2022-04-29T11:35:00\",\"2022-04-29T11:40:00\",\"2022-04-29T11:45:00\",\"2022-04-29T11:50:00\",\"2022-04-29T11:55:00\",\"2022-04-29T12:00:00\",\"2022-04-29T12:05:00\",\"2022-04-29T12:10:00\",\"2022-04-29T12:15:00\",\"2022-04-29T12:20:00\",\"2022-04-29T12:25:00\",\"2022-04-29T12:30:00\",\"2022-04-29T12:35:00\",\"2022-04-29T12:40:00\",\"2022-04-29T12:45:00\",\"2022-04-29T12:50:00\",\"2022-04-29T12:55:00\",\"2022-04-29T13:00:00\",\"2022-04-29T13:05:00\",\"2022-04-29T13:10:00\",\"2022-04-29T13:15:00\",\"2022-04-29T13:20:00\",\"2022-04-29T13:25:00\",\"2022-04-29T13:30:00\",\"2022-04-29T13:35:00\",\"2022-04-29T13:40:00\",\"2022-04-29T13:45:00\",\"2022-04-29T13:50:00\",\"2022-04-29T13:55:00\",\"2022-04-29T14:00:00\",\"2022-04-29T14:05:00\",\"2022-04-29T14:10:00\",\"2022-04-29T14:15:00\",\"2022-04-29T14:20:00\",\"2022-04-29T14:25:00\",\"2022-04-29T14:30:00\",\"2022-04-29T14:35:00\",\"2022-04-29T14:40:00\",\"2022-04-29T14:45:00\",\"2022-04-29T14:50:00\",\"2022-04-29T14:55:00\",\"2022-04-29T15:00:00\",\"2022-04-29T15:05:00\",\"2022-04-29T15:10:00\",\"2022-04-29T15:15:00\",\"2022-04-29T15:20:00\",\"2022-04-29T15:25:00\",\"2022-04-29T15:30:00\",\"2022-04-29T15:35:00\",\"2022-04-29T15:40:00\",\"2022-04-29T15:45:00\",\"2022-04-29T15:50:00\",\"2022-04-29T15:55:00\",\"2022-04-29T16:00:00\"],\"y\":[20000.0,20150.723153092313,20267.49966874886,20283.795463636085,20392.423045879863,20506.485322337143,20544.505390510127,20514.632183811595,20590.672320157566,20453.52865081489,20256.636496136816,20294.658636248125,20259.35280727441,20274.5608345436,20289.226013972944,20266.142549149223,20305.519736921848,20283.795463636085,20257.99568767477,20278.362841360904,20308.23604805944,20332.678704421112,20344.057789674847,20378.845634068548,20388.05125602455,20348.972427370016,20321.81553180907,20321.81553180907,20384.27618440541,20395.139357017455,20343.541877033156,20319.09922067148,20347.61530777038,20294.658636248125,20317.742101071846,20321.81553180907,20294.658636248125,20298.73206698535,20308.23604805944,20291.942325110536,20321.81553180907,20378.845634068548,20392.423045879863,20362.551911119645,20357.119288844468,20411.435151904676,20412.792271504313,20378.845634068548,20386.992495543003,20470.50196953277,20408.718840767084,20395.139357017455,20367.982461456508,20381.56194520614,20380.202753668185,20370.698772594096,20359.83559998206,20365.26615031892,20367.955526258345,20346.256116232424,20335.39294362038,20329.96239328352,20400.679720085274,20381.56194520614,20355.463810126745,20362.551911119645,20332.678704421112,20329.96239328352,20320.456340271114,20359.83559998206,20358.476408444105,20362.551911119645,20441.30628666489,20509.19956153641,20517.348494949187,20446.738908940075,20419.582013379128,20441.30628666489,20441.30628666489],\"type\":\"scatter\"}],                        {\"template\":{\"data\":{\"bar\":[{\"error_x\":{\"color\":\"#2a3f5f\"},\"error_y\":{\"color\":\"#2a3f5f\"},\"marker\":{\"line\":{\"color\":\"#E5ECF6\",\"width\":0.5},\"pattern\":{\"fillmode\":\"overlay\",\"size\":10,\"solidity\":0.2}},\"type\":\"bar\"}],\"barpolar\":[{\"marker\":{\"line\":{\"color\":\"#E5ECF6\",\"width\":0.5},\"pattern\":{\"fillmode\":\"overlay\",\"size\":10,\"solidity\":0.2}},\"type\":\"barpolar\"}],\"carpet\":[{\"aaxis\":{\"endlinecolor\":\"#2a3f5f\",\"gridcolor\":\"white\",\"linecolor\":\"white\",\"minorgridcolor\":\"white\",\"startlinecolor\":\"#2a3f5f\"},\"baxis\":{\"endlinecolor\":\"#2a3f5f\",\"gridcolor\":\"white\",\"linecolor\":\"white\",\"minorgridcolor\":\"white\",\"startlinecolor\":\"#2a3f5f\"},\"type\":\"carpet\"}],\"choropleth\":[{\"colorbar\":{\"outlinewidth\":0,\"ticks\":\"\"},\"type\":\"choropleth\"}],\"contour\":[{\"colorbar\":{\"outlinewidth\":0,\"ticks\":\"\"},\"colorscale\":[[0.0,\"#0d0887\"],[0.1111111111111111,\"#46039f\"],[0.2222222222222222,\"#7201a8\"],[0.3333333333333333,\"#9c179e\"],[0.4444444444444444,\"#bd3786\"],[0.5555555555555556,\"#d8576b\"],[0.6666666666666666,\"#ed7953\"],[0.7777777777777778,\"#fb9f3a\"],[0.8888888888888888,\"#fdca26\"],[1.0,\"#f0f921\"]],\"type\":\"contour\"}],\"contourcarpet\":[{\"colorbar\":{\"outlinewidth\":0,\"ticks\":\"\"},\"type\":\"contourcarpet\"}],\"heatmap\":[{\"colorbar\":{\"outlinewidth\":0,\"ticks\":\"\"},\"colorscale\":[[0.0,\"#0d0887\"],[0.1111111111111111,\"#46039f\"],[0.2222222222222222,\"#7201a8\"],[0.3333333333333333,\"#9c179e\"],[0.4444444444444444,\"#bd3786\"],[0.5555555555555556,\"#d8576b\"],[0.6666666666666666,\"#ed7953\"],[0.7777777777777778,\"#fb9f3a\"],[0.8888888888888888,\"#fdca26\"],[1.0,\"#f0f921\"]],\"type\":\"heatmap\"}],\"heatmapgl\":[{\"colorbar\":{\"outlinewidth\":0,\"ticks\":\"\"},\"colorscale\":[[0.0,\"#0d0887\"],[0.1111111111111111,\"#46039f\"],[0.2222222222222222,\"#7201a8\"],[0.3333333333333333,\"#9c179e\"],[0.4444444444444444,\"#bd3786\"],[0.5555555555555556,\"#d8576b\"],[0.6666666666666666,\"#ed7953\"],[0.7777777777777778,\"#fb9f3a\"],[0.8888888888888888,\"#fdca26\"],[1.0,\"#f0f921\"]],\"type\":\"heatmapgl\"}],\"histogram\":[{\"marker\":{\"pattern\":{\"fillmode\":\"overlay\",\"size\":10,\"solidity\":0.2}},\"type\":\"histogram\"}],\"histogram2d\":[{\"colorbar\":{\"outlinewidth\":0,\"ticks\":\"\"},\"colorscale\":[[0.0,\"#0d0887\"],[0.1111111111111111,\"#46039f\"],[0.2222222222222222,\"#7201a8\"],[0.3333333333333333,\"#9c179e\"],[0.4444444444444444,\"#bd3786\"],[0.5555555555555556,\"#d8576b\"],[0.6666666666666666,\"#ed7953\"],[0.7777777777777778,\"#fb9f3a\"],[0.8888888888888888,\"#fdca26\"],[1.0,\"#f0f921\"]],\"type\":\"histogram2d\"}],\"histogram2dcontour\":[{\"colorbar\":{\"outlinewidth\":0,\"ticks\":\"\"},\"colorscale\":[[0.0,\"#0d0887\"],[0.1111111111111111,\"#46039f\"],[0.2222222222222222,\"#7201a8\"],[0.3333333333333333,\"#9c179e\"],[0.4444444444444444,\"#bd3786\"],[0.5555555555555556,\"#d8576b\"],[0.6666666666666666,\"#ed7953\"],[0.7777777777777778,\"#fb9f3a\"],[0.8888888888888888,\"#fdca26\"],[1.0,\"#f0f921\"]],\"type\":\"histogram2dcontour\"}],\"mesh3d\":[{\"colorbar\":{\"outlinewidth\":0,\"ticks\":\"\"},\"type\":\"mesh3d\"}],\"parcoords\":[{\"line\":{\"colorbar\":{\"outlinewidth\":0,\"ticks\":\"\"}},\"type\":\"parcoords\"}],\"pie\":[{\"automargin\":true,\"type\":\"pie\"}],\"scatter\":[{\"marker\":{\"colorbar\":{\"outlinewidth\":0,\"ticks\":\"\"}},\"type\":\"scatter\"}],\"scatter3d\":[{\"line\":{\"colorbar\":{\"outlinewidth\":0,\"ticks\":\"\"}},\"marker\":{\"colorbar\":{\"outlinewidth\":0,\"ticks\":\"\"}},\"type\":\"scatter3d\"}],\"scattercarpet\":[{\"marker\":{\"colorbar\":{\"outlinewidth\":0,\"ticks\":\"\"}},\"type\":\"scattercarpet\"}],\"scattergeo\":[{\"marker\":{\"colorbar\":{\"outlinewidth\":0,\"ticks\":\"\"}},\"type\":\"scattergeo\"}],\"scattergl\":[{\"marker\":{\"colorbar\":{\"outlinewidth\":0,\"ticks\":\"\"}},\"type\":\"scattergl\"}],\"scattermapbox\":[{\"marker\":{\"colorbar\":{\"outlinewidth\":0,\"ticks\":\"\"}},\"type\":\"scattermapbox\"}],\"scatterpolar\":[{\"marker\":{\"colorbar\":{\"outlinewidth\":0,\"ticks\":\"\"}},\"type\":\"scatterpolar\"}],\"scatterpolargl\":[{\"marker\":{\"colorbar\":{\"outlinewidth\":0,\"ticks\":\"\"}},\"type\":\"scatterpolargl\"}],\"scatterternary\":[{\"marker\":{\"colorbar\":{\"outlinewidth\":0,\"ticks\":\"\"}},\"type\":\"scatterternary\"}],\"surface\":[{\"colorbar\":{\"outlinewidth\":0,\"ticks\":\"\"},\"colorscale\":[[0.0,\"#0d0887\"],[0.1111111111111111,\"#46039f\"],[0.2222222222222222,\"#7201a8\"],[0.3333333333333333,\"#9c179e\"],[0.4444444444444444,\"#bd3786\"],[0.5555555555555556,\"#d8576b\"],[0.6666666666666666,\"#ed7953\"],[0.7777777777777778,\"#fb9f3a\"],[0.8888888888888888,\"#fdca26\"],[1.0,\"#f0f921\"]],\"type\":\"surface\"}],\"table\":[{\"cells\":{\"fill\":{\"color\":\"#EBF0F8\"},\"line\":{\"color\":\"white\"}},\"header\":{\"fill\":{\"color\":\"#C8D4E3\"},\"line\":{\"color\":\"white\"}},\"type\":\"table\"}]},\"layout\":{\"annotationdefaults\":{\"arrowcolor\":\"#2a3f5f\",\"arrowhead\":0,\"arrowwidth\":1},\"autotypenumbers\":\"strict\",\"coloraxis\":{\"colorbar\":{\"outlinewidth\":0,\"ticks\":\"\"}},\"colorscale\":{\"diverging\":[[0,\"#8e0152\"],[0.1,\"#c51b7d\"],[0.2,\"#de77ae\"],[0.3,\"#f1b6da\"],[0.4,\"#fde0ef\"],[0.5,\"#f7f7f7\"],[0.6,\"#e6f5d0\"],[0.7,\"#b8e186\"],[0.8,\"#7fbc41\"],[0.9,\"#4d9221\"],[1,\"#276419\"]],\"sequential\":[[0.0,\"#0d0887\"],[0.1111111111111111,\"#46039f\"],[0.2222222222222222,\"#7201a8\"],[0.3333333333333333,\"#9c179e\"],[0.4444444444444444,\"#bd3786\"],[0.5555555555555556,\"#d8576b\"],[0.6666666666666666,\"#ed7953\"],[0.7777777777777778,\"#fb9f3a\"],[0.8888888888888888,\"#fdca26\"],[1.0,\"#f0f921\"]],\"sequentialminus\":[[0.0,\"#0d0887\"],[0.1111111111111111,\"#46039f\"],[0.2222222222222222,\"#7201a8\"],[0.3333333333333333,\"#9c179e\"],[0.4444444444444444,\"#bd3786\"],[0.5555555555555556,\"#d8576b\"],[0.6666666666666666,\"#ed7953\"],[0.7777777777777778,\"#fb9f3a\"],[0.8888888888888888,\"#fdca26\"],[1.0,\"#f0f921\"]]},\"colorway\":[\"#636efa\",\"#EF553B\",\"#00cc96\",\"#ab63fa\",\"#FFA15A\",\"#19d3f3\",\"#FF6692\",\"#B6E880\",\"#FF97FF\",\"#FECB52\"],\"font\":{\"color\":\"#2a3f5f\"},\"geo\":{\"bgcolor\":\"white\",\"lakecolor\":\"white\",\"landcolor\":\"#E5ECF6\",\"showlakes\":true,\"showland\":true,\"subunitcolor\":\"white\"},\"hoverlabel\":{\"align\":\"left\"},\"hovermode\":\"closest\",\"mapbox\":{\"style\":\"light\"},\"paper_bgcolor\":\"white\",\"plot_bgcolor\":\"#E5ECF6\",\"polar\":{\"angularaxis\":{\"gridcolor\":\"white\",\"linecolor\":\"white\",\"ticks\":\"\"},\"bgcolor\":\"#E5ECF6\",\"radialaxis\":{\"gridcolor\":\"white\",\"linecolor\":\"white\",\"ticks\":\"\"}},\"scene\":{\"xaxis\":{\"backgroundcolor\":\"#E5ECF6\",\"gridcolor\":\"white\",\"gridwidth\":2,\"linecolor\":\"white\",\"showbackground\":true,\"ticks\":\"\",\"zerolinecolor\":\"white\"},\"yaxis\":{\"backgroundcolor\":\"#E5ECF6\",\"gridcolor\":\"white\",\"gridwidth\":2,\"linecolor\":\"white\",\"showbackground\":true,\"ticks\":\"\",\"zerolinecolor\":\"white\"},\"zaxis\":{\"backgroundcolor\":\"#E5ECF6\",\"gridcolor\":\"white\",\"gridwidth\":2,\"linecolor\":\"white\",\"showbackground\":true,\"ticks\":\"\",\"zerolinecolor\":\"white\"}},\"shapedefaults\":{\"line\":{\"color\":\"#2a3f5f\"}},\"ternary\":{\"aaxis\":{\"gridcolor\":\"white\",\"linecolor\":\"white\",\"ticks\":\"\"},\"baxis\":{\"gridcolor\":\"white\",\"linecolor\":\"white\",\"ticks\":\"\"},\"bgcolor\":\"#E5ECF6\",\"caxis\":{\"gridcolor\":\"white\",\"linecolor\":\"white\",\"ticks\":\"\"}},\"title\":{\"x\":0.05},\"xaxis\":{\"automargin\":true,\"gridcolor\":\"white\",\"linecolor\":\"white\",\"ticks\":\"\",\"title\":{\"standoff\":15},\"zerolinecolor\":\"white\",\"zerolinewidth\":2},\"yaxis\":{\"automargin\":true,\"gridcolor\":\"white\",\"linecolor\":\"white\",\"ticks\":\"\",\"title\":{\"standoff\":15},\"zerolinecolor\":\"white\",\"zerolinewidth\":2}}}},                        {\"responsive\": true}                    ).then(function(){\n",
              "                            \n",
              "var gd = document.getElementById('4c927e68-8260-45ec-a66c-f9292b10b256');\n",
              "var x = new MutationObserver(function (mutations, observer) {{\n",
              "        var display = window.getComputedStyle(gd).display;\n",
              "        if (!display || display === 'none') {{\n",
              "            console.log([gd, 'removed!']);\n",
              "            Plotly.purge(gd);\n",
              "            observer.disconnect();\n",
              "        }}\n",
              "}});\n",
              "\n",
              "// Listen for the removal of the full notebook cells\n",
              "var notebookContainer = gd.closest('#notebook-container');\n",
              "if (notebookContainer) {{\n",
              "    x.observe(notebookContainer, {childList: true});\n",
              "}}\n",
              "\n",
              "// Listen for the clearing of the current output cell\n",
              "var outputEl = gd.closest('.output');\n",
              "if (outputEl) {{\n",
              "    x.observe(outputEl, {childList: true});\n",
              "}}\n",
              "\n",
              "                        })                };                            </script>        </div>\n",
              "</body>\n",
              "</html>"
            ]
          },
          "metadata": {}
        }
      ]
    },
    {
      "cell_type": "markdown",
      "source": [
        "## Strategy 2"
      ],
      "metadata": {
        "id": "4SdoROG47TKY"
      }
    },
    {
      "cell_type": "code",
      "source": [
        "#Portfolio Asset Allocation. \n",
        "labels2 = weight2.ticker.to_list()\n",
        "allocation_pct2 = weight2.weight.to_list()\n",
        "\n",
        "fig = go.Figure(data=[go.Pie(labels=labels2, values=allocation_pct2)])\n",
        "fig.update_layout(title=\"Portfolio Asset Allocation-Strategy 2\")\n",
        "fig.show()"
      ],
      "metadata": {
        "colab": {
          "base_uri": "https://localhost:8080/",
          "height": 542
        },
        "id": "A6F9AXkq7TKb",
        "outputId": "97e5b20e-628b-45ba-9781-9d80c540dd73"
      },
      "execution_count": null,
      "outputs": [
        {
          "output_type": "display_data",
          "data": {
            "text/html": [
              "<html>\n",
              "<head><meta charset=\"utf-8\" /></head>\n",
              "<body>\n",
              "    <div>            <script src=\"https://cdnjs.cloudflare.com/ajax/libs/mathjax/2.7.5/MathJax.js?config=TeX-AMS-MML_SVG\"></script><script type=\"text/javascript\">if (window.MathJax) {MathJax.Hub.Config({SVG: {font: \"STIX-Web\"}});}</script>                <script type=\"text/javascript\">window.PlotlyConfig = {MathJaxConfig: 'local'};</script>\n",
              "        <script src=\"https://cdn.plot.ly/plotly-2.8.3.min.js\"></script>                <div id=\"08665009-ca3f-4c6b-9fb8-47f0ff0c9302\" class=\"plotly-graph-div\" style=\"height:525px; width:100%;\"></div>            <script type=\"text/javascript\">                                    window.PLOTLYENV=window.PLOTLYENV || {};                                    if (document.getElementById(\"08665009-ca3f-4c6b-9fb8-47f0ff0c9302\")) {                    Plotly.newPlot(                        \"08665009-ca3f-4c6b-9fb8-47f0ff0c9302\",                        [{\"labels\":[\"BMY\",\"ABBV\",\"BAX\",\"MOH\",\"NLSN\",\"CERN\",\"HOLX\",\"CL\",\"PTC\",\"MRK\",\"HSY\",\"ABMD\",\"JNJ\",\"CNC\",\"CTXS\",\"LH\",\"LLY\",\"PKG\",\"LDOS\",\"CTLT\"],\"values\":[0.0,0.0,0.0,0.0,0.00534,0.95843,0.0,0.0,0.00437,0.0,0.02078,0.0,0.0,0.0,0.01108,0.0,0.0,0.0,0.0,0.0],\"type\":\"pie\"}],                        {\"template\":{\"data\":{\"bar\":[{\"error_x\":{\"color\":\"#2a3f5f\"},\"error_y\":{\"color\":\"#2a3f5f\"},\"marker\":{\"line\":{\"color\":\"#E5ECF6\",\"width\":0.5},\"pattern\":{\"fillmode\":\"overlay\",\"size\":10,\"solidity\":0.2}},\"type\":\"bar\"}],\"barpolar\":[{\"marker\":{\"line\":{\"color\":\"#E5ECF6\",\"width\":0.5},\"pattern\":{\"fillmode\":\"overlay\",\"size\":10,\"solidity\":0.2}},\"type\":\"barpolar\"}],\"carpet\":[{\"aaxis\":{\"endlinecolor\":\"#2a3f5f\",\"gridcolor\":\"white\",\"linecolor\":\"white\",\"minorgridcolor\":\"white\",\"startlinecolor\":\"#2a3f5f\"},\"baxis\":{\"endlinecolor\":\"#2a3f5f\",\"gridcolor\":\"white\",\"linecolor\":\"white\",\"minorgridcolor\":\"white\",\"startlinecolor\":\"#2a3f5f\"},\"type\":\"carpet\"}],\"choropleth\":[{\"colorbar\":{\"outlinewidth\":0,\"ticks\":\"\"},\"type\":\"choropleth\"}],\"contour\":[{\"colorbar\":{\"outlinewidth\":0,\"ticks\":\"\"},\"colorscale\":[[0.0,\"#0d0887\"],[0.1111111111111111,\"#46039f\"],[0.2222222222222222,\"#7201a8\"],[0.3333333333333333,\"#9c179e\"],[0.4444444444444444,\"#bd3786\"],[0.5555555555555556,\"#d8576b\"],[0.6666666666666666,\"#ed7953\"],[0.7777777777777778,\"#fb9f3a\"],[0.8888888888888888,\"#fdca26\"],[1.0,\"#f0f921\"]],\"type\":\"contour\"}],\"contourcarpet\":[{\"colorbar\":{\"outlinewidth\":0,\"ticks\":\"\"},\"type\":\"contourcarpet\"}],\"heatmap\":[{\"colorbar\":{\"outlinewidth\":0,\"ticks\":\"\"},\"colorscale\":[[0.0,\"#0d0887\"],[0.1111111111111111,\"#46039f\"],[0.2222222222222222,\"#7201a8\"],[0.3333333333333333,\"#9c179e\"],[0.4444444444444444,\"#bd3786\"],[0.5555555555555556,\"#d8576b\"],[0.6666666666666666,\"#ed7953\"],[0.7777777777777778,\"#fb9f3a\"],[0.8888888888888888,\"#fdca26\"],[1.0,\"#f0f921\"]],\"type\":\"heatmap\"}],\"heatmapgl\":[{\"colorbar\":{\"outlinewidth\":0,\"ticks\":\"\"},\"colorscale\":[[0.0,\"#0d0887\"],[0.1111111111111111,\"#46039f\"],[0.2222222222222222,\"#7201a8\"],[0.3333333333333333,\"#9c179e\"],[0.4444444444444444,\"#bd3786\"],[0.5555555555555556,\"#d8576b\"],[0.6666666666666666,\"#ed7953\"],[0.7777777777777778,\"#fb9f3a\"],[0.8888888888888888,\"#fdca26\"],[1.0,\"#f0f921\"]],\"type\":\"heatmapgl\"}],\"histogram\":[{\"marker\":{\"pattern\":{\"fillmode\":\"overlay\",\"size\":10,\"solidity\":0.2}},\"type\":\"histogram\"}],\"histogram2d\":[{\"colorbar\":{\"outlinewidth\":0,\"ticks\":\"\"},\"colorscale\":[[0.0,\"#0d0887\"],[0.1111111111111111,\"#46039f\"],[0.2222222222222222,\"#7201a8\"],[0.3333333333333333,\"#9c179e\"],[0.4444444444444444,\"#bd3786\"],[0.5555555555555556,\"#d8576b\"],[0.6666666666666666,\"#ed7953\"],[0.7777777777777778,\"#fb9f3a\"],[0.8888888888888888,\"#fdca26\"],[1.0,\"#f0f921\"]],\"type\":\"histogram2d\"}],\"histogram2dcontour\":[{\"colorbar\":{\"outlinewidth\":0,\"ticks\":\"\"},\"colorscale\":[[0.0,\"#0d0887\"],[0.1111111111111111,\"#46039f\"],[0.2222222222222222,\"#7201a8\"],[0.3333333333333333,\"#9c179e\"],[0.4444444444444444,\"#bd3786\"],[0.5555555555555556,\"#d8576b\"],[0.6666666666666666,\"#ed7953\"],[0.7777777777777778,\"#fb9f3a\"],[0.8888888888888888,\"#fdca26\"],[1.0,\"#f0f921\"]],\"type\":\"histogram2dcontour\"}],\"mesh3d\":[{\"colorbar\":{\"outlinewidth\":0,\"ticks\":\"\"},\"type\":\"mesh3d\"}],\"parcoords\":[{\"line\":{\"colorbar\":{\"outlinewidth\":0,\"ticks\":\"\"}},\"type\":\"parcoords\"}],\"pie\":[{\"automargin\":true,\"type\":\"pie\"}],\"scatter\":[{\"marker\":{\"colorbar\":{\"outlinewidth\":0,\"ticks\":\"\"}},\"type\":\"scatter\"}],\"scatter3d\":[{\"line\":{\"colorbar\":{\"outlinewidth\":0,\"ticks\":\"\"}},\"marker\":{\"colorbar\":{\"outlinewidth\":0,\"ticks\":\"\"}},\"type\":\"scatter3d\"}],\"scattercarpet\":[{\"marker\":{\"colorbar\":{\"outlinewidth\":0,\"ticks\":\"\"}},\"type\":\"scattercarpet\"}],\"scattergeo\":[{\"marker\":{\"colorbar\":{\"outlinewidth\":0,\"ticks\":\"\"}},\"type\":\"scattergeo\"}],\"scattergl\":[{\"marker\":{\"colorbar\":{\"outlinewidth\":0,\"ticks\":\"\"}},\"type\":\"scattergl\"}],\"scattermapbox\":[{\"marker\":{\"colorbar\":{\"outlinewidth\":0,\"ticks\":\"\"}},\"type\":\"scattermapbox\"}],\"scatterpolar\":[{\"marker\":{\"colorbar\":{\"outlinewidth\":0,\"ticks\":\"\"}},\"type\":\"scatterpolar\"}],\"scatterpolargl\":[{\"marker\":{\"colorbar\":{\"outlinewidth\":0,\"ticks\":\"\"}},\"type\":\"scatterpolargl\"}],\"scatterternary\":[{\"marker\":{\"colorbar\":{\"outlinewidth\":0,\"ticks\":\"\"}},\"type\":\"scatterternary\"}],\"surface\":[{\"colorbar\":{\"outlinewidth\":0,\"ticks\":\"\"},\"colorscale\":[[0.0,\"#0d0887\"],[0.1111111111111111,\"#46039f\"],[0.2222222222222222,\"#7201a8\"],[0.3333333333333333,\"#9c179e\"],[0.4444444444444444,\"#bd3786\"],[0.5555555555555556,\"#d8576b\"],[0.6666666666666666,\"#ed7953\"],[0.7777777777777778,\"#fb9f3a\"],[0.8888888888888888,\"#fdca26\"],[1.0,\"#f0f921\"]],\"type\":\"surface\"}],\"table\":[{\"cells\":{\"fill\":{\"color\":\"#EBF0F8\"},\"line\":{\"color\":\"white\"}},\"header\":{\"fill\":{\"color\":\"#C8D4E3\"},\"line\":{\"color\":\"white\"}},\"type\":\"table\"}]},\"layout\":{\"annotationdefaults\":{\"arrowcolor\":\"#2a3f5f\",\"arrowhead\":0,\"arrowwidth\":1},\"autotypenumbers\":\"strict\",\"coloraxis\":{\"colorbar\":{\"outlinewidth\":0,\"ticks\":\"\"}},\"colorscale\":{\"diverging\":[[0,\"#8e0152\"],[0.1,\"#c51b7d\"],[0.2,\"#de77ae\"],[0.3,\"#f1b6da\"],[0.4,\"#fde0ef\"],[0.5,\"#f7f7f7\"],[0.6,\"#e6f5d0\"],[0.7,\"#b8e186\"],[0.8,\"#7fbc41\"],[0.9,\"#4d9221\"],[1,\"#276419\"]],\"sequential\":[[0.0,\"#0d0887\"],[0.1111111111111111,\"#46039f\"],[0.2222222222222222,\"#7201a8\"],[0.3333333333333333,\"#9c179e\"],[0.4444444444444444,\"#bd3786\"],[0.5555555555555556,\"#d8576b\"],[0.6666666666666666,\"#ed7953\"],[0.7777777777777778,\"#fb9f3a\"],[0.8888888888888888,\"#fdca26\"],[1.0,\"#f0f921\"]],\"sequentialminus\":[[0.0,\"#0d0887\"],[0.1111111111111111,\"#46039f\"],[0.2222222222222222,\"#7201a8\"],[0.3333333333333333,\"#9c179e\"],[0.4444444444444444,\"#bd3786\"],[0.5555555555555556,\"#d8576b\"],[0.6666666666666666,\"#ed7953\"],[0.7777777777777778,\"#fb9f3a\"],[0.8888888888888888,\"#fdca26\"],[1.0,\"#f0f921\"]]},\"colorway\":[\"#636efa\",\"#EF553B\",\"#00cc96\",\"#ab63fa\",\"#FFA15A\",\"#19d3f3\",\"#FF6692\",\"#B6E880\",\"#FF97FF\",\"#FECB52\"],\"font\":{\"color\":\"#2a3f5f\"},\"geo\":{\"bgcolor\":\"white\",\"lakecolor\":\"white\",\"landcolor\":\"#E5ECF6\",\"showlakes\":true,\"showland\":true,\"subunitcolor\":\"white\"},\"hoverlabel\":{\"align\":\"left\"},\"hovermode\":\"closest\",\"mapbox\":{\"style\":\"light\"},\"paper_bgcolor\":\"white\",\"plot_bgcolor\":\"#E5ECF6\",\"polar\":{\"angularaxis\":{\"gridcolor\":\"white\",\"linecolor\":\"white\",\"ticks\":\"\"},\"bgcolor\":\"#E5ECF6\",\"radialaxis\":{\"gridcolor\":\"white\",\"linecolor\":\"white\",\"ticks\":\"\"}},\"scene\":{\"xaxis\":{\"backgroundcolor\":\"#E5ECF6\",\"gridcolor\":\"white\",\"gridwidth\":2,\"linecolor\":\"white\",\"showbackground\":true,\"ticks\":\"\",\"zerolinecolor\":\"white\"},\"yaxis\":{\"backgroundcolor\":\"#E5ECF6\",\"gridcolor\":\"white\",\"gridwidth\":2,\"linecolor\":\"white\",\"showbackground\":true,\"ticks\":\"\",\"zerolinecolor\":\"white\"},\"zaxis\":{\"backgroundcolor\":\"#E5ECF6\",\"gridcolor\":\"white\",\"gridwidth\":2,\"linecolor\":\"white\",\"showbackground\":true,\"ticks\":\"\",\"zerolinecolor\":\"white\"}},\"shapedefaults\":{\"line\":{\"color\":\"#2a3f5f\"}},\"ternary\":{\"aaxis\":{\"gridcolor\":\"white\",\"linecolor\":\"white\",\"ticks\":\"\"},\"baxis\":{\"gridcolor\":\"white\",\"linecolor\":\"white\",\"ticks\":\"\"},\"bgcolor\":\"#E5ECF6\",\"caxis\":{\"gridcolor\":\"white\",\"linecolor\":\"white\",\"ticks\":\"\"}},\"title\":{\"x\":0.05},\"xaxis\":{\"automargin\":true,\"gridcolor\":\"white\",\"linecolor\":\"white\",\"ticks\":\"\",\"title\":{\"standoff\":15},\"zerolinecolor\":\"white\",\"zerolinewidth\":2},\"yaxis\":{\"automargin\":true,\"gridcolor\":\"white\",\"linecolor\":\"white\",\"ticks\":\"\",\"title\":{\"standoff\":15},\"zerolinecolor\":\"white\",\"zerolinewidth\":2}}},\"title\":{\"text\":\"Portfolio Asset Allocation-Strategy 2\"}},                        {\"responsive\": true}                    ).then(function(){\n",
              "                            \n",
              "var gd = document.getElementById('08665009-ca3f-4c6b-9fb8-47f0ff0c9302');\n",
              "var x = new MutationObserver(function (mutations, observer) {{\n",
              "        var display = window.getComputedStyle(gd).display;\n",
              "        if (!display || display === 'none') {{\n",
              "            console.log([gd, 'removed!']);\n",
              "            Plotly.purge(gd);\n",
              "            observer.disconnect();\n",
              "        }}\n",
              "}});\n",
              "\n",
              "// Listen for the removal of the full notebook cells\n",
              "var notebookContainer = gd.closest('#notebook-container');\n",
              "if (notebookContainer) {{\n",
              "    x.observe(notebookContainer, {childList: true});\n",
              "}}\n",
              "\n",
              "// Listen for the clearing of the current output cell\n",
              "var outputEl = gd.closest('.output');\n",
              "if (outputEl) {{\n",
              "    x.observe(outputEl, {childList: true});\n",
              "}}\n",
              "\n",
              "                        })                };                            </script>        </div>\n",
              "</body>\n",
              "</html>"
            ]
          },
          "metadata": {}
        }
      ]
    },
    {
      "cell_type": "code",
      "source": [
        "import yfinance as yf"
      ],
      "metadata": {
        "id": "2L_6kPct7TKc"
      },
      "execution_count": null,
      "outputs": []
    },
    {
      "cell_type": "code",
      "source": [
        "pivoted2"
      ],
      "metadata": {
        "id": "r31LqFfC7sOH"
      },
      "execution_count": null,
      "outputs": []
    },
    {
      "cell_type": "code",
      "source": [
        "# Calculate the cumulative return\n",
        "for t in labels2: \n",
        "  pivoted2[t+'Cum Return'] = pivoted2[t]/pivoted2.iloc[0][t]"
      ],
      "metadata": {
        "id": "jKpqcWKE7TKc"
      },
      "execution_count": null,
      "outputs": []
    },
    {
      "cell_type": "code",
      "source": [
        "# Calculate value of initial investment of 20K in the Portfolio\n",
        "\n",
        "init_investment = 20000\n",
        "for t, alloc in zip(labels2,allocation_pct2):\n",
        "  pivoted2[t+'Value'] = alloc*init_investment*pivoted2[t+'Cum Return']\n"
      ],
      "metadata": {
        "id": "kY4CKiO87TKd"
      },
      "execution_count": null,
      "outputs": []
    },
    {
      "cell_type": "code",
      "source": [
        "SPY['Cum Return']= SPY['close']/SPY.iloc[0]['close']"
      ],
      "metadata": {
        "id": "tOzQT63e7TKd"
      },
      "execution_count": null,
      "outputs": []
    },
    {
      "cell_type": "code",
      "source": [
        "# Calculate value of initial investment of 10K in the SPY\n",
        "SPY['SPY Total'] = init_investment*SPY['Cum Return']\n",
        "SPY['SPY Total'] = round(SPY['SPY Total'])"
      ],
      "metadata": {
        "id": "WQK2oxQm7TKd"
      },
      "execution_count": null,
      "outputs": []
    },
    {
      "cell_type": "code",
      "source": [
        "pivoted2.head()"
      ],
      "metadata": {
        "colab": {
          "base_uri": "https://localhost:8080/",
          "height": 504
        },
        "outputId": "f707b222-605a-46f1-e2c7-244ef01f252f",
        "id": "dMfgph0T7TKd"
      },
      "execution_count": null,
      "outputs": [
        {
          "output_type": "execute_result",
          "data": {
            "text/plain": [
              "symbol                        A        AAL         AAP        AAPL  \\\n",
              "date                                                                 \n",
              "2022-04-29 09:30:00  122.000000  19.445000  208.899994  163.667999   \n",
              "2022-04-29 09:35:00  122.190002  19.459999  208.850006  163.437103   \n",
              "2022-04-29 09:40:00  121.989998  19.301100  208.350006  162.630005   \n",
              "2022-04-29 09:45:00  122.504997  19.350000  208.167206  163.740005   \n",
              "2022-04-29 09:50:00  122.889999  19.360001  208.304993  164.244003   \n",
              "\n",
              "symbol                     ABBV         ABC        ABMD         ABT  \\\n",
              "date                                                                  \n",
              "2022-04-29 09:30:00  146.380005  156.664993  287.612488  117.470001   \n",
              "2022-04-29 09:35:00  144.904999  155.970001  285.154999  117.099899   \n",
              "2022-04-29 09:40:00  144.837601  155.770004  285.200012  116.720001   \n",
              "2022-04-29 09:45:00  140.889999  156.050003  288.820007  116.730003   \n",
              "2022-04-29 09:50:00  141.419998  155.789993  289.369995  117.190002   \n",
              "\n",
              "symbol                      ACN        ADBE  ...    HSYValue  ABMDValue  \\\n",
              "date                                         ...                          \n",
              "2022-04-29 09:30:00  310.894989  408.260010  ...  415.600000        0.0   \n",
              "2022-04-29 09:35:00  311.390015  409.001892  ...  414.627602        0.0   \n",
              "2022-04-29 09:40:00  310.355011  408.170013  ...  414.600083        0.0   \n",
              "2022-04-29 09:45:00  309.880005  409.540009  ...  416.168758        0.0   \n",
              "2022-04-29 09:50:00  309.265015  410.570007  ...  414.306521        0.0   \n",
              "\n",
              "symbol               JNJValue  CNCValue   CTXSValue  LHValue  LLYValue  \\\n",
              "date                                                                     \n",
              "2022-04-29 09:30:00       0.0       0.0  221.600000      0.0       0.0   \n",
              "2022-04-29 09:35:00       0.0       0.0  221.479081      0.0       0.0   \n",
              "2022-04-29 09:40:00       0.0       0.0  221.468094      0.0       0.0   \n",
              "2022-04-29 09:45:00       0.0       0.0  221.542836      0.0       0.0   \n",
              "2022-04-29 09:50:00       0.0       0.0  221.457107      0.0       0.0   \n",
              "\n",
              "symbol               PKGValue  LDOSValue  CTLTValue  \n",
              "date                                                 \n",
              "2022-04-29 09:30:00       0.0        0.0        0.0  \n",
              "2022-04-29 09:35:00       0.0        0.0        0.0  \n",
              "2022-04-29 09:40:00       0.0        0.0        0.0  \n",
              "2022-04-29 09:45:00       0.0        0.0        0.0  \n",
              "2022-04-29 09:50:00       0.0        0.0        0.0  \n",
              "\n",
              "[5 rows x 542 columns]"
            ],
            "text/html": [
              "\n",
              "  <div id=\"df-96b7fbfb-e18c-4269-83a9-b02a8eaaa2f1\">\n",
              "    <div class=\"colab-df-container\">\n",
              "      <div>\n",
              "<style scoped>\n",
              "    .dataframe tbody tr th:only-of-type {\n",
              "        vertical-align: middle;\n",
              "    }\n",
              "\n",
              "    .dataframe tbody tr th {\n",
              "        vertical-align: top;\n",
              "    }\n",
              "\n",
              "    .dataframe thead th {\n",
              "        text-align: right;\n",
              "    }\n",
              "</style>\n",
              "<table border=\"1\" class=\"dataframe\">\n",
              "  <thead>\n",
              "    <tr style=\"text-align: right;\">\n",
              "      <th>symbol</th>\n",
              "      <th>A</th>\n",
              "      <th>AAL</th>\n",
              "      <th>AAP</th>\n",
              "      <th>AAPL</th>\n",
              "      <th>ABBV</th>\n",
              "      <th>ABC</th>\n",
              "      <th>ABMD</th>\n",
              "      <th>ABT</th>\n",
              "      <th>ACN</th>\n",
              "      <th>ADBE</th>\n",
              "      <th>...</th>\n",
              "      <th>HSYValue</th>\n",
              "      <th>ABMDValue</th>\n",
              "      <th>JNJValue</th>\n",
              "      <th>CNCValue</th>\n",
              "      <th>CTXSValue</th>\n",
              "      <th>LHValue</th>\n",
              "      <th>LLYValue</th>\n",
              "      <th>PKGValue</th>\n",
              "      <th>LDOSValue</th>\n",
              "      <th>CTLTValue</th>\n",
              "    </tr>\n",
              "    <tr>\n",
              "      <th>date</th>\n",
              "      <th></th>\n",
              "      <th></th>\n",
              "      <th></th>\n",
              "      <th></th>\n",
              "      <th></th>\n",
              "      <th></th>\n",
              "      <th></th>\n",
              "      <th></th>\n",
              "      <th></th>\n",
              "      <th></th>\n",
              "      <th></th>\n",
              "      <th></th>\n",
              "      <th></th>\n",
              "      <th></th>\n",
              "      <th></th>\n",
              "      <th></th>\n",
              "      <th></th>\n",
              "      <th></th>\n",
              "      <th></th>\n",
              "      <th></th>\n",
              "      <th></th>\n",
              "    </tr>\n",
              "  </thead>\n",
              "  <tbody>\n",
              "    <tr>\n",
              "      <th>2022-04-29 09:30:00</th>\n",
              "      <td>122.000000</td>\n",
              "      <td>19.445000</td>\n",
              "      <td>208.899994</td>\n",
              "      <td>163.667999</td>\n",
              "      <td>146.380005</td>\n",
              "      <td>156.664993</td>\n",
              "      <td>287.612488</td>\n",
              "      <td>117.470001</td>\n",
              "      <td>310.894989</td>\n",
              "      <td>408.260010</td>\n",
              "      <td>...</td>\n",
              "      <td>415.600000</td>\n",
              "      <td>0.0</td>\n",
              "      <td>0.0</td>\n",
              "      <td>0.0</td>\n",
              "      <td>221.600000</td>\n",
              "      <td>0.0</td>\n",
              "      <td>0.0</td>\n",
              "      <td>0.0</td>\n",
              "      <td>0.0</td>\n",
              "      <td>0.0</td>\n",
              "    </tr>\n",
              "    <tr>\n",
              "      <th>2022-04-29 09:35:00</th>\n",
              "      <td>122.190002</td>\n",
              "      <td>19.459999</td>\n",
              "      <td>208.850006</td>\n",
              "      <td>163.437103</td>\n",
              "      <td>144.904999</td>\n",
              "      <td>155.970001</td>\n",
              "      <td>285.154999</td>\n",
              "      <td>117.099899</td>\n",
              "      <td>311.390015</td>\n",
              "      <td>409.001892</td>\n",
              "      <td>...</td>\n",
              "      <td>414.627602</td>\n",
              "      <td>0.0</td>\n",
              "      <td>0.0</td>\n",
              "      <td>0.0</td>\n",
              "      <td>221.479081</td>\n",
              "      <td>0.0</td>\n",
              "      <td>0.0</td>\n",
              "      <td>0.0</td>\n",
              "      <td>0.0</td>\n",
              "      <td>0.0</td>\n",
              "    </tr>\n",
              "    <tr>\n",
              "      <th>2022-04-29 09:40:00</th>\n",
              "      <td>121.989998</td>\n",
              "      <td>19.301100</td>\n",
              "      <td>208.350006</td>\n",
              "      <td>162.630005</td>\n",
              "      <td>144.837601</td>\n",
              "      <td>155.770004</td>\n",
              "      <td>285.200012</td>\n",
              "      <td>116.720001</td>\n",
              "      <td>310.355011</td>\n",
              "      <td>408.170013</td>\n",
              "      <td>...</td>\n",
              "      <td>414.600083</td>\n",
              "      <td>0.0</td>\n",
              "      <td>0.0</td>\n",
              "      <td>0.0</td>\n",
              "      <td>221.468094</td>\n",
              "      <td>0.0</td>\n",
              "      <td>0.0</td>\n",
              "      <td>0.0</td>\n",
              "      <td>0.0</td>\n",
              "      <td>0.0</td>\n",
              "    </tr>\n",
              "    <tr>\n",
              "      <th>2022-04-29 09:45:00</th>\n",
              "      <td>122.504997</td>\n",
              "      <td>19.350000</td>\n",
              "      <td>208.167206</td>\n",
              "      <td>163.740005</td>\n",
              "      <td>140.889999</td>\n",
              "      <td>156.050003</td>\n",
              "      <td>288.820007</td>\n",
              "      <td>116.730003</td>\n",
              "      <td>309.880005</td>\n",
              "      <td>409.540009</td>\n",
              "      <td>...</td>\n",
              "      <td>416.168758</td>\n",
              "      <td>0.0</td>\n",
              "      <td>0.0</td>\n",
              "      <td>0.0</td>\n",
              "      <td>221.542836</td>\n",
              "      <td>0.0</td>\n",
              "      <td>0.0</td>\n",
              "      <td>0.0</td>\n",
              "      <td>0.0</td>\n",
              "      <td>0.0</td>\n",
              "    </tr>\n",
              "    <tr>\n",
              "      <th>2022-04-29 09:50:00</th>\n",
              "      <td>122.889999</td>\n",
              "      <td>19.360001</td>\n",
              "      <td>208.304993</td>\n",
              "      <td>164.244003</td>\n",
              "      <td>141.419998</td>\n",
              "      <td>155.789993</td>\n",
              "      <td>289.369995</td>\n",
              "      <td>117.190002</td>\n",
              "      <td>309.265015</td>\n",
              "      <td>410.570007</td>\n",
              "      <td>...</td>\n",
              "      <td>414.306521</td>\n",
              "      <td>0.0</td>\n",
              "      <td>0.0</td>\n",
              "      <td>0.0</td>\n",
              "      <td>221.457107</td>\n",
              "      <td>0.0</td>\n",
              "      <td>0.0</td>\n",
              "      <td>0.0</td>\n",
              "      <td>0.0</td>\n",
              "      <td>0.0</td>\n",
              "    </tr>\n",
              "  </tbody>\n",
              "</table>\n",
              "<p>5 rows × 542 columns</p>\n",
              "</div>\n",
              "      <button class=\"colab-df-convert\" onclick=\"convertToInteractive('df-96b7fbfb-e18c-4269-83a9-b02a8eaaa2f1')\"\n",
              "              title=\"Convert this dataframe to an interactive table.\"\n",
              "              style=\"display:none;\">\n",
              "        \n",
              "  <svg xmlns=\"http://www.w3.org/2000/svg\" height=\"24px\"viewBox=\"0 0 24 24\"\n",
              "       width=\"24px\">\n",
              "    <path d=\"M0 0h24v24H0V0z\" fill=\"none\"/>\n",
              "    <path d=\"M18.56 5.44l.94 2.06.94-2.06 2.06-.94-2.06-.94-.94-2.06-.94 2.06-2.06.94zm-11 1L8.5 8.5l.94-2.06 2.06-.94-2.06-.94L8.5 2.5l-.94 2.06-2.06.94zm10 10l.94 2.06.94-2.06 2.06-.94-2.06-.94-.94-2.06-.94 2.06-2.06.94z\"/><path d=\"M17.41 7.96l-1.37-1.37c-.4-.4-.92-.59-1.43-.59-.52 0-1.04.2-1.43.59L10.3 9.45l-7.72 7.72c-.78.78-.78 2.05 0 2.83L4 21.41c.39.39.9.59 1.41.59.51 0 1.02-.2 1.41-.59l7.78-7.78 2.81-2.81c.8-.78.8-2.07 0-2.86zM5.41 20L4 18.59l7.72-7.72 1.47 1.35L5.41 20z\"/>\n",
              "  </svg>\n",
              "      </button>\n",
              "      \n",
              "  <style>\n",
              "    .colab-df-container {\n",
              "      display:flex;\n",
              "      flex-wrap:wrap;\n",
              "      gap: 12px;\n",
              "    }\n",
              "\n",
              "    .colab-df-convert {\n",
              "      background-color: #E8F0FE;\n",
              "      border: none;\n",
              "      border-radius: 50%;\n",
              "      cursor: pointer;\n",
              "      display: none;\n",
              "      fill: #1967D2;\n",
              "      height: 32px;\n",
              "      padding: 0 0 0 0;\n",
              "      width: 32px;\n",
              "    }\n",
              "\n",
              "    .colab-df-convert:hover {\n",
              "      background-color: #E2EBFA;\n",
              "      box-shadow: 0px 1px 2px rgba(60, 64, 67, 0.3), 0px 1px 3px 1px rgba(60, 64, 67, 0.15);\n",
              "      fill: #174EA6;\n",
              "    }\n",
              "\n",
              "    [theme=dark] .colab-df-convert {\n",
              "      background-color: #3B4455;\n",
              "      fill: #D2E3FC;\n",
              "    }\n",
              "\n",
              "    [theme=dark] .colab-df-convert:hover {\n",
              "      background-color: #434B5C;\n",
              "      box-shadow: 0px 1px 3px 1px rgba(0, 0, 0, 0.15);\n",
              "      filter: drop-shadow(0px 1px 2px rgba(0, 0, 0, 0.3));\n",
              "      fill: #FFFFFF;\n",
              "    }\n",
              "  </style>\n",
              "\n",
              "      <script>\n",
              "        const buttonEl =\n",
              "          document.querySelector('#df-96b7fbfb-e18c-4269-83a9-b02a8eaaa2f1 button.colab-df-convert');\n",
              "        buttonEl.style.display =\n",
              "          google.colab.kernel.accessAllowed ? 'block' : 'none';\n",
              "\n",
              "        async function convertToInteractive(key) {\n",
              "          const element = document.querySelector('#df-96b7fbfb-e18c-4269-83a9-b02a8eaaa2f1');\n",
              "          const dataTable =\n",
              "            await google.colab.kernel.invokeFunction('convertToInteractive',\n",
              "                                                     [key], {});\n",
              "          if (!dataTable) return;\n",
              "\n",
              "          const docLinkHtml = 'Like what you see? Visit the ' +\n",
              "            '<a target=\"_blank\" href=https://colab.research.google.com/notebooks/data_table.ipynb>data table notebook</a>'\n",
              "            + ' to learn more about interactive tables.';\n",
              "          element.innerHTML = '';\n",
              "          dataTable['output_type'] = 'display_data';\n",
              "          await google.colab.output.renderOutput(dataTable, element);\n",
              "          const docLink = document.createElement('div');\n",
              "          docLink.innerHTML = docLinkHtml;\n",
              "          element.appendChild(docLink);\n",
              "        }\n",
              "      </script>\n",
              "    </div>\n",
              "  </div>\n",
              "  "
            ]
          },
          "metadata": {},
          "execution_count": 570
        }
      ]
    },
    {
      "cell_type": "code",
      "source": [
        "# Combine All values\n",
        "all_vals2 =[pivoted2[t+'Value'] for t in labels2]\n",
        "portfolio_val2 = pd.concat(all_vals2, axis=1)\n",
        "portfolio_val2.columns = labels2"
      ],
      "metadata": {
        "id": "vcZOKeTY7TKe"
      },
      "execution_count": null,
      "outputs": []
    },
    {
      "cell_type": "code",
      "source": [
        "# Calculate Cumulative Return and Cumulative Return %\n",
        "portfolio_val2['Portfolio2 Total'] = round(portfolio_val2.sum(axis=1))\n",
        "portfolio_val2['Cum Return2'] = portfolio_val2['Portfolio2 Total']/portfolio_val2.iloc[0]['Portfolio2 Total']"
      ],
      "metadata": {
        "id": "beQP9D347TKf"
      },
      "execution_count": null,
      "outputs": []
    },
    {
      "cell_type": "code",
      "source": [
        "portfolio_val2['Cum Return2 %'] = (portfolio_val2['Cum Return2'] - 1) * 100\n",
        "#SPY['Cum Return %'] = (SPY['Cum Return'] - 1) * 100\n",
        "#SPY.tail()"
      ],
      "metadata": {
        "id": "2XCa3-eM7TKf"
      },
      "execution_count": null,
      "outputs": []
    },
    {
      "cell_type": "code",
      "source": [
        "SPY.reset_index()"
      ],
      "metadata": {
        "colab": {
          "base_uri": "https://localhost:8080/",
          "height": 423
        },
        "outputId": "2657f6bc-b341-47a6-ba0e-cfd7e8f65209",
        "id": "dJdVmI-_7TKf"
      },
      "execution_count": null,
      "outputs": [
        {
          "output_type": "execute_result",
          "data": {
            "text/plain": [
              "    index symbol                date        high    volume         low  \\\n",
              "0       0    SPY 2022-04-29 09:30:00  424.670013   4306819  422.679993   \n",
              "1       1    SPY 2022-04-29 09:35:00  424.880005   1558077  423.309998   \n",
              "2       2    SPY 2022-04-29 09:40:00  424.220001   1220415  422.690002   \n",
              "3       3    SPY 2022-04-29 09:45:00  423.660004   1143666  422.575012   \n",
              "4       4    SPY 2022-04-29 09:50:00  424.000000   1054068  422.929993   \n",
              "..    ...    ...                 ...         ...       ...         ...   \n",
              "74     74    SPY 2022-04-29 15:40:00  415.149994   2830363  414.010010   \n",
              "75     75    SPY 2022-04-29 15:45:00  414.269989   5219374  412.760010   \n",
              "76     76    SPY 2022-04-29 15:50:00  412.839996   8360271  411.510010   \n",
              "77     77    SPY 2022-04-29 15:55:00  412.450012  13940810  411.209991   \n",
              "78     78    SPY 2022-04-29 16:00:00  412.000000         0  412.000000   \n",
              "\n",
              "          open       close  Cum Return  SPY Total  Cum Return %  \n",
              "0   423.589996  424.442993    1.000000    20000.0      0.000000  \n",
              "1   424.450012  423.829987    0.998556    19971.0     -0.144426  \n",
              "2   423.820007  422.859985    0.996270    19925.0     -0.372961  \n",
              "3   422.869995  423.380005    0.997496    19950.0     -0.250443  \n",
              "4   423.320007  423.555603    0.997909    19958.0     -0.209072  \n",
              "..         ...         ...         ...        ...           ...  \n",
              "74  414.614990  414.079987    0.975584    19512.0     -2.441554  \n",
              "75  414.059998  412.839996    0.972663    19453.0     -2.733700  \n",
              "76  412.839996  411.869995    0.970378    19408.0     -2.962235  \n",
              "77  411.859985  412.019989    0.970731    19415.0     -2.926896  \n",
              "78  412.000000  412.000000    0.970684    19414.0     -2.931605  \n",
              "\n",
              "[79 rows x 11 columns]"
            ],
            "text/html": [
              "\n",
              "  <div id=\"df-d597ae66-6e29-4d9f-b2fc-87f33a441639\">\n",
              "    <div class=\"colab-df-container\">\n",
              "      <div>\n",
              "<style scoped>\n",
              "    .dataframe tbody tr th:only-of-type {\n",
              "        vertical-align: middle;\n",
              "    }\n",
              "\n",
              "    .dataframe tbody tr th {\n",
              "        vertical-align: top;\n",
              "    }\n",
              "\n",
              "    .dataframe thead th {\n",
              "        text-align: right;\n",
              "    }\n",
              "</style>\n",
              "<table border=\"1\" class=\"dataframe\">\n",
              "  <thead>\n",
              "    <tr style=\"text-align: right;\">\n",
              "      <th></th>\n",
              "      <th>index</th>\n",
              "      <th>symbol</th>\n",
              "      <th>date</th>\n",
              "      <th>high</th>\n",
              "      <th>volume</th>\n",
              "      <th>low</th>\n",
              "      <th>open</th>\n",
              "      <th>close</th>\n",
              "      <th>Cum Return</th>\n",
              "      <th>SPY Total</th>\n",
              "      <th>Cum Return %</th>\n",
              "    </tr>\n",
              "  </thead>\n",
              "  <tbody>\n",
              "    <tr>\n",
              "      <th>0</th>\n",
              "      <td>0</td>\n",
              "      <td>SPY</td>\n",
              "      <td>2022-04-29 09:30:00</td>\n",
              "      <td>424.670013</td>\n",
              "      <td>4306819</td>\n",
              "      <td>422.679993</td>\n",
              "      <td>423.589996</td>\n",
              "      <td>424.442993</td>\n",
              "      <td>1.000000</td>\n",
              "      <td>20000.0</td>\n",
              "      <td>0.000000</td>\n",
              "    </tr>\n",
              "    <tr>\n",
              "      <th>1</th>\n",
              "      <td>1</td>\n",
              "      <td>SPY</td>\n",
              "      <td>2022-04-29 09:35:00</td>\n",
              "      <td>424.880005</td>\n",
              "      <td>1558077</td>\n",
              "      <td>423.309998</td>\n",
              "      <td>424.450012</td>\n",
              "      <td>423.829987</td>\n",
              "      <td>0.998556</td>\n",
              "      <td>19971.0</td>\n",
              "      <td>-0.144426</td>\n",
              "    </tr>\n",
              "    <tr>\n",
              "      <th>2</th>\n",
              "      <td>2</td>\n",
              "      <td>SPY</td>\n",
              "      <td>2022-04-29 09:40:00</td>\n",
              "      <td>424.220001</td>\n",
              "      <td>1220415</td>\n",
              "      <td>422.690002</td>\n",
              "      <td>423.820007</td>\n",
              "      <td>422.859985</td>\n",
              "      <td>0.996270</td>\n",
              "      <td>19925.0</td>\n",
              "      <td>-0.372961</td>\n",
              "    </tr>\n",
              "    <tr>\n",
              "      <th>3</th>\n",
              "      <td>3</td>\n",
              "      <td>SPY</td>\n",
              "      <td>2022-04-29 09:45:00</td>\n",
              "      <td>423.660004</td>\n",
              "      <td>1143666</td>\n",
              "      <td>422.575012</td>\n",
              "      <td>422.869995</td>\n",
              "      <td>423.380005</td>\n",
              "      <td>0.997496</td>\n",
              "      <td>19950.0</td>\n",
              "      <td>-0.250443</td>\n",
              "    </tr>\n",
              "    <tr>\n",
              "      <th>4</th>\n",
              "      <td>4</td>\n",
              "      <td>SPY</td>\n",
              "      <td>2022-04-29 09:50:00</td>\n",
              "      <td>424.000000</td>\n",
              "      <td>1054068</td>\n",
              "      <td>422.929993</td>\n",
              "      <td>423.320007</td>\n",
              "      <td>423.555603</td>\n",
              "      <td>0.997909</td>\n",
              "      <td>19958.0</td>\n",
              "      <td>-0.209072</td>\n",
              "    </tr>\n",
              "    <tr>\n",
              "      <th>...</th>\n",
              "      <td>...</td>\n",
              "      <td>...</td>\n",
              "      <td>...</td>\n",
              "      <td>...</td>\n",
              "      <td>...</td>\n",
              "      <td>...</td>\n",
              "      <td>...</td>\n",
              "      <td>...</td>\n",
              "      <td>...</td>\n",
              "      <td>...</td>\n",
              "      <td>...</td>\n",
              "    </tr>\n",
              "    <tr>\n",
              "      <th>74</th>\n",
              "      <td>74</td>\n",
              "      <td>SPY</td>\n",
              "      <td>2022-04-29 15:40:00</td>\n",
              "      <td>415.149994</td>\n",
              "      <td>2830363</td>\n",
              "      <td>414.010010</td>\n",
              "      <td>414.614990</td>\n",
              "      <td>414.079987</td>\n",
              "      <td>0.975584</td>\n",
              "      <td>19512.0</td>\n",
              "      <td>-2.441554</td>\n",
              "    </tr>\n",
              "    <tr>\n",
              "      <th>75</th>\n",
              "      <td>75</td>\n",
              "      <td>SPY</td>\n",
              "      <td>2022-04-29 15:45:00</td>\n",
              "      <td>414.269989</td>\n",
              "      <td>5219374</td>\n",
              "      <td>412.760010</td>\n",
              "      <td>414.059998</td>\n",
              "      <td>412.839996</td>\n",
              "      <td>0.972663</td>\n",
              "      <td>19453.0</td>\n",
              "      <td>-2.733700</td>\n",
              "    </tr>\n",
              "    <tr>\n",
              "      <th>76</th>\n",
              "      <td>76</td>\n",
              "      <td>SPY</td>\n",
              "      <td>2022-04-29 15:50:00</td>\n",
              "      <td>412.839996</td>\n",
              "      <td>8360271</td>\n",
              "      <td>411.510010</td>\n",
              "      <td>412.839996</td>\n",
              "      <td>411.869995</td>\n",
              "      <td>0.970378</td>\n",
              "      <td>19408.0</td>\n",
              "      <td>-2.962235</td>\n",
              "    </tr>\n",
              "    <tr>\n",
              "      <th>77</th>\n",
              "      <td>77</td>\n",
              "      <td>SPY</td>\n",
              "      <td>2022-04-29 15:55:00</td>\n",
              "      <td>412.450012</td>\n",
              "      <td>13940810</td>\n",
              "      <td>411.209991</td>\n",
              "      <td>411.859985</td>\n",
              "      <td>412.019989</td>\n",
              "      <td>0.970731</td>\n",
              "      <td>19415.0</td>\n",
              "      <td>-2.926896</td>\n",
              "    </tr>\n",
              "    <tr>\n",
              "      <th>78</th>\n",
              "      <td>78</td>\n",
              "      <td>SPY</td>\n",
              "      <td>2022-04-29 16:00:00</td>\n",
              "      <td>412.000000</td>\n",
              "      <td>0</td>\n",
              "      <td>412.000000</td>\n",
              "      <td>412.000000</td>\n",
              "      <td>412.000000</td>\n",
              "      <td>0.970684</td>\n",
              "      <td>19414.0</td>\n",
              "      <td>-2.931605</td>\n",
              "    </tr>\n",
              "  </tbody>\n",
              "</table>\n",
              "<p>79 rows × 11 columns</p>\n",
              "</div>\n",
              "      <button class=\"colab-df-convert\" onclick=\"convertToInteractive('df-d597ae66-6e29-4d9f-b2fc-87f33a441639')\"\n",
              "              title=\"Convert this dataframe to an interactive table.\"\n",
              "              style=\"display:none;\">\n",
              "        \n",
              "  <svg xmlns=\"http://www.w3.org/2000/svg\" height=\"24px\"viewBox=\"0 0 24 24\"\n",
              "       width=\"24px\">\n",
              "    <path d=\"M0 0h24v24H0V0z\" fill=\"none\"/>\n",
              "    <path d=\"M18.56 5.44l.94 2.06.94-2.06 2.06-.94-2.06-.94-.94-2.06-.94 2.06-2.06.94zm-11 1L8.5 8.5l.94-2.06 2.06-.94-2.06-.94L8.5 2.5l-.94 2.06-2.06.94zm10 10l.94 2.06.94-2.06 2.06-.94-2.06-.94-.94-2.06-.94 2.06-2.06.94z\"/><path d=\"M17.41 7.96l-1.37-1.37c-.4-.4-.92-.59-1.43-.59-.52 0-1.04.2-1.43.59L10.3 9.45l-7.72 7.72c-.78.78-.78 2.05 0 2.83L4 21.41c.39.39.9.59 1.41.59.51 0 1.02-.2 1.41-.59l7.78-7.78 2.81-2.81c.8-.78.8-2.07 0-2.86zM5.41 20L4 18.59l7.72-7.72 1.47 1.35L5.41 20z\"/>\n",
              "  </svg>\n",
              "      </button>\n",
              "      \n",
              "  <style>\n",
              "    .colab-df-container {\n",
              "      display:flex;\n",
              "      flex-wrap:wrap;\n",
              "      gap: 12px;\n",
              "    }\n",
              "\n",
              "    .colab-df-convert {\n",
              "      background-color: #E8F0FE;\n",
              "      border: none;\n",
              "      border-radius: 50%;\n",
              "      cursor: pointer;\n",
              "      display: none;\n",
              "      fill: #1967D2;\n",
              "      height: 32px;\n",
              "      padding: 0 0 0 0;\n",
              "      width: 32px;\n",
              "    }\n",
              "\n",
              "    .colab-df-convert:hover {\n",
              "      background-color: #E2EBFA;\n",
              "      box-shadow: 0px 1px 2px rgba(60, 64, 67, 0.3), 0px 1px 3px 1px rgba(60, 64, 67, 0.15);\n",
              "      fill: #174EA6;\n",
              "    }\n",
              "\n",
              "    [theme=dark] .colab-df-convert {\n",
              "      background-color: #3B4455;\n",
              "      fill: #D2E3FC;\n",
              "    }\n",
              "\n",
              "    [theme=dark] .colab-df-convert:hover {\n",
              "      background-color: #434B5C;\n",
              "      box-shadow: 0px 1px 3px 1px rgba(0, 0, 0, 0.15);\n",
              "      filter: drop-shadow(0px 1px 2px rgba(0, 0, 0, 0.3));\n",
              "      fill: #FFFFFF;\n",
              "    }\n",
              "  </style>\n",
              "\n",
              "      <script>\n",
              "        const buttonEl =\n",
              "          document.querySelector('#df-d597ae66-6e29-4d9f-b2fc-87f33a441639 button.colab-df-convert');\n",
              "        buttonEl.style.display =\n",
              "          google.colab.kernel.accessAllowed ? 'block' : 'none';\n",
              "\n",
              "        async function convertToInteractive(key) {\n",
              "          const element = document.querySelector('#df-d597ae66-6e29-4d9f-b2fc-87f33a441639');\n",
              "          const dataTable =\n",
              "            await google.colab.kernel.invokeFunction('convertToInteractive',\n",
              "                                                     [key], {});\n",
              "          if (!dataTable) return;\n",
              "\n",
              "          const docLinkHtml = 'Like what you see? Visit the ' +\n",
              "            '<a target=\"_blank\" href=https://colab.research.google.com/notebooks/data_table.ipynb>data table notebook</a>'\n",
              "            + ' to learn more about interactive tables.';\n",
              "          element.innerHTML = '';\n",
              "          dataTable['output_type'] = 'display_data';\n",
              "          await google.colab.output.renderOutput(dataTable, element);\n",
              "          const docLink = document.createElement('div');\n",
              "          docLink.innerHTML = docLinkHtml;\n",
              "          element.appendChild(docLink);\n",
              "        }\n",
              "      </script>\n",
              "    </div>\n",
              "  </div>\n",
              "  "
            ]
          },
          "metadata": {},
          "execution_count": 360
        }
      ]
    },
    {
      "cell_type": "code",
      "source": [
        "# Visualize Portfolio Value and Compare it to SPY benchmark\n",
        "import plotly.graph_objects as go\n",
        "fig = go.Figure()\n",
        "fig.add_trace(go.Scatter(x=portfolio_val2.index, y=portfolio_val2['Portfolio2 Total'], name='Portfolio2 Total'))\n",
        "fig.add_trace(go.Scatter(x=SPY.date, y=SPY['SPY Total'],name='SPY Total'))\n",
        "fig.update_layout(title=\"Portfolio2 Value\")"
      ],
      "metadata": {
        "colab": {
          "base_uri": "https://localhost:8080/",
          "height": 542
        },
        "outputId": "d54b5e92-3faa-47f3-cf70-65dd7d7a4129",
        "id": "LfaXkH7Y7TKf"
      },
      "execution_count": null,
      "outputs": [
        {
          "output_type": "display_data",
          "data": {
            "text/html": [
              "<html>\n",
              "<head><meta charset=\"utf-8\" /></head>\n",
              "<body>\n",
              "    <div>            <script src=\"https://cdnjs.cloudflare.com/ajax/libs/mathjax/2.7.5/MathJax.js?config=TeX-AMS-MML_SVG\"></script><script type=\"text/javascript\">if (window.MathJax) {MathJax.Hub.Config({SVG: {font: \"STIX-Web\"}});}</script>                <script type=\"text/javascript\">window.PlotlyConfig = {MathJaxConfig: 'local'};</script>\n",
              "        <script src=\"https://cdn.plot.ly/plotly-2.8.3.min.js\"></script>                <div id=\"a677ec08-e67f-475e-a654-155e4b5e518e\" class=\"plotly-graph-div\" style=\"height:525px; width:100%;\"></div>            <script type=\"text/javascript\">                                    window.PLOTLYENV=window.PLOTLYENV || {};                                    if (document.getElementById(\"a677ec08-e67f-475e-a654-155e4b5e518e\")) {                    Plotly.newPlot(                        \"a677ec08-e67f-475e-a654-155e4b5e518e\",                        [{\"name\":\"Portfolio2 Total\",\"x\":[\"2022-04-29T09:30:00\",\"2022-04-29T09:35:00\",\"2022-04-29T09:40:00\",\"2022-04-29T09:45:00\",\"2022-04-29T09:50:00\",\"2022-04-29T09:55:00\",\"2022-04-29T10:00:00\",\"2022-04-29T10:05:00\",\"2022-04-29T10:10:00\",\"2022-04-29T10:15:00\",\"2022-04-29T10:20:00\",\"2022-04-29T10:25:00\",\"2022-04-29T10:30:00\",\"2022-04-29T10:35:00\",\"2022-04-29T10:40:00\",\"2022-04-29T10:45:00\",\"2022-04-29T10:50:00\",\"2022-04-29T10:55:00\",\"2022-04-29T11:00:00\",\"2022-04-29T11:05:00\",\"2022-04-29T11:10:00\",\"2022-04-29T11:15:00\",\"2022-04-29T11:20:00\",\"2022-04-29T11:25:00\",\"2022-04-29T11:30:00\",\"2022-04-29T11:35:00\",\"2022-04-29T11:40:00\",\"2022-04-29T11:45:00\",\"2022-04-29T11:50:00\",\"2022-04-29T11:55:00\",\"2022-04-29T12:00:00\",\"2022-04-29T12:05:00\",\"2022-04-29T12:10:00\",\"2022-04-29T12:15:00\",\"2022-04-29T12:20:00\",\"2022-04-29T12:25:00\",\"2022-04-29T12:30:00\",\"2022-04-29T12:35:00\",\"2022-04-29T12:40:00\",\"2022-04-29T12:45:00\",\"2022-04-29T12:50:00\",\"2022-04-29T12:55:00\",\"2022-04-29T13:00:00\",\"2022-04-29T13:05:00\",\"2022-04-29T13:10:00\",\"2022-04-29T13:15:00\",\"2022-04-29T13:20:00\",\"2022-04-29T13:25:00\",\"2022-04-29T13:30:00\",\"2022-04-29T13:35:00\",\"2022-04-29T13:40:00\",\"2022-04-29T13:45:00\",\"2022-04-29T13:50:00\",\"2022-04-29T13:55:00\",\"2022-04-29T14:00:00\",\"2022-04-29T14:05:00\",\"2022-04-29T14:10:00\",\"2022-04-29T14:15:00\",\"2022-04-29T14:20:00\",\"2022-04-29T14:25:00\",\"2022-04-29T14:30:00\",\"2022-04-29T14:35:00\",\"2022-04-29T14:40:00\",\"2022-04-29T14:45:00\",\"2022-04-29T14:50:00\",\"2022-04-29T14:55:00\",\"2022-04-29T15:00:00\",\"2022-04-29T15:05:00\",\"2022-04-29T15:10:00\",\"2022-04-29T15:15:00\",\"2022-04-29T15:20:00\",\"2022-04-29T15:25:00\",\"2022-04-29T15:30:00\",\"2022-04-29T15:35:00\",\"2022-04-29T15:40:00\",\"2022-04-29T15:45:00\",\"2022-04-29T15:50:00\",\"2022-04-29T15:55:00\",\"2022-04-29T16:00:00\"],\"y\":[20000.0,19998.0,20000.0,20000.0,20001.0,20011.0,20020.0,20016.0,20014.0,20011.0,20011.0,20005.0,20000.0,20005.0,20006.0,20003.0,20005.0,20009.0,20005.0,20006.0,20009.0,20011.0,20010.0,20013.0,20010.0,20011.0,20008.0,20007.0,20007.0,20005.0,20010.0,20014.0,20005.0,20004.0,20005.0,20010.0,20008.0,20007.0,20007.0,20007.0,20005.0,20009.0,20007.0,20010.0,20009.0,20009.0,20008.0,20010.0,20008.0,20009.0,20006.0,20008.0,20005.0,20003.0,20003.0,20006.0,20006.0,20004.0,20004.0,20002.0,20000.0,19997.0,19999.0,19997.0,19995.0,19992.0,19987.0,19989.0,19992.0,19991.0,19986.0,19987.0,19988.0,19990.0,19989.0,19993.0,19978.0,19984.0,19978.0],\"type\":\"scatter\"},{\"name\":\"SPY Total\",\"x\":[\"2022-04-29T09:30:00\",\"2022-04-29T09:35:00\",\"2022-04-29T09:40:00\",\"2022-04-29T09:45:00\",\"2022-04-29T09:50:00\",\"2022-04-29T09:55:00\",\"2022-04-29T10:00:00\",\"2022-04-29T10:05:00\",\"2022-04-29T10:10:00\",\"2022-04-29T10:15:00\",\"2022-04-29T10:20:00\",\"2022-04-29T10:25:00\",\"2022-04-29T10:30:00\",\"2022-04-29T10:35:00\",\"2022-04-29T10:40:00\",\"2022-04-29T10:45:00\",\"2022-04-29T10:50:00\",\"2022-04-29T10:55:00\",\"2022-04-29T11:00:00\",\"2022-04-29T11:05:00\",\"2022-04-29T11:10:00\",\"2022-04-29T11:15:00\",\"2022-04-29T11:20:00\",\"2022-04-29T11:25:00\",\"2022-04-29T11:30:00\",\"2022-04-29T11:35:00\",\"2022-04-29T11:40:00\",\"2022-04-29T11:45:00\",\"2022-04-29T11:50:00\",\"2022-04-29T11:55:00\",\"2022-04-29T12:00:00\",\"2022-04-29T12:05:00\",\"2022-04-29T12:10:00\",\"2022-04-29T12:15:00\",\"2022-04-29T12:20:00\",\"2022-04-29T12:25:00\",\"2022-04-29T12:30:00\",\"2022-04-29T12:35:00\",\"2022-04-29T12:40:00\",\"2022-04-29T12:45:00\",\"2022-04-29T12:50:00\",\"2022-04-29T12:55:00\",\"2022-04-29T13:00:00\",\"2022-04-29T13:05:00\",\"2022-04-29T13:10:00\",\"2022-04-29T13:15:00\",\"2022-04-29T13:20:00\",\"2022-04-29T13:25:00\",\"2022-04-29T13:30:00\",\"2022-04-29T13:35:00\",\"2022-04-29T13:40:00\",\"2022-04-29T13:45:00\",\"2022-04-29T13:50:00\",\"2022-04-29T13:55:00\",\"2022-04-29T14:00:00\",\"2022-04-29T14:05:00\",\"2022-04-29T14:10:00\",\"2022-04-29T14:15:00\",\"2022-04-29T14:20:00\",\"2022-04-29T14:25:00\",\"2022-04-29T14:30:00\",\"2022-04-29T14:35:00\",\"2022-04-29T14:40:00\",\"2022-04-29T14:45:00\",\"2022-04-29T14:50:00\",\"2022-04-29T14:55:00\",\"2022-04-29T15:00:00\",\"2022-04-29T15:05:00\",\"2022-04-29T15:10:00\",\"2022-04-29T15:15:00\",\"2022-04-29T15:20:00\",\"2022-04-29T15:25:00\",\"2022-04-29T15:30:00\",\"2022-04-29T15:35:00\",\"2022-04-29T15:40:00\",\"2022-04-29T15:45:00\",\"2022-04-29T15:50:00\",\"2022-04-29T15:55:00\",\"2022-04-29T16:00:00\"],\"y\":[20000.0,19971.0,19925.0,19950.0,19958.0,20060.0,20022.0,20004.0,19992.0,19903.0,19882.0,19846.0,19839.0,19840.0,19829.0,19804.0,19812.0,19826.0,19814.0,19806.0,19805.0,19816.0,19828.0,19835.0,19854.0,19836.0,19864.0,19857.0,19858.0,19812.0,19753.0,19743.0,19755.0,19740.0,19759.0,19736.0,19728.0,19730.0,19701.0,19701.0,19662.0,19681.0,19716.0,19680.0,19699.0,19711.0,19739.0,19727.0,19743.0,19748.0,19709.0,19689.0,19685.0,19680.0,19660.0,19650.0,19658.0,19664.0,19634.0,19637.0,19629.0,19599.0,19614.0,19571.0,19557.0,19586.0,19578.0,19535.0,19513.0,19560.0,19550.0,19511.0,19535.0,19538.0,19512.0,19453.0,19408.0,19415.0,19414.0],\"type\":\"scatter\"}],                        {\"template\":{\"data\":{\"bar\":[{\"error_x\":{\"color\":\"#2a3f5f\"},\"error_y\":{\"color\":\"#2a3f5f\"},\"marker\":{\"line\":{\"color\":\"#E5ECF6\",\"width\":0.5},\"pattern\":{\"fillmode\":\"overlay\",\"size\":10,\"solidity\":0.2}},\"type\":\"bar\"}],\"barpolar\":[{\"marker\":{\"line\":{\"color\":\"#E5ECF6\",\"width\":0.5},\"pattern\":{\"fillmode\":\"overlay\",\"size\":10,\"solidity\":0.2}},\"type\":\"barpolar\"}],\"carpet\":[{\"aaxis\":{\"endlinecolor\":\"#2a3f5f\",\"gridcolor\":\"white\",\"linecolor\":\"white\",\"minorgridcolor\":\"white\",\"startlinecolor\":\"#2a3f5f\"},\"baxis\":{\"endlinecolor\":\"#2a3f5f\",\"gridcolor\":\"white\",\"linecolor\":\"white\",\"minorgridcolor\":\"white\",\"startlinecolor\":\"#2a3f5f\"},\"type\":\"carpet\"}],\"choropleth\":[{\"colorbar\":{\"outlinewidth\":0,\"ticks\":\"\"},\"type\":\"choropleth\"}],\"contour\":[{\"colorbar\":{\"outlinewidth\":0,\"ticks\":\"\"},\"colorscale\":[[0.0,\"#0d0887\"],[0.1111111111111111,\"#46039f\"],[0.2222222222222222,\"#7201a8\"],[0.3333333333333333,\"#9c179e\"],[0.4444444444444444,\"#bd3786\"],[0.5555555555555556,\"#d8576b\"],[0.6666666666666666,\"#ed7953\"],[0.7777777777777778,\"#fb9f3a\"],[0.8888888888888888,\"#fdca26\"],[1.0,\"#f0f921\"]],\"type\":\"contour\"}],\"contourcarpet\":[{\"colorbar\":{\"outlinewidth\":0,\"ticks\":\"\"},\"type\":\"contourcarpet\"}],\"heatmap\":[{\"colorbar\":{\"outlinewidth\":0,\"ticks\":\"\"},\"colorscale\":[[0.0,\"#0d0887\"],[0.1111111111111111,\"#46039f\"],[0.2222222222222222,\"#7201a8\"],[0.3333333333333333,\"#9c179e\"],[0.4444444444444444,\"#bd3786\"],[0.5555555555555556,\"#d8576b\"],[0.6666666666666666,\"#ed7953\"],[0.7777777777777778,\"#fb9f3a\"],[0.8888888888888888,\"#fdca26\"],[1.0,\"#f0f921\"]],\"type\":\"heatmap\"}],\"heatmapgl\":[{\"colorbar\":{\"outlinewidth\":0,\"ticks\":\"\"},\"colorscale\":[[0.0,\"#0d0887\"],[0.1111111111111111,\"#46039f\"],[0.2222222222222222,\"#7201a8\"],[0.3333333333333333,\"#9c179e\"],[0.4444444444444444,\"#bd3786\"],[0.5555555555555556,\"#d8576b\"],[0.6666666666666666,\"#ed7953\"],[0.7777777777777778,\"#fb9f3a\"],[0.8888888888888888,\"#fdca26\"],[1.0,\"#f0f921\"]],\"type\":\"heatmapgl\"}],\"histogram\":[{\"marker\":{\"pattern\":{\"fillmode\":\"overlay\",\"size\":10,\"solidity\":0.2}},\"type\":\"histogram\"}],\"histogram2d\":[{\"colorbar\":{\"outlinewidth\":0,\"ticks\":\"\"},\"colorscale\":[[0.0,\"#0d0887\"],[0.1111111111111111,\"#46039f\"],[0.2222222222222222,\"#7201a8\"],[0.3333333333333333,\"#9c179e\"],[0.4444444444444444,\"#bd3786\"],[0.5555555555555556,\"#d8576b\"],[0.6666666666666666,\"#ed7953\"],[0.7777777777777778,\"#fb9f3a\"],[0.8888888888888888,\"#fdca26\"],[1.0,\"#f0f921\"]],\"type\":\"histogram2d\"}],\"histogram2dcontour\":[{\"colorbar\":{\"outlinewidth\":0,\"ticks\":\"\"},\"colorscale\":[[0.0,\"#0d0887\"],[0.1111111111111111,\"#46039f\"],[0.2222222222222222,\"#7201a8\"],[0.3333333333333333,\"#9c179e\"],[0.4444444444444444,\"#bd3786\"],[0.5555555555555556,\"#d8576b\"],[0.6666666666666666,\"#ed7953\"],[0.7777777777777778,\"#fb9f3a\"],[0.8888888888888888,\"#fdca26\"],[1.0,\"#f0f921\"]],\"type\":\"histogram2dcontour\"}],\"mesh3d\":[{\"colorbar\":{\"outlinewidth\":0,\"ticks\":\"\"},\"type\":\"mesh3d\"}],\"parcoords\":[{\"line\":{\"colorbar\":{\"outlinewidth\":0,\"ticks\":\"\"}},\"type\":\"parcoords\"}],\"pie\":[{\"automargin\":true,\"type\":\"pie\"}],\"scatter\":[{\"marker\":{\"colorbar\":{\"outlinewidth\":0,\"ticks\":\"\"}},\"type\":\"scatter\"}],\"scatter3d\":[{\"line\":{\"colorbar\":{\"outlinewidth\":0,\"ticks\":\"\"}},\"marker\":{\"colorbar\":{\"outlinewidth\":0,\"ticks\":\"\"}},\"type\":\"scatter3d\"}],\"scattercarpet\":[{\"marker\":{\"colorbar\":{\"outlinewidth\":0,\"ticks\":\"\"}},\"type\":\"scattercarpet\"}],\"scattergeo\":[{\"marker\":{\"colorbar\":{\"outlinewidth\":0,\"ticks\":\"\"}},\"type\":\"scattergeo\"}],\"scattergl\":[{\"marker\":{\"colorbar\":{\"outlinewidth\":0,\"ticks\":\"\"}},\"type\":\"scattergl\"}],\"scattermapbox\":[{\"marker\":{\"colorbar\":{\"outlinewidth\":0,\"ticks\":\"\"}},\"type\":\"scattermapbox\"}],\"scatterpolar\":[{\"marker\":{\"colorbar\":{\"outlinewidth\":0,\"ticks\":\"\"}},\"type\":\"scatterpolar\"}],\"scatterpolargl\":[{\"marker\":{\"colorbar\":{\"outlinewidth\":0,\"ticks\":\"\"}},\"type\":\"scatterpolargl\"}],\"scatterternary\":[{\"marker\":{\"colorbar\":{\"outlinewidth\":0,\"ticks\":\"\"}},\"type\":\"scatterternary\"}],\"surface\":[{\"colorbar\":{\"outlinewidth\":0,\"ticks\":\"\"},\"colorscale\":[[0.0,\"#0d0887\"],[0.1111111111111111,\"#46039f\"],[0.2222222222222222,\"#7201a8\"],[0.3333333333333333,\"#9c179e\"],[0.4444444444444444,\"#bd3786\"],[0.5555555555555556,\"#d8576b\"],[0.6666666666666666,\"#ed7953\"],[0.7777777777777778,\"#fb9f3a\"],[0.8888888888888888,\"#fdca26\"],[1.0,\"#f0f921\"]],\"type\":\"surface\"}],\"table\":[{\"cells\":{\"fill\":{\"color\":\"#EBF0F8\"},\"line\":{\"color\":\"white\"}},\"header\":{\"fill\":{\"color\":\"#C8D4E3\"},\"line\":{\"color\":\"white\"}},\"type\":\"table\"}]},\"layout\":{\"annotationdefaults\":{\"arrowcolor\":\"#2a3f5f\",\"arrowhead\":0,\"arrowwidth\":1},\"autotypenumbers\":\"strict\",\"coloraxis\":{\"colorbar\":{\"outlinewidth\":0,\"ticks\":\"\"}},\"colorscale\":{\"diverging\":[[0,\"#8e0152\"],[0.1,\"#c51b7d\"],[0.2,\"#de77ae\"],[0.3,\"#f1b6da\"],[0.4,\"#fde0ef\"],[0.5,\"#f7f7f7\"],[0.6,\"#e6f5d0\"],[0.7,\"#b8e186\"],[0.8,\"#7fbc41\"],[0.9,\"#4d9221\"],[1,\"#276419\"]],\"sequential\":[[0.0,\"#0d0887\"],[0.1111111111111111,\"#46039f\"],[0.2222222222222222,\"#7201a8\"],[0.3333333333333333,\"#9c179e\"],[0.4444444444444444,\"#bd3786\"],[0.5555555555555556,\"#d8576b\"],[0.6666666666666666,\"#ed7953\"],[0.7777777777777778,\"#fb9f3a\"],[0.8888888888888888,\"#fdca26\"],[1.0,\"#f0f921\"]],\"sequentialminus\":[[0.0,\"#0d0887\"],[0.1111111111111111,\"#46039f\"],[0.2222222222222222,\"#7201a8\"],[0.3333333333333333,\"#9c179e\"],[0.4444444444444444,\"#bd3786\"],[0.5555555555555556,\"#d8576b\"],[0.6666666666666666,\"#ed7953\"],[0.7777777777777778,\"#fb9f3a\"],[0.8888888888888888,\"#fdca26\"],[1.0,\"#f0f921\"]]},\"colorway\":[\"#636efa\",\"#EF553B\",\"#00cc96\",\"#ab63fa\",\"#FFA15A\",\"#19d3f3\",\"#FF6692\",\"#B6E880\",\"#FF97FF\",\"#FECB52\"],\"font\":{\"color\":\"#2a3f5f\"},\"geo\":{\"bgcolor\":\"white\",\"lakecolor\":\"white\",\"landcolor\":\"#E5ECF6\",\"showlakes\":true,\"showland\":true,\"subunitcolor\":\"white\"},\"hoverlabel\":{\"align\":\"left\"},\"hovermode\":\"closest\",\"mapbox\":{\"style\":\"light\"},\"paper_bgcolor\":\"white\",\"plot_bgcolor\":\"#E5ECF6\",\"polar\":{\"angularaxis\":{\"gridcolor\":\"white\",\"linecolor\":\"white\",\"ticks\":\"\"},\"bgcolor\":\"#E5ECF6\",\"radialaxis\":{\"gridcolor\":\"white\",\"linecolor\":\"white\",\"ticks\":\"\"}},\"scene\":{\"xaxis\":{\"backgroundcolor\":\"#E5ECF6\",\"gridcolor\":\"white\",\"gridwidth\":2,\"linecolor\":\"white\",\"showbackground\":true,\"ticks\":\"\",\"zerolinecolor\":\"white\"},\"yaxis\":{\"backgroundcolor\":\"#E5ECF6\",\"gridcolor\":\"white\",\"gridwidth\":2,\"linecolor\":\"white\",\"showbackground\":true,\"ticks\":\"\",\"zerolinecolor\":\"white\"},\"zaxis\":{\"backgroundcolor\":\"#E5ECF6\",\"gridcolor\":\"white\",\"gridwidth\":2,\"linecolor\":\"white\",\"showbackground\":true,\"ticks\":\"\",\"zerolinecolor\":\"white\"}},\"shapedefaults\":{\"line\":{\"color\":\"#2a3f5f\"}},\"ternary\":{\"aaxis\":{\"gridcolor\":\"white\",\"linecolor\":\"white\",\"ticks\":\"\"},\"baxis\":{\"gridcolor\":\"white\",\"linecolor\":\"white\",\"ticks\":\"\"},\"bgcolor\":\"#E5ECF6\",\"caxis\":{\"gridcolor\":\"white\",\"linecolor\":\"white\",\"ticks\":\"\"}},\"title\":{\"x\":0.05},\"xaxis\":{\"automargin\":true,\"gridcolor\":\"white\",\"linecolor\":\"white\",\"ticks\":\"\",\"title\":{\"standoff\":15},\"zerolinecolor\":\"white\",\"zerolinewidth\":2},\"yaxis\":{\"automargin\":true,\"gridcolor\":\"white\",\"linecolor\":\"white\",\"ticks\":\"\",\"title\":{\"standoff\":15},\"zerolinecolor\":\"white\",\"zerolinewidth\":2}}},\"title\":{\"text\":\"Portfolio2 Value\"}},                        {\"responsive\": true}                    ).then(function(){\n",
              "                            \n",
              "var gd = document.getElementById('a677ec08-e67f-475e-a654-155e4b5e518e');\n",
              "var x = new MutationObserver(function (mutations, observer) {{\n",
              "        var display = window.getComputedStyle(gd).display;\n",
              "        if (!display || display === 'none') {{\n",
              "            console.log([gd, 'removed!']);\n",
              "            Plotly.purge(gd);\n",
              "            observer.disconnect();\n",
              "        }}\n",
              "}});\n",
              "\n",
              "// Listen for the removal of the full notebook cells\n",
              "var notebookContainer = gd.closest('#notebook-container');\n",
              "if (notebookContainer) {{\n",
              "    x.observe(notebookContainer, {childList: true});\n",
              "}}\n",
              "\n",
              "// Listen for the clearing of the current output cell\n",
              "var outputEl = gd.closest('.output');\n",
              "if (outputEl) {{\n",
              "    x.observe(outputEl, {childList: true});\n",
              "}}\n",
              "\n",
              "                        })                };                            </script>        </div>\n",
              "</body>\n",
              "</html>"
            ]
          },
          "metadata": {}
        }
      ]
    },
    {
      "cell_type": "code",
      "source": [
        "# Visualize Return %\n",
        "fig = go.Figure()\n",
        "fig.add_trace(go.Scatter(x=portfolio_val.index, y= portfolio_val['Cum Return %'], name='Portfolio Cumulative Return %'))\n",
        "fig.add_trace(go.Scatter(x=SPY.date, y=SPY['Cum Return %'],name='SPY Cumulative Return %'))\n",
        "fig.update_layout(title=\"Cumulative Return % (Portfolio vs SPY)\")"
      ],
      "metadata": {
        "colab": {
          "base_uri": "https://localhost:8080/",
          "height": 542
        },
        "outputId": "abfe9f79-cc26-4c75-c78a-4e9a7ef0932c",
        "id": "Q0ilFR9E7TKg"
      },
      "execution_count": null,
      "outputs": [
        {
          "output_type": "display_data",
          "data": {
            "text/html": [
              "<html>\n",
              "<head><meta charset=\"utf-8\" /></head>\n",
              "<body>\n",
              "    <div>            <script src=\"https://cdnjs.cloudflare.com/ajax/libs/mathjax/2.7.5/MathJax.js?config=TeX-AMS-MML_SVG\"></script><script type=\"text/javascript\">if (window.MathJax) {MathJax.Hub.Config({SVG: {font: \"STIX-Web\"}});}</script>                <script type=\"text/javascript\">window.PlotlyConfig = {MathJaxConfig: 'local'};</script>\n",
              "        <script src=\"https://cdn.plot.ly/plotly-2.8.3.min.js\"></script>                <div id=\"369d8ae6-fa41-4498-8bcd-21b684b9ee35\" class=\"plotly-graph-div\" style=\"height:525px; width:100%;\"></div>            <script type=\"text/javascript\">                                    window.PLOTLYENV=window.PLOTLYENV || {};                                    if (document.getElementById(\"369d8ae6-fa41-4498-8bcd-21b684b9ee35\")) {                    Plotly.newPlot(                        \"369d8ae6-fa41-4498-8bcd-21b684b9ee35\",                        [{\"name\":\"Portfolio Cumulative Return %\",\"x\":[\"2022-04-29 09:30:00\",\"2022-04-29 09:35:00\",\"2022-04-29 09:40:00\",\"2022-04-29 09:45:00\",\"2022-04-29 09:50:00\",\"2022-04-29 09:55:00\",\"2022-04-29 10:00:00\",\"2022-04-29 10:05:00\",\"2022-04-29 10:10:00\",\"2022-04-29 10:15:00\",\"2022-04-29 10:20:00\",\"2022-04-29 10:25:00\",\"2022-04-29 10:30:00\",\"2022-04-29 10:35:00\",\"2022-04-29 10:40:00\",\"2022-04-29 10:45:00\",\"2022-04-29 10:50:00\",\"2022-04-29 10:55:00\",\"2022-04-29 11:00:00\",\"2022-04-29 11:05:00\",\"2022-04-29 11:10:00\",\"2022-04-29 11:15:00\",\"2022-04-29 11:20:00\",\"2022-04-29 11:25:00\",\"2022-04-29 11:30:00\",\"2022-04-29 11:35:00\",\"2022-04-29 11:40:00\",\"2022-04-29 11:45:00\",\"2022-04-29 11:50:00\",\"2022-04-29 11:55:00\",\"2022-04-29 12:00:00\",\"2022-04-29 12:05:00\",\"2022-04-29 12:10:00\",\"2022-04-29 12:15:00\",\"2022-04-29 12:20:00\",\"2022-04-29 12:25:00\",\"2022-04-29 12:30:00\",\"2022-04-29 12:35:00\",\"2022-04-29 12:40:00\",\"2022-04-29 12:45:00\",\"2022-04-29 12:50:00\",\"2022-04-29 12:55:00\",\"2022-04-29 13:00:00\",\"2022-04-29 13:05:00\",\"2022-04-29 13:10:00\",\"2022-04-29 13:15:00\",\"2022-04-29 13:20:00\",\"2022-04-29 13:25:00\",\"2022-04-29 13:30:00\",\"2022-04-29 13:35:00\",\"2022-04-29 13:40:00\",\"2022-04-29 13:45:00\",\"2022-04-29 13:50:00\",\"2022-04-29 13:55:00\",\"2022-04-29 14:00:00\",\"2022-04-29 14:05:00\",\"2022-04-29 14:10:00\",\"2022-04-29 14:15:00\",\"2022-04-29 14:20:00\",\"2022-04-29 14:25:00\",\"2022-04-29 14:30:00\",\"2022-04-29 14:35:00\",\"2022-04-29 14:40:00\",\"2022-04-29 14:45:00\",\"2022-04-29 14:50:00\",\"2022-04-29 14:55:00\",\"2022-04-29 15:00:00\",\"2022-04-29 15:05:00\",\"2022-04-29 15:10:00\",\"2022-04-29 15:15:00\",\"2022-04-29 15:20:00\",\"2022-04-29 15:25:00\",\"2022-04-29 15:30:00\",\"2022-04-29 15:35:00\",\"2022-04-29 15:40:00\",\"2022-04-29 15:45:00\",\"2022-04-29 15:50:00\",\"2022-04-29 15:55:00\",\"2022-04-29 16:00:00\"],\"y\":[0.0,0.7549999999999946,1.3349999999999973,1.419999999999999,1.9600000000000062,2.53000000000001,2.7249999999999996,2.574999999999994,2.9549999999999965,2.2699999999999942,1.2850000000000028,1.475000000000004,1.2950000000000017,1.374999999999993,1.4450000000000074,1.330000000000009,1.5300000000000091,1.419999999999999,1.2899999999999912,1.3900000000000023,1.540000000000008,1.6650000000000054,1.7200000000000104,1.8950000000000022,1.9400000000000084,1.7449999999999966,1.6100000000000003,1.6100000000000003,1.9200000000000106,1.9749999999999934,1.7200000000000104,1.5949999999999909,1.7400000000000082,1.475000000000004,1.5900000000000025,1.6100000000000003,1.475000000000004,1.4950000000000019,1.540000000000008,1.4599999999999946,1.6100000000000003,1.8950000000000022,1.9600000000000062,1.815000000000011,1.7849999999999921,2.055000000000007,2.0650000000000057,1.8950000000000022,1.9349999999999978,2.354999999999996,2.045000000000008,1.9749999999999934,1.8399999999999972,1.9099999999999895,1.8999999999999906,1.8550000000000066,1.8000000000000016,1.82500000000001,1.8399999999999972,1.7300000000000093,1.6750000000000043,1.649999999999996,2.00499999999999,1.9099999999999895,1.7749999999999932,1.815000000000011,1.6650000000000054,1.649999999999996,1.6000000000000014,1.8000000000000016,1.7900000000000027,1.815000000000011,2.2049999999999903,2.5449999999999973,2.584999999999993,2.235000000000009,2.0999999999999908,2.2049999999999903,2.2049999999999903],\"type\":\"scatter\"},{\"name\":\"SPY Cumulative Return %\",\"x\":[\"2022-04-29T09:30:00\",\"2022-04-29T09:35:00\",\"2022-04-29T09:40:00\",\"2022-04-29T09:45:00\",\"2022-04-29T09:50:00\",\"2022-04-29T09:55:00\",\"2022-04-29T10:00:00\",\"2022-04-29T10:05:00\",\"2022-04-29T10:10:00\",\"2022-04-29T10:15:00\",\"2022-04-29T10:20:00\",\"2022-04-29T10:25:00\",\"2022-04-29T10:30:00\",\"2022-04-29T10:35:00\",\"2022-04-29T10:40:00\",\"2022-04-29T10:45:00\",\"2022-04-29T10:50:00\",\"2022-04-29T10:55:00\",\"2022-04-29T11:00:00\",\"2022-04-29T11:05:00\",\"2022-04-29T11:10:00\",\"2022-04-29T11:15:00\",\"2022-04-29T11:20:00\",\"2022-04-29T11:25:00\",\"2022-04-29T11:30:00\",\"2022-04-29T11:35:00\",\"2022-04-29T11:40:00\",\"2022-04-29T11:45:00\",\"2022-04-29T11:50:00\",\"2022-04-29T11:55:00\",\"2022-04-29T12:00:00\",\"2022-04-29T12:05:00\",\"2022-04-29T12:10:00\",\"2022-04-29T12:15:00\",\"2022-04-29T12:20:00\",\"2022-04-29T12:25:00\",\"2022-04-29T12:30:00\",\"2022-04-29T12:35:00\",\"2022-04-29T12:40:00\",\"2022-04-29T12:45:00\",\"2022-04-29T12:50:00\",\"2022-04-29T12:55:00\",\"2022-04-29T13:00:00\",\"2022-04-29T13:05:00\",\"2022-04-29T13:10:00\",\"2022-04-29T13:15:00\",\"2022-04-29T13:20:00\",\"2022-04-29T13:25:00\",\"2022-04-29T13:30:00\",\"2022-04-29T13:35:00\",\"2022-04-29T13:40:00\",\"2022-04-29T13:45:00\",\"2022-04-29T13:50:00\",\"2022-04-29T13:55:00\",\"2022-04-29T14:00:00\",\"2022-04-29T14:05:00\",\"2022-04-29T14:10:00\",\"2022-04-29T14:15:00\",\"2022-04-29T14:20:00\",\"2022-04-29T14:25:00\",\"2022-04-29T14:30:00\",\"2022-04-29T14:35:00\",\"2022-04-29T14:40:00\",\"2022-04-29T14:45:00\",\"2022-04-29T14:50:00\",\"2022-04-29T14:55:00\",\"2022-04-29T15:00:00\",\"2022-04-29T15:05:00\",\"2022-04-29T15:10:00\",\"2022-04-29T15:15:00\",\"2022-04-29T15:20:00\",\"2022-04-29T15:25:00\",\"2022-04-29T15:30:00\",\"2022-04-29T15:35:00\",\"2022-04-29T15:40:00\",\"2022-04-29T15:45:00\",\"2022-04-29T15:50:00\",\"2022-04-29T15:55:00\",\"2022-04-29T16:00:00\"],\"y\":[0.0,-0.1444261306393968,-0.3729612310711672,-0.25044312154285375,-0.209071689487339,0.2985084714370201,0.11120819249264002,0.018140445442482722,-0.04076027951385175,-0.48604602136819164,-0.5897118724937367,-0.7687723771705568,-0.8041113741383832,-0.8017530443305554,-0.8563685114653663,-0.9808135490073866,-0.9407578924239268,-0.8677215686804574,-0.9315690342093008,-0.9713874198060024,-0.9761040794216469,-0.9195544942432354,-0.860653769286901,-0.8253147723190746,-0.728716720587097,-0.8206053027333349,-0.6816004546399745,-0.7169394516077898,-0.7098716522142223,-0.9407578924239268,-1.2329103774276762,-1.2870944427683662,-1.223484248226292,-1.3024092064594095,-1.2069903196313403,-1.3224406297660862,-1.3601307665118356,-1.3507118273403451,-1.4944261450194563,-1.4956053099233646,-1.6876222484834114,-1.5936197975460087,-1.4213898212759868,-1.6009895781954553,-1.5038522742208404,-1.444951549264506,-1.307125866075054,-1.3660265910313885,-1.2847433029904431,-1.2588232451941073,-1.4555496533398937,-1.5556851997836074,-1.5745302681564821,-1.5980919961449902,-1.6993995174627186,-1.7512324430254855,-1.7088256466641027,-1.6817336139937522,-1.8313365661625114,-1.8136706626935561,-1.8548982941510306,-2.0068667661575113,-1.93031451779202,-2.14705077915478,-2.2173980317149344,-2.069297795795677,-2.109353452379137,-2.3237529540237833,-2.4333074396389764,-2.20123484449547,-2.2518886051543285,-2.4439055437143753,-2.3237529540237833,-2.3119684950145825,-2.4415544039364523,-2.733699698910308,-2.9622347993420783,-2.926895802374263,-2.9316052719600028],\"type\":\"scatter\"}],                        {\"template\":{\"data\":{\"bar\":[{\"error_x\":{\"color\":\"#2a3f5f\"},\"error_y\":{\"color\":\"#2a3f5f\"},\"marker\":{\"line\":{\"color\":\"#E5ECF6\",\"width\":0.5},\"pattern\":{\"fillmode\":\"overlay\",\"size\":10,\"solidity\":0.2}},\"type\":\"bar\"}],\"barpolar\":[{\"marker\":{\"line\":{\"color\":\"#E5ECF6\",\"width\":0.5},\"pattern\":{\"fillmode\":\"overlay\",\"size\":10,\"solidity\":0.2}},\"type\":\"barpolar\"}],\"carpet\":[{\"aaxis\":{\"endlinecolor\":\"#2a3f5f\",\"gridcolor\":\"white\",\"linecolor\":\"white\",\"minorgridcolor\":\"white\",\"startlinecolor\":\"#2a3f5f\"},\"baxis\":{\"endlinecolor\":\"#2a3f5f\",\"gridcolor\":\"white\",\"linecolor\":\"white\",\"minorgridcolor\":\"white\",\"startlinecolor\":\"#2a3f5f\"},\"type\":\"carpet\"}],\"choropleth\":[{\"colorbar\":{\"outlinewidth\":0,\"ticks\":\"\"},\"type\":\"choropleth\"}],\"contour\":[{\"colorbar\":{\"outlinewidth\":0,\"ticks\":\"\"},\"colorscale\":[[0.0,\"#0d0887\"],[0.1111111111111111,\"#46039f\"],[0.2222222222222222,\"#7201a8\"],[0.3333333333333333,\"#9c179e\"],[0.4444444444444444,\"#bd3786\"],[0.5555555555555556,\"#d8576b\"],[0.6666666666666666,\"#ed7953\"],[0.7777777777777778,\"#fb9f3a\"],[0.8888888888888888,\"#fdca26\"],[1.0,\"#f0f921\"]],\"type\":\"contour\"}],\"contourcarpet\":[{\"colorbar\":{\"outlinewidth\":0,\"ticks\":\"\"},\"type\":\"contourcarpet\"}],\"heatmap\":[{\"colorbar\":{\"outlinewidth\":0,\"ticks\":\"\"},\"colorscale\":[[0.0,\"#0d0887\"],[0.1111111111111111,\"#46039f\"],[0.2222222222222222,\"#7201a8\"],[0.3333333333333333,\"#9c179e\"],[0.4444444444444444,\"#bd3786\"],[0.5555555555555556,\"#d8576b\"],[0.6666666666666666,\"#ed7953\"],[0.7777777777777778,\"#fb9f3a\"],[0.8888888888888888,\"#fdca26\"],[1.0,\"#f0f921\"]],\"type\":\"heatmap\"}],\"heatmapgl\":[{\"colorbar\":{\"outlinewidth\":0,\"ticks\":\"\"},\"colorscale\":[[0.0,\"#0d0887\"],[0.1111111111111111,\"#46039f\"],[0.2222222222222222,\"#7201a8\"],[0.3333333333333333,\"#9c179e\"],[0.4444444444444444,\"#bd3786\"],[0.5555555555555556,\"#d8576b\"],[0.6666666666666666,\"#ed7953\"],[0.7777777777777778,\"#fb9f3a\"],[0.8888888888888888,\"#fdca26\"],[1.0,\"#f0f921\"]],\"type\":\"heatmapgl\"}],\"histogram\":[{\"marker\":{\"pattern\":{\"fillmode\":\"overlay\",\"size\":10,\"solidity\":0.2}},\"type\":\"histogram\"}],\"histogram2d\":[{\"colorbar\":{\"outlinewidth\":0,\"ticks\":\"\"},\"colorscale\":[[0.0,\"#0d0887\"],[0.1111111111111111,\"#46039f\"],[0.2222222222222222,\"#7201a8\"],[0.3333333333333333,\"#9c179e\"],[0.4444444444444444,\"#bd3786\"],[0.5555555555555556,\"#d8576b\"],[0.6666666666666666,\"#ed7953\"],[0.7777777777777778,\"#fb9f3a\"],[0.8888888888888888,\"#fdca26\"],[1.0,\"#f0f921\"]],\"type\":\"histogram2d\"}],\"histogram2dcontour\":[{\"colorbar\":{\"outlinewidth\":0,\"ticks\":\"\"},\"colorscale\":[[0.0,\"#0d0887\"],[0.1111111111111111,\"#46039f\"],[0.2222222222222222,\"#7201a8\"],[0.3333333333333333,\"#9c179e\"],[0.4444444444444444,\"#bd3786\"],[0.5555555555555556,\"#d8576b\"],[0.6666666666666666,\"#ed7953\"],[0.7777777777777778,\"#fb9f3a\"],[0.8888888888888888,\"#fdca26\"],[1.0,\"#f0f921\"]],\"type\":\"histogram2dcontour\"}],\"mesh3d\":[{\"colorbar\":{\"outlinewidth\":0,\"ticks\":\"\"},\"type\":\"mesh3d\"}],\"parcoords\":[{\"line\":{\"colorbar\":{\"outlinewidth\":0,\"ticks\":\"\"}},\"type\":\"parcoords\"}],\"pie\":[{\"automargin\":true,\"type\":\"pie\"}],\"scatter\":[{\"marker\":{\"colorbar\":{\"outlinewidth\":0,\"ticks\":\"\"}},\"type\":\"scatter\"}],\"scatter3d\":[{\"line\":{\"colorbar\":{\"outlinewidth\":0,\"ticks\":\"\"}},\"marker\":{\"colorbar\":{\"outlinewidth\":0,\"ticks\":\"\"}},\"type\":\"scatter3d\"}],\"scattercarpet\":[{\"marker\":{\"colorbar\":{\"outlinewidth\":0,\"ticks\":\"\"}},\"type\":\"scattercarpet\"}],\"scattergeo\":[{\"marker\":{\"colorbar\":{\"outlinewidth\":0,\"ticks\":\"\"}},\"type\":\"scattergeo\"}],\"scattergl\":[{\"marker\":{\"colorbar\":{\"outlinewidth\":0,\"ticks\":\"\"}},\"type\":\"scattergl\"}],\"scattermapbox\":[{\"marker\":{\"colorbar\":{\"outlinewidth\":0,\"ticks\":\"\"}},\"type\":\"scattermapbox\"}],\"scatterpolar\":[{\"marker\":{\"colorbar\":{\"outlinewidth\":0,\"ticks\":\"\"}},\"type\":\"scatterpolar\"}],\"scatterpolargl\":[{\"marker\":{\"colorbar\":{\"outlinewidth\":0,\"ticks\":\"\"}},\"type\":\"scatterpolargl\"}],\"scatterternary\":[{\"marker\":{\"colorbar\":{\"outlinewidth\":0,\"ticks\":\"\"}},\"type\":\"scatterternary\"}],\"surface\":[{\"colorbar\":{\"outlinewidth\":0,\"ticks\":\"\"},\"colorscale\":[[0.0,\"#0d0887\"],[0.1111111111111111,\"#46039f\"],[0.2222222222222222,\"#7201a8\"],[0.3333333333333333,\"#9c179e\"],[0.4444444444444444,\"#bd3786\"],[0.5555555555555556,\"#d8576b\"],[0.6666666666666666,\"#ed7953\"],[0.7777777777777778,\"#fb9f3a\"],[0.8888888888888888,\"#fdca26\"],[1.0,\"#f0f921\"]],\"type\":\"surface\"}],\"table\":[{\"cells\":{\"fill\":{\"color\":\"#EBF0F8\"},\"line\":{\"color\":\"white\"}},\"header\":{\"fill\":{\"color\":\"#C8D4E3\"},\"line\":{\"color\":\"white\"}},\"type\":\"table\"}]},\"layout\":{\"annotationdefaults\":{\"arrowcolor\":\"#2a3f5f\",\"arrowhead\":0,\"arrowwidth\":1},\"autotypenumbers\":\"strict\",\"coloraxis\":{\"colorbar\":{\"outlinewidth\":0,\"ticks\":\"\"}},\"colorscale\":{\"diverging\":[[0,\"#8e0152\"],[0.1,\"#c51b7d\"],[0.2,\"#de77ae\"],[0.3,\"#f1b6da\"],[0.4,\"#fde0ef\"],[0.5,\"#f7f7f7\"],[0.6,\"#e6f5d0\"],[0.7,\"#b8e186\"],[0.8,\"#7fbc41\"],[0.9,\"#4d9221\"],[1,\"#276419\"]],\"sequential\":[[0.0,\"#0d0887\"],[0.1111111111111111,\"#46039f\"],[0.2222222222222222,\"#7201a8\"],[0.3333333333333333,\"#9c179e\"],[0.4444444444444444,\"#bd3786\"],[0.5555555555555556,\"#d8576b\"],[0.6666666666666666,\"#ed7953\"],[0.7777777777777778,\"#fb9f3a\"],[0.8888888888888888,\"#fdca26\"],[1.0,\"#f0f921\"]],\"sequentialminus\":[[0.0,\"#0d0887\"],[0.1111111111111111,\"#46039f\"],[0.2222222222222222,\"#7201a8\"],[0.3333333333333333,\"#9c179e\"],[0.4444444444444444,\"#bd3786\"],[0.5555555555555556,\"#d8576b\"],[0.6666666666666666,\"#ed7953\"],[0.7777777777777778,\"#fb9f3a\"],[0.8888888888888888,\"#fdca26\"],[1.0,\"#f0f921\"]]},\"colorway\":[\"#636efa\",\"#EF553B\",\"#00cc96\",\"#ab63fa\",\"#FFA15A\",\"#19d3f3\",\"#FF6692\",\"#B6E880\",\"#FF97FF\",\"#FECB52\"],\"font\":{\"color\":\"#2a3f5f\"},\"geo\":{\"bgcolor\":\"white\",\"lakecolor\":\"white\",\"landcolor\":\"#E5ECF6\",\"showlakes\":true,\"showland\":true,\"subunitcolor\":\"white\"},\"hoverlabel\":{\"align\":\"left\"},\"hovermode\":\"closest\",\"mapbox\":{\"style\":\"light\"},\"paper_bgcolor\":\"white\",\"plot_bgcolor\":\"#E5ECF6\",\"polar\":{\"angularaxis\":{\"gridcolor\":\"white\",\"linecolor\":\"white\",\"ticks\":\"\"},\"bgcolor\":\"#E5ECF6\",\"radialaxis\":{\"gridcolor\":\"white\",\"linecolor\":\"white\",\"ticks\":\"\"}},\"scene\":{\"xaxis\":{\"backgroundcolor\":\"#E5ECF6\",\"gridcolor\":\"white\",\"gridwidth\":2,\"linecolor\":\"white\",\"showbackground\":true,\"ticks\":\"\",\"zerolinecolor\":\"white\"},\"yaxis\":{\"backgroundcolor\":\"#E5ECF6\",\"gridcolor\":\"white\",\"gridwidth\":2,\"linecolor\":\"white\",\"showbackground\":true,\"ticks\":\"\",\"zerolinecolor\":\"white\"},\"zaxis\":{\"backgroundcolor\":\"#E5ECF6\",\"gridcolor\":\"white\",\"gridwidth\":2,\"linecolor\":\"white\",\"showbackground\":true,\"ticks\":\"\",\"zerolinecolor\":\"white\"}},\"shapedefaults\":{\"line\":{\"color\":\"#2a3f5f\"}},\"ternary\":{\"aaxis\":{\"gridcolor\":\"white\",\"linecolor\":\"white\",\"ticks\":\"\"},\"baxis\":{\"gridcolor\":\"white\",\"linecolor\":\"white\",\"ticks\":\"\"},\"bgcolor\":\"#E5ECF6\",\"caxis\":{\"gridcolor\":\"white\",\"linecolor\":\"white\",\"ticks\":\"\"}},\"title\":{\"x\":0.05},\"xaxis\":{\"automargin\":true,\"gridcolor\":\"white\",\"linecolor\":\"white\",\"ticks\":\"\",\"title\":{\"standoff\":15},\"zerolinecolor\":\"white\",\"zerolinewidth\":2},\"yaxis\":{\"automargin\":true,\"gridcolor\":\"white\",\"linecolor\":\"white\",\"ticks\":\"\",\"title\":{\"standoff\":15},\"zerolinecolor\":\"white\",\"zerolinewidth\":2}}},\"title\":{\"text\":\"Cumulative Return % (Portfolio vs SPY)\"}},                        {\"responsive\": true}                    ).then(function(){\n",
              "                            \n",
              "var gd = document.getElementById('369d8ae6-fa41-4498-8bcd-21b684b9ee35');\n",
              "var x = new MutationObserver(function (mutations, observer) {{\n",
              "        var display = window.getComputedStyle(gd).display;\n",
              "        if (!display || display === 'none') {{\n",
              "            console.log([gd, 'removed!']);\n",
              "            Plotly.purge(gd);\n",
              "            observer.disconnect();\n",
              "        }}\n",
              "}});\n",
              "\n",
              "// Listen for the removal of the full notebook cells\n",
              "var notebookContainer = gd.closest('#notebook-container');\n",
              "if (notebookContainer) {{\n",
              "    x.observe(notebookContainer, {childList: true});\n",
              "}}\n",
              "\n",
              "// Listen for the clearing of the current output cell\n",
              "var outputEl = gd.closest('.output');\n",
              "if (outputEl) {{\n",
              "    x.observe(outputEl, {childList: true});\n",
              "}}\n",
              "\n",
              "                        })                };                            </script>        </div>\n",
              "</body>\n",
              "</html>"
            ]
          },
          "metadata": {}
        }
      ]
    },
    {
      "cell_type": "code",
      "source": [
        "d3=portfolio_val2['Portfolio2 Total'].reset_index()"
      ],
      "metadata": {
        "id": "FZF3nkaX7TKg"
      },
      "execution_count": null,
      "outputs": []
    },
    {
      "cell_type": "code",
      "source": [
        "d4=SPY[['date','SPY Total']]"
      ],
      "metadata": {
        "id": "ALAHOAzv7TKg"
      },
      "execution_count": null,
      "outputs": []
    },
    {
      "cell_type": "code",
      "source": [
        "d3['date'] = pd.to_datetime(d3['date'], errors='coerce')"
      ],
      "metadata": {
        "id": "vbuaHoSA7TKg"
      },
      "execution_count": null,
      "outputs": []
    },
    {
      "cell_type": "code",
      "source": [
        "d4['date'] = pd.to_datetime(d4['date'], errors='coerce')"
      ],
      "metadata": {
        "colab": {
          "base_uri": "https://localhost:8080/"
        },
        "outputId": "26ed53f2-56bd-4a3a-cb4a-910a02530761",
        "id": "T6phsHgg7TKg"
      },
      "execution_count": null,
      "outputs": [
        {
          "output_type": "stream",
          "name": "stderr",
          "text": [
            "/usr/local/lib/python3.7/dist-packages/ipykernel_launcher.py:1: SettingWithCopyWarning:\n",
            "\n",
            "\n",
            "A value is trying to be set on a copy of a slice from a DataFrame.\n",
            "Try using .loc[row_indexer,col_indexer] = value instead\n",
            "\n",
            "See the caveats in the documentation: https://pandas.pydata.org/pandas-docs/stable/user_guide/indexing.html#returning-a-view-versus-a-copy\n",
            "\n"
          ]
        }
      ]
    },
    {
      "cell_type": "code",
      "source": [
        "print(\"Portfolio2 Correlation with SPY\")\n",
        "round(d3['Portfolio2 Total'].corr(d4['SPY Total']),2)"
      ],
      "metadata": {
        "colab": {
          "base_uri": "https://localhost:8080/"
        },
        "outputId": "a29c73cb-d50f-4e09-9b14-7d2a58b65413",
        "id": "CubMXLMx7TKg"
      },
      "execution_count": null,
      "outputs": [
        {
          "output_type": "stream",
          "name": "stdout",
          "text": [
            "Portfolio2 Correlation with SPY\n"
          ]
        },
        {
          "output_type": "execute_result",
          "data": {
            "text/plain": [
              "0.73"
            ]
          },
          "metadata": {},
          "execution_count": 580
        }
      ]
    },
    {
      "cell_type": "code",
      "source": [
        "weight2.sort_values('weight',ascending=False)"
      ],
      "metadata": {
        "id": "aCwyDHBT7TKh"
      },
      "execution_count": null,
      "outputs": []
    },
    {
      "cell_type": "code",
      "source": [
        "# Visualize Value of Individual Stocks\n",
        "fig = go.Figure()\n",
        "fig.add_trace(go.Scatter(x=portfolio_val2.index, y= portfolio_val2['CERN'], name='CERN'))\n",
        "fig.add_trace(go.Scatter(x=SPY.date, y=SPY['SPY Total'],name='SPY Total'))\n",
        "fig.update_layout(title=\"Stock inside Portfolio Value\")"
      ],
      "metadata": {
        "colab": {
          "base_uri": "https://localhost:8080/",
          "height": 542
        },
        "outputId": "16e4233f-58f3-46c8-fb30-d7d1e401e2f1",
        "id": "BQsSCcNt7TKh"
      },
      "execution_count": null,
      "outputs": [
        {
          "output_type": "display_data",
          "data": {
            "text/html": [
              "<html>\n",
              "<head><meta charset=\"utf-8\" /></head>\n",
              "<body>\n",
              "    <div>            <script src=\"https://cdnjs.cloudflare.com/ajax/libs/mathjax/2.7.5/MathJax.js?config=TeX-AMS-MML_SVG\"></script><script type=\"text/javascript\">if (window.MathJax) {MathJax.Hub.Config({SVG: {font: \"STIX-Web\"}});}</script>                <script type=\"text/javascript\">window.PlotlyConfig = {MathJaxConfig: 'local'};</script>\n",
              "        <script src=\"https://cdn.plot.ly/plotly-2.8.3.min.js\"></script>                <div id=\"0ab3e0bd-8861-4597-a7fe-1ea3d083e5e3\" class=\"plotly-graph-div\" style=\"height:525px; width:100%;\"></div>            <script type=\"text/javascript\">                                    window.PLOTLYENV=window.PLOTLYENV || {};                                    if (document.getElementById(\"0ab3e0bd-8861-4597-a7fe-1ea3d083e5e3\")) {                    Plotly.newPlot(                        \"0ab3e0bd-8861-4597-a7fe-1ea3d083e5e3\",                        [{\"name\":\"CERN\",\"x\":[\"2022-04-29T09:30:00\",\"2022-04-29T09:35:00\",\"2022-04-29T09:40:00\",\"2022-04-29T09:45:00\",\"2022-04-29T09:50:00\",\"2022-04-29T09:55:00\",\"2022-04-29T10:00:00\",\"2022-04-29T10:05:00\",\"2022-04-29T10:10:00\",\"2022-04-29T10:15:00\",\"2022-04-29T10:20:00\",\"2022-04-29T10:25:00\",\"2022-04-29T10:30:00\",\"2022-04-29T10:35:00\",\"2022-04-29T10:40:00\",\"2022-04-29T10:45:00\",\"2022-04-29T10:50:00\",\"2022-04-29T10:55:00\",\"2022-04-29T11:00:00\",\"2022-04-29T11:05:00\",\"2022-04-29T11:10:00\",\"2022-04-29T11:15:00\",\"2022-04-29T11:20:00\",\"2022-04-29T11:25:00\",\"2022-04-29T11:30:00\",\"2022-04-29T11:35:00\",\"2022-04-29T11:40:00\",\"2022-04-29T11:45:00\",\"2022-04-29T11:50:00\",\"2022-04-29T11:55:00\",\"2022-04-29T12:00:00\",\"2022-04-29T12:05:00\",\"2022-04-29T12:10:00\",\"2022-04-29T12:15:00\",\"2022-04-29T12:20:00\",\"2022-04-29T12:25:00\",\"2022-04-29T12:30:00\",\"2022-04-29T12:35:00\",\"2022-04-29T12:40:00\",\"2022-04-29T12:45:00\",\"2022-04-29T12:50:00\",\"2022-04-29T12:55:00\",\"2022-04-29T13:00:00\",\"2022-04-29T13:05:00\",\"2022-04-29T13:10:00\",\"2022-04-29T13:15:00\",\"2022-04-29T13:20:00\",\"2022-04-29T13:25:00\",\"2022-04-29T13:30:00\",\"2022-04-29T13:35:00\",\"2022-04-29T13:40:00\",\"2022-04-29T13:45:00\",\"2022-04-29T13:50:00\",\"2022-04-29T13:55:00\",\"2022-04-29T14:00:00\",\"2022-04-29T14:05:00\",\"2022-04-29T14:10:00\",\"2022-04-29T14:15:00\",\"2022-04-29T14:20:00\",\"2022-04-29T14:25:00\",\"2022-04-29T14:30:00\",\"2022-04-29T14:35:00\",\"2022-04-29T14:40:00\",\"2022-04-29T14:45:00\",\"2022-04-29T14:50:00\",\"2022-04-29T14:55:00\",\"2022-04-29T15:00:00\",\"2022-04-29T15:05:00\",\"2022-04-29T15:10:00\",\"2022-04-29T15:15:00\",\"2022-04-29T15:20:00\",\"2022-04-29T15:25:00\",\"2022-04-29T15:30:00\",\"2022-04-29T15:35:00\",\"2022-04-29T15:40:00\",\"2022-04-29T15:45:00\",\"2022-04-29T15:50:00\",\"2022-04-29T15:55:00\",\"2022-04-29T16:00:00\"],\"y\":[19168.6,19168.6,19170.643963478862,19168.6,19171.66750549576,19180.87002198304,19189.05055673089,19182.915545739368,19182.915545739368,19180.87002198304,19180.87002198304,19174.73501099152,19170.643963478862,19174.73501099152,19175.756992730952,19173.711468974623,19174.73501099152,19179.84804024361,19175.756992730952,19176.778974470384,19178.82449822671,19179.929174671775,19179.479814761922,19182.915545739368,19178.82449822671,19179.84804024361,19176.778974470384,19175.756992730952,19174.939407339407,19172.68948723519,19178.82449822671,19182.915545739368,19173.711468974623,19172.68948723519,19172.68948723519,19176.778974470384,19174.73501099152,19172.68948723519,19173.711468974623,19172.68948723519,19172.68948723519,19175.756992730952,19173.711468974623,19176.984931095736,19175.756992730952,19174.73501099152,19172.68948723519,19174.73501099152,19171.66750549576,19171.66750549576,19169.621981739434,19171.66750549576,19168.6,19166.57475985071,19166.55447624367,19169.621981739434,19169.621981739434,19167.5764579831,19168.6,19167.5764579831,19165.530934226772,19162.463428731015,19164.50895248734,19163.48697074791,19162.463428731015,19158.37394149582,19153.26091224373,19156.328417739493,19159.395923235254,19157.35195975639,19153.26091224373,19154.28445426063,19155.30643600006,19156.328417739493,19156.328417739493,19162.463428731015,19149.17142500854,19155.30643600006,19150.19340674797],\"type\":\"scatter\"},{\"name\":\"SPY Total\",\"x\":[\"2022-04-29T09:30:00\",\"2022-04-29T09:35:00\",\"2022-04-29T09:40:00\",\"2022-04-29T09:45:00\",\"2022-04-29T09:50:00\",\"2022-04-29T09:55:00\",\"2022-04-29T10:00:00\",\"2022-04-29T10:05:00\",\"2022-04-29T10:10:00\",\"2022-04-29T10:15:00\",\"2022-04-29T10:20:00\",\"2022-04-29T10:25:00\",\"2022-04-29T10:30:00\",\"2022-04-29T10:35:00\",\"2022-04-29T10:40:00\",\"2022-04-29T10:45:00\",\"2022-04-29T10:50:00\",\"2022-04-29T10:55:00\",\"2022-04-29T11:00:00\",\"2022-04-29T11:05:00\",\"2022-04-29T11:10:00\",\"2022-04-29T11:15:00\",\"2022-04-29T11:20:00\",\"2022-04-29T11:25:00\",\"2022-04-29T11:30:00\",\"2022-04-29T11:35:00\",\"2022-04-29T11:40:00\",\"2022-04-29T11:45:00\",\"2022-04-29T11:50:00\",\"2022-04-29T11:55:00\",\"2022-04-29T12:00:00\",\"2022-04-29T12:05:00\",\"2022-04-29T12:10:00\",\"2022-04-29T12:15:00\",\"2022-04-29T12:20:00\",\"2022-04-29T12:25:00\",\"2022-04-29T12:30:00\",\"2022-04-29T12:35:00\",\"2022-04-29T12:40:00\",\"2022-04-29T12:45:00\",\"2022-04-29T12:50:00\",\"2022-04-29T12:55:00\",\"2022-04-29T13:00:00\",\"2022-04-29T13:05:00\",\"2022-04-29T13:10:00\",\"2022-04-29T13:15:00\",\"2022-04-29T13:20:00\",\"2022-04-29T13:25:00\",\"2022-04-29T13:30:00\",\"2022-04-29T13:35:00\",\"2022-04-29T13:40:00\",\"2022-04-29T13:45:00\",\"2022-04-29T13:50:00\",\"2022-04-29T13:55:00\",\"2022-04-29T14:00:00\",\"2022-04-29T14:05:00\",\"2022-04-29T14:10:00\",\"2022-04-29T14:15:00\",\"2022-04-29T14:20:00\",\"2022-04-29T14:25:00\",\"2022-04-29T14:30:00\",\"2022-04-29T14:35:00\",\"2022-04-29T14:40:00\",\"2022-04-29T14:45:00\",\"2022-04-29T14:50:00\",\"2022-04-29T14:55:00\",\"2022-04-29T15:00:00\",\"2022-04-29T15:05:00\",\"2022-04-29T15:10:00\",\"2022-04-29T15:15:00\",\"2022-04-29T15:20:00\",\"2022-04-29T15:25:00\",\"2022-04-29T15:30:00\",\"2022-04-29T15:35:00\",\"2022-04-29T15:40:00\",\"2022-04-29T15:45:00\",\"2022-04-29T15:50:00\",\"2022-04-29T15:55:00\",\"2022-04-29T16:00:00\"],\"y\":[20000.0,19971.0,19925.0,19950.0,19958.0,20060.0,20022.0,20004.0,19992.0,19903.0,19882.0,19846.0,19839.0,19840.0,19829.0,19804.0,19812.0,19826.0,19814.0,19806.0,19805.0,19816.0,19828.0,19835.0,19854.0,19836.0,19864.0,19857.0,19858.0,19812.0,19753.0,19743.0,19755.0,19740.0,19759.0,19736.0,19728.0,19730.0,19701.0,19701.0,19662.0,19681.0,19716.0,19680.0,19699.0,19711.0,19739.0,19727.0,19743.0,19748.0,19709.0,19689.0,19685.0,19680.0,19660.0,19650.0,19658.0,19664.0,19634.0,19637.0,19629.0,19599.0,19614.0,19571.0,19557.0,19586.0,19578.0,19535.0,19513.0,19560.0,19550.0,19511.0,19535.0,19538.0,19512.0,19453.0,19408.0,19415.0,19414.0],\"type\":\"scatter\"}],                        {\"template\":{\"data\":{\"bar\":[{\"error_x\":{\"color\":\"#2a3f5f\"},\"error_y\":{\"color\":\"#2a3f5f\"},\"marker\":{\"line\":{\"color\":\"#E5ECF6\",\"width\":0.5},\"pattern\":{\"fillmode\":\"overlay\",\"size\":10,\"solidity\":0.2}},\"type\":\"bar\"}],\"barpolar\":[{\"marker\":{\"line\":{\"color\":\"#E5ECF6\",\"width\":0.5},\"pattern\":{\"fillmode\":\"overlay\",\"size\":10,\"solidity\":0.2}},\"type\":\"barpolar\"}],\"carpet\":[{\"aaxis\":{\"endlinecolor\":\"#2a3f5f\",\"gridcolor\":\"white\",\"linecolor\":\"white\",\"minorgridcolor\":\"white\",\"startlinecolor\":\"#2a3f5f\"},\"baxis\":{\"endlinecolor\":\"#2a3f5f\",\"gridcolor\":\"white\",\"linecolor\":\"white\",\"minorgridcolor\":\"white\",\"startlinecolor\":\"#2a3f5f\"},\"type\":\"carpet\"}],\"choropleth\":[{\"colorbar\":{\"outlinewidth\":0,\"ticks\":\"\"},\"type\":\"choropleth\"}],\"contour\":[{\"colorbar\":{\"outlinewidth\":0,\"ticks\":\"\"},\"colorscale\":[[0.0,\"#0d0887\"],[0.1111111111111111,\"#46039f\"],[0.2222222222222222,\"#7201a8\"],[0.3333333333333333,\"#9c179e\"],[0.4444444444444444,\"#bd3786\"],[0.5555555555555556,\"#d8576b\"],[0.6666666666666666,\"#ed7953\"],[0.7777777777777778,\"#fb9f3a\"],[0.8888888888888888,\"#fdca26\"],[1.0,\"#f0f921\"]],\"type\":\"contour\"}],\"contourcarpet\":[{\"colorbar\":{\"outlinewidth\":0,\"ticks\":\"\"},\"type\":\"contourcarpet\"}],\"heatmap\":[{\"colorbar\":{\"outlinewidth\":0,\"ticks\":\"\"},\"colorscale\":[[0.0,\"#0d0887\"],[0.1111111111111111,\"#46039f\"],[0.2222222222222222,\"#7201a8\"],[0.3333333333333333,\"#9c179e\"],[0.4444444444444444,\"#bd3786\"],[0.5555555555555556,\"#d8576b\"],[0.6666666666666666,\"#ed7953\"],[0.7777777777777778,\"#fb9f3a\"],[0.8888888888888888,\"#fdca26\"],[1.0,\"#f0f921\"]],\"type\":\"heatmap\"}],\"heatmapgl\":[{\"colorbar\":{\"outlinewidth\":0,\"ticks\":\"\"},\"colorscale\":[[0.0,\"#0d0887\"],[0.1111111111111111,\"#46039f\"],[0.2222222222222222,\"#7201a8\"],[0.3333333333333333,\"#9c179e\"],[0.4444444444444444,\"#bd3786\"],[0.5555555555555556,\"#d8576b\"],[0.6666666666666666,\"#ed7953\"],[0.7777777777777778,\"#fb9f3a\"],[0.8888888888888888,\"#fdca26\"],[1.0,\"#f0f921\"]],\"type\":\"heatmapgl\"}],\"histogram\":[{\"marker\":{\"pattern\":{\"fillmode\":\"overlay\",\"size\":10,\"solidity\":0.2}},\"type\":\"histogram\"}],\"histogram2d\":[{\"colorbar\":{\"outlinewidth\":0,\"ticks\":\"\"},\"colorscale\":[[0.0,\"#0d0887\"],[0.1111111111111111,\"#46039f\"],[0.2222222222222222,\"#7201a8\"],[0.3333333333333333,\"#9c179e\"],[0.4444444444444444,\"#bd3786\"],[0.5555555555555556,\"#d8576b\"],[0.6666666666666666,\"#ed7953\"],[0.7777777777777778,\"#fb9f3a\"],[0.8888888888888888,\"#fdca26\"],[1.0,\"#f0f921\"]],\"type\":\"histogram2d\"}],\"histogram2dcontour\":[{\"colorbar\":{\"outlinewidth\":0,\"ticks\":\"\"},\"colorscale\":[[0.0,\"#0d0887\"],[0.1111111111111111,\"#46039f\"],[0.2222222222222222,\"#7201a8\"],[0.3333333333333333,\"#9c179e\"],[0.4444444444444444,\"#bd3786\"],[0.5555555555555556,\"#d8576b\"],[0.6666666666666666,\"#ed7953\"],[0.7777777777777778,\"#fb9f3a\"],[0.8888888888888888,\"#fdca26\"],[1.0,\"#f0f921\"]],\"type\":\"histogram2dcontour\"}],\"mesh3d\":[{\"colorbar\":{\"outlinewidth\":0,\"ticks\":\"\"},\"type\":\"mesh3d\"}],\"parcoords\":[{\"line\":{\"colorbar\":{\"outlinewidth\":0,\"ticks\":\"\"}},\"type\":\"parcoords\"}],\"pie\":[{\"automargin\":true,\"type\":\"pie\"}],\"scatter\":[{\"marker\":{\"colorbar\":{\"outlinewidth\":0,\"ticks\":\"\"}},\"type\":\"scatter\"}],\"scatter3d\":[{\"line\":{\"colorbar\":{\"outlinewidth\":0,\"ticks\":\"\"}},\"marker\":{\"colorbar\":{\"outlinewidth\":0,\"ticks\":\"\"}},\"type\":\"scatter3d\"}],\"scattercarpet\":[{\"marker\":{\"colorbar\":{\"outlinewidth\":0,\"ticks\":\"\"}},\"type\":\"scattercarpet\"}],\"scattergeo\":[{\"marker\":{\"colorbar\":{\"outlinewidth\":0,\"ticks\":\"\"}},\"type\":\"scattergeo\"}],\"scattergl\":[{\"marker\":{\"colorbar\":{\"outlinewidth\":0,\"ticks\":\"\"}},\"type\":\"scattergl\"}],\"scattermapbox\":[{\"marker\":{\"colorbar\":{\"outlinewidth\":0,\"ticks\":\"\"}},\"type\":\"scattermapbox\"}],\"scatterpolar\":[{\"marker\":{\"colorbar\":{\"outlinewidth\":0,\"ticks\":\"\"}},\"type\":\"scatterpolar\"}],\"scatterpolargl\":[{\"marker\":{\"colorbar\":{\"outlinewidth\":0,\"ticks\":\"\"}},\"type\":\"scatterpolargl\"}],\"scatterternary\":[{\"marker\":{\"colorbar\":{\"outlinewidth\":0,\"ticks\":\"\"}},\"type\":\"scatterternary\"}],\"surface\":[{\"colorbar\":{\"outlinewidth\":0,\"ticks\":\"\"},\"colorscale\":[[0.0,\"#0d0887\"],[0.1111111111111111,\"#46039f\"],[0.2222222222222222,\"#7201a8\"],[0.3333333333333333,\"#9c179e\"],[0.4444444444444444,\"#bd3786\"],[0.5555555555555556,\"#d8576b\"],[0.6666666666666666,\"#ed7953\"],[0.7777777777777778,\"#fb9f3a\"],[0.8888888888888888,\"#fdca26\"],[1.0,\"#f0f921\"]],\"type\":\"surface\"}],\"table\":[{\"cells\":{\"fill\":{\"color\":\"#EBF0F8\"},\"line\":{\"color\":\"white\"}},\"header\":{\"fill\":{\"color\":\"#C8D4E3\"},\"line\":{\"color\":\"white\"}},\"type\":\"table\"}]},\"layout\":{\"annotationdefaults\":{\"arrowcolor\":\"#2a3f5f\",\"arrowhead\":0,\"arrowwidth\":1},\"autotypenumbers\":\"strict\",\"coloraxis\":{\"colorbar\":{\"outlinewidth\":0,\"ticks\":\"\"}},\"colorscale\":{\"diverging\":[[0,\"#8e0152\"],[0.1,\"#c51b7d\"],[0.2,\"#de77ae\"],[0.3,\"#f1b6da\"],[0.4,\"#fde0ef\"],[0.5,\"#f7f7f7\"],[0.6,\"#e6f5d0\"],[0.7,\"#b8e186\"],[0.8,\"#7fbc41\"],[0.9,\"#4d9221\"],[1,\"#276419\"]],\"sequential\":[[0.0,\"#0d0887\"],[0.1111111111111111,\"#46039f\"],[0.2222222222222222,\"#7201a8\"],[0.3333333333333333,\"#9c179e\"],[0.4444444444444444,\"#bd3786\"],[0.5555555555555556,\"#d8576b\"],[0.6666666666666666,\"#ed7953\"],[0.7777777777777778,\"#fb9f3a\"],[0.8888888888888888,\"#fdca26\"],[1.0,\"#f0f921\"]],\"sequentialminus\":[[0.0,\"#0d0887\"],[0.1111111111111111,\"#46039f\"],[0.2222222222222222,\"#7201a8\"],[0.3333333333333333,\"#9c179e\"],[0.4444444444444444,\"#bd3786\"],[0.5555555555555556,\"#d8576b\"],[0.6666666666666666,\"#ed7953\"],[0.7777777777777778,\"#fb9f3a\"],[0.8888888888888888,\"#fdca26\"],[1.0,\"#f0f921\"]]},\"colorway\":[\"#636efa\",\"#EF553B\",\"#00cc96\",\"#ab63fa\",\"#FFA15A\",\"#19d3f3\",\"#FF6692\",\"#B6E880\",\"#FF97FF\",\"#FECB52\"],\"font\":{\"color\":\"#2a3f5f\"},\"geo\":{\"bgcolor\":\"white\",\"lakecolor\":\"white\",\"landcolor\":\"#E5ECF6\",\"showlakes\":true,\"showland\":true,\"subunitcolor\":\"white\"},\"hoverlabel\":{\"align\":\"left\"},\"hovermode\":\"closest\",\"mapbox\":{\"style\":\"light\"},\"paper_bgcolor\":\"white\",\"plot_bgcolor\":\"#E5ECF6\",\"polar\":{\"angularaxis\":{\"gridcolor\":\"white\",\"linecolor\":\"white\",\"ticks\":\"\"},\"bgcolor\":\"#E5ECF6\",\"radialaxis\":{\"gridcolor\":\"white\",\"linecolor\":\"white\",\"ticks\":\"\"}},\"scene\":{\"xaxis\":{\"backgroundcolor\":\"#E5ECF6\",\"gridcolor\":\"white\",\"gridwidth\":2,\"linecolor\":\"white\",\"showbackground\":true,\"ticks\":\"\",\"zerolinecolor\":\"white\"},\"yaxis\":{\"backgroundcolor\":\"#E5ECF6\",\"gridcolor\":\"white\",\"gridwidth\":2,\"linecolor\":\"white\",\"showbackground\":true,\"ticks\":\"\",\"zerolinecolor\":\"white\"},\"zaxis\":{\"backgroundcolor\":\"#E5ECF6\",\"gridcolor\":\"white\",\"gridwidth\":2,\"linecolor\":\"white\",\"showbackground\":true,\"ticks\":\"\",\"zerolinecolor\":\"white\"}},\"shapedefaults\":{\"line\":{\"color\":\"#2a3f5f\"}},\"ternary\":{\"aaxis\":{\"gridcolor\":\"white\",\"linecolor\":\"white\",\"ticks\":\"\"},\"baxis\":{\"gridcolor\":\"white\",\"linecolor\":\"white\",\"ticks\":\"\"},\"bgcolor\":\"#E5ECF6\",\"caxis\":{\"gridcolor\":\"white\",\"linecolor\":\"white\",\"ticks\":\"\"}},\"title\":{\"x\":0.05},\"xaxis\":{\"automargin\":true,\"gridcolor\":\"white\",\"linecolor\":\"white\",\"ticks\":\"\",\"title\":{\"standoff\":15},\"zerolinecolor\":\"white\",\"zerolinewidth\":2},\"yaxis\":{\"automargin\":true,\"gridcolor\":\"white\",\"linecolor\":\"white\",\"ticks\":\"\",\"title\":{\"standoff\":15},\"zerolinecolor\":\"white\",\"zerolinewidth\":2}}},\"title\":{\"text\":\"Stock inside Portfolio Value\"}},                        {\"responsive\": true}                    ).then(function(){\n",
              "                            \n",
              "var gd = document.getElementById('0ab3e0bd-8861-4597-a7fe-1ea3d083e5e3');\n",
              "var x = new MutationObserver(function (mutations, observer) {{\n",
              "        var display = window.getComputedStyle(gd).display;\n",
              "        if (!display || display === 'none') {{\n",
              "            console.log([gd, 'removed!']);\n",
              "            Plotly.purge(gd);\n",
              "            observer.disconnect();\n",
              "        }}\n",
              "}});\n",
              "\n",
              "// Listen for the removal of the full notebook cells\n",
              "var notebookContainer = gd.closest('#notebook-container');\n",
              "if (notebookContainer) {{\n",
              "    x.observe(notebookContainer, {childList: true});\n",
              "}}\n",
              "\n",
              "// Listen for the clearing of the current output cell\n",
              "var outputEl = gd.closest('.output');\n",
              "if (outputEl) {{\n",
              "    x.observe(outputEl, {childList: true});\n",
              "}}\n",
              "\n",
              "                        })                };                            </script>        </div>\n",
              "</body>\n",
              "</html>"
            ]
          },
          "metadata": {}
        }
      ]
    }
  ]
}