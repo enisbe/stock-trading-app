{
  "nbformat": 4,
  "nbformat_minor": 0,
  "metadata": {
    "colab": {
      "name": "strategy_and_backtest.ipynb",
      "provenance": [],
      "collapsed_sections": [],
      "include_colab_link": true
    },
    "kernelspec": {
      "name": "python3",
      "display_name": "Python 3"
    },
    "language_info": {
      "name": "python"
    }
  },
  "cells": [
    {
      "cell_type": "markdown",
      "metadata": {
        "id": "view-in-github",
        "colab_type": "text"
      },
      "source": [
        "<a href=\"https://colab.research.google.com/github/enisbe/stock-trading-app/blob/main/model/strategy_and_backtest.ipynb\" target=\"_parent\"><img src=\"https://colab.research.google.com/assets/colab-badge.svg\" alt=\"Open In Colab\"/></a>"
      ]
    },
    {
      "cell_type": "markdown",
      "source": [
        "# Portfolio Strategy"
      ],
      "metadata": {
        "id": "1F9Vn5EADFRB"
      }
    },
    {
      "cell_type": "markdown",
      "source": [
        "Portfolio Strategy using predicted prices of S&P 500 as basis. Only top 20 stocks with the highest expected return are selected in the portfolio and portfolio optimization is conducted on the selected 20 stocks. "
      ],
      "metadata": {
        "id": "suOCk9lwDKIL"
      }
    },
    {
      "cell_type": "markdown",
      "metadata": {
        "id": "7jWbjYVc8XK7"
      },
      "source": [
        "#Accessing Market Data  <a class=\"anchor\" id=\"second-bullet\"></a>"
      ]
    },
    {
      "cell_type": "code",
      "metadata": {
        "id": "Im3EbToYhh75"
      },
      "source": [
        "%%capture\n",
        "!pip install matplotlib==3.2.2\n",
        "!pip install plotly\n",
        "!pip install pandas numpy yfinance PyPortfolioOpt yahooquery"
      ],
      "execution_count": 1,
      "outputs": []
    },
    {
      "cell_type": "code",
      "source": [
        "# Load the required modules and packages\n",
        "import numpy as np\n",
        "import pandas as pd\n",
        "import pandas_datareader as web\n",
        "import pandas_datareader\n",
        "import datetime\n",
        "import pandas_datareader.data as web\n",
        "import plotly.graph_objects as go\n",
        "from matplotlib import pyplot as plt\n",
        "import pypfopt\n",
        "from pypfopt import plotting\n",
        "import yfinance as yf\n",
        "from yahooquery import Ticker"
      ],
      "metadata": {
        "id": "kei7yZQvnF2Y"
      },
      "execution_count": 2,
      "outputs": []
    },
    {
      "cell_type": "code",
      "source": [
        "%matplotlib inline\n",
        "plt.close('all')\n"
      ],
      "metadata": {
        "id": "VSMJ0syFxkmn"
      },
      "execution_count": null,
      "outputs": []
    },
    {
      "cell_type": "code",
      "source": [
        "# There are 2 tables on the Wikipedia page\n",
        "# we want the first table\n",
        "\n",
        "payload=pd.read_html('https://en.wikipedia.org/wiki/List_of_S%26P_500_companies')\n",
        "first_table = payload[0]\n",
        "second_table = payload[1]\n",
        "\n",
        "df_sp500 = first_table.convert_dtypes()\n",
        "df_sp500.convert_dtypes()\n",
        "df_sp500.to_csv('sp500' + '.csv', index=False)\n",
        "df_sp500.info()\n",
        "df_sp500.head(1)"
      ],
      "metadata": {
        "id": "m_lofeGuYP-b"
      },
      "execution_count": null,
      "outputs": []
    },
    {
      "cell_type": "code",
      "source": [
        "symbols = sp500.Symbol.tolist()\n",
        "\n",
        "tickers = Ticker(symbols, asynchronous=True)\n",
        "\n",
        "data = tickers.history(period =\"1d\", interval=\"5m\")"
      ],
      "metadata": {
        "id": "WITiSXuJw5Tk"
      },
      "execution_count": null,
      "outputs": []
    },
    {
      "cell_type": "code",
      "source": [
        "for key in data:\n",
        "    if isinstance(data[key], pd.DataFrame):\n",
        "        data[key]['symbol'] = key\n",
        "\n",
        "# Concat all dataframes\n",
        "df = pd.concat([data[k] for k in data if isinstance(data[k], pd.DataFrame)])"
      ],
      "metadata": {
        "id": "dZ2Au0k9wFqa"
      },
      "execution_count": null,
      "outputs": []
    },
    {
      "cell_type": "code",
      "source": [
        "SPY=Ticker('SPY',asynchronous=True)\n",
        "data1=SPY.history(period =\"1d\", interval=\"5m\")"
      ],
      "metadata": {
        "id": "8Vg9p-Z4UDKf"
      },
      "execution_count": null,
      "outputs": []
    },
    {
      "cell_type": "code",
      "source": [
        "for key in data1:\n",
        "    if isinstance(data1[key], pd.DataFrame):\n",
        "        data1[key]['symbol'] = key"
      ],
      "metadata": {
        "id": "AJCr_8HJUiwJ"
      },
      "execution_count": null,
      "outputs": []
    },
    {
      "cell_type": "code",
      "source": [
        "df.reset_index(inplace=True)"
      ],
      "metadata": {
        "id": "BPa0SGo3gPxg"
      },
      "execution_count": null,
      "outputs": []
    },
    {
      "cell_type": "code",
      "source": [
        "df_cleaned=df[['index','close','symbol']]"
      ],
      "metadata": {
        "id": "VqJG_KnpjUFR"
      },
      "execution_count": null,
      "outputs": []
    },
    {
      "cell_type": "code",
      "source": [
        "df_cleaned['date']=df_cleaned['index']"
      ],
      "metadata": {
        "id": "6EabRCUEgpOJ"
      },
      "execution_count": null,
      "outputs": []
    },
    {
      "cell_type": "code",
      "source": [
        "pivoted = df_cleaned.pivot(index='date', columns=\"symbol\", values=\"close\")"
      ],
      "metadata": {
        "id": "FoXkiveWhWo6"
      },
      "execution_count": null,
      "outputs": []
    },
    {
      "cell_type": "code",
      "source": [
        "pivoted2=pivoted.copy()"
      ],
      "metadata": {
        "id": "E7Q8XTso8ejq"
      },
      "execution_count": null,
      "outputs": []
    },
    {
      "cell_type": "code",
      "source": [
        "data1.reset_index(inplace=True)"
      ],
      "metadata": {
        "id": "O7T1fi828jEC"
      },
      "execution_count": null,
      "outputs": []
    },
    {
      "cell_type": "code",
      "source": [
        "df1_cleaned=data1[['date','close','symbol']]"
      ],
      "metadata": {
        "id": "KbuLYB5cdK2V"
      },
      "execution_count": null,
      "outputs": []
    },
    {
      "cell_type": "code",
      "source": [
        "pivoted1 = df1_cleaned.pivot(index='date', columns=\"symbol\", values=\"close\")"
      ],
      "metadata": {
        "id": "QaF527q3jyPq"
      },
      "execution_count": null,
      "outputs": []
    },
    {
      "cell_type": "markdown",
      "source": [
        "# Portfolio Strategy"
      ],
      "metadata": {
        "id": "-i-CqsueNk1B"
      }
    },
    {
      "cell_type": "markdown",
      "source": [
        "### Portfolio Optimization based on max sharpe ratio"
      ],
      "metadata": {
        "id": "fRjX51ctEQPD"
      }
    },
    {
      "cell_type": "code",
      "source": [
        "import pandas as pd\n",
        "from pypfopt import EfficientFrontier, objective_functions\n",
        "from pypfopt import risk_models\n",
        "from pypfopt import expected_returns  \n",
        "import cvxpy as cp\n",
        "# Read in price data\n",
        "#df=pd.read_csv('all_price_close.csv',index_col=\"Date\")\n",
        "# Calculate expected returns and covariance\n",
        "all=pivoted.copy()\n",
        "mu = expected_returns.mean_historical_return(pivoted, frequency=len(pivoted.index))\n",
        "mu1 = mu.sort_values(ascending=False).head(20)\n",
        "df_S=pivoted[[x for x in mu1.index]]\n",
        "S = risk_models.sample_cov(df_S,frequency=len(pivoted.index))\n",
        "\n",
        "# Optimize for maximal Sharpe ratio\n",
        "ef = EfficientFrontier(mu1, S)\n",
        "#ef = EfficientFrontier(mu,S1)\n",
        "#ef.add_objective(objective_functions.L2_reg, gamma=1)\n",
        "ef.add_constraint(lambda w: w[0]+w[1]+w[2]+w[3]+w[4]+w[5]+w[6]+w[7]\n",
        "                  +w[8]+w[9]+w[10]+w[11]+w[12]+w[13]\n",
        "                  +w[14]+w[15]+w[16]+w[17]+w[18]+w[19]\n",
        "                  == int(1))\n",
        "ef.add_constraint((lambda w: cp.sum(w) == 1))\n",
        "raw_weights = ef.max_sharpe()\n",
        "cleaned_weights = ef.clean_weights(rounding=3)\n",
        "ef.save_weights_to_file(\"weights.csv\")  # saves to file\n",
        "print(cleaned_weights)\n",
        "ef.portfolio_performance(verbose=True)"
      ],
      "metadata": {
        "id": "ETWJUvgvVy4s"
      },
      "execution_count": null,
      "outputs": []
    },
    {
      "cell_type": "code",
      "source": [
        "plotting.plot_covariance(S, plot_correlation=True)"
      ],
      "metadata": {
        "colab": {
          "base_uri": "https://localhost:8080/",
          "height": 315
        },
        "id": "zCRrzgk1xx8Y",
        "outputId": "eb597a89-c1b8-46ad-d3e9-a80abc8ff9b8"
      },
      "execution_count": null,
      "outputs": [
        {
          "output_type": "execute_result",
          "data": {
            "text/plain": [
              "<matplotlib.axes._subplots.AxesSubplot at 0x7f3a58d7fa90>"
            ]
          },
          "metadata": {},
          "execution_count": 473
        },
        {
          "output_type": "display_data",
          "data": {
            "text/plain": [
              "<Figure size 432x288 with 2 Axes>"
            ],
            "image/png": "[encoded data removed]"
          },
          "metadata": {
            "needs_background": "light"
          }
        }
      ]
    },
    {
      "cell_type": "code",
      "source": [
        "pd.Series(cleaned_weights).plot.pie(figsize=(10, 10))"
      ],
      "metadata": {
        "id": "as3Wr-mWwgH4"
      },
      "execution_count": null,
      "outputs": []
    },
    {
      "cell_type": "markdown",
      "source": [
        "## Discrete Allocation"
      ],
      "metadata": {
        "id": "uE8lvir1tQ_H"
      }
    },
    {
      "cell_type": "markdown",
      "source": [
        "Discrete Allocation of Portfolio Strategies.Convert optimized weight into actual allocation of stock shares available for purchase by entering the latest price and investment size."
      ],
      "metadata": {
        "id": "LwImoBjzEvHi"
      }
    },
    {
      "cell_type": "code",
      "source": [
        "from pypfopt.discrete_allocation import DiscreteAllocation, get_latest_prices\n",
        "latest_prices = get_latest_prices(df_S)\n",
        "weights = cleaned_weights \n",
        "da = DiscreteAllocation(weights, latest_prices, total_portfolio_value=20000)\n",
        "allocation, leftover = da.lp_portfolio()\n",
        "print(\"Discrete allocation:\", allocation)\n",
        "print(\"Funds remaining: ${:.2f}\".format(leftover))"
      ],
      "metadata": {
        "id": "Nu90woP0RIgI"
      },
      "execution_count": null,
      "outputs": []
    },
    {
      "cell_type": "markdown",
      "source": [
        "Normalize Weights to ensure sum of weights == 1"
      ],
      "metadata": {
        "id": "FFcUV9fsxOP6"
      }
    },
    {
      "cell_type": "code",
      "source": [
        "strategy1=dict(cleaned_weights)\n",
        "strategy2=dict(cleaned_weights2)"
      ],
      "metadata": {
        "id": "VH3fOl7_IuFc"
      },
      "execution_count": null,
      "outputs": []
    },
    {
      "cell_type": "code",
      "source": [
        "weight1=pd.DataFrame(strategy1.items(), columns=['ticker','weight'])\n",
        "weight2=pd.DataFrame(strategy2.items(), columns=['ticker','weight'])"
      ],
      "metadata": {
        "id": "GqtHu1h_LVs1"
      },
      "execution_count": null,
      "outputs": []
    },
    {
      "cell_type": "code",
      "source": [
        "s1=sum(weight1.weight)\n",
        "s2=sum(weight2.weight)"
      ],
      "metadata": {
        "id": "WnIA0nPCYzlF"
      },
      "execution_count": null,
      "outputs": []
    },
    {
      "cell_type": "code",
      "source": [
        "weight1.weight=weight1.weight/s1\n",
        "weight2.weight=weight2.weight/s2"
      ],
      "metadata": {
        "id": "DVO9jSkOQqba"
      },
      "execution_count": null,
      "outputs": []
    },
    {
      "cell_type": "code",
      "source": [
        "weight1.set_index('ticker')\n",
        "weight2.set_index('ticker')"
      ],
      "metadata": {
        "id": "MEmvPMh0uPpG"
      },
      "execution_count": null,
      "outputs": []
    },
    {
      "cell_type": "code",
      "source": [
        "strategy_nor1=dict(zip(weight1.ticker, weight1.weight))"
      ],
      "metadata": {
        "id": "QCAqWrXZid7A"
      },
      "execution_count": null,
      "outputs": []
    },
    {
      "cell_type": "code",
      "source": [
        "strategy_nor2=dict(zip(weight2.ticker, weight2.weight))"
      ],
      "metadata": {
        "id": "R_2g0khtlxWT"
      },
      "execution_count": null,
      "outputs": []
    },
    {
      "cell_type": "markdown",
      "source": [
        "# Backtesting using Self-Designed Function"
      ],
      "metadata": {
        "id": "zmzm48wSRgev"
      }
    },
    {
      "cell_type": "code",
      "source": [
        "#Portfolio Asset Allocation. \n",
        "labels = weight1.ticker.to_list()\n",
        "allocation_pct = weight1.weight.to_list()\n",
        "\n",
        "fig = go.Figure(data=[go.Pie(labels=labels, values=allocation_pct)])\n",
        "fig.update_layout(title=\"Portfolio Asset Allocation\")\n",
        "fig.show()"
      ],
      "metadata": {
        "id": "Yvy7NYt9Cwx-"
      },
      "execution_count": null,
      "outputs": []
    },
    {
      "cell_type": "code",
      "source": [
        "# Calculate the cumulative return\n",
        "for t in labels: \n",
        "  pivoted[t+'Cum Return'] = pivoted[t]/pivoted.iloc[0][t]"
      ],
      "metadata": {
        "id": "yi-c3NzmCybm"
      },
      "execution_count": null,
      "outputs": []
    },
    {
      "cell_type": "code",
      "source": [
        "# Calculate value of initial investment of 10K in the Portfolio\n",
        "\n",
        "init_investment = 20000\n",
        "for t, alloc in zip(labels,allocation_pct):\n",
        "  pivoted[t+'Value'] = alloc*init_investment*pivoted[t+'Cum Return']\n"
      ],
      "metadata": {
        "id": "0p0cWJd2C00Y"
      },
      "execution_count": null,
      "outputs": []
    },
    {
      "cell_type": "code",
      "source": [
        "# Combine All values\n",
        "all_vals =[pivoted[t+'Value'] for t in labels]\n",
        "portfolio_val = pd.concat(all_vals, axis=1)\n",
        "portfolio_val.columns = labels\n",
        "# Calculate Cumulative Return and Cumulative Return %\n",
        "portfolio_val['Portfolio Total'] = round(portfolio_val.sum(axis=1))\n",
        "portfolio_val['Cum Return'] = portfolio_val['Portfolio Total']/portfolio_val.iloc[0]['Portfolio Total']\n",
        "portfolio_val['Cum Return %'] = (portfolio_val['Cum Return'] - 1) * 100"
      ],
      "metadata": {
        "id": "_Av6YbuNvhLF"
      },
      "execution_count": null,
      "outputs": []
    },
    {
      "cell_type": "code",
      "source": [
        "SPY=data1.copy()\n",
        "SPY['Cum Return']= SPY['close']/SPY.iloc[0]['close']\n",
        "# Calculate value of initial investment of 10K in the SPY\n",
        "SPY['SPY Total'] = init_investment*SPY['Cum Return']\n",
        "SPY['SPY Total'] = round(SPY['SPY Total'])\n",
        "SPY['Cum Return %'] = (SPY['Cum Return'] - 1) * 100"
      ],
      "metadata": {
        "id": "0YsLqFtQC3KP"
      },
      "execution_count": null,
      "outputs": []
    },
    {
      "cell_type": "code",
      "source": [
        "# Visualize Portfolio Value and Compare it to SPY benchmark\n",
        "import plotly.graph_objects as go\n",
        "fig = go.Figure()\n",
        "fig.add_trace(go.Scatter(x=portfolio_val.index, y=portfolio_val['Portfolio Total'], name='Portfolio Total'))\n",
        "fig.add_trace(go.Scatter(x=SPY.date, y=SPY['SPY Total'],name='SPY Total'))\n",
        "fig.update_layout(title=\"Portfolio Value\")"
      ],
      "metadata": {
        "colab": {
          "base_uri": "https://localhost:8080/",
          "height": 542
        },
        "id": "oUyF9bTSSPgc",
        "outputId": "f9d5a2e9-2d33-44ef-ec03-51446d911550"
      },
      "execution_count": null,
      "outputs": [
        {
          "output_type": "display_data",
          "data": {
            "text/html": [
              "<html>\n",
              "<head><meta charset=\"utf-8\" /></head>\n",
              "<body>\n",
              "    <div>            <script src=\"https://cdnjs.cloudflare.com/ajax/libs/mathjax/2.7.5/MathJax.js?config=TeX-AMS-MML_SVG\"></script><script type=\"text/javascript\">if (window.MathJax) {MathJax.Hub.Config({SVG: {font: \"STIX-Web\"}});}</script>                <script type=\"text/javascript\">window.PlotlyConfig = {MathJaxConfig: 'local'};</script>\n",
              "        <script src=\"https://cdn.plot.ly/plotly-2.8.3.min.js\"></script>                <div id=\"68f9e761-1f38-4533-bb6b-63bec13c84ed\" class=\"plotly-graph-div\" style=\"height:525px; width:100%;\"></div>            <script type=\"text/javascript\">                                    window.PLOTLYENV=window.PLOTLYENV || {};                                    if (document.getElementById(\"68f9e761-1f38-4533-bb6b-63bec13c84ed\")) {                    Plotly.newPlot(                        \"68f9e761-1f38-4533-bb6b-63bec13c84ed\",                        [{\"name\":\"Portfolio Total\",\"x\":[\"2022-04-29T09:30:00\",\"2022-04-29T09:35:00\",\"2022-04-29T09:40:00\",\"2022-04-29T09:45:00\",\"2022-04-29T09:50:00\",\"2022-04-29T09:55:00\",\"2022-04-29T10:00:00\",\"2022-04-29T10:05:00\",\"2022-04-29T10:10:00\",\"2022-04-29T10:15:00\",\"2022-04-29T10:20:00\",\"2022-04-29T10:25:00\",\"2022-04-29T10:30:00\",\"2022-04-29T10:35:00\",\"2022-04-29T10:40:00\",\"2022-04-29T10:45:00\",\"2022-04-29T10:50:00\",\"2022-04-29T10:55:00\",\"2022-04-29T11:00:00\",\"2022-04-29T11:05:00\",\"2022-04-29T11:10:00\",\"2022-04-29T11:15:00\",\"2022-04-29T11:20:00\",\"2022-04-29T11:25:00\",\"2022-04-29T11:30:00\",\"2022-04-29T11:35:00\",\"2022-04-29T11:40:00\",\"2022-04-29T11:45:00\",\"2022-04-29T11:50:00\",\"2022-04-29T11:55:00\",\"2022-04-29T12:00:00\",\"2022-04-29T12:05:00\",\"2022-04-29T12:10:00\",\"2022-04-29T12:15:00\",\"2022-04-29T12:20:00\",\"2022-04-29T12:25:00\",\"2022-04-29T12:30:00\",\"2022-04-29T12:35:00\",\"2022-04-29T12:40:00\",\"2022-04-29T12:45:00\",\"2022-04-29T12:50:00\",\"2022-04-29T12:55:00\",\"2022-04-29T13:00:00\",\"2022-04-29T13:05:00\",\"2022-04-29T13:10:00\",\"2022-04-29T13:15:00\",\"2022-04-29T13:20:00\",\"2022-04-29T13:25:00\",\"2022-04-29T13:30:00\",\"2022-04-29T13:35:00\",\"2022-04-29T13:40:00\",\"2022-04-29T13:45:00\",\"2022-04-29T13:50:00\",\"2022-04-29T13:55:00\",\"2022-04-29T14:00:00\",\"2022-04-29T14:05:00\",\"2022-04-29T14:10:00\",\"2022-04-29T14:15:00\",\"2022-04-29T14:20:00\",\"2022-04-29T14:25:00\",\"2022-04-29T14:30:00\",\"2022-04-29T14:35:00\",\"2022-04-29T14:40:00\",\"2022-04-29T14:45:00\",\"2022-04-29T14:50:00\",\"2022-04-29T14:55:00\",\"2022-04-29T15:00:00\",\"2022-04-29T15:05:00\",\"2022-04-29T15:10:00\",\"2022-04-29T15:15:00\",\"2022-04-29T15:20:00\",\"2022-04-29T15:25:00\",\"2022-04-29T15:30:00\",\"2022-04-29T15:35:00\",\"2022-04-29T15:40:00\",\"2022-04-29T15:45:00\",\"2022-04-29T15:50:00\",\"2022-04-29T15:55:00\",\"2022-04-29T16:00:00\"],\"y\":[20000.0,20151.0,20267.0,20284.0,20392.0,20506.0,20545.0,20515.0,20591.0,20454.0,20257.0,20295.0,20259.0,20275.0,20289.0,20266.0,20306.0,20284.0,20258.0,20278.0,20308.0,20333.0,20344.0,20379.0,20388.0,20349.0,20322.0,20322.0,20384.0,20395.0,20344.0,20319.0,20348.0,20295.0,20318.0,20322.0,20295.0,20299.0,20308.0,20292.0,20322.0,20379.0,20392.0,20363.0,20357.0,20411.0,20413.0,20379.0,20387.0,20471.0,20409.0,20395.0,20368.0,20382.0,20380.0,20371.0,20360.0,20365.0,20368.0,20346.0,20335.0,20330.0,20401.0,20382.0,20355.0,20363.0,20333.0,20330.0,20320.0,20360.0,20358.0,20363.0,20441.0,20509.0,20517.0,20447.0,20420.0,20441.0,20441.0],\"type\":\"scatter\"},{\"name\":\"SPY Total\",\"x\":[\"2022-04-29T09:30:00\",\"2022-04-29T09:35:00\",\"2022-04-29T09:40:00\",\"2022-04-29T09:45:00\",\"2022-04-29T09:50:00\",\"2022-04-29T09:55:00\",\"2022-04-29T10:00:00\",\"2022-04-29T10:05:00\",\"2022-04-29T10:10:00\",\"2022-04-29T10:15:00\",\"2022-04-29T10:20:00\",\"2022-04-29T10:25:00\",\"2022-04-29T10:30:00\",\"2022-04-29T10:35:00\",\"2022-04-29T10:40:00\",\"2022-04-29T10:45:00\",\"2022-04-29T10:50:00\",\"2022-04-29T10:55:00\",\"2022-04-29T11:00:00\",\"2022-04-29T11:05:00\",\"2022-04-29T11:10:00\",\"2022-04-29T11:15:00\",\"2022-04-29T11:20:00\",\"2022-04-29T11:25:00\",\"2022-04-29T11:30:00\",\"2022-04-29T11:35:00\",\"2022-04-29T11:40:00\",\"2022-04-29T11:45:00\",\"2022-04-29T11:50:00\",\"2022-04-29T11:55:00\",\"2022-04-29T12:00:00\",\"2022-04-29T12:05:00\",\"2022-04-29T12:10:00\",\"2022-04-29T12:15:00\",\"2022-04-29T12:20:00\",\"2022-04-29T12:25:00\",\"2022-04-29T12:30:00\",\"2022-04-29T12:35:00\",\"2022-04-29T12:40:00\",\"2022-04-29T12:45:00\",\"2022-04-29T12:50:00\",\"2022-04-29T12:55:00\",\"2022-04-29T13:00:00\",\"2022-04-29T13:05:00\",\"2022-04-29T13:10:00\",\"2022-04-29T13:15:00\",\"2022-04-29T13:20:00\",\"2022-04-29T13:25:00\",\"2022-04-29T13:30:00\",\"2022-04-29T13:35:00\",\"2022-04-29T13:40:00\",\"2022-04-29T13:45:00\",\"2022-04-29T13:50:00\",\"2022-04-29T13:55:00\",\"2022-04-29T14:00:00\",\"2022-04-29T14:05:00\",\"2022-04-29T14:10:00\",\"2022-04-29T14:15:00\",\"2022-04-29T14:20:00\",\"2022-04-29T14:25:00\",\"2022-04-29T14:30:00\",\"2022-04-29T14:35:00\",\"2022-04-29T14:40:00\",\"2022-04-29T14:45:00\",\"2022-04-29T14:50:00\",\"2022-04-29T14:55:00\",\"2022-04-29T15:00:00\",\"2022-04-29T15:05:00\",\"2022-04-29T15:10:00\",\"2022-04-29T15:15:00\",\"2022-04-29T15:20:00\",\"2022-04-29T15:25:00\",\"2022-04-29T15:30:00\",\"2022-04-29T15:35:00\",\"2022-04-29T15:40:00\",\"2022-04-29T15:45:00\",\"2022-04-29T15:50:00\",\"2022-04-29T15:55:00\",\"2022-04-29T16:00:00\"],\"y\":[20000.0,19971.0,19925.0,19950.0,19958.0,20060.0,20022.0,20004.0,19992.0,19903.0,19882.0,19846.0,19839.0,19840.0,19829.0,19804.0,19812.0,19826.0,19814.0,19806.0,19805.0,19816.0,19828.0,19835.0,19854.0,19836.0,19864.0,19857.0,19858.0,19812.0,19753.0,19743.0,19755.0,19740.0,19759.0,19736.0,19728.0,19730.0,19701.0,19701.0,19662.0,19681.0,19716.0,19680.0,19699.0,19711.0,19739.0,19727.0,19743.0,19748.0,19709.0,19689.0,19685.0,19680.0,19660.0,19650.0,19658.0,19664.0,19634.0,19637.0,19629.0,19599.0,19614.0,19571.0,19557.0,19586.0,19578.0,19535.0,19513.0,19560.0,19550.0,19511.0,19535.0,19538.0,19512.0,19453.0,19408.0,19415.0,19414.0],\"type\":\"scatter\"}],                        {\"template\":{\"data\":{\"bar\":[{\"error_x\":{\"color\":\"#2a3f5f\"},\"error_y\":{\"color\":\"#2a3f5f\"},\"marker\":{\"line\":{\"color\":\"#E5ECF6\",\"width\":0.5},\"pattern\":{\"fillmode\":\"overlay\",\"size\":10,\"solidity\":0.2}},\"type\":\"bar\"}],\"barpolar\":[{\"marker\":{\"line\":{\"color\":\"#E5ECF6\",\"width\":0.5},\"pattern\":{\"fillmode\":\"overlay\",\"size\":10,\"solidity\":0.2}},\"type\":\"barpolar\"}],\"carpet\":[{\"aaxis\":{\"endlinecolor\":\"#2a3f5f\",\"gridcolor\":\"white\",\"linecolor\":\"white\",\"minorgridcolor\":\"white\",\"startlinecolor\":\"#2a3f5f\"},\"baxis\":{\"endlinecolor\":\"#2a3f5f\",\"gridcolor\":\"white\",\"linecolor\":\"white\",\"minorgridcolor\":\"white\",\"startlinecolor\":\"#2a3f5f\"},\"type\":\"carpet\"}],\"choropleth\":[{\"colorbar\":{\"outlinewidth\":0,\"ticks\":\"\"},\"type\":\"choropleth\"}],\"contour\":[{\"colorbar\":{\"outlinewidth\":0,\"ticks\":\"\"},\"colorscale\":[[0.0,\"#0d0887\"],[0.1111111111111111,\"#46039f\"],[0.2222222222222222,\"#7201a8\"],[0.3333333333333333,\"#9c179e\"],[0.4444444444444444,\"#bd3786\"],[0.5555555555555556,\"#d8576b\"],[0.6666666666666666,\"#ed7953\"],[0.7777777777777778,\"#fb9f3a\"],[0.8888888888888888,\"#fdca26\"],[1.0,\"#f0f921\"]],\"type\":\"contour\"}],\"contourcarpet\":[{\"colorbar\":{\"outlinewidth\":0,\"ticks\":\"\"},\"type\":\"contourcarpet\"}],\"heatmap\":[{\"colorbar\":{\"outlinewidth\":0,\"ticks\":\"\"},\"colorscale\":[[0.0,\"#0d0887\"],[0.1111111111111111,\"#46039f\"],[0.2222222222222222,\"#7201a8\"],[0.3333333333333333,\"#9c179e\"],[0.4444444444444444,\"#bd3786\"],[0.5555555555555556,\"#d8576b\"],[0.6666666666666666,\"#ed7953\"],[0.7777777777777778,\"#fb9f3a\"],[0.8888888888888888,\"#fdca26\"],[1.0,\"#f0f921\"]],\"type\":\"heatmap\"}],\"heatmapgl\":[{\"colorbar\":{\"outlinewidth\":0,\"ticks\":\"\"},\"colorscale\":[[0.0,\"#0d0887\"],[0.1111111111111111,\"#46039f\"],[0.2222222222222222,\"#7201a8\"],[0.3333333333333333,\"#9c179e\"],[0.4444444444444444,\"#bd3786\"],[0.5555555555555556,\"#d8576b\"],[0.6666666666666666,\"#ed7953\"],[0.7777777777777778,\"#fb9f3a\"],[0.8888888888888888,\"#fdca26\"],[1.0,\"#f0f921\"]],\"type\":\"heatmapgl\"}],\"histogram\":[{\"marker\":{\"pattern\":{\"fillmode\":\"overlay\",\"size\":10,\"solidity\":0.2}},\"type\":\"histogram\"}],\"histogram2d\":[{\"colorbar\":{\"outlinewidth\":0,\"ticks\":\"\"},\"colorscale\":[[0.0,\"#0d0887\"],[0.1111111111111111,\"#46039f\"],[0.2222222222222222,\"#7201a8\"],[0.3333333333333333,\"#9c179e\"],[0.4444444444444444,\"#bd3786\"],[0.5555555555555556,\"#d8576b\"],[0.6666666666666666,\"#ed7953\"],[0.7777777777777778,\"#fb9f3a\"],[0.8888888888888888,\"#fdca26\"],[1.0,\"#f0f921\"]],\"type\":\"histogram2d\"}],\"histogram2dcontour\":[{\"colorbar\":{\"outlinewidth\":0,\"ticks\":\"\"},\"colorscale\":[[0.0,\"#0d0887\"],[0.1111111111111111,\"#46039f\"],[0.2222222222222222,\"#7201a8\"],[0.3333333333333333,\"#9c179e\"],[0.4444444444444444,\"#bd3786\"],[0.5555555555555556,\"#d8576b\"],[0.6666666666666666,\"#ed7953\"],[0.7777777777777778,\"#fb9f3a\"],[0.8888888888888888,\"#fdca26\"],[1.0,\"#f0f921\"]],\"type\":\"histogram2dcontour\"}],\"mesh3d\":[{\"colorbar\":{\"outlinewidth\":0,\"ticks\":\"\"},\"type\":\"mesh3d\"}],\"parcoords\":[{\"line\":{\"colorbar\":{\"outlinewidth\":0,\"ticks\":\"\"}},\"type\":\"parcoords\"}],\"pie\":[{\"automargin\":true,\"type\":\"pie\"}],\"scatter\":[{\"marker\":{\"colorbar\":{\"outlinewidth\":0,\"ticks\":\"\"}},\"type\":\"scatter\"}],\"scatter3d\":[{\"line\":{\"colorbar\":{\"outlinewidth\":0,\"ticks\":\"\"}},\"marker\":{\"colorbar\":{\"outlinewidth\":0,\"ticks\":\"\"}},\"type\":\"scatter3d\"}],\"scattercarpet\":[{\"marker\":{\"colorbar\":{\"outlinewidth\":0,\"ticks\":\"\"}},\"type\":\"scattercarpet\"}],\"scattergeo\":[{\"marker\":{\"colorbar\":{\"outlinewidth\":0,\"ticks\":\"\"}},\"type\":\"scattergeo\"}],\"scattergl\":[{\"marker\":{\"colorbar\":{\"outlinewidth\":0,\"ticks\":\"\"}},\"type\":\"scattergl\"}],\"scattermapbox\":[{\"marker\":{\"colorbar\":{\"outlinewidth\":0,\"ticks\":\"\"}},\"type\":\"scattermapbox\"}],\"scatterpolar\":[{\"marker\":{\"colorbar\":{\"outlinewidth\":0,\"ticks\":\"\"}},\"type\":\"scatterpolar\"}],\"scatterpolargl\":[{\"marker\":{\"colorbar\":{\"outlinewidth\":0,\"ticks\":\"\"}},\"type\":\"scatterpolargl\"}],\"scatterternary\":[{\"marker\":{\"colorbar\":{\"outlinewidth\":0,\"ticks\":\"\"}},\"type\":\"scatterternary\"}],\"surface\":[{\"colorbar\":{\"outlinewidth\":0,\"ticks\":\"\"},\"colorscale\":[[0.0,\"#0d0887\"],[0.1111111111111111,\"#46039f\"],[0.2222222222222222,\"#7201a8\"],[0.3333333333333333,\"#9c179e\"],[0.4444444444444444,\"#bd3786\"],[0.5555555555555556,\"#d8576b\"],[0.6666666666666666,\"#ed7953\"],[0.7777777777777778,\"#fb9f3a\"],[0.8888888888888888,\"#fdca26\"],[1.0,\"#f0f921\"]],\"type\":\"surface\"}],\"table\":[{\"cells\":{\"fill\":{\"color\":\"#EBF0F8\"},\"line\":{\"color\":\"white\"}},\"header\":{\"fill\":{\"color\":\"#C8D4E3\"},\"line\":{\"color\":\"white\"}},\"type\":\"table\"}]},\"layout\":{\"annotationdefaults\":{\"arrowcolor\":\"#2a3f5f\",\"arrowhead\":0,\"arrowwidth\":1},\"autotypenumbers\":\"strict\",\"coloraxis\":{\"colorbar\":{\"outlinewidth\":0,\"ticks\":\"\"}},\"colorscale\":{\"diverging\":[[0,\"#8e0152\"],[0.1,\"#c51b7d\"],[0.2,\"#de77ae\"],[0.3,\"#f1b6da\"],[0.4,\"#fde0ef\"],[0.5,\"#f7f7f7\"],[0.6,\"#e6f5d0\"],[0.7,\"#b8e186\"],[0.8,\"#7fbc41\"],[0.9,\"#4d9221\"],[1,\"#276419\"]],\"sequential\":[[0.0,\"#0d0887\"],[0.1111111111111111,\"#46039f\"],[0.2222222222222222,\"#7201a8\"],[0.3333333333333333,\"#9c179e\"],[0.4444444444444444,\"#bd3786\"],[0.5555555555555556,\"#d8576b\"],[0.6666666666666666,\"#ed7953\"],[0.7777777777777778,\"#fb9f3a\"],[0.8888888888888888,\"#fdca26\"],[1.0,\"#f0f921\"]],\"sequentialminus\":[[0.0,\"#0d0887\"],[0.1111111111111111,\"#46039f\"],[0.2222222222222222,\"#7201a8\"],[0.3333333333333333,\"#9c179e\"],[0.4444444444444444,\"#bd3786\"],[0.5555555555555556,\"#d8576b\"],[0.6666666666666666,\"#ed7953\"],[0.7777777777777778,\"#fb9f3a\"],[0.8888888888888888,\"#fdca26\"],[1.0,\"#f0f921\"]]},\"colorway\":[\"#636efa\",\"#EF553B\",\"#00cc96\",\"#ab63fa\",\"#FFA15A\",\"#19d3f3\",\"#FF6692\",\"#B6E880\",\"#FF97FF\",\"#FECB52\"],\"font\":{\"color\":\"#2a3f5f\"},\"geo\":{\"bgcolor\":\"white\",\"lakecolor\":\"white\",\"landcolor\":\"#E5ECF6\",\"showlakes\":true,\"showland\":true,\"subunitcolor\":\"white\"},\"hoverlabel\":{\"align\":\"left\"},\"hovermode\":\"closest\",\"mapbox\":{\"style\":\"light\"},\"paper_bgcolor\":\"white\",\"plot_bgcolor\":\"#E5ECF6\",\"polar\":{\"angularaxis\":{\"gridcolor\":\"white\",\"linecolor\":\"white\",\"ticks\":\"\"},\"bgcolor\":\"#E5ECF6\",\"radialaxis\":{\"gridcolor\":\"white\",\"linecolor\":\"white\",\"ticks\":\"\"}},\"scene\":{\"xaxis\":{\"backgroundcolor\":\"#E5ECF6\",\"gridcolor\":\"white\",\"gridwidth\":2,\"linecolor\":\"white\",\"showbackground\":true,\"ticks\":\"\",\"zerolinecolor\":\"white\"},\"yaxis\":{\"backgroundcolor\":\"#E5ECF6\",\"gridcolor\":\"white\",\"gridwidth\":2,\"linecolor\":\"white\",\"showbackground\":true,\"ticks\":\"\",\"zerolinecolor\":\"white\"},\"zaxis\":{\"backgroundcolor\":\"#E5ECF6\",\"gridcolor\":\"white\",\"gridwidth\":2,\"linecolor\":\"white\",\"showbackground\":true,\"ticks\":\"\",\"zerolinecolor\":\"white\"}},\"shapedefaults\":{\"line\":{\"color\":\"#2a3f5f\"}},\"ternary\":{\"aaxis\":{\"gridcolor\":\"white\",\"linecolor\":\"white\",\"ticks\":\"\"},\"baxis\":{\"gridcolor\":\"white\",\"linecolor\":\"white\",\"ticks\":\"\"},\"bgcolor\":\"#E5ECF6\",\"caxis\":{\"gridcolor\":\"white\",\"linecolor\":\"white\",\"ticks\":\"\"}},\"title\":{\"x\":0.05},\"xaxis\":{\"automargin\":true,\"gridcolor\":\"white\",\"linecolor\":\"white\",\"ticks\":\"\",\"title\":{\"standoff\":15},\"zerolinecolor\":\"white\",\"zerolinewidth\":2},\"yaxis\":{\"automargin\":true,\"gridcolor\":\"white\",\"linecolor\":\"white\",\"ticks\":\"\",\"title\":{\"standoff\":15},\"zerolinecolor\":\"white\",\"zerolinewidth\":2}}},\"title\":{\"text\":\"Portfolio Value\"}},                        {\"responsive\": true}                    ).then(function(){\n",
              "                            \n",
              "var gd = document.getElementById('68f9e761-1f38-4533-bb6b-63bec13c84ed');\n",
              "var x = new MutationObserver(function (mutations, observer) {{\n",
              "        var display = window.getComputedStyle(gd).display;\n",
              "        if (!display || display === 'none') {{\n",
              "            console.log([gd, 'removed!']);\n",
              "            Plotly.purge(gd);\n",
              "            observer.disconnect();\n",
              "        }}\n",
              "}});\n",
              "\n",
              "// Listen for the removal of the full notebook cells\n",
              "var notebookContainer = gd.closest('#notebook-container');\n",
              "if (notebookContainer) {{\n",
              "    x.observe(notebookContainer, {childList: true});\n",
              "}}\n",
              "\n",
              "// Listen for the clearing of the current output cell\n",
              "var outputEl = gd.closest('.output');\n",
              "if (outputEl) {{\n",
              "    x.observe(outputEl, {childList: true});\n",
              "}}\n",
              "\n",
              "                        })                };                            </script>        </div>\n",
              "</body>\n",
              "</html>"
            ]
          },
          "metadata": {}
        }
      ]
    },
    {
      "cell_type": "code",
      "source": [
        "# Visualize Return %\n",
        "fig = go.Figure()\n",
        "fig.add_trace(go.Scatter(x=portfolio_val.index, y= portfolio_val['Cum Return %'], name='Portfolio Cumulative Return %'))\n",
        "fig.add_trace(go.Scatter(x=SPY.date, y=SPY['Cum Return %'],name='SPY Cumulative Return %'))\n",
        "fig.update_layout(title=\"Cumulative Return % (Portfolio vs SPY)\")"
      ],
      "metadata": {
        "colab": {
          "base_uri": "https://localhost:8080/",
          "height": 542
        },
        "id": "oyaQv_GFSPdt",
        "outputId": "d570ef65-4070-423b-eb6e-ee1bf28e64e5"
      },
      "execution_count": null,
      "outputs": [
        {
          "output_type": "display_data",
          "data": {
            "text/html": [
              "<html>\n",
              "<head><meta charset=\"utf-8\" /></head>\n",
              "<body>\n",
              "    <div>            <script src=\"https://cdnjs.cloudflare.com/ajax/libs/mathjax/2.7.5/MathJax.js?config=TeX-AMS-MML_SVG\"></script><script type=\"text/javascript\">if (window.MathJax) {MathJax.Hub.Config({SVG: {font: \"STIX-Web\"}});}</script>                <script type=\"text/javascript\">window.PlotlyConfig = {MathJaxConfig: 'local'};</script>\n",
              "        <script src=\"https://cdn.plot.ly/plotly-2.8.3.min.js\"></script>                <div id=\"55dd58d8-42e9-4039-8bad-918fee1b8469\" class=\"plotly-graph-div\" style=\"height:525px; width:100%;\"></div>            <script type=\"text/javascript\">                                    window.PLOTLYENV=window.PLOTLYENV || {};                                    if (document.getElementById(\"55dd58d8-42e9-4039-8bad-918fee1b8469\")) {                    Plotly.newPlot(                        \"55dd58d8-42e9-4039-8bad-918fee1b8469\",                        [{\"name\":\"Portfolio Cumulative Return %\",\"x\":[\"2022-04-29T09:30:00\",\"2022-04-29T09:35:00\",\"2022-04-29T09:40:00\",\"2022-04-29T09:45:00\",\"2022-04-29T09:50:00\",\"2022-04-29T09:55:00\",\"2022-04-29T10:00:00\",\"2022-04-29T10:05:00\",\"2022-04-29T10:10:00\",\"2022-04-29T10:15:00\",\"2022-04-29T10:20:00\",\"2022-04-29T10:25:00\",\"2022-04-29T10:30:00\",\"2022-04-29T10:35:00\",\"2022-04-29T10:40:00\",\"2022-04-29T10:45:00\",\"2022-04-29T10:50:00\",\"2022-04-29T10:55:00\",\"2022-04-29T11:00:00\",\"2022-04-29T11:05:00\",\"2022-04-29T11:10:00\",\"2022-04-29T11:15:00\",\"2022-04-29T11:20:00\",\"2022-04-29T11:25:00\",\"2022-04-29T11:30:00\",\"2022-04-29T11:35:00\",\"2022-04-29T11:40:00\",\"2022-04-29T11:45:00\",\"2022-04-29T11:50:00\",\"2022-04-29T11:55:00\",\"2022-04-29T12:00:00\",\"2022-04-29T12:05:00\",\"2022-04-29T12:10:00\",\"2022-04-29T12:15:00\",\"2022-04-29T12:20:00\",\"2022-04-29T12:25:00\",\"2022-04-29T12:30:00\",\"2022-04-29T12:35:00\",\"2022-04-29T12:40:00\",\"2022-04-29T12:45:00\",\"2022-04-29T12:50:00\",\"2022-04-29T12:55:00\",\"2022-04-29T13:00:00\",\"2022-04-29T13:05:00\",\"2022-04-29T13:10:00\",\"2022-04-29T13:15:00\",\"2022-04-29T13:20:00\",\"2022-04-29T13:25:00\",\"2022-04-29T13:30:00\",\"2022-04-29T13:35:00\",\"2022-04-29T13:40:00\",\"2022-04-29T13:45:00\",\"2022-04-29T13:50:00\",\"2022-04-29T13:55:00\",\"2022-04-29T14:00:00\",\"2022-04-29T14:05:00\",\"2022-04-29T14:10:00\",\"2022-04-29T14:15:00\",\"2022-04-29T14:20:00\",\"2022-04-29T14:25:00\",\"2022-04-29T14:30:00\",\"2022-04-29T14:35:00\",\"2022-04-29T14:40:00\",\"2022-04-29T14:45:00\",\"2022-04-29T14:50:00\",\"2022-04-29T14:55:00\",\"2022-04-29T15:00:00\",\"2022-04-29T15:05:00\",\"2022-04-29T15:10:00\",\"2022-04-29T15:15:00\",\"2022-04-29T15:20:00\",\"2022-04-29T15:25:00\",\"2022-04-29T15:30:00\",\"2022-04-29T15:35:00\",\"2022-04-29T15:40:00\",\"2022-04-29T15:45:00\",\"2022-04-29T15:50:00\",\"2022-04-29T15:55:00\",\"2022-04-29T16:00:00\"],\"y\":[0.0,0.7549999999999946,1.3349999999999973,1.419999999999999,1.9600000000000062,2.53000000000001,2.7249999999999996,2.574999999999994,2.9549999999999965,2.2699999999999942,1.2850000000000028,1.475000000000004,1.2950000000000017,1.374999999999993,1.4450000000000074,1.330000000000009,1.5300000000000091,1.419999999999999,1.2899999999999912,1.3900000000000023,1.540000000000008,1.6650000000000054,1.7200000000000104,1.8950000000000022,1.9400000000000084,1.7449999999999966,1.6100000000000003,1.6100000000000003,1.9200000000000106,1.9749999999999934,1.7200000000000104,1.5949999999999909,1.7400000000000082,1.475000000000004,1.5900000000000025,1.6100000000000003,1.475000000000004,1.4950000000000019,1.540000000000008,1.4599999999999946,1.6100000000000003,1.8950000000000022,1.9600000000000062,1.815000000000011,1.7849999999999921,2.055000000000007,2.0650000000000057,1.8950000000000022,1.9349999999999978,2.354999999999996,2.045000000000008,1.9749999999999934,1.8399999999999972,1.9099999999999895,1.8999999999999906,1.8550000000000066,1.8000000000000016,1.82500000000001,1.8399999999999972,1.7300000000000093,1.6750000000000043,1.649999999999996,2.00499999999999,1.9099999999999895,1.7749999999999932,1.815000000000011,1.6650000000000054,1.649999999999996,1.6000000000000014,1.8000000000000016,1.7900000000000027,1.815000000000011,2.2049999999999903,2.5449999999999973,2.584999999999993,2.235000000000009,2.0999999999999908,2.2049999999999903,2.2049999999999903],\"type\":\"scatter\"},{\"name\":\"SPY Cumulative Return %\",\"x\":[\"2022-04-29T09:30:00\",\"2022-04-29T09:35:00\",\"2022-04-29T09:40:00\",\"2022-04-29T09:45:00\",\"2022-04-29T09:50:00\",\"2022-04-29T09:55:00\",\"2022-04-29T10:00:00\",\"2022-04-29T10:05:00\",\"2022-04-29T10:10:00\",\"2022-04-29T10:15:00\",\"2022-04-29T10:20:00\",\"2022-04-29T10:25:00\",\"2022-04-29T10:30:00\",\"2022-04-29T10:35:00\",\"2022-04-29T10:40:00\",\"2022-04-29T10:45:00\",\"2022-04-29T10:50:00\",\"2022-04-29T10:55:00\",\"2022-04-29T11:00:00\",\"2022-04-29T11:05:00\",\"2022-04-29T11:10:00\",\"2022-04-29T11:15:00\",\"2022-04-29T11:20:00\",\"2022-04-29T11:25:00\",\"2022-04-29T11:30:00\",\"2022-04-29T11:35:00\",\"2022-04-29T11:40:00\",\"2022-04-29T11:45:00\",\"2022-04-29T11:50:00\",\"2022-04-29T11:55:00\",\"2022-04-29T12:00:00\",\"2022-04-29T12:05:00\",\"2022-04-29T12:10:00\",\"2022-04-29T12:15:00\",\"2022-04-29T12:20:00\",\"2022-04-29T12:25:00\",\"2022-04-29T12:30:00\",\"2022-04-29T12:35:00\",\"2022-04-29T12:40:00\",\"2022-04-29T12:45:00\",\"2022-04-29T12:50:00\",\"2022-04-29T12:55:00\",\"2022-04-29T13:00:00\",\"2022-04-29T13:05:00\",\"2022-04-29T13:10:00\",\"2022-04-29T13:15:00\",\"2022-04-29T13:20:00\",\"2022-04-29T13:25:00\",\"2022-04-29T13:30:00\",\"2022-04-29T13:35:00\",\"2022-04-29T13:40:00\",\"2022-04-29T13:45:00\",\"2022-04-29T13:50:00\",\"2022-04-29T13:55:00\",\"2022-04-29T14:00:00\",\"2022-04-29T14:05:00\",\"2022-04-29T14:10:00\",\"2022-04-29T14:15:00\",\"2022-04-29T14:20:00\",\"2022-04-29T14:25:00\",\"2022-04-29T14:30:00\",\"2022-04-29T14:35:00\",\"2022-04-29T14:40:00\",\"2022-04-29T14:45:00\",\"2022-04-29T14:50:00\",\"2022-04-29T14:55:00\",\"2022-04-29T15:00:00\",\"2022-04-29T15:05:00\",\"2022-04-29T15:10:00\",\"2022-04-29T15:15:00\",\"2022-04-29T15:20:00\",\"2022-04-29T15:25:00\",\"2022-04-29T15:30:00\",\"2022-04-29T15:35:00\",\"2022-04-29T15:40:00\",\"2022-04-29T15:45:00\",\"2022-04-29T15:50:00\",\"2022-04-29T15:55:00\",\"2022-04-29T16:00:00\"],\"y\":[0.0,-0.1444261306393968,-0.3729612310711672,-0.25044312154285375,-0.209071689487339,0.2985084714370201,0.11120819249264002,0.018140445442482722,-0.04076027951385175,-0.48604602136819164,-0.5897118724937367,-0.7687723771705568,-0.8041113741383832,-0.8017530443305554,-0.8563685114653663,-0.9808135490073866,-0.9407578924239268,-0.8677215686804574,-0.9315690342093008,-0.9713874198060024,-0.9761040794216469,-0.9195544942432354,-0.860653769286901,-0.8253147723190746,-0.728716720587097,-0.8206053027333349,-0.6816004546399745,-0.7169394516077898,-0.7098716522142223,-0.9407578924239268,-1.2329103774276762,-1.2870944427683662,-1.223484248226292,-1.3024092064594095,-1.2069903196313403,-1.3224406297660862,-1.3601307665118356,-1.3507118273403451,-1.4944261450194563,-1.4956053099233646,-1.6876222484834114,-1.5936197975460087,-1.4213898212759868,-1.6009895781954553,-1.5038522742208404,-1.444951549264506,-1.307125866075054,-1.3660265910313885,-1.2847433029904431,-1.2588232451941073,-1.4555496533398937,-1.5556851997836074,-1.5745302681564821,-1.5980919961449902,-1.6993995174627186,-1.7512324430254855,-1.7088256466641027,-1.6817336139937522,-1.8313365661625114,-1.8136706626935561,-1.8548982941510306,-2.0068667661575113,-1.93031451779202,-2.14705077915478,-2.2173980317149344,-2.069297795795677,-2.109353452379137,-2.3237529540237833,-2.4333074396389764,-2.20123484449547,-2.2518886051543285,-2.4439055437143753,-2.3237529540237833,-2.3119684950145825,-2.4415544039364523,-2.733699698910308,-2.9622347993420783,-2.926895802374263,-2.9316052719600028],\"type\":\"scatter\"}],                        {\"template\":{\"data\":{\"bar\":[{\"error_x\":{\"color\":\"#2a3f5f\"},\"error_y\":{\"color\":\"#2a3f5f\"},\"marker\":{\"line\":{\"color\":\"#E5ECF6\",\"width\":0.5},\"pattern\":{\"fillmode\":\"overlay\",\"size\":10,\"solidity\":0.2}},\"type\":\"bar\"}],\"barpolar\":[{\"marker\":{\"line\":{\"color\":\"#E5ECF6\",\"width\":0.5},\"pattern\":{\"fillmode\":\"overlay\",\"size\":10,\"solidity\":0.2}},\"type\":\"barpolar\"}],\"carpet\":[{\"aaxis\":{\"endlinecolor\":\"#2a3f5f\",\"gridcolor\":\"white\",\"linecolor\":\"white\",\"minorgridcolor\":\"white\",\"startlinecolor\":\"#2a3f5f\"},\"baxis\":{\"endlinecolor\":\"#2a3f5f\",\"gridcolor\":\"white\",\"linecolor\":\"white\",\"minorgridcolor\":\"white\",\"startlinecolor\":\"#2a3f5f\"},\"type\":\"carpet\"}],\"choropleth\":[{\"colorbar\":{\"outlinewidth\":0,\"ticks\":\"\"},\"type\":\"choropleth\"}],\"contour\":[{\"colorbar\":{\"outlinewidth\":0,\"ticks\":\"\"},\"colorscale\":[[0.0,\"#0d0887\"],[0.1111111111111111,\"#46039f\"],[0.2222222222222222,\"#7201a8\"],[0.3333333333333333,\"#9c179e\"],[0.4444444444444444,\"#bd3786\"],[0.5555555555555556,\"#d8576b\"],[0.6666666666666666,\"#ed7953\"],[0.7777777777777778,\"#fb9f3a\"],[0.8888888888888888,\"#fdca26\"],[1.0,\"#f0f921\"]],\"type\":\"contour\"}],\"contourcarpet\":[{\"colorbar\":{\"outlinewidth\":0,\"ticks\":\"\"},\"type\":\"contourcarpet\"}],\"heatmap\":[{\"colorbar\":{\"outlinewidth\":0,\"ticks\":\"\"},\"colorscale\":[[0.0,\"#0d0887\"],[0.1111111111111111,\"#46039f\"],[0.2222222222222222,\"#7201a8\"],[0.3333333333333333,\"#9c179e\"],[0.4444444444444444,\"#bd3786\"],[0.5555555555555556,\"#d8576b\"],[0.6666666666666666,\"#ed7953\"],[0.7777777777777778,\"#fb9f3a\"],[0.8888888888888888,\"#fdca26\"],[1.0,\"#f0f921\"]],\"type\":\"heatmap\"}],\"heatmapgl\":[{\"colorbar\":{\"outlinewidth\":0,\"ticks\":\"\"},\"colorscale\":[[0.0,\"#0d0887\"],[0.1111111111111111,\"#46039f\"],[0.2222222222222222,\"#7201a8\"],[0.3333333333333333,\"#9c179e\"],[0.4444444444444444,\"#bd3786\"],[0.5555555555555556,\"#d8576b\"],[0.6666666666666666,\"#ed7953\"],[0.7777777777777778,\"#fb9f3a\"],[0.8888888888888888,\"#fdca26\"],[1.0,\"#f0f921\"]],\"type\":\"heatmapgl\"}],\"histogram\":[{\"marker\":{\"pattern\":{\"fillmode\":\"overlay\",\"size\":10,\"solidity\":0.2}},\"type\":\"histogram\"}],\"histogram2d\":[{\"colorbar\":{\"outlinewidth\":0,\"ticks\":\"\"},\"colorscale\":[[0.0,\"#0d0887\"],[0.1111111111111111,\"#46039f\"],[0.2222222222222222,\"#7201a8\"],[0.3333333333333333,\"#9c179e\"],[0.4444444444444444,\"#bd3786\"],[0.5555555555555556,\"#d8576b\"],[0.6666666666666666,\"#ed7953\"],[0.7777777777777778,\"#fb9f3a\"],[0.8888888888888888,\"#fdca26\"],[1.0,\"#f0f921\"]],\"type\":\"histogram2d\"}],\"histogram2dcontour\":[{\"colorbar\":{\"outlinewidth\":0,\"ticks\":\"\"},\"colorscale\":[[0.0,\"#0d0887\"],[0.1111111111111111,\"#46039f\"],[0.2222222222222222,\"#7201a8\"],[0.3333333333333333,\"#9c179e\"],[0.4444444444444444,\"#bd3786\"],[0.5555555555555556,\"#d8576b\"],[0.6666666666666666,\"#ed7953\"],[0.7777777777777778,\"#fb9f3a\"],[0.8888888888888888,\"#fdca26\"],[1.0,\"#f0f921\"]],\"type\":\"histogram2dcontour\"}],\"mesh3d\":[{\"colorbar\":{\"outlinewidth\":0,\"ticks\":\"\"},\"type\":\"mesh3d\"}],\"parcoords\":[{\"line\":{\"colorbar\":{\"outlinewidth\":0,\"ticks\":\"\"}},\"type\":\"parcoords\"}],\"pie\":[{\"automargin\":true,\"type\":\"pie\"}],\"scatter\":[{\"marker\":{\"colorbar\":{\"outlinewidth\":0,\"ticks\":\"\"}},\"type\":\"scatter\"}],\"scatter3d\":[{\"line\":{\"colorbar\":{\"outlinewidth\":0,\"ticks\":\"\"}},\"marker\":{\"colorbar\":{\"outlinewidth\":0,\"ticks\":\"\"}},\"type\":\"scatter3d\"}],\"scattercarpet\":[{\"marker\":{\"colorbar\":{\"outlinewidth\":0,\"ticks\":\"\"}},\"type\":\"scattercarpet\"}],\"scattergeo\":[{\"marker\":{\"colorbar\":{\"outlinewidth\":0,\"ticks\":\"\"}},\"type\":\"scattergeo\"}],\"scattergl\":[{\"marker\":{\"colorbar\":{\"outlinewidth\":0,\"ticks\":\"\"}},\"type\":\"scattergl\"}],\"scattermapbox\":[{\"marker\":{\"colorbar\":{\"outlinewidth\":0,\"ticks\":\"\"}},\"type\":\"scattermapbox\"}],\"scatterpolar\":[{\"marker\":{\"colorbar\":{\"outlinewidth\":0,\"ticks\":\"\"}},\"type\":\"scatterpolar\"}],\"scatterpolargl\":[{\"marker\":{\"colorbar\":{\"outlinewidth\":0,\"ticks\":\"\"}},\"type\":\"scatterpolargl\"}],\"scatterternary\":[{\"marker\":{\"colorbar\":{\"outlinewidth\":0,\"ticks\":\"\"}},\"type\":\"scatterternary\"}],\"surface\":[{\"colorbar\":{\"outlinewidth\":0,\"ticks\":\"\"},\"colorscale\":[[0.0,\"#0d0887\"],[0.1111111111111111,\"#46039f\"],[0.2222222222222222,\"#7201a8\"],[0.3333333333333333,\"#9c179e\"],[0.4444444444444444,\"#bd3786\"],[0.5555555555555556,\"#d8576b\"],[0.6666666666666666,\"#ed7953\"],[0.7777777777777778,\"#fb9f3a\"],[0.8888888888888888,\"#fdca26\"],[1.0,\"#f0f921\"]],\"type\":\"surface\"}],\"table\":[{\"cells\":{\"fill\":{\"color\":\"#EBF0F8\"},\"line\":{\"color\":\"white\"}},\"header\":{\"fill\":{\"color\":\"#C8D4E3\"},\"line\":{\"color\":\"white\"}},\"type\":\"table\"}]},\"layout\":{\"annotationdefaults\":{\"arrowcolor\":\"#2a3f5f\",\"arrowhead\":0,\"arrowwidth\":1},\"autotypenumbers\":\"strict\",\"coloraxis\":{\"colorbar\":{\"outlinewidth\":0,\"ticks\":\"\"}},\"colorscale\":{\"diverging\":[[0,\"#8e0152\"],[0.1,\"#c51b7d\"],[0.2,\"#de77ae\"],[0.3,\"#f1b6da\"],[0.4,\"#fde0ef\"],[0.5,\"#f7f7f7\"],[0.6,\"#e6f5d0\"],[0.7,\"#b8e186\"],[0.8,\"#7fbc41\"],[0.9,\"#4d9221\"],[1,\"#276419\"]],\"sequential\":[[0.0,\"#0d0887\"],[0.1111111111111111,\"#46039f\"],[0.2222222222222222,\"#7201a8\"],[0.3333333333333333,\"#9c179e\"],[0.4444444444444444,\"#bd3786\"],[0.5555555555555556,\"#d8576b\"],[0.6666666666666666,\"#ed7953\"],[0.7777777777777778,\"#fb9f3a\"],[0.8888888888888888,\"#fdca26\"],[1.0,\"#f0f921\"]],\"sequentialminus\":[[0.0,\"#0d0887\"],[0.1111111111111111,\"#46039f\"],[0.2222222222222222,\"#7201a8\"],[0.3333333333333333,\"#9c179e\"],[0.4444444444444444,\"#bd3786\"],[0.5555555555555556,\"#d8576b\"],[0.6666666666666666,\"#ed7953\"],[0.7777777777777778,\"#fb9f3a\"],[0.8888888888888888,\"#fdca26\"],[1.0,\"#f0f921\"]]},\"colorway\":[\"#636efa\",\"#EF553B\",\"#00cc96\",\"#ab63fa\",\"#FFA15A\",\"#19d3f3\",\"#FF6692\",\"#B6E880\",\"#FF97FF\",\"#FECB52\"],\"font\":{\"color\":\"#2a3f5f\"},\"geo\":{\"bgcolor\":\"white\",\"lakecolor\":\"white\",\"landcolor\":\"#E5ECF6\",\"showlakes\":true,\"showland\":true,\"subunitcolor\":\"white\"},\"hoverlabel\":{\"align\":\"left\"},\"hovermode\":\"closest\",\"mapbox\":{\"style\":\"light\"},\"paper_bgcolor\":\"white\",\"plot_bgcolor\":\"#E5ECF6\",\"polar\":{\"angularaxis\":{\"gridcolor\":\"white\",\"linecolor\":\"white\",\"ticks\":\"\"},\"bgcolor\":\"#E5ECF6\",\"radialaxis\":{\"gridcolor\":\"white\",\"linecolor\":\"white\",\"ticks\":\"\"}},\"scene\":{\"xaxis\":{\"backgroundcolor\":\"#E5ECF6\",\"gridcolor\":\"white\",\"gridwidth\":2,\"linecolor\":\"white\",\"showbackground\":true,\"ticks\":\"\",\"zerolinecolor\":\"white\"},\"yaxis\":{\"backgroundcolor\":\"#E5ECF6\",\"gridcolor\":\"white\",\"gridwidth\":2,\"linecolor\":\"white\",\"showbackground\":true,\"ticks\":\"\",\"zerolinecolor\":\"white\"},\"zaxis\":{\"backgroundcolor\":\"#E5ECF6\",\"gridcolor\":\"white\",\"gridwidth\":2,\"linecolor\":\"white\",\"showbackground\":true,\"ticks\":\"\",\"zerolinecolor\":\"white\"}},\"shapedefaults\":{\"line\":{\"color\":\"#2a3f5f\"}},\"ternary\":{\"aaxis\":{\"gridcolor\":\"white\",\"linecolor\":\"white\",\"ticks\":\"\"},\"baxis\":{\"gridcolor\":\"white\",\"linecolor\":\"white\",\"ticks\":\"\"},\"bgcolor\":\"#E5ECF6\",\"caxis\":{\"gridcolor\":\"white\",\"linecolor\":\"white\",\"ticks\":\"\"}},\"title\":{\"x\":0.05},\"xaxis\":{\"automargin\":true,\"gridcolor\":\"white\",\"linecolor\":\"white\",\"ticks\":\"\",\"title\":{\"standoff\":15},\"zerolinecolor\":\"white\",\"zerolinewidth\":2},\"yaxis\":{\"automargin\":true,\"gridcolor\":\"white\",\"linecolor\":\"white\",\"ticks\":\"\",\"title\":{\"standoff\":15},\"zerolinecolor\":\"white\",\"zerolinewidth\":2}}},\"title\":{\"text\":\"Cumulative Return % (Portfolio vs SPY)\"}},                        {\"responsive\": true}                    ).then(function(){\n",
              "                            \n",
              "var gd = document.getElementById('55dd58d8-42e9-4039-8bad-918fee1b8469');\n",
              "var x = new MutationObserver(function (mutations, observer) {{\n",
              "        var display = window.getComputedStyle(gd).display;\n",
              "        if (!display || display === 'none') {{\n",
              "            console.log([gd, 'removed!']);\n",
              "            Plotly.purge(gd);\n",
              "            observer.disconnect();\n",
              "        }}\n",
              "}});\n",
              "\n",
              "// Listen for the removal of the full notebook cells\n",
              "var notebookContainer = gd.closest('#notebook-container');\n",
              "if (notebookContainer) {{\n",
              "    x.observe(notebookContainer, {childList: true});\n",
              "}}\n",
              "\n",
              "// Listen for the clearing of the current output cell\n",
              "var outputEl = gd.closest('.output');\n",
              "if (outputEl) {{\n",
              "    x.observe(outputEl, {childList: true});\n",
              "}}\n",
              "\n",
              "                        })                };                            </script>        </div>\n",
              "</body>\n",
              "</html>"
            ]
          },
          "metadata": {}
        }
      ]
    },
    {
      "cell_type": "code",
      "source": [
        "d1=portfolio_val['Portfolio Total'].reset_index()\n",
        "d2=SPY[['date','SPY Total']]\n",
        "d1['date'] = pd.to_datetime(d1['date'], errors='coerce')\n",
        "d2['date'] = pd.to_datetime(d2['date'], errors='coerce')"
      ],
      "metadata": {
        "id": "qFtNxvOqy8UC"
      },
      "execution_count": null,
      "outputs": []
    },
    {
      "cell_type": "markdown",
      "source": [
        "Correlation between Current Portfolio and SPY"
      ],
      "metadata": {
        "id": "lhqYCJk6xyol"
      }
    },
    {
      "cell_type": "code",
      "source": [
        "print(\"Portfolio Correlation with SPY\")\n",
        "round(d1['Portfolio Total'].corr(d2['SPY Total']),2)"
      ],
      "metadata": {
        "id": "ZLRA7hcV5yT0"
      },
      "execution_count": null,
      "outputs": []
    }
  ]
}